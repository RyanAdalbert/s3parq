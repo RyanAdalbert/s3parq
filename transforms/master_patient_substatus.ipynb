{
 "cells": [
  {
   "cell_type": "markdown",
   "metadata": {},
   "source": [
    "<a id=\"CELL1\"></a>\n",
    "## CELL 1 \n"
   ]
  },
  {
   "cell_type": "code",
   "execution_count": null,
   "metadata": {},
   "outputs": [],
   "source": [
    "\"\"\"CELL 1\n",
    "builds and returns a database session\n",
    "local assumes a psql instance in a local docker container\n",
    "only postgres database is supported for configuration_application at this time\n",
    "\"\"\"\n",
    "\"\"\"\n",
    "gets env-based configuration secret\n",
    "returns a session to the configuration db\n",
    "for dev env it pre-populates the database with helper and seed data\n",
    "\"\"\"\n",
    "from core.helpers.session_helper import SessionHelper\n",
    "session = SessionHelper().session"
   ]
  },
  {
   "cell_type": "markdown",
   "metadata": {},
   "source": [
    "## CONFIGURATION - PLEASE TOUCH\n",
    "### <font color=pink>This cell will be off in production as configurations will come from the configuration postgres DB</color>"
   ]
  },
  {
   "cell_type": "code",
   "execution_count": null,
   "metadata": {},
   "outputs": [],
   "source": [
    "\"\"\"\n",
    "************ CONFIGURATION - PLEASE TOUCH **************\n",
    "Pipeline Builder configuration: creates configurations from variables specified here!!\n",
    "This cell will be off in production as configurations will come from the configuration postgres DB.\n",
    "\"\"\"\n",
    "\"\"\"\n",
    "PIPELINE STATE:\n",
    "\n",
    "raw-->ingest-->master-->enhance-->enrich-->metrics-->dimensional\n",
    "\n",
    "\"\"\"\n",
    "# config vars: this dataset\n",
    "config_pharma = \"sun\" # the pharmaceutical company which owns {brand}\n",
    "config_brand = \"ilumya\" # the brand this pipeline operates on\n",
    "config_state = \"master\" # the state this transform runs in\n",
    "config_name = \"master_patient_substatus\" # the name of this transform!!!, which is the name of this notebook without .ipynb\n",
    "\n",
    "# input vars: dataset to fetch. \n",
    "# Recall that a contract published to S3 has a key format branch/pharma/brand/state/name\n",
    "input_branch = \"sun-extract-validation\"\n",
    "# None\n",
    "# if None, input_branch is automagically set to your working branch\n",
    "input_pharma = \"sun\"\n",
    "input_brand = \"ilumya\"\n",
    "input_state = \"ingest\"\n",
    "input_name = \"symphony_health_association_ingest_column_mapping\"\n",
    "\n",
    "#This contract defines the base of the output structure of data into S3.\n",
    "#\n",
    "#contract structure in s3: \n",
    "#s3:// {ENV} / {BRANCH} / {PARENT} / {CHILD} / {STATE} / {name of input}\n",
    "#\n",
    "#ENV - environment Must be one of development, uat, production.\n",
    "#Prefixed with integrichain- due to global unique reqirement\n",
    "#BRANCH - the software branch for development this will be the working pull request (eg pr-225)\n",
    "#in uat this will be edge, in production this will be master\n",
    "#PARENT - The top level source identifier\n",
    "#this is generally the customer (and it is aliased as such) but can be IntegriChain for internal sources,\n",
    "#or another aggregator for future-proofing\n",
    "#CHILD - The sub level source identifier, generally the brand (and is aliased as such)\n",
    "#STATE - One of: raw, ingest, master, enhance, enrich, metrics\n"
   ]
  },
  {
   "cell_type": "markdown",
   "metadata": {},
   "source": [
    "### <font color=orange>SETUP - DON'T TOUCH </font>\n",
    "Populating config mocker based on config parameters..."
   ]
  },
  {
   "cell_type": "code",
   "execution_count": null,
   "metadata": {},
   "outputs": [],
   "source": [
    "\"\"\"\n",
    "************ SETUP - DON'T TOUCH **************\n",
    "Populating config mocker based on config parameters...\n",
    "\"\"\"\n",
    "import core.helpers.pipeline_builder as builder\n",
    "\n",
    "ids = builder.build(config_pharma, config_brand, config_state, config_name, session)\n",
    "\"\"\"\n",
    "RETURNS: A list of 2 items: [transformation_id, run_id] where transformation_id corresponds\n",
    "to the configuration created/found for {transformation} and run_id is a randomly generated 6 digit\n",
    "number (to avoid publishing to the same place with the same dataset)\n",
    "\"\"\"\n",
    "transform_id = ids[0]\n",
    "run_id = ids[1]"
   ]
  },
  {
   "cell_type": "code",
   "execution_count": null,
   "metadata": {},
   "outputs": [],
   "source": [
    "# debug only\n",
    "print(transform_id)\n",
    "print(run_id)\n",
    "# e.g:\n",
    "# 6\n",
    "# 644707\n"
   ]
  },
  {
   "cell_type": "markdown",
   "metadata": {},
   "source": [
    "### <font color=orange>SETUP - DON'T TOUCH </font>\n",
    "This section imports data from the configuration database\n",
    "and should not need to be altered or otherwise messed with. \n"
   ]
  },
  {
   "cell_type": "code",
   "execution_count": null,
   "metadata": {},
   "outputs": [],
   "source": [
    "\"\"\"************ SETUP - DON'T TOUCH **************\n",
    "This section imports data from the configuration database\n",
    "and should not need to be altered or otherwise messed with. \n",
    "~~These are not the droids you are looking for~~\n",
    "\"\"\"\n",
    "from core.constants import BRANCH_NAME, ENV_BUCKET, BATCH_JOB_QUEUE\n",
    "from core.helpers.session_helper import SessionHelper\n",
    "from core.models.configuration import Transformation\n",
    "from dataclasses import dataclass\n",
    "from core.dataset_contract import DatasetContract\n",
    "\n",
    "\n",
    "db_transform = session.query(Transformation).filter(Transformation.id == transform_id).one()\n",
    "\n",
    "@dataclass\n",
    "class DbTransform:\n",
    "    id: int = db_transform.id ## the instance id of the transform in the config app\n",
    "    name: str = db_transform.transformation_template.name ## the transform name in the config app\n",
    "    state: str = db_transform.pipeline_state.pipeline_state_type.name ## the pipeline state, one of raw, ingest, master, enhance, enrich, metrics, dimensional\n",
    "    branch:str = BRANCH_NAME ## the git branch for this execution \n",
    "    brand: str = db_transform.pipeline_state.pipeline.brand.name ## the pharma brand name\n",
    "    pharmaceutical_company: str = db_transform.pipeline_state.pipeline.brand.pharmaceutical_company.name # the pharma company name\n",
    "    publish_contract: DatasetContract = DatasetContract(branch=BRANCH_NAME,\n",
    "                            state=db_transform.pipeline_state.pipeline_state_type.name,\n",
    "                            parent=db_transform.pipeline_state.pipeline.brand.pharmaceutical_company.name,\n",
    "                            child=db_transform.pipeline_state.pipeline.brand.name,\n",
    "                            dataset=db_transform.transformation_template.name)\n",
    "        \n"
   ]
  },
  {
   "cell_type": "code",
   "execution_count": null,
   "metadata": {},
   "outputs": [],
   "source": [
    "#debug only\n",
    "print(BRANCH_NAME)\n",
    "print(ENV_BUCKET)\n",
    "print(BATCH_JOB_QUEUE)\n",
    "#e.g: \n",
    "#DC-578_PatientStatus\n",
    "#ichain-dev\n",
    "#dev-core"
   ]
  },
  {
   "cell_type": "markdown",
   "metadata": {},
   "source": [
    "***\n",
    "# CORE Cartridge Notebook::[master_patient_substatus]\n",
    "![CORE Logo](assets/coreLogo.png) \n",
    "\n",
    "---\n",
    "## Keep in Mind\n",
    "Good Transforms Are...\n",
    "- **singular in purpose:** good transforms do one and only one thing, and handle all known cases for that thing. \n",
    "- **repeatable:** transforms should be written in a way that they can be run against the same dataset an infinate number of times and get the same result every time. \n",
    "- **easy to read:** 99 times out of 100, readable, clear code that runs a little slower is more valuable than a mess that runs quickly. \n",
    "- **No 'magic numbers':** if a variable or function is not instantly obvious as to what it is or does, without context, maybe consider renaming it."
   ]
  },
  {
   "cell_type": "markdown",
   "metadata": {},
   "source": [
    "## Workflow - how to use this notebook to make science\n",
    "#### Data Science\n",
    "1. **Document your transform.** Fill out the _description_ cell below describing what it is this transform does; this will appear in the configuration application where Ops will create, configure and update pipelines. \n",
    "1. **Define your config object.** Fill out the _configuration_ cell below the commented-out guide to define the variables you want ops to set in the configuration application (these will populate here for every pipeline). \n",
    "2. **Build your transformation logic.** Use the transformation cell to do that magic that you do. \n",
    "![caution](assets/cautionTape.png)"
   ]
  },
  {
   "cell_type": "markdown",
   "metadata": {},
   "source": [
    "## CONFIGURATION - VARIABLES - PLEASE TOUCH"
   ]
  },
  {
   "cell_type": "markdown",
   "metadata": {},
   "source": [
    "# TRANSFORM"
   ]
  },
  {
   "cell_type": "code",
   "execution_count": null,
   "metadata": {},
   "outputs": [],
   "source": [
    "\"\"\" \n",
    "CONFIGURATION ********* VARIABLES - PLEASE TOUCH ********* \n",
    "This section defines what you expect to get from the configuration application \n",
    "in a single \"transform\" object. Define the vars you need here, and comment inline to the right of them \n",
    "for all-in-one documentation. \n",
    "Engineering will build a production \"transform\" object for every pipeline that matches what you define here.\n",
    "\n",
    "@@@ FORMAT OF THE DATA CLASS IS: @@@ \n",
    "\n",
    "<variable_name>: <data_type> #<comment explaining what the value is to future us>\n",
    "e.g.\n",
    "class Transform(DbTransform):\n",
    "    some_ratio: float\n",
    "    site_name: str\n",
    "\n",
    "~~These ARE the droids you are looking for~~\n",
    "\"\"\"\n",
    "\"\"\"\n",
    "imports\n",
    "\"\"\"\n",
    "import pandas as pd\n",
    "import re \n",
    "from core.logging import get_logger\n",
    " \n",
    "class Transform(DbTransform):\n",
    "    '''\n",
    "    YOUR properties go here!!\n",
    "    Variable properties should be assigned to the exact name of\n",
    "    the transformation as it appears in the Jupyter notebook filename.\n",
    "    ''' \n",
    "\n",
    "    ## col of interest\n",
    "    ##Field\t        Description\t     Data Type / Format\tComments\tRequired\t             OLD Name in Data Model\tNew Name in Data Model\t<-- Map to\tBIPI\tSun\tAlkermes - Status\n",
    "    ##Sub Status\tSub-StatusCode\tX(50)\t\t                    Required if Available\tsubstatus\t             substatus\t\t\t\t\n",
    "    col_substatus: str \n",
    "    customer_name: str\n",
    "        \n",
    "    def master_substatus():\n",
    "        customer_name = transform.customer_name\n",
    "        try:\n",
    "            \n",
    "            if customer_name=='sun':\n",
    "                substatus_dict = Transform.master_substatus_sun()\n",
    "                substatus_conversion_dict = Transform.master_substatus_conversion_sun()\n",
    "            elif customer_name=='bi':\n",
    "                substatus_dict = Transform.master_substatus_bi()\n",
    "            elif customer_name=='alkermes':\n",
    "                substatus_dict = Transform.master_substatus_alkermes()\n",
    "            else:\n",
    "                #go = False # something did not work\n",
    "                logger.exception('expecting customer name as sun bi or alkermes')\n",
    "                raise Exception('expecting customer name as sun bi or alkermes') \n",
    "        except Exception as e:\n",
    "            go = False # something did not work\n",
    "            logger.exception(\"exception:\".format(e))\n",
    "            raise Exception(str(e))    \n",
    "        return substatus_dict, substatus_conversion_dict  \n",
    "    \n",
    "    def master_substatus_sun():\n",
    "        # need to input/ define for ic-gold mapping\n",
    "        # for substatus for sun\n",
    "        # temporary until furture User defines\n",
    "        # IC - GOLD persistence solution\n",
    "        substatus_dict = {}\n",
    "        substatus_dict[1]='ALT THERAPY'\n",
    "        substatus_dict[2]='APPEAL'\n",
    "        substatus_dict[3]='BENEFITS'\n",
    "        substatus_dict[4]='COPAY ASSISTANCE'\n",
    "        substatus_dict[5]='DELAY'\n",
    "        substatus_dict[6]='DOSAGE'\n",
    "        substatus_dict[7]='FORMULARY'\n",
    "        substatus_dict[8]='FOUNDATION'\n",
    "        substatus_dict[9]='HOLD OTHER'\n",
    "        substatus_dict[10]='HOLD RTS'\n",
    "        substatus_dict[11]='INFORMATION'\n",
    "        substatus_dict[12]='INS OTHER'\n",
    "        substatus_dict[13]='INSURANCE COPAY'\n",
    "        substatus_dict[14]='INSURANCE DENIED'\n",
    "        substatus_dict[15]='INSURANCE HOLD'\n",
    "        substatus_dict[16]='INSURANCE OON'\n",
    "        substatus_dict[17]='INSURANCE OTHER'\n",
    "        substatus_dict[18]='INVENTORY HOLD'\n",
    "        substatus_dict[19]='MATERIAL'\n",
    "        substatus_dict[20]='NEW'\n",
    "        substatus_dict[21]='OTHER'\n",
    "        substatus_dict[22]='PA'\n",
    "        substatus_dict[23]='PATIENT CONTACT'\n",
    "        substatus_dict[24]='PATIENT DECEASED'\n",
    "        substatus_dict[25]='PATIENT END'\n",
    "        substatus_dict[26]='PATIENT FINANCIAL'\n",
    "        substatus_dict[27]='PATIENT HOLD'\n",
    "        substatus_dict[28]='PATIENT RESPONSE'\n",
    "        substatus_dict[29]='PRESCRIBER'\n",
    "        substatus_dict[30]='PRESCRIBER END'\n",
    "        substatus_dict[31]='PRESCRIBER HOLD'\n",
    "        substatus_dict[32]='PT HOLD'\n",
    "        substatus_dict[33]='QUANTITY'\n",
    "        substatus_dict[34]='READY'\n",
    "        substatus_dict[35]='SERVICES END'\n",
    "        substatus_dict[36]='SHIPMENT'\n",
    "        substatus_dict[37]='STEP EDIT'\n",
    "        substatus_dict[38]='THERAPY COMPLETE'\n",
    "        substatus_dict[39]='THERAPY END'\n",
    "        substatus_dict[40]='THERAPY HOLD'\n",
    "        substatus_dict[41]='TRANSFER HUB'\n",
    "        substatus_dict[42]='TRANSFER SP'\n",
    "        substatus_dict[43]='TREATMENT DELAY'\n",
    "        return substatus_dict\n",
    "   \n",
    "\n",
    "    def master_substatus_conversion_sun():\n",
    "        substatus_conversion_dict = {}\n",
    "        substatus_conversion_dict = {'BENEFITS INVESTIGATION':'BENEFITS','INS OON ':'INSURANCE OON','OTHER ':'OTHER','P05':'PA','PATENT RESPONSE':'PATIENT RESPONSE','PATIENT  RESPONSE':'PATIENT RESPONSE','PATIENT RESPOSNE':'PATIENT RESPONSE','PRESCRIBERHOLD':'PRESCRIBER HOLD','TRANSER SP':'TRANSFER SP'}\n",
    "        return substatus_conversion_dict\n",
    "    \n",
    "    \n",
    "    def master_substatus_bi():\n",
    "        substatus_dict = {}\n",
    "        return substatus_dict\n",
    "\n",
    "    \n",
    "    def master_substatus_alkermes():\n",
    "        substatus_dict = {}\n",
    "        return substatus_dict\n",
    "\n",
    "    \n",
    "    def master_patient_substatus(self,df):\n",
    "        try:        \n",
    "            logger.info('try:')\n",
    "            go = False # assume things are not working YET.\n",
    "           \n",
    "            dffail = pd.DataFrame() # initialize df for fails\n",
    "            \n",
    "            # df in\n",
    "\n",
    "            #dfSize = df.size\n",
    "            dfShape = df.shape\n",
    "            logger.info('df in  shape: {} {}'.format(dfShape[0],dfShape[1])) \n",
    "            logger.info('df in {}'.format(df.head()))  \n",
    "            \n",
    "            # am I expecting certain column names? YES \n",
    "            substatusColNameExpected = transform.col_substatus\n",
    "            \n",
    "            logger.info('expecting column name patient sub status as:{}'.format(substatusColNameExpected))\n",
    "            columnNamesArr = df.columns.values.tolist()\n",
    "            logger.info('df column names:{}'.format(columnNamesArr))\n",
    "            \n",
    "            if substatusColNameExpected in columnNamesArr:\n",
    "                logger.info('Clean: space Strip and Upper and other cleanup...')  \n",
    "\n",
    "                df[substatusColNameExpected]= df[substatusColNameExpected].apply(lambda x: x.upper() if x is not None else x)   \n",
    "                df[substatusColNameExpected]= df[substatusColNameExpected].apply(lambda x: x.strip() if x is not None else x)\n",
    "                df[substatusColNameExpected]= df[substatusColNameExpected].apply(lambda x: x.replace('_',' ').replace('\\r', '').replace('\\t', '').replace('\\w', '') if x is not None else x)\n",
    "                #df[substatusColNameExpected]= df[substatusColNameExpected].apply(lambda x: x.replace('[^a-zA-Z0-9]', '') if x is not None else x)\n",
    "                # re.sub(r'\\s+', ' ',   stringin)  \n",
    "\n",
    "\n",
    "                # master data IC-GOLD substatus\n",
    "                substatus_dict = {}\n",
    "                substatus_conversion_dict = {}\n",
    "                substatus_dict, substatus_conversion_dict = Transform.master_substatus()\n",
    "                print(substatus_conversion_dict)\n",
    "                # store the golden values in a list\n",
    "                substatus_list = list(substatus_dict.values())           \n",
    "                logger.info('Gold Domain List:{}'.format(substatus_list))  \n",
    "                \n",
    "                # apply master conversions\n",
    "                #df = df[substatusColNameExpected].map(substatus_conversion_dict).fillna(df[substatusColNameExpected])\n",
    "                #df.replace({substatusColNameExpected: substatus_conversion_dict})\n",
    "                #df[substatusColNameExpected]=df[substatusColNameExpected].notnull().map(substatus_conversion_dict).fillna(df[substatusColNameExpected])\n",
    "                #df[substatusColNameExpected]= df[substatusColNameExpected].apply(lambda x: x.replace(substatus_conversion_dict) if x is not None else x)\n",
    "\n",
    "\n",
    "                df[substatusColNameExpected].replace(substatus_conversion_dict, inplace=True)\n",
    "                \n",
    "                \n",
    "                # what fails\n",
    "                dffail = df.loc[~df[substatusColNameExpected].isin(substatus_list)]\n",
    "                # apply master selection for the column of interest\n",
    "                # what passes\n",
    "                df = df.loc[df[substatusColNameExpected].isin(substatus_list)]\n",
    "                \n",
    "                # meta data log for what comes out of the function pass and fail df\n",
    "                dfOutSize = df.size\n",
    "                dfOutShape = df.shape\n",
    "                dffailSize = dffail.size\n",
    "                dffailShape = dffail.shape\n",
    "                logger.info('df in   shape: {} {}'.format(dfShape[0],dfShape[1]))                 \n",
    "                logger.info('df pass shape: {} {}'.format(dfOutShape[0],dfOutShape[1]))\n",
    "                logger.info('df fail shape: {} {}'.format(dffailShape[0],dffailShape[1]))  \n",
    "                # meta data log for what comes out of the function pass df\n",
    "                logger.info('df pass {}'.format(df.head()))\n",
    "                # meta data log for what comes out of the function fail df\n",
    "                logger.info('df fail {}'.format(dffail.head()))  \n",
    "                go = True\n",
    "            else:\n",
    "                go = False # something did not work\n",
    "                logger.exception('expecting column name for patient substatus if/else exception raise')\n",
    "                raise Exception(\"sub_status ColNameExpected NOT in columnNamesArr\")              \n",
    "        except Exception as e:\n",
    "            go = False # something did not work\n",
    "            logger.exception(\"exception:\".format(e))\n",
    "            raise Exception(str(e))\n",
    "        else:\n",
    "            pass\n",
    "        finally:\n",
    "            pass\n",
    "        return df.copy(),dffail.copy(),go\n",
    "                \n",
    "\n",
    "transform = Transform()\n",
    "logger = get_logger(f\"core.transforms.{transform.state}.{transform.name}\")"
   ]
  },
  {
   "cell_type": "markdown",
   "metadata": {},
   "source": [
    "### *Please place your value assignments for development below !!!*\n",
    "### <font color=pink>This cell will be turned off in production, Engineering will set to pull from the configuration</color>"
   ]
  },
  {
   "cell_type": "code",
   "execution_count": null,
   "metadata": {},
   "outputs": [],
   "source": [
    "## Please place your value assignments for development here!!\n",
    "## This cell will be turned off in production and Engineering will set to pull from the configuration application instead\n",
    "## For the last example, this could look like...\n",
    "## transform.some_ratio = 0.6\n",
    "## transform.site_name = \"WALGREENS\"\n",
    "\n",
    "transform.col_substatus = 'sub_status'\n",
    "transform.customer_name = 'sun'\n"
   ]
  },
  {
   "cell_type": "markdown",
   "metadata": {},
   "source": [
    "### Description\n",
    "What does this transformation do? be specific.\n",
    "\n",
    "![what does your transform do](assets/what.gif)"
   ]
  },
  {
   "cell_type": "markdown",
   "metadata": {},
   "source": [
    "## Planned\n",
    "1. Collect all unique raw patient substatus instances\n",
    "2. Auto-map as many raw patient substatus instances to a defined cleansed data model per **Customer**\n",
    "\n",
    "3. Process for identifying and manually mapping where auto-map fails.\n",
    "4. Do not publish un-mapped instances. Drop them, give us the ability to triage and map to IC-gold in a later event.\n"
   ]
  },
  {
   "cell_type": "markdown",
   "metadata": {},
   "source": [
    "### FETCH DATA - TOUCH, BUT CAREFULLY\n",
    "### <font color=pink>This cell will be turned off in production, as the input_contract will be handled by the pipeline</color>"
   ]
  },
  {
   "cell_type": "code",
   "execution_count": null,
   "metadata": {},
   "outputs": [],
   "source": [
    "\"\"\"\n",
    "************ FETCH DATA - TOUCH, BUT CAREFULLY **************\n",
    "This cell will be turned off in production, as the input_contract will be handled by the pipeline.\n",
    "\"\"\"\n",
    "logger.info(\"FETCH DATA CELL - TOUCH - This cell will be turned off in production, as the input_contract will be handled by the pipeline. \")\n",
    "\n",
    "# for testing / development only\n",
    "run_id = 3\n",
    "\n",
    "if not input_branch:\n",
    "    input_branch = BRANCH_NAME\n",
    "input_contract = DatasetContract(branch=input_branch,\n",
    "                                 state=input_state, \n",
    "                                 parent=input_pharma, \n",
    "                                 child=input_brand, \n",
    "                                 dataset=input_name)\n",
    "run_filter = []\n",
    "run_filter.append(dict(partition=\"__metadata_run_id\", comparison=\"==\", values=[run_id]))\n",
    "# IF YOU HAVE PUBLISHED DATA MULTIPLE TIMES, uncomment the above line and change the int to the run_id to fetch.\n",
    "# Otherwise, you will have duplicate values in your fetched dataset!\n",
    "\n",
    "# bypass/comment out when unit testing individual parquet files\n",
    "df = input_contract.fetch(filters=run_filter)\n",
    "\n"
   ]
  },
  {
   "cell_type": "markdown",
   "metadata": {},
   "source": [
    "## *<font color=grey>unit test development only*</font>\n",
    "*<font color=grey>The next **5** cells will be deleted in production.* </font>"
   ]
  },
  {
   "cell_type": "code",
   "execution_count": null,
   "metadata": {},
   "outputs": [],
   "source": [
    "#import pyarrow.parquet as pq\n",
    "#import s3fs\n",
    "\n",
    "#def pandas_from_parquet_s3(file_path):  \n",
    "#    s3 = s3fs.S3FileSystem()\n",
    "#    df = (\n",
    "#        pq\n",
    "#        .ParquetDataset(file_path, filesystem=s3)\n",
    "#        .read_pandas()\n",
    "#        .to_pandas()\n",
    "#    )    \n",
    "#    return df"
   ]
  },
  {
   "cell_type": "code",
   "execution_count": null,
   "metadata": {},
   "outputs": [],
   "source": [
    "# unit test/development only\n",
    "# isolate on individual parquet files\n",
    "#TEST 1\n",
    "#df = pandas_from_parquet_s3('ichain-dev/sun-extract-validation/sun/ilumya/ingest/symphony_health_association_ingest_column_mapping/__metadata_run_id=3/d7ad974cef284e19aa7b5ac410220b96.parquet')\n",
    "# TEST 2\n",
    "# df = pandas_from_parquet_s3('ichain-dev/sun-extract-validation/sun/ilumya/ingest/symphony_health_association_ingest_column_mapping/__metadata_run_id=3/1a6ffd3598d442e38fbba66ea85a55a2.parquet')\n",
    "# TEST 3\n",
    "# df = pandas_from_parquet_s3('ichain-dev/sun-extract-validation/sun/ilumya/ingest/symphony_health_association_ingest_column_mapping/__metadata_run_id=3/6eceb7ce59bd4dec8720316b4209b0e3.parquet')\n",
    "# TEST 4\n",
    "#df = pandas_from_parquet_s3('ichain-dev/sun-extract-validation/sun/ilumya/ingest/symphony_health_association_ingest_column_mapping/__metadata_run_id=3/5c00059d9fc04b0e8bc4ce764c50f3fb.parquet')\n",
    "# TEST 5\n",
    "#df = pandas_from_parquet_s3('ichain-dev/sun-extract-validation/sun/ilumya/ingest/symphony_health_association_ingest_column_mapping/__metadata_run_id=3/90ca3aa7b0bb4246a281591b013ff54e.parquet')\n",
    "\n",
    "# THEN ALL TEST use \n",
    "# then use the FETCH DATA - TOUCH, BUT CAREFULLY CELL"
   ]
  },
  {
   "cell_type": "code",
   "execution_count": null,
   "metadata": {},
   "outputs": [],
   "source": [
    "# unit test/development only\n",
    "# before shot unit testing only\n",
    "# dfSize = df.size\n",
    "# dfShape = df.shape\n",
    "# print('shape: {} {}'.format(dfShape[0],dfShape[1])) "
   ]
  },
  {
   "cell_type": "code",
   "execution_count": null,
   "metadata": {},
   "outputs": [],
   "source": [
    "# unit test/development only \n",
    "# needed to see the col(s) of interest\n",
    "# pd.set_option('display.max_columns', 50)"
   ]
  },
  {
   "cell_type": "code",
   "execution_count": null,
   "metadata": {},
   "outputs": [],
   "source": [
    "# unit test/development only\n",
    "# df.head()"
   ]
  },
  {
   "cell_type": "markdown",
   "metadata": {},
   "source": [
    "# <font color=red>**CALL**</font> THE TRANSFORM"
   ]
  },
  {
   "cell_type": "code",
   "execution_count": null,
   "metadata": {},
   "outputs": [],
   "source": [
    "### Use the variables above to execute your transformation.\n",
    "### the final output needs to be a variable named final_dataframe\n",
    "logger.info(\"CALL THE TRANSFORM - execute your transformation\")\n",
    "\n",
    "final_dataframe, final_fail, go = transform.master_patient_substatus(df)\n",
    "\n",
    "if go==True:\n",
    "    logger.info(\"CALL THE TRANSFORM -  go no go = GO\")\n",
    "elif go==False:\n",
    "    logger.info(\"CALL THE TRANSFORM -  go no go = NO go\")\n",
    "else:\n",
    "    go=False\n",
    "    logger.info(\"CALL THE TRANSFORM -  go no go = unknown make it NO go\")\n",
    "    \n",
    "    "
   ]
  },
  {
   "cell_type": "markdown",
   "metadata": {},
   "source": [
    "### *<font color=grey>unittest python*</font>"
   ]
  },
  {
   "cell_type": "code",
   "execution_count": null,
   "metadata": {},
   "outputs": [],
   "source": [
    "import unittest\n",
    "\n",
    "def ut_shape(final_dataframe,df):\n",
    "    \"\"\"\n",
    "    assertion will change based on coding state\n",
    "    \"\"\"\n",
    "    return final_dataframe.shape == df.shape\n",
    "\n",
    "class TestNotebook(unittest.TestCase):\n",
    "    \n",
    "    def test_ut_shape(self):\n",
    "        \n",
    "        self.assertEqual(ut_shape(final_dataframe,df),True)\n",
    "                \n",
    "\"\"\"\n",
    "expect ... ok for now until I add some transform code since transform function is doing nothing yet\n",
    "expect ... FAIL for sun run id = 3 do to nulls ( None )\n",
    "\"\"\"\n",
    "# for development only\n",
    "unittest.main(argv=[''], verbosity= 2, exit=False)        \n",
    "    "
   ]
  },
  {
   "cell_type": "code",
   "execution_count": null,
   "metadata": {},
   "outputs": [],
   "source": [
    "# untit test/development only look at the fails\n",
    "#final_fail.head()\n",
    "#final_fail[transform.col_substatus]"
   ]
  },
  {
   "cell_type": "code",
   "execution_count": null,
   "metadata": {},
   "outputs": [],
   "source": [
    "# untit test/development only look at the pass(es)\n",
    "#final_dataframe.head()\n",
    "#final_dataframe[transform.col_substatus]"
   ]
  },
  {
   "cell_type": "markdown",
   "metadata": {},
   "source": [
    "# **publish**\n",
    "### Writing to S3\n",
    "Invoke the `publish()` command to write to a given contract. Some things to know:\n",
    "- To invoke publish a contract must be at the grain of dataset. This is because file names will be set by the dataframe=\\>parquet conversion. \n",
    "- publish only accepts a pandas dataframe.\n",
    "- publish does not allow for timedelta data types at this time (this is missing functionality in pyarrow).\n",
    "- publish handles partitioning the data as per contract, creating file paths, and creating the binary parquet files in S3, as well as the needed metadata. <br>\n",
    "**- by default, all datasets include a single partition, \\_\\_metadata\\_run\\_id, the RunEvent ID of an executed pipeline**"
   ]
  },
  {
   "cell_type": "code",
   "execution_count": null,
   "metadata": {},
   "outputs": [],
   "source": [
    "## that's it - just provide the final dataframe to the var final_dataframe and we take it from there\n",
    "if go==True:\n",
    "    logger.info(\"PUBLISH - that's it - its a GO - just provide the final dataframe to the var final_dataframe and we take it from there\")\n",
    "    transform.publish_contract.publish(final_dataframe, run_id, session)\n",
    "elif go==False:\n",
    "    logger.info(\"PUBLISH -  go no go = NO go -  so DONT publish\")\n",
    "else:\n",
    "    go=False\n",
    "    logger.info(\"PUBLISH -  go no go = unknown make it NO go - so DONT publish\")    \n",
    "session.close()"
   ]
  },
  {
   "cell_type": "markdown",
   "metadata": {},
   "source": [
    "***"
   ]
  },
  {
   "cell_type": "markdown",
   "metadata": {},
   "source": []
  }
 ],
 "metadata": {
  "celltoolbar": "Tags",
  "kernelspec": {
   "display_name": "Python 3",
   "language": "python",
   "name": "python3"
  },
  "language_info": {
   "codemirror_mode": {
    "name": "ipython",
    "version": 3
   },
   "file_extension": ".py",
   "mimetype": "text/x-python",
   "name": "python",
   "nbconvert_exporter": "python",
   "pygments_lexer": "ipython3",
   "version": "3.6.9"
  }
 },
 "nbformat": 4,
 "nbformat_minor": 2
}
