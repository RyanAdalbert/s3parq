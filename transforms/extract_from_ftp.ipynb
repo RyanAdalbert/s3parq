{
 "cells": [
  {
   "cell_type": "code",
   "execution_count": null,
   "metadata": {},
   "outputs": [],
   "source": [
    "\"\"\"\n",
    "************ SETUP - DON'T TOUCH **************\n",
    "This section imports data from the configuration database\n",
    "and should not need to be altered, molested or otherwise messed with. \n",
    "~~These are not the droids you are looking for~~\n",
    "\"\"\"\n",
    "from core.constants import BRANCH_NAME, ENV_BUCKET\n",
    "from core.helpers.session_helper import SessionHelper\n",
    "from core.models.configuration import Transformation\n",
    "from dataclasses import dataclass\n",
    "from core.raw_contract import RawContract\n",
    "\n",
    "db_transform = SessionHelper().session.query(Transformation).filter(Transformation.id == 1).one()\n",
    "\n",
    "@dataclass\n",
    "class DbTransform:\n",
    "    id: int = db_transform.id ## the instance id of the transform in the config app\n",
    "    name: str = db_transform.transformation_template.name ## the transform name in the config app\n",
    "    state: str = db_transform.pipeline_state.pipeline_state_type.name ## the pipeline state, one of raw, ingest, master, enhance, enrich, metrics, dimensional\n",
    "    branch:str = BRANCH_NAME ## the git branch for this execution \n",
    "    brand: str = db_transform.pipeline_state.pipeline.brand.name ## the pharma brand name\n",
    "    pharmaceutical_company: str = db_transform.pipeline_state.pipeline.brand.pharmaceutical_company.name # the pharma company name\n",
    "    publish_contract: RawContract = RawContract(branch=BRANCH_NAME,\n",
    "                            parent=db_transform.pipeline_state.pipeline.brand.pharmaceutical_company.name,\n",
    "                            child=db_transform.pipeline_state.pipeline.brand.name,\n",
    "                            state=state)\n"
   ]
  },
  {
   "cell_type": "markdown",
   "metadata": {},
   "source": [
    "# CORE Cartridge Notebook::[Extract Transform]\n",
    "![CORE Logo](assets/coreLogo.png) \n",
    "\n",
    "---\n",
    "## Keep in Mind\n",
    "Good Transforms Are...\n",
    "- **singular in purpose:** good transforms do one and only one thing, and handle all known cases for that thing. \n",
    "- **repeatable:** transforms should be written in a way that they can be run against the same dataset an infinate number of times and get the same result every time. \n",
    "- **easy to read:** 99 times out of 100, readable, clear code that runs a little slower is more valuable than a mess that runs quickly. \n",
    "- **No 'magic numbers':** if a variable or function is not instantly obvious as to what it is or does, without context, maybe consider renaming it."
   ]
  },
  {
   "cell_type": "markdown",
   "metadata": {},
   "source": [
    "## Workflow - how to use this notebook to make science\n",
    "#### Data Science\n",
    "1. **Document your transform.** Fill out the _description_ cell below describing what it is this transform does; this will appear in the configuration application where Ops will create, configure and update pipelines. \n",
    "1. **Define your config object.** Fill out the _configuration_ cell below the commented-out guide to define the variables you want ops to set in the configuration application (these will populate here for every pipeline). \n",
    "2. **Build your transformation logic.** Use the transformation cell to do that magic that you do. \n",
    "![caution](assets/cautionTape.png)"
   ]
  },
  {
   "cell_type": "markdown",
   "metadata": {},
   "source": [
    "### Configuration"
   ]
  },
  {
   "cell_type": "code",
   "execution_count": null,
   "metadata": {},
   "outputs": [],
   "source": [
    "\"\"\" \n",
    "********* CONFIGURATION - PLEASE TOUCH ********* \n",
    "This section defines what you expect to get from the configuration application \n",
    "in a single \"transform\" object. Define the vars you need here, and comment inline to the right of them \n",
    "for all-in-one documentation. \n",
    "Engineering will build a production \"transform\" object for every pipeline that matches what you define here.\n",
    "\n",
    "@@@ FORMAT OF THE DATA CLASS IS: @@@ \n",
    "\n",
    "<value_name>: <data_type> #<comment explaining what the value is to future us>\n",
    "\n",
    "~~These ARE the droids you are looking for~~\n",
    "\"\"\"\n",
    "\n",
    "class Transform(DbTransform):\n",
    "        ## YOUR properties go here!!\n",
    "        remote_path: str = db_transform.variables.filesystem_path # The path to follow on the remote server\n",
    "        prefix: str = db_transform.variables.prefix # The prefix of files to get on the remote server\n",
    "        secret_name: str = db_transform.variables.secret_name # The name of the secret in Secret Manager for the remote server\n",
    "        secret_type_of: str = db_transform.variables.secret_type_of # The type of the secret in Secret Manager for the remote server"
   ]
  },
  {
   "cell_type": "code",
   "execution_count": null,
   "metadata": {},
   "outputs": [],
   "source": [
    "## Please place your value assignments for development here!!\n",
    "## This cell will be turned off in production and Engineering will set to pull form the configuration application instead\n",
    "transform = Transform()\n",
    "transform.remote_path = \"/home/bi/SpecilatyAnalytics\"\n",
    "transform.prefix = \"IPF_PAT_\"\n",
    "transform.secret_name = \"bi\"\n",
    "transform.secret_type_of = \"FTP\"\n"
   ]
  },
  {
   "cell_type": "code",
   "execution_count": null,
   "metadata": {},
   "outputs": [],
   "source": [
    "transform.prefix\n",
    "transform.secret_name\n",
    "from core import secret\n",
    "extract=transform \n",
    "#source_secret = secret.Secret(name=extract.secret_name, type_of=extract.secret_type_of, mode=\"read\")\n"
   ]
  },
  {
   "cell_type": "markdown",
   "metadata": {},
   "source": [
    "### Description\n",
    "What does this transformation do? be specific.\n",
    "\n",
    "![what does your transform do](assets/what.gif)"
   ]
  },
  {
   "cell_type": "markdown",
   "metadata": {},
   "source": [
    "This transform gets raw files from the client's remote server and places them in our S3 Bucket. Configurations specify the remote path to the files and a prefix to filter the files by before fetching, as well as the secret name and secret type so it can get the connection info for the remote server out of Secrets Manager."
   ]
  },
  {
   "cell_type": "markdown",
   "metadata": {},
   "source": [
    "### Transformation"
   ]
  },
  {
   "cell_type": "code",
   "execution_count": 5,
   "metadata": {},
   "outputs": [],
   "source": [
    "### Setup important outside imports here! (pandas, etc)\n",
    "from core.helpers import file_mover\n",
    "from core.logging import get_logger\n",
    "from core import secret\n",
    "import os\n",
    "import tempfile"
   ]
  },
  {
   "cell_type": "code",
   "execution_count": null,
   "metadata": {},
   "outputs": [],
   "source": []
  },
  {
   "cell_type": "code",
   "execution_count": null,
   "metadata": {},
   "outputs": [],
   "source": []
  },
  {
   "cell_type": "code",
   "execution_count": null,
   "metadata": {},
   "outputs": [
    {
     "name": "stdout",
     "output_type": "stream",
     "text": [
      "2019-06-28 17:55:51,253 - core.secret.Secret - DEBUG - Secret idenditifier dev/FTP/bi/read.\n",
      "2019-06-28 17:55:51,406 - core.helpers.file_mover.FileMover - DEBUG - Connecting to host: 192.168.201.202 on port: 22\n",
      "2019-06-28 17:55:51,441 - paramiko.transport - INFO - Connected (version 1.99, client OpenSSH_3.9p1)\n",
      "2019-06-28 17:55:51,608 - paramiko.transport - INFO - Authentication (password) successful!\n",
      "2019-06-28 17:55:51,657 - paramiko.transport.sftp - INFO - [chan 0] Opened sftp connection (server version 3)\n"
     ]
    }
   ],
   "source": [
    "### Setup your transform dataclass object\n",
    "# transform = Transform()\n",
    "extract = transform\n",
    "logger = get_logger(f\"core.transforms.{transform.state}.{transform.name}\")\n",
    "\n",
    "### Use the variables above to execute your transformation. the final output needs to be a variable named final_dataframe\n",
    "def file_needs_update(output_contract: RawContract,local_file_path: str,local_file_modified_time: str)-> bool:\n",
    "        \"\"\" Check if file needs to be pushed\n",
    "            File is only considered to need to be pushed if it does not exist or has been modified since last push\n",
    "        \"\"\"\n",
    "        try:\n",
    "            s3_last_modified = output_contract.get_raw_file_metadata(local_file_path)['source_modified_time']\n",
    "            logger.info(f\"File last modified on S3 at {s3_last_modified}\")\n",
    "            logger.info(f\"File last modified on SFTP at {local_file_modified_time}\")\n",
    "            if (float(s3_last_modified) < float(local_file_modified_time)):\n",
    "                return True\n",
    "            else:\n",
    "                return False\n",
    "        except KeyError as e:\n",
    "            logger.info(f\"File not found on S3, uploading.\")\n",
    "            return True\n",
    "\n",
    "source_secret = secret.Secret(name=extract.secret_name, type_of=extract.secret_type_of, mode=\"read\")\n",
    "\n",
    "count = 0\n",
    "max_tries = 5\n",
    "run = True\n",
    "while(run):\n",
    "    try:\n",
    "        with tempfile.TemporaryDirectory() as tmp_dir:\n",
    "            file_mover.get_files(\n",
    "                tmp_dir=tmp_dir,\n",
    "                prefix=extract.prefix,\n",
    "                remote_path=extract.remote_path,\n",
    "                secret=source_secret\n",
    "            )\n",
    "\n",
    "            for local_file in os.listdir(f\"{tmp_dir}\"):\n",
    "                local_file_path = os.path.join(tmp_dir,local_file)\n",
    "                local_file_modified_time = os.stat(local_file_path).st_mtime\n",
    "                print (local_file_modified_time)\n",
    "\n",
    "                if (file_needs_update(output_contract=extract.publish_contract,\n",
    "                                        local_file_path=local_file_path,\n",
    "                                        local_file_modified_time=local_file_modified_time\n",
    "                                        )):\n",
    "                    print('MADE IT HERE')\n",
    "                    extract.publish_contract.publish_raw_file(local_file_path)\n",
    "    except OSError as e:\n",
    "        count += 1\n",
    "        if(count == max_tries):\n",
    "            print(e)\n",
    "            run = False\n",
    "        \n"
   ]
  },
  {
   "cell_type": "code",
   "execution_count": null,
   "metadata": {},
   "outputs": [],
   "source": []
  },
  {
   "cell_type": "markdown",
   "metadata": {},
   "source": [
    "### Publish"
   ]
  },
  {
   "cell_type": "code",
   "execution_count": null,
   "metadata": {},
   "outputs": [],
   "source": [
    "\"\"\"\n",
    "***** This does not apply to extract *****\n",
    "\"\"\""
   ]
  },
  {
   "cell_type": "code",
   "execution_count": null,
   "metadata": {},
   "outputs": [],
   "source": []
  },
  {
   "cell_type": "code",
   "execution_count": null,
   "metadata": {},
   "outputs": [],
   "source": []
  }
 ],
 "metadata": {
  "celltoolbar": "Tags",
  "kernelspec": {
   "display_name": "Python 3",
   "language": "python",
   "name": "python3"
  },
  "language_info": {
   "codemirror_mode": {
    "name": "ipython",
    "version": 3
   },
   "file_extension": ".py",
   "mimetype": "text/x-python",
   "name": "python",
   "nbconvert_exporter": "python",
   "pygments_lexer": "ipython3",
   "version": "3.6.8"
  }
 },
 "nbformat": 4,
 "nbformat_minor": 2
}
