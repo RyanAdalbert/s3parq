{
 "cells": [
  {
   "cell_type": "code",
   "execution_count": 1,
   "metadata": {},
   "outputs": [
    {
     "name": "stdout",
     "output_type": "stream",
     "text": [
      "2019-07-24 20:59:56,378 - core.helpers.session_helper.SessionHelper - INFO - Creating session for dev environment...\n",
      "2019-07-24 20:59:56,406 - core.helpers.configuration_mocker.ConfigurationMocker - DEBUG - Generating administrator mocks.\n",
      "2019-07-24 20:59:56,449 - core.helpers.configuration_mocker.ConfigurationMocker - DEBUG - Done generating administrator mocks.\n",
      "2019-07-24 20:59:56,449 - core.helpers.configuration_mocker.ConfigurationMocker - DEBUG - Generating pharmaceutical company mocks.\n",
      "2019-07-24 20:59:56,452 - core.helpers.configuration_mocker.ConfigurationMocker - DEBUG - Done generating pharmaceutical company mocks.\n",
      "2019-07-24 20:59:56,453 - core.helpers.configuration_mocker.ConfigurationMocker - DEBUG - Generating brand mocks.\n",
      "2019-07-24 20:59:56,458 - core.helpers.configuration_mocker.ConfigurationMocker - DEBUG - Done generating brand mocks.\n",
      "2019-07-24 20:59:56,459 - core.helpers.configuration_mocker.ConfigurationMocker - DEBUG - Generating segment mocks.\n",
      "2019-07-24 20:59:56,465 - core.helpers.configuration_mocker.ConfigurationMocker - DEBUG - Done generating segment mocks.\n",
      "2019-07-24 20:59:56,466 - core.helpers.configuration_mocker.ConfigurationMocker - DEBUG - Generating pipeline type mocks.\n",
      "2019-07-24 20:59:56,473 - core.helpers.configuration_mocker.ConfigurationMocker - DEBUG - Done generating pipeline type mocks.\n",
      "2019-07-24 20:59:56,477 - core.helpers.configuration_mocker.ConfigurationMocker - DEBUG - Generating pipeline mocks.\n",
      "2019-07-24 20:59:56,481 - core.helpers.configuration_mocker.ConfigurationMocker - DEBUG - Done generating pipeline mocks.\n",
      "2019-07-24 20:59:56,486 - core.helpers.configuration_mocker.ConfigurationMocker - DEBUG - Generating pipeline state type mocks.\n",
      "2019-07-24 20:59:56,492 - core.helpers.configuration_mocker.ConfigurationMocker - DEBUG - Done generating pipeline state type mocks.\n",
      "2019-07-24 20:59:56,493 - core.helpers.configuration_mocker.ConfigurationMocker - DEBUG - Generating pipeline state mocks.\n",
      "2019-07-24 20:59:56,498 - core.helpers.configuration_mocker.ConfigurationMocker - DEBUG - Done generating pipeline state mocks.\n",
      "2019-07-24 20:59:56,499 - core.helpers.configuration_mocker.ConfigurationMocker - DEBUG - Generating tag mocks.\n",
      "2019-07-24 20:59:56,509 - core.helpers.configuration_mocker.ConfigurationMocker - DEBUG - Done generating tag mocks.\n",
      "2019-07-24 20:59:56,511 - core.helpers.configuration_mocker.ConfigurationMocker - DEBUG - Generating transformation_template mocks.\n",
      "2019-07-24 20:59:56,515 - core.helpers.configuration_mocker.ConfigurationMocker - DEBUG - Done generating transformation_template mocks.\n",
      "2019-07-24 20:59:56,516 - core.helpers.configuration_mocker.ConfigurationMocker - DEBUG - Generating bridge table mocks for transformation_templates <=> tags.\n",
      "2019-07-24 20:59:56,524 - core.helpers.configuration_mocker.ConfigurationMocker - DEBUG - Done generating transformation_templates_tags mocks.\n",
      "2019-07-24 20:59:56,525 - core.helpers.configuration_mocker.ConfigurationMocker - DEBUG - Generating transformation mocks.\n",
      "2019-07-24 20:59:56,530 - core.helpers.configuration_mocker.ConfigurationMocker - DEBUG - Done generating transformation mocks.\n",
      "2019-07-24 20:59:56,531 - core.helpers.configuration_mocker.ConfigurationMocker - DEBUG - Generating transformation_variables mocks\n",
      "2019-07-24 20:59:56,540 - core.helpers.configuration_mocker.ConfigurationMocker - DEBUG - Done generating transformation_variables mocks.\n",
      "2019-07-24 20:59:56,541 - core.helpers.configuration_mocker.ConfigurationMocker - DEBUG - Generating run_events mocks.\n",
      "2019-07-24 20:59:56,547 - core.helpers.configuration_mocker.ConfigurationMocker - DEBUG - Done generating run_events mocks.\n",
      "2019-07-24 20:59:56,548 - core.helpers.session_helper.SessionHelper - INFO - Done. Created dev session with mock data.\n"
     ]
    }
   ],
   "source": [
    "from core.helpers.session_helper import SessionHelper\n",
    "session = SessionHelper().session"
   ]
  },
  {
   "cell_type": "code",
   "execution_count": 12,
   "metadata": {},
   "outputs": [],
   "source": [
    "\"\"\"\n",
    "************ CONFIGURATION - PLEASE TOUCH **************\n",
    "Pipeline Builder configuration: creates configurations from variables specified here!!\n",
    "This cell will be off in production as configurations will come from the configuration postgres DB.\n",
    "\"\"\"\n",
    "# config vars: this dataset\n",
    "config_pharma = \"sun\" # the pharmaceutical company which owns {brand}\n",
    "config_brand = \"ilumya\" # the brand this pipeline operates on\n",
    "config_state = \"enrich\" # the state this transform runs in\n",
    "config_name = \"DS-289\" # the name of this transform, which is the name of this notebook without .ipynb\n",
    "\n",
    "# input vars: dataset to fetch. Recall that a contract published to S3 has a key format branch/pharma/brand/state/name\n",
    "# Note: this key is case sensitive!!\n",
    "input_pharma = \"sun\"\n",
    "input_brand = \"ilumya\"\n",
    "input_state = \"enrich\"\n",
    "input_name = \"symphony_health_association_remap_pharm_codes\"\n",
    "input_branch = \"runevent-demo\" # if None, input_branch is automagically set to your working branch"
   ]
  },
  {
   "cell_type": "code",
   "execution_count": 13,
   "metadata": {},
   "outputs": [
    {
     "name": "stdout",
     "output_type": "stream",
     "text": [
      "2019-07-24 21:07:36,340 - core.logging - DEBUG - Adding/getting mocks for specified configurations...\n",
      "2019-07-24 21:07:36,358 - core.logging - DEBUG - Done. Creating mock run event and committing results to configuration mocker.\n"
     ]
    }
   ],
   "source": [
    "\"\"\"\n",
    "************ SETUP - DON'T TOUCH **************\n",
    "Populating config mocker based on config parameters...\n",
    "\"\"\"\n",
    "import core.helpers.pipeline_builder as builder\n",
    "\n",
    "ids = builder.build(config_pharma, config_brand, config_state, config_name, session)\n",
    "transform_id = ids[0]\n",
    "run_id = ids[1]"
   ]
  },
  {
   "cell_type": "code",
   "execution_count": 14,
   "metadata": {},
   "outputs": [],
   "source": [
    "\"\"\"\n",
    "************ SETUP - DON'T TOUCH **************\n",
    "This section imports data from the configuration database\n",
    "and should not need to be altered or otherwise messed with. \n",
    "~~These are not the droids you are looking for~~\n",
    "\"\"\"\n",
    "from core.constants import BRANCH_NAME, ENV_BUCKET\n",
    "from core.helpers.session_helper import SessionHelper\n",
    "from core.models.configuration import Transformation\n",
    "from dataclasses import dataclass\n",
    "from core.dataset_contract import DatasetContract\n",
    "\n",
    "db_transform = session.query(Transformation).filter(Transformation.id == transform_id).one()\n",
    "\n",
    "@dataclass\n",
    "class DbTransform:\n",
    "    id: int = db_transform.id ## the instance id of the transform in the config app\n",
    "    name: str = db_transform.transformation_template.name ## the transform name in the config app\n",
    "    state: str = db_transform.pipeline_state.pipeline_state_type.name ## the pipeline state, one of raw, ingest, master, enhance, enrich, metrics, dimensional\n",
    "    branch:str = BRANCH_NAME ## the git branch for this execution \n",
    "    brand: str = db_transform.pipeline_state.pipeline.brand.name ## the pharma brand name\n",
    "    pharmaceutical_company: str = db_transform.pipeline_state.pipeline.brand.pharmaceutical_company.name # the pharma company name\n",
    "    publish_contract: DatasetContract = DatasetContract(branch=BRANCH_NAME,\n",
    "                            state=db_transform.pipeline_state.pipeline_state_type.name,\n",
    "                            parent=db_transform.pipeline_state.pipeline.brand.pharmaceutical_company.name,\n",
    "                            child=db_transform.pipeline_state.pipeline.brand.name,\n",
    "                            dataset=db_transform.transformation_template.name)\n"
   ]
  },
  {
   "cell_type": "markdown",
   "metadata": {},
   "source": [
    "# CORE Cartridge Notebook::[transform name here]\n",
    "![CORE Logo](assets/coreLogo.png) \n",
    "\n",
    "---\n",
    "## Keep in Mind\n",
    "Good Transforms Are...\n",
    "- **singular in purpose:** good transforms do one and only one thing, and handle all known cases for that thing. \n",
    "- **repeatable:** transforms should be written in a way that they can be run against the same dataset an infinate number of times and get the same result every time. \n",
    "- **easy to read:** 99 times out of 100, readable, clear code that runs a little slower is more valuable than a mess that runs quickly. \n",
    "- **No 'magic numbers':** if a variable or function is not instantly obvious as to what it is or does, without context, maybe consider renaming it."
   ]
  },
  {
   "cell_type": "markdown",
   "metadata": {},
   "source": [
    "## Workflow - how to use this notebook to make science\n",
    "#### Data Science\n",
    "1. **Document your transform.** Fill out the _description_ cell below describing what it is this transform does; this will appear in the configuration application where Ops will create, configure and update pipelines. \n",
    "1. **Define your config object.** Fill out the _configuration_ cell below the commented-out guide to define the variables you want ops to set in the configuration application (these will populate here for every pipeline). \n",
    "2. **Build your transformation logic.** Use the transformation cell to do that magic that you do. \n",
    "![caution](assets/cautionTape.png)"
   ]
  },
  {
   "cell_type": "markdown",
   "metadata": {},
   "source": [
    "### Configuration"
   ]
  },
  {
   "cell_type": "code",
   "execution_count": 15,
   "metadata": {},
   "outputs": [],
   "source": [
    "\"\"\" \n",
    "********* CONFIGURATION - PLEASE TOUCH ********* \n",
    "This section defines what you expect to get from the configuration application \n",
    "in a single \"transform\" object. Define the vars you need here, and comment inline to the right of them \n",
    "for all-in-one documentation. \n",
    "Engineering will build a production \"transform\" object for every pipeline that matches what you define here.\n",
    "\n",
    "@@@ FORMAT OF THE DATA CLASS IS: @@@ \n",
    "\n",
    "<value_name>: <data_type> #<comment explaining what the value is to future us>\n",
    "\n",
    "~~These ARE the droids you are looking for~~\n",
    "\"\"\"\n",
    "\n",
    "class Transform(DbTransform):\n",
    "    '''\n",
    "    YOUR properties go here!!\n",
    "    Include your input dataset(s) here. Variable properties should be assigned to the exact name of\n",
    "    the transformation as it appears in the Jupyter notebook filename.\n",
    "    '''\n",
    "    #ingest_source_transform: str = db_transform.variables.ingest_source_transform # The name of the dataset to pull from\n",
    "    #ingest_source_file_prefix: str = db_transform.variables.ingest_source_file_prefix # If from initial ingest, the file prefix name\n",
    "    #filesystem_path: str = db_transform.variables.filesystem_path ## incoming file path\n",
    "    #input_transform: str = db_transform.variables.input_transform # The name of the transform to input source data from\n",
    "    #secret_name: str = db_transform.variables.secret_name # secret name\n",
    "    #secret_type_of: str = db_transform.variables.secret_type_of # secret type"
   ]
  },
  {
   "cell_type": "code",
   "execution_count": 16,
   "metadata": {},
   "outputs": [],
   "source": [
    "## Please place your value assignments for development here!!\n",
    "## This cell will be turned off in production and Engineering will set to pull form the configuration application instead\n",
    "\n",
    "transform = Transform()\n",
    "\n",
    "#transform.name = 'DS_289_s3'\n",
    "#transform.brand = 'ofev'\n",
    "#transform.state = 'enrich'\n",
    "#transform.pharmaceutical_company = 'bi'\n",
    "##transform.filesystem_path = 's3://ichain-dev/preprocess/bi/ofev/ingest/01_load_raw_and_map_headers'\n",
    "#transform.filesystem_path = 's3://ichain-dev/schafrn/seed-data/bi-all-529-data/01_load_raw_and_map_headers'\n",
    "##transform.filesystem_path = 's3://ichain-dev/sun-extract-prod-vars/sun/ilumya/ingest/symphony_health_association_ingest_column_mapping/__metadata_run_id=4'\n",
    "#\n",
    "#\n",
    "#transform.secret_name = 'bi'\n",
    "#transform.secret_type_of = 'database'"
   ]
  },
  {
   "cell_type": "markdown",
   "metadata": {},
   "source": [
    "### Description\n",
    "What does this transformation do? be specific.\n",
    "\n",
    "![what does your transform do](assets/what.gif)"
   ]
  },
  {
   "cell_type": "markdown",
   "metadata": {},
   "source": [
    "Cancelled Before Active enrichment.\n",
    "Assigns hierarchy values in cases where cancelled status is reported before first active shipment.  This is used as part of the TTFF enrichment.  See logic diagram below:\n",
    "\n",
    "<img src='assets/cancel_before_active.png'>"
   ]
  },
  {
   "cell_type": "markdown",
   "metadata": {},
   "source": [
    "### Transformation"
   ]
  },
  {
   "cell_type": "code",
   "execution_count": 17,
   "metadata": {},
   "outputs": [
    {
     "name": "stdout",
     "output_type": "stream",
     "text": [
      "2019-07-24 21:07:41,376 - core.dataset_contract.DatasetContract - INFO - Fetching dataframe from s3 location s3://ichain-dev/runevent-demo/sun/ilumya/enrich/symphony_health_association_remap_pharm_codes.\n"
     ]
    }
   ],
   "source": [
    "\"\"\"\n",
    "************ FETCH DATA - TOUCH, BUT CAREFULLY **************\n",
    "This cell will be turned off in production, as the input_contract will be handled by the pipeline.\n",
    "\"\"\"\n",
    "\n",
    "if not input_branch:\n",
    "    input_branch = BRANCH_NAME\n",
    "input_contract = DatasetContract(branch=input_branch, state=input_state, parent=input_pharma, child=input_brand, dataset=input_name)\n",
    "run_filter = []\n",
    "# run_filter.append(dict(partition=\"run_id\", comparison=\"==\", values=[1]))\n",
    "# IF YOU HAVE PUBLISHED DATA MULTIPLE TIMES, uncomment the above line and change the int to the run_id to fetch.\n",
    "# Otherwise, you will have duplicate values in your fetched dataset!\n",
    "final_dataframe = input_contract.fetch(filters=run_filter)"
   ]
  },
  {
   "cell_type": "code",
   "execution_count": 19,
   "metadata": {},
   "outputs": [
    {
     "data": {
      "text/plain": [
       "(7100, 77)"
      ]
     },
     "execution_count": 19,
     "metadata": {},
     "output_type": "execute_result"
    }
   ],
   "source": [
    "final_dataframe.shape"
   ]
  },
  {
   "cell_type": "code",
   "execution_count": null,
   "metadata": {},
   "outputs": [],
   "source": [
    "### Use the variables above to execute your transformation. the final output needs to be a variable named final_dataframe"
   ]
  },
  {
   "cell_type": "code",
   "execution_count": null,
   "metadata": {},
   "outputs": [],
   "source": [
    "import re\n",
    "\n",
    "import numpy as np\n",
    "import pandas as pd\n",
    "import pyarrow as pa\n",
    "import pyarrow.parquet as pq\n",
    "from s3fs import S3FileSystem\n",
    "import mysql.connector as mysql\n",
    "\n",
    "from core.secret import Secret"
   ]
  },
  {
   "cell_type": "code",
   "execution_count": null,
   "metadata": {},
   "outputs": [],
   "source": [
    "pd.set_option('display.max_columns', 100)\n",
    "pd.set_option('display.max_rows', 500)"
   ]
  },
  {
   "cell_type": "code",
   "execution_count": null,
   "metadata": {},
   "outputs": [],
   "source": [
    "# Place your import contracts here\n",
    "\n",
    "ingest_contract = DatasetContract(\n",
    "    branch='sun-extract-validation',\n",
    "    parent='sun',\n",
    "    child='ilumya',\n",
    "    state='ingest',\n",
    "    dataset='symphony_health_association_ingest_column_mapping'\n",
    ")"
   ]
  },
  {
   "cell_type": "code",
   "execution_count": null,
   "metadata": {},
   "outputs": [],
   "source": [
    "ingest_contract.bucket"
   ]
  },
  {
   "cell_type": "code",
   "execution_count": null,
   "metadata": {},
   "outputs": [],
   "source": [
    "from s3parq import fetch\n",
    "\n",
    "run_id = 4\n",
    "\n",
    "run_filter = [{\"partition\": \"__metadata_run_id\", \"comparison\": \"==\", \"values\": [run_id]}]\n",
    "df = fetch(bucket=ingest_contract.bucket, key=ingest_contract.key, filters=run_filter)"
   ]
  },
  {
   "cell_type": "code",
   "execution_count": null,
   "metadata": {},
   "outputs": [],
   "source": [
    "df.head()"
   ]
  },
  {
   "cell_type": "code",
   "execution_count": null,
   "metadata": {},
   "outputs": [],
   "source": [
    "ingest_contract.parent"
   ]
  },
  {
   "cell_type": "code",
   "execution_count": null,
   "metadata": {},
   "outputs": [],
   "source": [
    "df.shape"
   ]
  },
  {
   "cell_type": "markdown",
   "metadata": {},
   "source": [
    "## CUSTOMER PARAMETERS"
   ]
  },
  {
   "cell_type": "code",
   "execution_count": null,
   "metadata": {},
   "outputs": [],
   "source": [
    "if ingest_contract.parent == 'sun':\n",
    "    trans_id = 'pharm_transaction_id'\n",
    "    brand = 'medication'\n",
    "    patient_id = 'msa_patient_id'\n",
    "    pharmacy = 'pharm_code'\n",
    "    status_date = 'status_date'\n",
    "    referral_date = 'ref_date'\n",
    "    status =  'status_code'\n",
    "    substatus =  'sub_status'\n",
    "    datetime = '%Y%m%d'#%H%M%S'\n",
    "\n",
    "elif ingest_contract.parent == 'bi':\n",
    "    trans_id = 'pmcTransactionId'\n",
    "    brand = 'medication'\n",
    "    patient_id = 'pmcPatientID'\n",
    "    pharmacy = 'pharmName'\n",
    "    status_date = 'statusDate'\n",
    "    referral_date = 'refDate'\n",
    "    status =  'statusCode'\n",
    "    substatus =  'custStatusCode'\n",
    "    datetime = '%Y-%b-%d'"
   ]
  },
  {
   "cell_type": "code",
   "execution_count": null,
   "metadata": {},
   "outputs": [],
   "source": [
    "def clean_data(cust_input_df, datetime, trans_id, brand, patient_id, pharmacy, status_date, referral_date, status, substatus):\n",
    "    \n",
    "    # Extract and map relevant columns\n",
    "    cust_df = cust_input_df.loc[:,[trans_id,\n",
    "                                   patient_id,\n",
    "                                   pharmacy,\n",
    "                                   brand,\n",
    "                                   status_date,\n",
    "                                   referral_date,\n",
    "                                   status,\n",
    "                                   substatus]]\n",
    "\n",
    "    cust_df = cust_df.rename(columns={trans_id:'trans_id',\n",
    "                                      patient_id:'patient_id',\n",
    "                                      pharmacy:'pharmacy',\n",
    "                                      brand:'brand',\n",
    "                                      status_date:'status_date',\n",
    "                                      referral_date:'referral_date',\n",
    "                                      status:'status_code',\n",
    "                                      substatus:'substatus_code'})\n",
    "    \n",
    "    ## Convert dates to datetime format\n",
    "    cust_df.status_date = cust_df.status_date.str[:8].astype(str)\n",
    "    cust_df.referral_date = cust_df.referral_date.str[:8].astype(str)\n",
    "#    cust_df.status_date = cust_df.status_date.str.replace(' ', '', regex=False)\n",
    "#    cust_df.status_date = cust_df.status_date.str.replace(':', '', regex=False)\n",
    "#    cust_df.referral_date = cust_df.referral_date.str.replace(' ', '', regex=False)\n",
    "#    cust_df.referral_date = cust_df.referral_date.str.replace(':', '', regex=False)\n",
    "    \n",
    "    cust_df.status_date = pd.to_datetime(cust_df.status_date, format=datetime, errors='coerce')\n",
    "    cust_df.referral_date = pd.to_datetime(cust_df.referral_date, format=datetime, errors='coerce')\n",
    "    \n",
    "    ## Extract brand from medication\n",
    "    cust_df = cust_df.dropna(subset=['brand'])\n",
    "    cust_df['brand'] = cust_df['brand'].apply(lambda x: x.split()[0].strip())\n",
    "    \n",
    "    cust_df.status_code = cust_df.status_code.str.upper()\n",
    "    cust_df.substatus_code = cust_df.substatus_code.str.upper()\n",
    "    \n",
    "    min_status_dates=cust_df.groupby(['patient_id','pharmacy','brand'])['status_date'].min().reset_index().rename(columns={'status_date':'min_status_date'})\n",
    "    \n",
    "    cust_df = pd.merge(cust_df, min_status_dates, how='inner', on=['patient_id','pharmacy','brand'])\n",
    "    \n",
    "    cust_df['referral_date'] = cust_df['referral_date'].fillna(cust_df['min_status_date'])\n",
    "    \n",
    "    cust_df = cust_df.drop(['min_status_date'],axis=1).drop_duplicates()\n",
    "    \n",
    "    cust_df.sort_values(by=['patient_id', 'pharmacy', 'brand', 'status_date','status_code'], ascending=[True, True, True, True, False], inplace=True)\n",
    "    cust_df = cust_df.reset_index(drop=True)\n",
    "\n",
    "    # Output clean customer file\n",
    "    return cust_df"
   ]
  },
  {
   "cell_type": "code",
   "execution_count": null,
   "metadata": {},
   "outputs": [],
   "source": [
    "clean_df = clean_data(\n",
    "    df,\n",
    "    datetime,\n",
    "    trans_id,\n",
    "    brand,\n",
    "    patient_id,\n",
    "    pharmacy,\n",
    "    status_date,\n",
    "    referral_date,\n",
    "    status,\n",
    "    substatus\n",
    ")\n",
    "\n",
    "clean_df.head()"
   ]
  },
  {
   "cell_type": "code",
   "execution_count": null,
   "metadata": {},
   "outputs": [],
   "source": [
    "clean_df.shape"
   ]
  },
  {
   "cell_type": "code",
   "execution_count": null,
   "metadata": {},
   "outputs": [],
   "source": [
    "sun_df = clean_df.assign()\n",
    "\n",
    "# Patient Journey ID\n",
    "sun_df['pj_id'] = sun_df.groupby(['patient_id','pharmacy','brand']).grouper.group_info[0]\n",
    "\n",
    "# Patient Journey Step\n",
    "sun_df['pj_step'] = sun_df.index\n",
    "\n",
    "sun_df.head()"
   ]
  },
  {
   "cell_type": "code",
   "execution_count": null,
   "metadata": {},
   "outputs": [],
   "source": [
    "## IDENTIFY FIRST ACTIVE SHIPMENTS\n",
    "\n",
    "actives = (\n",
    "    sun_df\n",
    "    .query('substatus_code == \"SHIPMENT\"')[['pj_id','pj_step','status_date']]\n",
    "    .drop_duplicates().rename(columns={'pj_step':'active_step','status_date':'active_status_date'})\n",
    ")\n",
    "\n",
    "actives = (\n",
    "    actives\n",
    "    .groupby(['pj_id'])['active_step','active_status_date']\n",
    "    .first()\n",
    "    .reset_index()\n",
    ")\n",
    "\n",
    "actives.head()"
   ]
  },
  {
   "cell_type": "code",
   "execution_count": null,
   "metadata": {},
   "outputs": [],
   "source": [
    "cancel_before_active_df = (\n",
    "    pd.merge(sun_df,\n",
    "             actives,\n",
    "             how='left',\n",
    "             on=['pj_id']\n",
    "            )\n",
    "    .dropna()\n",
    ")\n",
    "\n",
    "cancel_before_active_df.head()"
   ]
  },
  {
   "cell_type": "code",
   "execution_count": null,
   "metadata": {},
   "outputs": [],
   "source": [
    "cancel_before_active_df['active_cancel_diff'] = np.where(cancel_before_active_df['status_code']=='CANCELLED',\n",
    "                                                         (cancel_before_active_df['active_status_date'] - cancel_before_active_df['status_date'])/np.timedelta64(1,'D'),\n",
    "                                                         np.nan\n",
    "                                                        )\n",
    "\n",
    "cancel_before_active_df = cancel_before_active_df[cancel_before_active_df.pj_id\n",
    "                                                  .isin(cancel_before_active_df\n",
    "                                                        .query('active_cancel_diff > 0')\n",
    "                                                        .pj_id\n",
    "                                                        .drop_duplicates()\n",
    "                                                        .tolist()\n",
    "                                                       )\n",
    "                                                 ]\n",
    "\n",
    "\n",
    "cancel_before_active_df.head()"
   ]
  },
  {
   "cell_type": "code",
   "execution_count": null,
   "metadata": {},
   "outputs": [],
   "source": [
    "cancel_before_active_df['prior_status'] = np.where((cancel_before_active_df['status_code']=='CANCELLED'),\n",
    "                                                   np.where((cancel_before_active_df['pj_id'] == cancel_before_active_df['pj_id'].shift(1)),\n",
    "                                                            cancel_before_active_df['status_code'].shift(1),\n",
    "                                                            'no_prior_status'),\n",
    "                                                   np.NaN\n",
    "                                                  )\n",
    "\n",
    "cancel_before_active_df['prior_status_diff'] = np.where((cancel_before_active_df['status_code']=='CANCELLED'),\n",
    "                                                        np.where((cancel_before_active_df['pj_id'] == cancel_before_active_df['pj_id'].shift(1)),\n",
    "                                                                 (cancel_before_active_df['status_date'] - cancel_before_active_df['status_date'].shift(1))/np.timedelta64(1,'D'),\n",
    "                                                                 pd.NaT),\n",
    "                                                        pd.NaT\n",
    "                                                       )\n",
    "\n",
    "cancel_before_active_df.head()"
   ]
  },
  {
   "cell_type": "code",
   "execution_count": null,
   "metadata": {},
   "outputs": [],
   "source": [
    "cancel_before_active_df.query('status_code == \"CANCELLED\"').substatus_code.drop_duplicates()"
   ]
  },
  {
   "cell_type": "code",
   "execution_count": null,
   "metadata": {},
   "outputs": [],
   "source": [
    "cancel_before_active_df['hierarchy'] = np.where(cancel_before_active_df['status_code'] != 'CANCELLED',\n",
    "                                                None,\n",
    "                                                np.where(cancel_before_active_df['active_cancel_diff'] > 60,\n",
    "                                                         'REMOVE FROM TTFF',\n",
    "                                                         np.where((cancel_before_active_df['prior_status_diff'] > 60) |\n",
    "                                                                  (cancel_before_active_df['prior_status'] == 'no_prior_status'),\n",
    "                                                                  'NO STATUS CLARITY',\n",
    "                                                                  np.where(cancel_before_active_df['substatus_code'] == 'INSURANCE DENIED',\n",
    "                                                                           'BVPA',\n",
    "                                                                           'ADOPT PRIOR STATUS HIERARCHY'\n",
    "                                                                          )\n",
    "                                                                 )\n",
    "                                                        )\n",
    "                                               )\n",
    "\n",
    "cancel_before_active_df.head()"
   ]
  },
  {
   "cell_type": "code",
   "execution_count": null,
   "metadata": {},
   "outputs": [],
   "source": [
    "cancel_before_active_df = cancel_before_active_df.reset_index(drop=True)\n",
    "\n",
    "cancel_before_active_df['prior_status_diff'] = cancel_before_active_df.groupby(['pj_id'], sort=False).apply(lambda x: x.prior_status_diff.bfill()).reset_index(drop=True)\n",
    "\n",
    "cancel_before_active_df['hierarchy'] = np.where((cancel_before_active_df['prior_status_diff'] > 60) &\n",
    "                                                (cancel_before_active_df['status_code'] != 'CANCELLED'),\n",
    "                                                'REMOVE FROM TTFF',\n",
    "                                                cancel_before_active_df['hierarchy']\n",
    "                                               )\n",
    "\n",
    "cancel_before_active_df.head()"
   ]
  },
  {
   "cell_type": "code",
   "execution_count": null,
   "metadata": {},
   "outputs": [],
   "source": [
    "cancel_before_active_df['hierarchy'] = cancel_before_active_df.groupby(['pj_id'], sort=False).apply(lambda x: x.hierarchy.bfill()).reset_index(drop=True)\n",
    "\n",
    "cancel_before_active_df.head()"
   ]
  },
  {
   "cell_type": "code",
   "execution_count": null,
   "metadata": {},
   "outputs": [],
   "source": [
    "cancel_before_active_df['hierarchy'] = np.where((cancel_before_active_df['hierarchy'] != 'REMOVE FROM TTFF') &\n",
    "                                                (cancel_before_active_df['status_code'] != 'CANCELLED'),\n",
    "                                                cancel_before_active_df['status_code'] + ' - '+ cancel_before_active_df['substatus_code'],\n",
    "                                                cancel_before_active_df['hierarchy']\n",
    "                                               )\n"
   ]
  },
  {
   "cell_type": "code",
   "execution_count": null,
   "metadata": {},
   "outputs": [],
   "source": [
    "cancel_before_active_df['hierarchy'] = np.where(cancel_before_active_df['pj_step'] >= cancel_before_active_df['active_step'],\n",
    "                                                'ACTIVE - SHIPMENT',\n",
    "                                                cancel_before_active_df['hierarchy']\n",
    "                                               )"
   ]
  },
  {
   "cell_type": "code",
   "execution_count": null,
   "metadata": {},
   "outputs": [],
   "source": [
    "cancel_before_active_df['hierarchy'] = np.where(cancel_before_active_df['hierarchy'] == 'ADOPT PRIOR STATUS HIERARCHY',\n",
    "                                                None,\n",
    "                                                cancel_before_active_df['hierarchy']\n",
    "                                               )\n",
    "\n",
    "cancel_before_active_df['hierarchy'] = cancel_before_active_df.groupby(['pj_id'], sort=False).apply(lambda x: x.hierarchy.ffill()).reset_index(drop=True)\n",
    "\n",
    "cancel_before_active_df.head()"
   ]
  },
  {
   "cell_type": "code",
   "execution_count": null,
   "metadata": {},
   "outputs": [],
   "source": [
    "cancel_before_active_df = cancel_before_active_df.drop(['active_step','active_status_date','active_cancel_diff','prior_status','prior_status_diff'], axis = 1)\n",
    "cancel_before_active_df.head()"
   ]
  },
  {
   "cell_type": "code",
   "execution_count": null,
   "metadata": {},
   "outputs": [],
   "source": [
    "final_dataframe = cancel_before_active_df.assign()"
   ]
  },
  {
   "cell_type": "code",
   "execution_count": null,
   "metadata": {},
   "outputs": [],
   "source": [
    "#final_dataframe.to_csv('ds_289_test_output.csv',index_label='index')"
   ]
  },
  {
   "cell_type": "markdown",
   "metadata": {},
   "source": [
    "### Publish"
   ]
  },
  {
   "cell_type": "code",
   "execution_count": null,
   "metadata": {},
   "outputs": [],
   "source": [
    "ds_contract = DatasetContract(\n",
    "    branch=transform.branch,\n",
    "    parent=transform.pharmaceutical_company,\n",
    "    child=transform.brand,\n",
    "    state=transform.state,\n",
    "    dataset='DS-289'\n",
    ")\n",
    "\n",
    "ds_contract.s3_path"
   ]
  },
  {
   "cell_type": "code",
   "execution_count": null,
   "metadata": {},
   "outputs": [],
   "source": [
    "prev_run_id = ds_contract.fetch().__metadata_run_id.max()\n",
    "prev_run_id"
   ]
  },
  {
   "cell_type": "code",
   "execution_count": null,
   "metadata": {},
   "outputs": [],
   "source": [
    "run_id = int(prev_run_id + 1)\n",
    "run_id"
   ]
  },
  {
   "cell_type": "code",
   "execution_count": null,
   "metadata": {},
   "outputs": [],
   "source": [
    "transform.publish_contract.key"
   ]
  },
  {
   "cell_type": "code",
   "execution_count": null,
   "metadata": {},
   "outputs": [],
   "source": [
    "transform.publish_contract.brand = 'ofev'\n",
    "transform.publish_contract.dataset = 'bi_sequencing_test'\n",
    "transform.publish_contract.state = 'metrics'\n",
    "transform.publish_contract.customer = 'bi'"
   ]
  },
  {
   "cell_type": "code",
   "execution_count": null,
   "metadata": {},
   "outputs": [],
   "source": [
    "transform.publish_contract.key"
   ]
  },
  {
   "cell_type": "code",
   "execution_count": null,
   "metadata": {},
   "outputs": [],
   "source": [
    "## that's it - just provide the final dataframe to the var final_dataframe and we take it from there\n",
    "transform.publish_contract.publish(final_dataframe, run_id)"
   ]
  },
  {
   "cell_type": "code",
   "execution_count": null,
   "metadata": {},
   "outputs": [],
   "source": [
    "df_fetch = ds_contract.fetch(filters=[{'partition':'__metadata_run_id','comparison':'==','values':[run_id]}])"
   ]
  },
  {
   "cell_type": "code",
   "execution_count": null,
   "metadata": {},
   "outputs": [],
   "source": [
    "df_fetch.head()"
   ]
  },
  {
   "cell_type": "code",
   "execution_count": null,
   "metadata": {},
   "outputs": [],
   "source": [
    "df_fetch.__metadata_run_id.drop_duplicates()"
   ]
  },
  {
   "cell_type": "code",
   "execution_count": null,
   "metadata": {},
   "outputs": [],
   "source": [
    "df_fetch.head()"
   ]
  },
  {
   "cell_type": "code",
   "execution_count": null,
   "metadata": {},
   "outputs": [],
   "source": []
  }
 ],
 "metadata": {
  "celltoolbar": "Tags",
  "kernelspec": {
   "display_name": "Python 3",
   "language": "python",
   "name": "python3"
  },
  "language_info": {
   "codemirror_mode": {
    "name": "ipython",
    "version": 3
   },
   "file_extension": ".py",
   "mimetype": "text/x-python",
   "name": "python",
   "nbconvert_exporter": "python",
   "pygments_lexer": "ipython3",
   "version": "3.6.8"
  }
 },
 "nbformat": 4,
 "nbformat_minor": 2
}
