{
 "cells": [
  {
   "cell_type": "code",
   "execution_count": 1,
   "metadata": {},
   "outputs": [
    {
     "name": "stdout",
     "output_type": "stream",
     "text": [
      "2019-07-16 15:35:41,719 - core.helpers.session_helper.SessionHelper - INFO - Creating session for dev environment...\n",
      "2019-07-16 15:35:41,743 - core.helpers.configuration_mocker.ConfigurationMocker - DEBUG - Generating administrator mocks.\n",
      "2019-07-16 15:35:41,778 - core.helpers.configuration_mocker.ConfigurationMocker - DEBUG - Done generating administrator mocks.\n",
      "2019-07-16 15:35:41,779 - core.helpers.configuration_mocker.ConfigurationMocker - DEBUG - Generating pharmaceutical company mocks.\n",
      "2019-07-16 15:35:41,784 - core.helpers.configuration_mocker.ConfigurationMocker - DEBUG - Done generating pharmaceutical company mocks.\n",
      "2019-07-16 15:35:41,786 - core.helpers.configuration_mocker.ConfigurationMocker - DEBUG - Generating brand mocks.\n",
      "2019-07-16 15:35:41,790 - core.helpers.configuration_mocker.ConfigurationMocker - DEBUG - Done generating brand mocks.\n",
      "2019-07-16 15:35:41,792 - core.helpers.configuration_mocker.ConfigurationMocker - DEBUG - Generating segment mocks.\n",
      "2019-07-16 15:35:41,797 - core.helpers.configuration_mocker.ConfigurationMocker - DEBUG - Done generating segment mocks.\n",
      "2019-07-16 15:35:41,798 - core.helpers.configuration_mocker.ConfigurationMocker - DEBUG - Generating pipeline type mocks.\n",
      "2019-07-16 15:35:41,800 - core.helpers.configuration_mocker.ConfigurationMocker - DEBUG - Done generating pipeline type mocks.\n",
      "2019-07-16 15:35:41,802 - core.helpers.configuration_mocker.ConfigurationMocker - DEBUG - Generating pipeline mocks.\n",
      "2019-07-16 15:35:41,807 - core.helpers.configuration_mocker.ConfigurationMocker - DEBUG - Done generating pipeline mocks.\n",
      "2019-07-16 15:35:41,809 - core.helpers.configuration_mocker.ConfigurationMocker - DEBUG - Generating pipeline state type mocks.\n",
      "2019-07-16 15:35:41,814 - core.helpers.configuration_mocker.ConfigurationMocker - DEBUG - Done generating pipeline state type mocks.\n",
      "2019-07-16 15:35:41,815 - core.helpers.configuration_mocker.ConfigurationMocker - DEBUG - Generating pipeline state mocks.\n",
      "2019-07-16 15:35:41,820 - core.helpers.configuration_mocker.ConfigurationMocker - DEBUG - Done generating pipeline state mocks.\n",
      "2019-07-16 15:35:41,822 - core.helpers.configuration_mocker.ConfigurationMocker - DEBUG - Generating tag mocks.\n",
      "2019-07-16 15:35:41,825 - core.helpers.configuration_mocker.ConfigurationMocker - DEBUG - Done generating tag mocks.\n",
      "2019-07-16 15:35:41,827 - core.helpers.configuration_mocker.ConfigurationMocker - DEBUG - Generating transformation_template mocks.\n",
      "2019-07-16 15:35:41,832 - core.helpers.configuration_mocker.ConfigurationMocker - DEBUG - Done generating transformation_template mocks.\n",
      "2019-07-16 15:35:41,833 - core.helpers.configuration_mocker.ConfigurationMocker - DEBUG - Generating bridge table mocks for transformation_templates <=> tags.\n",
      "2019-07-16 15:35:41,840 - core.helpers.configuration_mocker.ConfigurationMocker - DEBUG - Done generating transformation_templates_tags mocks.\n",
      "2019-07-16 15:35:41,841 - core.helpers.configuration_mocker.ConfigurationMocker - DEBUG - Generating transformation mocks.\n",
      "2019-07-16 15:35:41,845 - core.helpers.configuration_mocker.ConfigurationMocker - DEBUG - Done generating transformation mocks.\n",
      "2019-07-16 15:35:41,846 - core.helpers.configuration_mocker.ConfigurationMocker - DEBUG - Generating transformation_variables mocks\n",
      "2019-07-16 15:35:41,850 - core.helpers.configuration_mocker.ConfigurationMocker - DEBUG - Done generating transformation_variables mocks.\n",
      "2019-07-16 15:35:41,852 - core.helpers.configuration_mocker.ConfigurationMocker - DEBUG - Generating run_events mocks.\n",
      "2019-07-16 15:35:41,855 - core.helpers.configuration_mocker.ConfigurationMocker - DEBUG - Done generating run_events mocks.\n",
      "2019-07-16 15:35:41,857 - core.helpers.session_helper.SessionHelper - INFO - Done. Created dev session with mock data.\n"
     ]
    }
   ],
   "source": [
    "from core.helpers.session_helper import SessionHelper\n",
    "session = SessionHelper().session"
   ]
  },
  {
   "cell_type": "code",
   "execution_count": 2,
   "metadata": {},
   "outputs": [],
   "source": [
    "\"\"\"\n",
    "************ CONFIGURATION - PLEASE TOUCH **************\n",
    "Pipeline Builder configuration: creates configurations from variables specified here!!\n",
    "This cell will be off in production as configurations will come from the configuration postgres DB.\n",
    "\"\"\"\n",
    "# config vars: this dataset\n",
    "config_pharma = \"sun\" # the pharmaceutical company which owns {brand}\n",
    "config_brand = \"ilumya\" # the brand this pipeline operates on\n",
    "config_state = \"raw\" # the state this transform runs in\n",
    "config_name = \"fill_null_long_pat_id\" # the name of this transform, which is the name of this notebook without .ipynb\n",
    "\n",
    "# input vars: dataset to fetch. Recall that a contract published to S3 has a key format branch/pharma/brand/state/name\n",
    "input_pharma = \"sun\"\n",
    "input_brand = \"ilumya\"\n",
    "input_state = \"raw\"\n",
    "input_name = \"upstream\"\n",
    "input_branch = None # if None, input_branch is automagically set to your working branch"
   ]
  },
  {
   "cell_type": "code",
   "execution_count": 3,
   "metadata": {},
   "outputs": [
    {
     "name": "stdout",
     "output_type": "stream",
     "text": [
      "2019-07-16 15:35:41,919 - core.logging - DEBUG - Adding/getting mocks for specified configurations...\n",
      "2019-07-16 15:35:41,958 - core.logging - DEBUG - Done. Creating mock run event and committing results to configuration mocker.\n"
     ]
    }
   ],
   "source": [
    "\"\"\"\n",
    "************ SETUP - DON'T TOUCH **************\n",
    "Populating config mocker based on config parameters...\n",
    "\"\"\"\n",
    "import core.helpers.pipeline_builder as builder\n",
    "\n",
    "ids = builder.build(config_pharma, config_brand, config_state, config_name, session)\n",
    "transform_id = ids[0]\n",
    "run_id = ids[1]"
   ]
  },
  {
   "cell_type": "code",
   "execution_count": 4,
   "metadata": {},
   "outputs": [],
   "source": [
    "\"\"\"\n",
    "************ SETUP - DON'T TOUCH **************\n",
    "This section imports data from the configuration database\n",
    "and should not need to be altered or otherwise messed with. \n",
    "~~These are not the droids you are looking for~~\n",
    "\"\"\"\n",
    "from core.constants import BRANCH_NAME, ENV_BUCKET\n",
    "from core.helpers.session_helper import SessionHelper\n",
    "from core.models.configuration import Transformation\n",
    "from dataclasses import dataclass\n",
    "from core.dataset_contract import DatasetContract\n",
    "\n",
    "db_transform = session.query(Transformation).filter(Transformation.id == transform_id).one()\n",
    "\n",
    "@dataclass\n",
    "class DbTransform:\n",
    "    id: int = db_transform.id ## the instance id of the transform in the config app\n",
    "    name: str = db_transform.transformation_template.name ## the transform name in the config app\n",
    "    state: str = db_transform.pipeline_state.pipeline_state_type.name ## the pipeline state, one of raw, ingest, master, enhance, enrich, metrics, dimensional\n",
    "    branch:str = BRANCH_NAME ## the git branch for this execution \n",
    "    brand: str = db_transform.pipeline_state.pipeline.brand.name ## the pharma brand name\n",
    "    pharmaceutical_company: str = db_transform.pipeline_state.pipeline.brand.pharmaceutical_company.name # the pharma company name\n",
    "    publish_contract: DatasetContract = DatasetContract(branch=BRANCH_NAME,\n",
    "                            state=db_transform.pipeline_state.pipeline_state_type.name,\n",
    "                            parent=db_transform.pipeline_state.pipeline.brand.pharmaceutical_company.name,\n",
    "                            child=db_transform.pipeline_state.pipeline.brand.name,\n",
    "                            dataset=db_transform.transformation_template.name)\n"
   ]
  },
  {
   "cell_type": "markdown",
   "metadata": {},
   "source": [
    "# CORE Cartridge Notebook::[transform name here]\n",
    "![CORE Logo](assets/coreLogo.png) \n",
    "\n",
    "---\n",
    "## Keep in Mind\n",
    "Good Transforms Are...\n",
    "- **singular in purpose:** good transforms do one and only one thing, and handle all known cases for that thing. \n",
    "- **repeatable:** transforms should be written in a way that they can be run against the same dataset an infinate number of times and get the same result every time. \n",
    "- **easy to read:** 99 times out of 100, readable, clear code that runs a little slower is more valuable than a mess that runs quickly. \n",
    "- **No 'magic numbers':** if a variable or function is not instantly obvious as to what it is or does, without context, maybe consider renaming it."
   ]
  },
  {
   "cell_type": "markdown",
   "metadata": {},
   "source": [
    "## Workflow - how to use this notebook to make science\n",
    "#### Data Science\n",
    "1. **Document your transform.** Fill out the _description_ cell below describing what it is this transform does; this will appear in the configuration application where Ops will create, configure and update pipelines. \n",
    "1. **Define your config object.** Fill out the _configuration_ cell below the commented-out guide to define the variables you want ops to set in the configuration application (these will populate here for every pipeline). \n",
    "2. **Build your transformation logic.** Use the transformation cell to do that magic that you do. \n",
    "![caution](assets/cautionTape.png)"
   ]
  },
  {
   "cell_type": "markdown",
   "metadata": {},
   "source": [
    "### Configuration"
   ]
  },
  {
   "cell_type": "code",
   "execution_count": 5,
   "metadata": {},
   "outputs": [],
   "source": [
    "\"\"\" \n",
    "********* VARIABLES - PLEASE TOUCH ********* \n",
    "This section defines what you expect to get from the configuration application \n",
    "in a single \"transform\" object. Define the vars you need here, and comment inline to the right of them \n",
    "for all-in-one documentation. \n",
    "Engineering will build a production \"transform\" object for every pipeline that matches what you define here.\n",
    "\n",
    "@@@ FORMAT OF THE DATA CLASS IS: @@@ \n",
    "\n",
    "<variable_name>: <data_type> #<comment explaining what the value is to future us>\n",
    "\n",
    "e.g.\n",
    "\n",
    "class Transform(DbTransform):\n",
    "    some_ratio: float\n",
    "    site_name: str\n",
    "\n",
    "~~These ARE the droids you are looking for~~\n",
    "\"\"\"\n",
    "\n",
    "class Transform(DbTransform):\n",
    "    '''\n",
    "    YOUR properties go here!!\n",
    "    Variable properties should be assigned to the exact name of\n",
    "    the transformation as it appears in the Jupyter notebook filename.\n",
    "    '''\n",
    "    \n",
    "transform = Transform()"
   ]
  },
  {
   "cell_type": "markdown",
   "metadata": {},
   "source": [
    "1. If L-ID is null through history use SP-ID. If L-ID is null in past backfill with current L-ID\n",
    "\n",
    "2. If null and two L-ID use the most recent next status"
   ]
  },
  {
   "cell_type": "code",
   "execution_count": 6,
   "metadata": {},
   "outputs": [],
   "source": [
    "import pandas as pd\n",
    "\n",
    "pd.options.display.max_columns = 999"
   ]
  },
  {
   "cell_type": "code",
   "execution_count": 7,
   "metadata": {},
   "outputs": [],
   "source": [
    "run_id = 5\n",
    "\n",
    "from s3parq import fetch\n",
    "\n",
    "ingest_contract = DatasetContract(branch='sun-extract-prod-vars',\n",
    "                            parent='sun',\n",
    "                            child='ilumya',\n",
    "                            state='ingest',\n",
    "                            dataset='symphony_health_association_ingest_column_mapping')\n",
    "\n",
    "run_filter = [{\"partition\": \"__metadata_run_id\", \"comparison\": \"==\", \"values\": [run_id]}]\n",
    "\n",
    "df = fetch(bucket=ingest_contract.bucket, key=ingest_contract.key, filters=run_filter)"
   ]
  },
  {
   "cell_type": "code",
   "execution_count": 8,
   "metadata": {},
   "outputs": [],
   "source": [
    "datetime = '%Y%m%d'\n",
    "df.status_date = df.status_date.str[:8].astype(str)\n",
    "df.ref_date = df.ref_date.str[:8].astype(str)\n",
    "\n",
    "df.status_date = pd.to_datetime(df.status_date, format=datetime, errors='coerce')\n",
    "df.ref_date = pd.to_datetime(df.ref_date, format=datetime, errors='coerce')"
   ]
  },
  {
   "cell_type": "code",
   "execution_count": 9,
   "metadata": {},
   "outputs": [],
   "source": [
    "orig_df = df.copy()"
   ]
  },
  {
   "cell_type": "code",
   "execution_count": 10,
   "metadata": {},
   "outputs": [],
   "source": [
    "    null_dict = (\n",
    "        df[df.msa_patient_id.isna()]\n",
    "        [['pharm_code','pharmacy_id','medication']]\n",
    "        .dropna()\n",
    "        .drop_duplicates()\n",
    "        .reset_index(drop=True)\n",
    "        .to_dict(orient='index')\n",
    "    )"
   ]
  },
  {
   "cell_type": "code",
   "execution_count": 11,
   "metadata": {},
   "outputs": [],
   "source": [
    "# 172 Replace with SP-ID\n",
    "# 66 Backfill with next msa_patient_id\n",
    "# 330 Backfill and forward fill\n",
    "# 665 Change data to have different L-ID to test.\n",
    "\n",
    "key = 665\n",
    "\n",
    "fake_mask = (\n",
    "    (df.pharmacy_id == null_dict[key]['pharmacy_id'])\n",
    "    & (df.medication == null_dict[key]['medication'])\n",
    "    & (df.pharm_code == null_dict[key]['pharm_code'])\n",
    "    & (df.status_date >= '2019-01-18')\n",
    ")\n",
    "\n",
    "df.loc[fake_mask,'msa_patient_id'] = 2990003"
   ]
  },
  {
   "cell_type": "code",
   "execution_count": 12,
   "metadata": {},
   "outputs": [],
   "source": [
    "def fill_null_long_pat_id(df):\n",
    "    \n",
    "    null_dict = (\n",
    "        df[df.msa_patient_id.isna()]\n",
    "        [['pharm_code','pharmacy_id','medication']]\n",
    "        .dropna()\n",
    "        .drop_duplicates()\n",
    "        .reset_index(drop=True)\n",
    "        .to_dict(orient='index')\n",
    "    )\n",
    "    \n",
    "    #for verification use only\n",
    "    df['msa_patient_id_orig'] = df['msa_patient_id']\n",
    "    \n",
    "    for key in null_dict.keys():\n",
    "        mask = (\n",
    "            (df.pharmacy_id == null_dict[key]['pharmacy_id'])\n",
    "            & (df.medication == null_dict[key]['medication'])\n",
    "            & (df.pharm_code == null_dict[key]['pharm_code'])\n",
    "        )\n",
    "        \n",
    "        if (df.loc[mask,'msa_patient_id'].unique().shape[0] == 1) & (df.loc[mask,'msa_patient_id'].unique()[0] == None):\n",
    "            df.loc[mask,'msa_patient_id'] = (\n",
    "                null_dict[key]['pharmacy_id']\n",
    "            )\n",
    "        \n",
    "        else:\n",
    "            df.loc[mask,'msa_patient_id'] = (\n",
    "                df\n",
    "                .loc[mask,'msa_patient_id']\n",
    "                .bfill()\n",
    "                .ffill()\n",
    "            )\n",
    "\n",
    "    return df"
   ]
  },
  {
   "cell_type": "code",
   "execution_count": 13,
   "metadata": {},
   "outputs": [],
   "source": [
    "final_dataframe = fill_null_long_pat_id(df)"
   ]
  },
  {
   "cell_type": "code",
   "execution_count": 14,
   "metadata": {},
   "outputs": [
    {
     "data": {
      "text/html": [
       "<div>\n",
       "<style scoped>\n",
       "    .dataframe tbody tr th:only-of-type {\n",
       "        vertical-align: middle;\n",
       "    }\n",
       "\n",
       "    .dataframe tbody tr th {\n",
       "        vertical-align: top;\n",
       "    }\n",
       "\n",
       "    .dataframe thead th {\n",
       "        text-align: right;\n",
       "    }\n",
       "</style>\n",
       "<table border=\"1\" class=\"dataframe\">\n",
       "  <thead>\n",
       "    <tr style=\"text-align: right;\">\n",
       "      <th></th>\n",
       "      <th>pharmacy_id</th>\n",
       "      <th>medication</th>\n",
       "      <th>pharm_code</th>\n",
       "      <th>msa_patient_id</th>\n",
       "      <th>msa_patient_id_orig</th>\n",
       "    </tr>\n",
       "  </thead>\n",
       "  <tbody>\n",
       "    <tr>\n",
       "      <th>382</th>\n",
       "      <td>28086554</td>\n",
       "      <td>ILUMYA</td>\n",
       "      <td>ACCREDO</td>\n",
       "      <td>28086554</td>\n",
       "      <td>None</td>\n",
       "    </tr>\n",
       "    <tr>\n",
       "      <th>404</th>\n",
       "      <td>28086554</td>\n",
       "      <td>ILUMYA</td>\n",
       "      <td>ACCREDO</td>\n",
       "      <td>28086554</td>\n",
       "      <td>None</td>\n",
       "    </tr>\n",
       "    <tr>\n",
       "      <th>412</th>\n",
       "      <td>28086554</td>\n",
       "      <td>ILUMYA</td>\n",
       "      <td>ACCREDO</td>\n",
       "      <td>28086554</td>\n",
       "      <td>None</td>\n",
       "    </tr>\n",
       "    <tr>\n",
       "      <th>431</th>\n",
       "      <td>28086554</td>\n",
       "      <td>ILUMYA</td>\n",
       "      <td>ACCREDO</td>\n",
       "      <td>28086554</td>\n",
       "      <td>None</td>\n",
       "    </tr>\n",
       "    <tr>\n",
       "      <th>473</th>\n",
       "      <td>28086554</td>\n",
       "      <td>ILUMYA</td>\n",
       "      <td>ACCREDO</td>\n",
       "      <td>28086554</td>\n",
       "      <td>None</td>\n",
       "    </tr>\n",
       "    <tr>\n",
       "      <th>483</th>\n",
       "      <td>28086554</td>\n",
       "      <td>ILUMYA</td>\n",
       "      <td>ACCREDO</td>\n",
       "      <td>28086554</td>\n",
       "      <td>None</td>\n",
       "    </tr>\n",
       "    <tr>\n",
       "      <th>510</th>\n",
       "      <td>28086554</td>\n",
       "      <td>ILUMYA</td>\n",
       "      <td>ACCREDO</td>\n",
       "      <td>28086554</td>\n",
       "      <td>None</td>\n",
       "    </tr>\n",
       "  </tbody>\n",
       "</table>\n",
       "</div>"
      ],
      "text/plain": [
       "    pharmacy_id medication pharm_code msa_patient_id msa_patient_id_orig\n",
       "382    28086554     ILUMYA    ACCREDO       28086554                None\n",
       "404    28086554     ILUMYA    ACCREDO       28086554                None\n",
       "412    28086554     ILUMYA    ACCREDO       28086554                None\n",
       "431    28086554     ILUMYA    ACCREDO       28086554                None\n",
       "473    28086554     ILUMYA    ACCREDO       28086554                None\n",
       "483    28086554     ILUMYA    ACCREDO       28086554                None\n",
       "510    28086554     ILUMYA    ACCREDO       28086554                None"
      ]
     },
     "execution_count": 14,
     "metadata": {},
     "output_type": "execute_result"
    }
   ],
   "source": [
    "key = 172\n",
    "mask = (\n",
    "    (df.pharmacy_id == null_dict[key]['pharmacy_id'])\n",
    "    & (df.medication == null_dict[key]['medication'])\n",
    "    & (df.pharm_code == null_dict[key]['pharm_code'])\n",
    ")\n",
    "\n",
    "final_dataframe.loc[mask,:][['pharmacy_id','medication','pharm_code','msa_patient_id','msa_patient_id_orig']]"
   ]
  },
  {
   "cell_type": "code",
   "execution_count": 15,
   "metadata": {},
   "outputs": [
    {
     "data": {
      "text/html": [
       "<div>\n",
       "<style scoped>\n",
       "    .dataframe tbody tr th:only-of-type {\n",
       "        vertical-align: middle;\n",
       "    }\n",
       "\n",
       "    .dataframe tbody tr th {\n",
       "        vertical-align: top;\n",
       "    }\n",
       "\n",
       "    .dataframe thead th {\n",
       "        text-align: right;\n",
       "    }\n",
       "</style>\n",
       "<table border=\"1\" class=\"dataframe\">\n",
       "  <thead>\n",
       "    <tr style=\"text-align: right;\">\n",
       "      <th></th>\n",
       "      <th>pharmacy_id</th>\n",
       "      <th>medication</th>\n",
       "      <th>pharm_code</th>\n",
       "      <th>msa_patient_id</th>\n",
       "      <th>msa_patient_id_orig</th>\n",
       "    </tr>\n",
       "  </thead>\n",
       "  <tbody>\n",
       "    <tr>\n",
       "      <th>910</th>\n",
       "      <td>422355420</td>\n",
       "      <td>YONSA 125MG TAB</td>\n",
       "      <td>BRV</td>\n",
       "      <td>2990002</td>\n",
       "      <td>None</td>\n",
       "    </tr>\n",
       "    <tr>\n",
       "      <th>933</th>\n",
       "      <td>422355420</td>\n",
       "      <td>YONSA 125MG TAB</td>\n",
       "      <td>BRV</td>\n",
       "      <td>2990002</td>\n",
       "      <td>2990002</td>\n",
       "    </tr>\n",
       "    <tr>\n",
       "      <th>934</th>\n",
       "      <td>422355420</td>\n",
       "      <td>YONSA 125MG TAB</td>\n",
       "      <td>BRV</td>\n",
       "      <td>2990003</td>\n",
       "      <td>None</td>\n",
       "    </tr>\n",
       "    <tr>\n",
       "      <th>986</th>\n",
       "      <td>422355420</td>\n",
       "      <td>YONSA 125MG TAB</td>\n",
       "      <td>BRV</td>\n",
       "      <td>2990003</td>\n",
       "      <td>2990003</td>\n",
       "    </tr>\n",
       "    <tr>\n",
       "      <th>1011</th>\n",
       "      <td>422355420</td>\n",
       "      <td>YONSA 125MG TAB</td>\n",
       "      <td>BRV</td>\n",
       "      <td>2990003</td>\n",
       "      <td>2990003</td>\n",
       "    </tr>\n",
       "    <tr>\n",
       "      <th>1193</th>\n",
       "      <td>422355420</td>\n",
       "      <td>YONSA 125MG TAB</td>\n",
       "      <td>BRV</td>\n",
       "      <td>2990003</td>\n",
       "      <td>2990003</td>\n",
       "    </tr>\n",
       "    <tr>\n",
       "      <th>1253</th>\n",
       "      <td>422355420</td>\n",
       "      <td>YONSA 125MG TAB</td>\n",
       "      <td>BRV</td>\n",
       "      <td>2990003</td>\n",
       "      <td>2990003</td>\n",
       "    </tr>\n",
       "  </tbody>\n",
       "</table>\n",
       "</div>"
      ],
      "text/plain": [
       "     pharmacy_id       medication pharm_code msa_patient_id  \\\n",
       "910    422355420  YONSA 125MG TAB        BRV        2990002   \n",
       "933    422355420  YONSA 125MG TAB        BRV        2990002   \n",
       "934    422355420  YONSA 125MG TAB        BRV        2990003   \n",
       "986    422355420  YONSA 125MG TAB        BRV        2990003   \n",
       "1011   422355420  YONSA 125MG TAB        BRV        2990003   \n",
       "1193   422355420  YONSA 125MG TAB        BRV        2990003   \n",
       "1253   422355420  YONSA 125MG TAB        BRV        2990003   \n",
       "\n",
       "     msa_patient_id_orig  \n",
       "910                 None  \n",
       "933              2990002  \n",
       "934                 None  \n",
       "986              2990003  \n",
       "1011             2990003  \n",
       "1193             2990003  \n",
       "1253             2990003  "
      ]
     },
     "execution_count": 15,
     "metadata": {},
     "output_type": "execute_result"
    }
   ],
   "source": [
    "key = 665\n",
    "mask = (\n",
    "    (df.pharmacy_id == null_dict[key]['pharmacy_id'])\n",
    "    & (df.medication == null_dict[key]['medication'])\n",
    "    & (df.pharm_code == null_dict[key]['pharm_code'])\n",
    ")\n",
    "\n",
    "final_dataframe.loc[mask,:][['pharmacy_id','medication','pharm_code','msa_patient_id','msa_patient_id_orig']]"
   ]
  },
  {
   "cell_type": "code",
   "execution_count": 16,
   "metadata": {},
   "outputs": [
    {
     "data": {
      "text/html": [
       "<div>\n",
       "<style scoped>\n",
       "    .dataframe tbody tr th:only-of-type {\n",
       "        vertical-align: middle;\n",
       "    }\n",
       "\n",
       "    .dataframe tbody tr th {\n",
       "        vertical-align: top;\n",
       "    }\n",
       "\n",
       "    .dataframe thead th {\n",
       "        text-align: right;\n",
       "    }\n",
       "</style>\n",
       "<table border=\"1\" class=\"dataframe\">\n",
       "  <thead>\n",
       "    <tr style=\"text-align: right;\">\n",
       "      <th></th>\n",
       "      <th>pharmacy_id</th>\n",
       "      <th>medication</th>\n",
       "      <th>pharm_code</th>\n",
       "      <th>msa_patient_id</th>\n",
       "      <th>msa_patient_id_orig</th>\n",
       "    </tr>\n",
       "  </thead>\n",
       "  <tbody>\n",
       "    <tr>\n",
       "      <th>849</th>\n",
       "      <td>28169642</td>\n",
       "      <td>ILUMYA</td>\n",
       "      <td>ACCREDO</td>\n",
       "      <td>3180004</td>\n",
       "      <td>None</td>\n",
       "    </tr>\n",
       "    <tr>\n",
       "      <th>922</th>\n",
       "      <td>28169642</td>\n",
       "      <td>ILUMYA</td>\n",
       "      <td>ACCREDO</td>\n",
       "      <td>3180004</td>\n",
       "      <td>3180004</td>\n",
       "    </tr>\n",
       "    <tr>\n",
       "      <th>976</th>\n",
       "      <td>28169642</td>\n",
       "      <td>ILUMYA</td>\n",
       "      <td>ACCREDO</td>\n",
       "      <td>3180004</td>\n",
       "      <td>3180004</td>\n",
       "    </tr>\n",
       "    <tr>\n",
       "      <th>1904</th>\n",
       "      <td>28169642</td>\n",
       "      <td>ILUMYA</td>\n",
       "      <td>ACCREDO</td>\n",
       "      <td>3180004</td>\n",
       "      <td>None</td>\n",
       "    </tr>\n",
       "  </tbody>\n",
       "</table>\n",
       "</div>"
      ],
      "text/plain": [
       "     pharmacy_id medication pharm_code msa_patient_id msa_patient_id_orig\n",
       "849     28169642     ILUMYA    ACCREDO        3180004                None\n",
       "922     28169642     ILUMYA    ACCREDO        3180004             3180004\n",
       "976     28169642     ILUMYA    ACCREDO        3180004             3180004\n",
       "1904    28169642     ILUMYA    ACCREDO        3180004                None"
      ]
     },
     "execution_count": 16,
     "metadata": {},
     "output_type": "execute_result"
    }
   ],
   "source": [
    "key = 330\n",
    "mask = (\n",
    "    (df.pharmacy_id == null_dict[key]['pharmacy_id'])\n",
    "    & (df.medication == null_dict[key]['medication'])\n",
    "    & (df.pharm_code == null_dict[key]['pharm_code'])\n",
    ")\n",
    "\n",
    "final_dataframe.loc[mask,:][['pharmacy_id','medication','pharm_code','msa_patient_id','msa_patient_id_orig']]"
   ]
  },
  {
   "cell_type": "code",
   "execution_count": 17,
   "metadata": {},
   "outputs": [],
   "source": [
    "## Please place your value assignments for development here!!\n",
    "## This cell will be turned off in production and Engineering will set to pull from the configuration application instead\n",
    "## For the last example, this could look like...\n",
    "## transform.some_ratio = 0.6\n",
    "## transform.site_name = \"WALGREENS\""
   ]
  },
  {
   "cell_type": "markdown",
   "metadata": {},
   "source": [
    "### Description\n",
    "What does this transformation do? be specific.\n",
    "\n",
    "![what does your transform do](assets/what.gif)"
   ]
  },
  {
   "cell_type": "markdown",
   "metadata": {},
   "source": [
    "Replaces Null values in Longitudinal Patient ID with either the SP-ID or with the most closest following Longitudinal Patient ID"
   ]
  },
  {
   "cell_type": "markdown",
   "metadata": {},
   "source": [
    "### Transformation"
   ]
  },
  {
   "cell_type": "markdown",
   "metadata": {},
   "source": [
    "\"\"\"\n",
    "************ FETCH DATA - TOUCH, BUT CAREFULLY **************\n",
    "This cell will be turned off in production, as the input_contract will be handled by the pipeline.\n",
    "\"\"\"\n",
    "\n",
    "if not input_branch:\n",
    "    input_branch = BRANCH_NAME\n",
    "input_contract = DatasetContract(branch=input_branch, state=input_state, parent=input_pharma, child=input_brand, dataset=input_name)\n",
    "run_filter = []\n",
    "# run_filter.append(dict(partition=\"run_id\", comparison=\"==\", values=[1]))\n",
    "# IF YOU HAVE PUBLISHED DATA MULTIPLE TIMES, uncomment the above line and change the int to the run_id to fetch.\n",
    "# Otherwise, you will have duplicate values in your fetched dataset!\n",
    "final_dataframe = input_contract.fetch(filters=run_filter)"
   ]
  },
  {
   "cell_type": "code",
   "execution_count": 18,
   "metadata": {},
   "outputs": [],
   "source": [
    "### Use the variables above to execute your transformation. the final output needs to be a variable named final_dataframe"
   ]
  },
  {
   "cell_type": "code",
   "execution_count": 19,
   "metadata": {},
   "outputs": [],
   "source": [
    "final_dataframe = final_dataframe.drop(labels=['msa_patient_id_orig'],axis=1)"
   ]
  },
  {
   "cell_type": "code",
   "execution_count": 20,
   "metadata": {},
   "outputs": [
    {
     "name": "stderr",
     "output_type": "stream",
     "text": [
      "test_nulls_removed (__main__.TestNotebook) ... FAIL\n",
      "test_shape_status (__main__.TestNotebook) ... ok\n",
      "\n",
      "======================================================================\n",
      "FAIL: test_nulls_removed (__main__.TestNotebook)\n",
      "----------------------------------------------------------------------\n",
      "Traceback (most recent call last):\n",
      "  File \"<ipython-input-20-1ff89f632f61>\", line 27, in test_nulls_removed\n",
      "    self.assertEqual(nulls_removed(final_dataframe),True)\n",
      "AssertionError: False != True\n",
      "\n",
      "----------------------------------------------------------------------\n",
      "Ran 2 tests in 0.011s\n",
      "\n",
      "FAILED (failures=1)\n"
     ]
    },
    {
     "data": {
      "text/plain": [
       "<unittest.main.TestProgram at 0x7f365085e908>"
      ]
     },
     "execution_count": 20,
     "metadata": {},
     "output_type": "execute_result"
    }
   ],
   "source": [
    "import unittest\n",
    "\n",
    "def shape_status(final_dataframe,orig_df):\n",
    "    \"\"\"\n",
    "    Make sure df shape doesn't change,\n",
    "    This is a test:\n",
    "    >>> shape_status(final_dataframe,orig_df)\n",
    "    True\n",
    "    \"\"\"\n",
    "    return final_dataframe.shape == orig_df.shape\n",
    "    \n",
    "def nulls_removed(final_dataframe):\n",
    "    \"\"\"\n",
    "    Make sure df does not contain Null Values\n",
    "    This is a test:\n",
    "    >>> shape_status(final_dataframe,orig_df)\n",
    "    True\n",
    "    \"\"\"\n",
    "    return final_dataframe[final_dataframe.msa_patient_id.isna()].shape[0] == 0\n",
    "\n",
    "class TestNotebook(unittest.TestCase):\n",
    "\n",
    "    def test_shape_status(self):\n",
    "        self.assertEqual(shape_status(final_dataframe,orig_df),True)\n",
    "    \n",
    "    def test_nulls_removed(self):\n",
    "        self.assertEqual(nulls_removed(final_dataframe),True)\n",
    "    \n",
    "unittest.main(argv=[''], verbosity=2, exit=False)"
   ]
  },
  {
   "cell_type": "markdown",
   "metadata": {},
   "source": [
    "### Publish"
   ]
  },
  {
   "cell_type": "markdown",
   "metadata": {},
   "source": [
    "## that's it - just provide the final dataframe to the var final_dataframe and we take it from there\n",
    "transform.publish_contract.publish(final_dataframe, run_id, session)\n",
    "session.close()"
   ]
  }
 ],
 "metadata": {
  "celltoolbar": "Tags",
  "kernelspec": {
   "display_name": "Python 3",
   "language": "python",
   "name": "python3"
  },
  "language_info": {
   "codemirror_mode": {
    "name": "ipython",
    "version": 3
   },
   "file_extension": ".py",
   "mimetype": "text/x-python",
   "name": "python",
   "nbconvert_exporter": "python",
   "pygments_lexer": "ipython3",
   "version": "3.6.8"
  }
 },
 "nbformat": 4,
 "nbformat_minor": 2
}
