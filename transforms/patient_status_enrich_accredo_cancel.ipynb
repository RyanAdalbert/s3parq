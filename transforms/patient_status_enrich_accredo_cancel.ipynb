{
 "cells": [
  {
   "cell_type": "markdown",
   "metadata": {},
   "source": [
    "# CORE Cartridge Notebook::Accredo Cancel Before Active\n",
    "![CORE Logo](assets/coreLogo.png) \n",
    "\n",
    "---\n",
    "## Keep in Mind\n",
    "Good Transforms Are...\n",
    "- **singular in purpose:** good transforms do one and only one thing, and handle all known cases for that thing. \n",
    "- **repeatable:** transforms should be written in a way that they can be run against the same dataset an infinate number of times and get the same result every time. \n",
    "- **easy to read:** 99 times out of 100, readable, clear code that runs a little slower is more valuable than a mess that runs quickly. \n",
    "- **No 'magic numbers':** if a variable or function is not instantly obvious as to what it is or does, without context, maybe consider renaming it."
   ]
  },
  {
   "cell_type": "markdown",
   "metadata": {},
   "source": [
    "## Workflow - how to use this notebook to make science\n",
    "#### Data Science\n",
    "1. **Document your transform.** Fill out the _description_ cell below describing what it is this transform does; this will appear in the configuration application where Ops will create, configure and update pipelines. \n",
    "1. **Define your config object.** Fill out the _configuration_ cell below the commented-out guide to define the variables you want ops to set in the configuration application (these will populate here for every pipeline). \n",
    "2. **Build your transformation logic.** Use the transformation cell to do that magic that you do. \n",
    "\n",
    "![caution](assets/cautionTape.png)"
   ]
  },
  {
   "cell_type": "markdown",
   "metadata": {},
   "source": [
    "### Description\n",
    "\n",
    "![what my transform does](assets/ds301_accredo_enrichment.png)"
   ]
  },
  {
   "cell_type": "markdown",
   "metadata": {},
   "source": [
    "### Configuration"
   ]
  },
  {
   "cell_type": "code",
   "execution_count": null,
   "metadata": {},
   "outputs": [],
   "source": [
    "from core.helpers.session_helper import SessionHelper\n",
    "session = SessionHelper().session\n",
    "\n",
    "import pandas as pd\n",
    "import numpy as np\n",
    "from datetime import datetime"
   ]
  },
  {
   "cell_type": "raw",
   "metadata": {},
   "source": [
    "\"\"\"\n",
    "************ CONFIGURATION - PLEASE TOUCH **************\n",
    "Pipeline Builder configuration: creates configurations from variables specified here!!\n",
    "This cell will be off in production as configurations will come from the configuration postgres DB.\n",
    "\"\"\"\n",
    "# config vars: this dataset\n",
    "config_pharma = \"alkermes\" # the pharmaceutical company which owns {brand}\n",
    "config_brand = \"vivitrol\" # the brand this pipeline operates on\n",
    "config_state = \"enrich\" # the state this transform runs in\n",
    "config_name = \"accredo_cancel_before_active\" # the name of this transform, which is the name of this notebook without .ipynb\n",
    "\n",
    "# input vars: dataset to fetch. Recall that a contract published to S3 has a key format branch/pharma/brand/state/name\n",
    "input_pharma = \"alkermes\"\n",
    "input_brand = \"vivitrol\"\n",
    "input_state = \"ingest\"\n",
    "input_name = \"patient_status_standardize_numbers\"\n",
    "input_branch = \"ds-321\" # if None, input_branch is automagically set to your working branch"
   ]
  },
  {
   "cell_type": "raw",
   "metadata": {},
   "source": [
    "\"\"\"\n",
    "************ SETUP - DON'T TOUCH **************\n",
    "Populating config mocker based on config parameters...\n",
    "\"\"\"\n",
    "import core.helpers.pipeline_builder as builder\n",
    "\n",
    "ids = builder.build(config_pharma, config_brand, config_state, config_name, session)\n",
    "transform_id = ids[0]\n",
    "run_id = ids[1]"
   ]
  },
  {
   "cell_type": "code",
   "execution_count": null,
   "metadata": {},
   "outputs": [],
   "source": [
    "\"\"\"\n",
    "************ SETUP - DON'T TOUCH **************\n",
    "This section imports data from the configuration database\n",
    "and should not need to be altered or otherwise messed with. \n",
    "~~These are not the droids you are looking for~~\n",
    "\"\"\"\n",
    "from core.constants import BRANCH_NAME, ENV_BUCKET\n",
    "from core.models.configuration import Transformation\n",
    "from dataclasses import dataclass\n",
    "from core.dataset_contract import DatasetContract\n",
    "\n",
    "db_transform = session.query(Transformation).filter(Transformation.id == transform_id).one()\n",
    "\n",
    "@dataclass\n",
    "class DbTransform:\n",
    "    id: int = db_transform.id ## the instance id of the transform in the config app\n",
    "    name: str = db_transform.transformation_template.name ## the transform name in the config app\n",
    "    state: str = db_transform.pipeline_state.pipeline_state_type.name ## the pipeline state, one of raw, ingest, master, enhance, enrich, metrics, dimensional\n",
    "    branch:str = BRANCH_NAME ## the git branch for this execution \n",
    "    brand: str = db_transform.pipeline_state.pipeline.brand.name ## the pharma brand name\n",
    "    pharmaceutical_company: str = db_transform.pipeline_state.pipeline.brand.pharmaceutical_company.name # the pharma company name\n",
    "    publish_contract: DatasetContract = DatasetContract(branch=BRANCH_NAME,\n",
    "                            state=db_transform.pipeline_state.pipeline_state_type.name,\n",
    "                            parent=db_transform.pipeline_state.pipeline.brand.pharmaceutical_company.name,\n",
    "                            child=db_transform.pipeline_state.pipeline.brand.name,\n",
    "                            dataset=db_transform.transformation_template.name)\n"
   ]
  },
  {
   "cell_type": "code",
   "execution_count": null,
   "metadata": {},
   "outputs": [],
   "source": [
    "\"\"\" \n",
    "********* VARIABLES - PLEASE TOUCH ********* \n",
    "This section defines what you expect to get from the configuration application \n",
    "in a single \"transform\" object. Define the vars you need here, and comment inline to the right of them \n",
    "for all-in-one documentation. \n",
    "Engineering will build a production \"transform\" object for every pipeline that matches what you define here.\n",
    "\n",
    "@@@ FORMAT OF THE DATA CLASS IS: @@@ \n",
    "\n",
    "<variable_name>: <data_type> #<comment explaining what the value is to future us>\n",
    "\n",
    "e.g.\n",
    "\n",
    "class Transform(DbTransform):\n",
    "    some_ratio: float\n",
    "    site_name: str\n",
    "\n",
    "~~These ARE the droids you are looking for~~\n",
    "\"\"\"\n",
    "\n",
    "class Transform(DbTransform):\n",
    "    '''\n",
    "    YOUR properties go here!!\n",
    "    Variable properties should be assigned to the exact name of\n",
    "    the transformation as it appears in the Jupyter notebook filename.\n",
    "    '''\n",
    "    pjh: str # Patient Journey Hierarchy column\n",
    "        \n",
    "    # Possible substatus values\n",
    "    pending_new: str # New substatus when status is 'PENDING' (NEW)\n",
    "    active_shipped: str# Shipment substatus when status is 'ACTIVE'\n",
    "    \n",
    "    # Possible PJH values\n",
    "    no_clarity: str # Final result of enrichment\n",
    "        \n",
    "    input_transform: str # Name of transform to input data from\n",
    "\n",
    "transform = Transform()"
   ]
  },
  {
   "cell_type": "code",
   "execution_count": null,
   "metadata": {},
   "outputs": [],
   "source": [
    "# Hardcoded transform properties\n",
    "\n",
    "# Columns\n",
    "transform.patient = 'longitudinal_patient_id'\n",
    "transform.pharm = 'pharmacy_name'\n",
    "transform.ref_date = 'referral_date'\n",
    "transform.status_date = 'status_date'\n",
    "transform.status = 'customer_status'\n",
    "transform.substatus = 'customer_status_description'\n",
    "transform.ic_status = 'customer_status'\n",
    "transform.ic_substatus = 'customer_status_description'\n",
    "transform.brand_col = 'brand'\n",
    "\n",
    "# Status values\n",
    "transform.pending = 'PENDING'\n",
    "transform.active = 'ACTIVE'\n",
    "transform.cancelled = 'CANCELLED'\n",
    "transform.discontinued = 'DISCONTINUED'\n",
    "\n",
    "# Transform values\n",
    "transform.no_clarity = 'NO STATUS CLARITY'\n",
    "transform.accredo = 'ACCREDO'"
   ]
  },
  {
   "cell_type": "markdown",
   "metadata": {},
   "source": [
    "### Transformation"
   ]
  },
  {
   "cell_type": "raw",
   "metadata": {},
   "source": [
    "\"\"\"\n",
    "************ FETCH DATA - TOUCH, BUT CAREFULLY **************\n",
    "This cell will be turned off in production, as the input_contract will be handled by the pipeline.\n",
    "\"\"\"\n",
    "\n",
    "if not input_branch:\n",
    "    input_branch = BRANCH_NAME\n",
    "input_contract = DatasetContract(branch=input_branch, state=input_state, parent=input_pharma, child=input_brand, dataset=input_name)\n",
    "run_filter = []\n",
    "run_filter.append(dict(partition=\"__metadata_run_id\", comparison=\"==\", values=[2]))\n",
    "# IF YOU HAVE PUBLISHED DATA MULTIPLE TIMES, uncomment the above line and change the int to the run_id to fetch.\n",
    "# Otherwise, you will have duplicate values in your fetched dataset!\n",
    "final_dataframe = input_contract.fetch(filters=run_filter)"
   ]
  },
  {
   "cell_type": "code",
   "execution_count": null,
   "metadata": {},
   "outputs": [],
   "source": [
    "### Retrieve current dataset from contract\n",
    "from core.dataset_diff import DatasetDiff\n",
    "\n",
    "diff = DatasetDiff(db_transform.id)\n",
    "df = diff.get_diff(transform_name=transform.input_transform, values=[run_id])"
   ]
  },
  {
   "cell_type": "code",
   "execution_count": null,
   "metadata": {},
   "outputs": [],
   "source": [
    "\n",
    "\n",
    "pd.options.display.max_columns=999\n",
    "\n",
    "df = final_dataframe.copy()\n",
    "\n",
    "df = (\n",
    "    df\n",
    "    .loc[:,\n",
    "        [transform.ref_date,\n",
    "         transform.brand_col,\n",
    "         transform.patient,\n",
    "         transform.pharm,\n",
    "         transform.status_date,\n",
    "         transform.status,\n",
    "         transform.substatus]\n",
    "        ]\n",
    "    .fillna('NONE')\n",
    "    .assign(**{\n",
    "        transform.status: lambda x:(\n",
    "            x[transform.status].str.upper()\n",
    "        ),\n",
    "        transform.substatus: lambda x:(\n",
    "            x[transform.substatus].str.upper()\n",
    "        )\n",
    "    })\n",
    "    .assign(**{\n",
    "        transform.status_date: lambda x:(\n",
    "            pd.to_datetime(\n",
    "                x[transform.status_date].str[:8].astype(str),\n",
    "                errors='coerce'\n",
    "        )),\n",
    "        transform.ref_date: lambda x:(\n",
    "            pd.to_datetime(\n",
    "                x[transform.ref_date].str[:8].astype(str),\n",
    "                errors='coerce'\n",
    "        )),\n",
    "        'min_status_date': lambda x:(\n",
    "            x.groupby([transform.patient, transform.pharm, transform.brand_col])[transform.status_date].transform(min)\n",
    "        )\n",
    "    })\n",
    "    .fillna(value={transform.ref_date: 'min_status_date'})\n",
    "    .drop(columns=['min_status_date'])\n",
    "    .drop_duplicates()\n",
    "    .sort_values(\n",
    "        [transform.patient, transform.pharm, transform.brand_col, transform.status_date]\n",
    "    )\n",
    ")\n",
    "\n",
    "df.loc[:, transform.pjh] = np.nan\n",
    "\n",
    "final_dataframe = df.copy()"
   ]
  },
  {
   "cell_type": "code",
   "execution_count": null,
   "metadata": {},
   "outputs": [],
   "source": [
    "# Preserve original data\n",
    "df = final_dataframe.copy()"
   ]
  },
  {
   "cell_type": "code",
   "execution_count": null,
   "metadata": {},
   "outputs": [],
   "source": [
    "# Sort and reset index to join on later\n",
    "df = (\n",
    "    df\n",
    "    .sort_values([\n",
    "        transform.patient,\n",
    "        transform.pharm,\n",
    "        transform.brand_col,\n",
    "        transform.status_date,\n",
    "        transform.ref_date,\n",
    "        transform.status\n",
    "    ])\n",
    "    .reset_index(drop=False)\n",
    ")"
   ]
  },
  {
   "cell_type": "code",
   "execution_count": null,
   "metadata": {},
   "outputs": [],
   "source": [
    "# Create secondary df to find the first active shipment date for\n",
    "# each patient journey\n",
    "min_shipped_df = (\n",
    "    df\n",
    "    .loc[\n",
    "        (df[transform.ic_status] == transform.active) &\n",
    "        (df[transform.ic_substatus] == transform.active_shipped)\n",
    "    ]\n",
    "    .groupby([transform.patient, transform.pharm, transform.brand_col])\n",
    "    [transform.status_date]\n",
    "    .min()\n",
    "    .reset_index()\n",
    "    .rename(columns={transform.status_date: 'first_shipped_date'})\n",
    ")"
   ]
  },
  {
   "cell_type": "code",
   "execution_count": null,
   "metadata": {},
   "outputs": [],
   "source": [
    "# Join to main df to get first active shipment date for every\n",
    "# patient that has one\n",
    "df = (\n",
    "    df\n",
    "    .merge(\n",
    "        min_shipped_df,\n",
    "        how='left'\n",
    "    )\n",
    ")"
   ]
  },
  {
   "cell_type": "code",
   "execution_count": null,
   "metadata": {},
   "outputs": [],
   "source": [
    "# Create a column that can be grouped on later to determine the\n",
    "# first date where a desired care occurs\n",
    "df = (\n",
    "    df\n",
    "    .assign(status_spree=(\n",
    "    ~(\n",
    "        # Check to make sure patient journey for row above is the same\n",
    "        (df[transform.patient].eq(df[transform.patient].shift(1))) &\n",
    "        (df[transform.pharm].eq(df[transform.pharm].shift(1))) &\n",
    "        (df[transform.brand_col].eq(df[transform.brand_col].shift(1))) &\n",
    "        # Check to make sure statuses in row above are the same\n",
    "        (df[transform.ic_status].eq(df[transform.ic_status].shift(1))) &\n",
    "        (df[transform.ic_substatus].eq(df[transform.ic_substatus].shift(1)))\n",
    "    )\n",
    "    ).cumsum())\n",
    ")"
   ]
  },
  {
   "cell_type": "code",
   "execution_count": null,
   "metadata": {},
   "outputs": [],
   "source": [
    "# Create column denoting the min status date of each spree\n",
    "df = (\n",
    "    df\n",
    "    .assign(min_status_date=lambda x:(\n",
    "        x.groupby('status_spree')[transform.status_date].transform(min)\n",
    "    ))\n",
    ")"
   ]
  },
  {
   "cell_type": "code",
   "execution_count": null,
   "metadata": {},
   "outputs": [],
   "source": [
    "# Create bool column to denote row being right above active shipment row\n",
    "df = (\n",
    "    df\n",
    "    .assign(above_shipment_step=lambda x:(\n",
    "        # Check to make sure patient journey in row below is the same\n",
    "        (x[transform.patient].eq(x[transform.patient].shift(-1))) &\n",
    "        (x[transform.pharm].eq(x[transform.pharm].shift(-1))) &\n",
    "        (x[transform.brand_col].eq(x[transform.brand_col].shift(-1))) &\n",
    "        # Check to make sure status in row below is active/shipped\n",
    "        (x[transform.ic_status].shift(-1) == transform.active) &\n",
    "        (x[transform.ic_substatus].shift(-1) == transform.active_shipped)\n",
    "    ))\n",
    ")\n",
    "\n",
    "# Pick out sprees that are above a shipment\n",
    "above_shipment_series = df.groupby('status_spree').above_shipment_step.any()\n",
    "\n",
    "# Assign True to those sprees\n",
    "df = (\n",
    "    df\n",
    "    .assign(above_shipment=lambda x:(\n",
    "        x.status_spree.isin(above_shipment_series[above_shipment_series].index)\n",
    "    ))\n",
    ")\n"
   ]
  },
  {
   "cell_type": "code",
   "execution_count": null,
   "metadata": {},
   "outputs": [],
   "source": [
    "# Denote how many days between min_status_date and first_shipped_date\n",
    "df = (\n",
    "    df\n",
    "    .assign(day_diff=(df['min_status_date'] - df['first_shipped_date']))\n",
    ")"
   ]
  },
  {
   "cell_type": "code",
   "execution_count": null,
   "metadata": {},
   "outputs": [],
   "source": [
    "df.loc[\n",
    "    (df[transform.pharm] == transform.accredo) &\n",
    "    # Negative for day diff, because we only want status sprees that\n",
    "    # occur BEFORE the first active shipment\n",
    "    (df.day_diff < np.timedelta64(-2, 'D')) &\n",
    "    (df.above_shipment == True) &\n",
    "    (\n",
    "        (df[transform.ic_status].isin([transform.cancelled, transform.discontinued])) |\n",
    "        (\n",
    "            (df[transform.ic_status] == transform.pending) &\n",
    "            (df[transform.ic_substatus] == transform.pending_new)\n",
    "        )\n",
    "    ),\n",
    "    # Change pjh to 'NO STATUS CLARITY' for the records that pass\n",
    "    transform.pjh\n",
    "] = transform.no_clarity"
   ]
  },
  {
   "cell_type": "code",
   "execution_count": null,
   "metadata": {},
   "outputs": [],
   "source": [
    "# Format the final dataframe ready for publication\n",
    "final_dataframe = (\n",
    "    df\n",
    "    # Preserve original index\n",
    "    .set_index('index')\n",
    "    .sort_index()\n",
    "    # Drop calculation columns\n",
    "    .drop(columns=[\n",
    "        'first_shipped_date',\n",
    "        'status_spree',\n",
    "        'min_status_date',\n",
    "        'above_shipment_step',\n",
    "        'above_shipment',\n",
    "        'day_diff'\n",
    "    ])\n",
    ")"
   ]
  },
  {
   "cell_type": "markdown",
   "metadata": {},
   "source": [
    "### Publish"
   ]
  },
  {
   "cell_type": "code",
   "execution_count": null,
   "metadata": {},
   "outputs": [],
   "source": [
    "## that's it - just provide the final dataframe to the var final_dataframe and we take it from there\n",
    "transform.publish_contract.publish(final_dataframe, run_id, session)\n",
    "session.close()"
   ]
  }
 ],
 "metadata": {
  "celltoolbar": "Tags",
  "kernelspec": {
   "display_name": "Python 3",
   "language": "python",
   "name": "python3"
  },
  "language_info": {
   "codemirror_mode": {
    "name": "ipython",
    "version": 3
   },
   "file_extension": ".py",
   "mimetype": "text/x-python",
   "name": "python",
   "nbconvert_exporter": "python",
   "pygments_lexer": "ipython3",
   "version": "3.6.8"
  }
 },
 "nbformat": 4,
 "nbformat_minor": 2
}
