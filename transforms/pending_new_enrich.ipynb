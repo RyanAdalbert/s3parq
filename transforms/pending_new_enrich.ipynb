{
 "cells": [
  {
   "cell_type": "code",
   "execution_count": 2,
   "metadata": {},
   "outputs": [
    {
     "name": "stdout",
     "output_type": "stream",
     "text": [
      "2019-07-31 13:39:15,453 - core.helpers.session_helper.SessionHelper - INFO - Creating session for dev environment...\n",
      "2019-07-31 13:39:15,498 - core.helpers.configuration_mocker.ConfigurationMocker - DEBUG - Generating administrator mocks.\n",
      "2019-07-31 13:39:15,505 - core.helpers.configuration_mocker.ConfigurationMocker - DEBUG - Done generating administrator mocks.\n",
      "2019-07-31 13:39:15,506 - core.helpers.configuration_mocker.ConfigurationMocker - DEBUG - Generating pharmaceutical company mocks.\n",
      "2019-07-31 13:39:15,509 - core.helpers.configuration_mocker.ConfigurationMocker - DEBUG - Done generating pharmaceutical company mocks.\n",
      "2019-07-31 13:39:15,510 - core.helpers.configuration_mocker.ConfigurationMocker - DEBUG - Generating brand mocks.\n",
      "2019-07-31 13:39:15,516 - core.helpers.configuration_mocker.ConfigurationMocker - DEBUG - Done generating brand mocks.\n",
      "2019-07-31 13:39:15,517 - core.helpers.configuration_mocker.ConfigurationMocker - DEBUG - Generating segment mocks.\n",
      "2019-07-31 13:39:15,521 - core.helpers.configuration_mocker.ConfigurationMocker - DEBUG - Done generating segment mocks.\n",
      "2019-07-31 13:39:15,523 - core.helpers.configuration_mocker.ConfigurationMocker - DEBUG - Generating pipeline type mocks.\n",
      "2019-07-31 13:39:15,527 - core.helpers.configuration_mocker.ConfigurationMocker - DEBUG - Done generating pipeline type mocks.\n",
      "2019-07-31 13:39:15,528 - core.helpers.configuration_mocker.ConfigurationMocker - DEBUG - Generating pipeline mocks.\n",
      "2019-07-31 13:39:15,537 - core.helpers.configuration_mocker.ConfigurationMocker - DEBUG - Done generating pipeline mocks.\n",
      "2019-07-31 13:39:15,539 - core.helpers.configuration_mocker.ConfigurationMocker - DEBUG - Generating pipeline state type mocks.\n",
      "2019-07-31 13:39:15,542 - core.helpers.configuration_mocker.ConfigurationMocker - DEBUG - Done generating pipeline state type mocks.\n",
      "2019-07-31 13:39:15,543 - core.helpers.configuration_mocker.ConfigurationMocker - DEBUG - Generating pipeline state mocks.\n",
      "2019-07-31 13:39:15,549 - core.helpers.configuration_mocker.ConfigurationMocker - DEBUG - Done generating pipeline state mocks.\n",
      "2019-07-31 13:39:15,550 - core.helpers.configuration_mocker.ConfigurationMocker - DEBUG - Generating tag mocks.\n",
      "2019-07-31 13:39:15,555 - core.helpers.configuration_mocker.ConfigurationMocker - DEBUG - Done generating tag mocks.\n",
      "2019-07-31 13:39:15,556 - core.helpers.configuration_mocker.ConfigurationMocker - DEBUG - Generating transformation_template mocks.\n",
      "2019-07-31 13:39:15,561 - core.helpers.configuration_mocker.ConfigurationMocker - DEBUG - Done generating transformation_template mocks.\n",
      "2019-07-31 13:39:15,562 - core.helpers.configuration_mocker.ConfigurationMocker - DEBUG - Generating bridge table mocks for transformation_templates <=> tags.\n",
      "2019-07-31 13:39:15,566 - core.helpers.configuration_mocker.ConfigurationMocker - DEBUG - Done generating transformation_templates_tags mocks.\n",
      "2019-07-31 13:39:15,571 - core.helpers.configuration_mocker.ConfigurationMocker - DEBUG - Generating transformation mocks.\n",
      "2019-07-31 13:39:15,575 - core.helpers.configuration_mocker.ConfigurationMocker - DEBUG - Done generating transformation mocks.\n",
      "2019-07-31 13:39:15,576 - core.helpers.configuration_mocker.ConfigurationMocker - DEBUG - Generating transformation_variables mocks\n",
      "2019-07-31 13:39:15,579 - core.helpers.configuration_mocker.ConfigurationMocker - DEBUG - Done generating transformation_variables mocks.\n",
      "2019-07-31 13:39:15,581 - core.helpers.configuration_mocker.ConfigurationMocker - DEBUG - Generating run_events mocks.\n",
      "2019-07-31 13:39:15,584 - core.helpers.configuration_mocker.ConfigurationMocker - DEBUG - Done generating run_events mocks.\n",
      "2019-07-31 13:39:15,587 - core.helpers.session_helper.SessionHelper - INFO - Done. Created dev session with mock data.\n"
     ]
    }
   ],
   "source": [
    "from core.helpers.session_helper import SessionHelper\n",
    "session = SessionHelper().session"
   ]
  },
  {
   "cell_type": "code",
   "execution_count": 3,
   "metadata": {},
   "outputs": [],
   "source": [
    "\"\"\"\n",
    "************ CONFIGURATION - PLEASE TOUCH **************\n",
    "Pipeline Builder configuration: creates configurations from variables specified here!!\n",
    "This cell will be off in production as configurations will come from the configuration postgres DB.\n",
    "\"\"\"\n",
    "# config vars: this dataset\n",
    "config_pharma = \"sun\" # the pharmaceutical company which owns {brand}\n",
    "config_brand = \"ilumya\" # the brand this pipeline operates on\n",
    "config_state = \"enrich\" # the state this transform runs in\n",
    "config_name = \"pending_new_enrich\" # the name of this transform, which is the name of this notebook without .ipynb\n",
    "\n",
    "# input vars: dataset to fetch. Recall that a contract published to S3 has a key format branch/pharma/brand/state/name\n",
    "input_pharma= \"sun\"\n",
    "input_brand = \"ilumya\"\n",
    "input_state = \"enrich\"\n",
    "input_name = \"upstream\"\n",
    "input_branch = None # if None, input_branch is automagically set to your working branch"
   ]
  },
  {
   "cell_type": "code",
   "execution_count": 4,
   "metadata": {},
   "outputs": [
    {
     "name": "stdout",
     "output_type": "stream",
     "text": [
      "2019-07-31 13:39:25,300 - core.logging - DEBUG - Adding/getting mocks for specified configurations...\n",
      "2019-07-31 13:39:25,350 - core.logging - DEBUG - Done. Creating mock run event and committing results to configuration mocker.\n"
     ]
    }
   ],
   "source": [
    "\"\"\"\n",
    "************ SETUP - DON'T TOUCH **************\n",
    "Populating config mocker based on config parameters...\n",
    "\"\"\"\n",
    "import core.helpers.pipeline_builder as builder\n",
    "\n",
    "ids = builder.build(config_pharma, config_brand, config_state, config_name, session)\n",
    "transform_id = ids[0]\n",
    "run_id = ids[1]"
   ]
  },
  {
   "cell_type": "code",
   "execution_count": 5,
   "metadata": {},
   "outputs": [],
   "source": [
    "\"\"\"\n",
    "************ SETUP - DON'T TOUCH **************\n",
    "This section imports data from the configuration database\n",
    "and should not need to be altered or otherwise messed with. \n",
    "~~These are not the droids you are looking for~~\n",
    "\"\"\"\n",
    "from core.constants import BRANCH_NAME, ENV_BUCKET\n",
    "from core.helpers.session_helper import SessionHelper\n",
    "from core.models.configuration import Transformation\n",
    "from dataclasses import dataclass\n",
    "from core.dataset_contract import DatasetContract\n",
    "\n",
    "db_transform = session.query(Transformation).filter(Transformation.id == transform_id).one()\n",
    "\n",
    "@dataclass\n",
    "class DbTransform:\n",
    "    id: int = db_transform.id ## the instance id of the transform in the config app\n",
    "    name: str = db_transform.transformation_template.name ## the transform name in the config app\n",
    "    state: str = db_transform.pipeline_state.pipeline_state_type.name ## the pipeline state, one of raw, ingest, master, enhance, enrich, metrics, dimensional\n",
    "    branch:str = BRANCH_NAME ## the git branch for this execution \n",
    "    brand: str = db_transform.pipeline_state.pipeline.brand.name ## the pharma brand name\n",
    "    pharmaceutical_company: str = db_transform.pipeline_state.pipeline.brand.pharmaceutical_company.name # the pharma company name\n",
    "    publish_contract: DatasetContract = DatasetContract(branch=BRANCH_NAME,\n",
    "                            state=db_transform.pipeline_state.pipeline_state_type.name,\n",
    "                            parent=db_transform.pipeline_state.pipeline.brand.pharmaceutical_company.name,\n",
    "                            child=db_transform.pipeline_state.pipeline.brand.name,\n",
    "                            dataset=db_transform.transformation_template.name)\n"
   ]
  },
  {
   "cell_type": "markdown",
   "metadata": {},
   "source": [
    "# CORE Cartridge Notebook::[Pending New Enrichment]\n",
    "![CORE Logo](assets/coreLogo.png) \n",
    "\n",
    "---\n",
    "## Keep in Mind\n",
    "Good Transforms Are...\n",
    "- **singular in purpose:** good transforms do one and only one thing, and handle all known cases for that thing. \n",
    "- **repeatable:** transforms should be written in a way that they can be run against the same dataset an infinate number of times and get the same result every time. \n",
    "- **easy to read:** 99 times out of 100, readable, clear code that runs a little slower is more valuable than a mess that runs quickly. \n",
    "- **No 'magic numbers':** if a variable or function is not instantly obvious as to what it is or does, without context, maybe consider renaming it."
   ]
  },
  {
   "cell_type": "markdown",
   "metadata": {},
   "source": [
    "## Workflow - how to use this notebook to make science\n",
    "#### Data Science\n",
    "1. **Document your transform.** Fill out the _description_ cell below describing what it is this transform does; this will appear in the configuration application where Ops will create, configure and update pipelines. \n",
    "1. **Define your config object.** Fill out the _configuration_ cell below the commented-out guide to define the variables you want ops to set in the configuration application (these will populate here for every pipeline). \n",
    "2. **Build your transformation logic.** Use the transformation cell to do that magic that you do. \n",
    "![caution](assets/cautionTape.png)"
   ]
  },
  {
   "cell_type": "markdown",
   "metadata": {},
   "source": [
    "### Configuration"
   ]
  },
  {
   "cell_type": "code",
   "execution_count": 6,
   "metadata": {},
   "outputs": [],
   "source": [
    "\"\"\" \n",
    "********* VARIABLES - PLEASE TOUCH ********* \n",
    "This section defines what you expect to get from the configuration application \n",
    "in a single \"transform\" object. Define the vars you need here, and comment inline to the right of them \n",
    "for all-in-one documentation. \n",
    "Engineering will build a production \"transform\" object for every pipeline that matches what you define here.\n",
    "\n",
    "@@@ FORMAT OF THE DATA CLASS IS: @@@ \n",
    "\n",
    "<variable_name>: <data_type> #<comment explaining what the value is to future us>\n",
    "\n",
    "e.g.\n",
    "\n",
    "class Transform(DbTransform):\n",
    "    some_ratio: float\n",
    "    site_name: str\n",
    "\n",
    "~~These ARE the droids you are looking for~~\n",
    "\"\"\"\n",
    "\n",
    "class Transform(DbTransform):\n",
    "    '''\n",
    "    YOUR properties go here!!\n",
    "    Variable properties should be assigned to the exact name of\n",
    "    the transformation as it appears in the Jupyter notebook filename.\n",
    "    '''\n",
    "    trans_id: str\n",
    "    product: str\n",
    "    patient: str\n",
    "    pharm: str\n",
    "    status_date: str\n",
    "    ref_date: str\n",
    "    status: str\n",
    "    substatus: str\n",
    "    ic_status: str\n",
    "    ic_substatus: str\n",
    "    pending_status: str\n",
    "    active_status: str\n",
    "    cancelled_status: str\n",
    "    pending_new_substatus: str\n",
    "        \n",
    "    def load_clean_file(self, df):\n",
    "        # Convert dates to datetime format\n",
    "        df[self.status_date] = df[self.status_date].str[:8].astype(str)\n",
    "        df[self.ref_date] = df[self.ref_date].str[:8].astype(str)\n",
    "        \n",
    "        datetime = '%Y%m%d'\n",
    "        \n",
    "        df[self.status_date] = pd.to_datetime(df[self.status_date], format=datetime, errors='coerce')\n",
    "        df[self.ref_date] = pd.to_datetime(df[self.ref_date], format=datetime, errors='coerce')\n",
    "\n",
    "        ## Extract brand from medication\n",
    "        df[self.product] = df['medication'].apply(lambda x: x.split()[0].strip() if not pd.isnull(x) else x)\n",
    "\n",
    "        ## Convert status codes to uppercase\n",
    "        df[self.status] = df[self.status].str.upper()\n",
    "        df[self.substatus] = df[self.substatus].str.upper()\n",
    "        \n",
    "        return df\n",
    "    \n",
    "    def pending_new_enrichment(self, df, table_columns):\n",
    "\n",
    "        (\n",
    "            df\n",
    "            .sort_values(\n",
    "                by=[self.patient, self.pharm, self.product, self.status_date], \n",
    "                ascending=[True, True, True, True], inplace=True)\n",
    "        )\n",
    "\n",
    "        min_date_df = (\n",
    "            df\n",
    "            .groupby([self.patient, self.pharm, self.product])[self.status_date].min()\n",
    "            .reset_index()\n",
    "            .rename(columns={self.status_date: 'first_status_date'})\n",
    "        )\n",
    "        \n",
    "        df = pd.merge(df, min_date_df, how='left', \n",
    "                      on=[self.patient, self.pharm, self.product])\n",
    "        \n",
    "        min_ref_date_df = (\n",
    "            df\n",
    "            .groupby([self.patient, self.pharm, self.product])[self.ref_date].min()\n",
    "            .reset_index()\n",
    "            .rename(columns={self.ref_date: 'first_ref_date'})\n",
    "        )\n",
    "        \n",
    "        df = pd.merge(df, min_ref_date_df, how='left', \n",
    "                      on=[self.patient, self.pharm, self.product])\n",
    "        \n",
    "        (\n",
    "            df\n",
    "            .sort_values(\n",
    "                by=[self.patient, self.pharm, self.product, self.status_date], \n",
    "                ascending=[True, True, True, True], inplace=True)\n",
    "        )\n",
    "        \n",
    "        first_status = (\n",
    "            df\n",
    "            .groupby([self.pharm, self.product, self.patient])[self.status].first()\n",
    "            .reset_index()\n",
    "            .rename(columns={self.status: 'first_ic_status'})\n",
    "        )\n",
    "        \n",
    "        first_status['first_status_active_cancelled'] = np.where(\n",
    "            first_status['first_ic_status'].isin([self.active_status, self.cancelled_status]), 1, 0)\n",
    "        \n",
    "        df = pd.merge(df, first_status, how='left', \n",
    "                      on=[self.pharm, self.product, self.patient])\n",
    "        \n",
    "        pat_df = df.drop_duplicates(subset=[self.patient, self.pharm, self.product], keep='first')\n",
    "        \n",
    "        pat_df['Day_Diff'] = (pat_df['first_status_date'] - pat_df['first_ref_date']) / np.timedelta64(1, 'D')\n",
    "        pat_df = pat_df[[self.patient, self.pharm, self.product, 'Day_Diff']]\n",
    "        \n",
    "        df = pd.merge(df, pat_df, how='left', \n",
    "                      on=[self.pharm, self.product, self.patient])\n",
    "        to_enrich_df = df[((df['first_status_active_cancelled'] == 1)\n",
    "                          & (df['Day_Diff'] > 1))]\n",
    "        \n",
    "        to_enrich_df = to_enrich_df.drop_duplicates(subset=[self.patient, self.pharm, self.product])\n",
    "\n",
    "        to_enrich_df.loc[:, self.substatus] = self.pending_new_substatus\n",
    "        to_enrich_df.loc[:, self.status] = self.pending_status\n",
    "        #to_enrich_df.loc[:, self.ic_substatus] = self.pending_new_substatus\n",
    "        to_enrich_df.loc[:, 'heirarchy'] = 'No Status Clarity'\n",
    "        to_enrich_df.loc[:, self.status_date] = to_enrich_df['first_ref_date']\n",
    "        to_enrich_df.loc[:, self.ref_date] = to_enrich_df['first_ref_date']\n",
    "        to_enrich_df.loc[:, self.trans_id] = 'ic_' + to_enrich_df[self.trans_id].astype(str) + '_pn'\n",
    "        to_enrich_df.loc[:, 'enrichment'] = 'pending new'\n",
    "        to_enrich_df = to_enrich_df[table_columns]\n",
    "        df = df.append(to_enrich_df)\n",
    "        df = df[table_columns]\n",
    "        return (df)\n",
    "\n",
    "transform = Transform()"
   ]
  },
  {
   "cell_type": "code",
   "execution_count": 7,
   "metadata": {},
   "outputs": [],
   "source": [
    "## Please place your value assignments for development here!!\n",
    "## This cell will be turned off in production and Engineering will set to pull from the configuration application instead\n",
    "## For the last example, this could look like...\n",
    "## transform.some_ratio = 0.6\n",
    "## transform.site_name = \"WALGREENS\"\n",
    "if input_pharma == \"sun\":\n",
    "    transform.trans_id = 'pharm_transaction_id'\n",
    "    transform.patient = 'msa_patient_id'\n",
    "    transform.pharm = 'pharm_code'\n",
    "    transform.status_date = 'status_date'\n",
    "    transform.ref_date = 'ref_date'\n",
    "    transform.status =  'status_code'\n",
    "    transform.substatus =  'sub_status'\n",
    "else:\n",
    "    transform.trans_id = 'pmcTransactionId'\n",
    "    transform.patient = 'pmcPatientId'\n",
    "    transform.pharm = 'pharmName'\n",
    "    transform.status_date = 'statusDate'\n",
    "    transform.ref_date = 'refDate'\n",
    "    transform.status =  'statusCode'\n",
    "    transform.substatus =  'subStatus'\n",
    "transform.product = 'product'\n",
    "transform.ic_status = 'integrichain_status'\n",
    "transform.ic_substatus = 'integrichain_sub_status'\n",
    "transform.pending_status = 'PENDING'\n",
    "transform.active_status = 'ACTIVE'\n",
    "transform.cancelled_status = 'CANCELLED'\n",
    "transform.pending_new_substatus = 'NEW'"
   ]
  },
  {
   "cell_type": "markdown",
   "metadata": {},
   "source": [
    "### Description\n",
    "What does this transformation do? be specific.\n",
    "\n",
    "![what does your transform do](assets/what.gif)"
   ]
  },
  {
   "cell_type": "markdown",
   "metadata": {},
   "source": [
    "This transform handles the situations where the first status is active or cancelled and the first status date received exceeds the one day grace period. These instances are handled by making the first status date also the first referral date and making this new row a pending new status. Will finish with more rows than started with."
   ]
  },
  {
   "cell_type": "markdown",
   "metadata": {},
   "source": [
    "### Transformation"
   ]
  },
  {
   "cell_type": "code",
   "execution_count": 8,
   "metadata": {},
   "outputs": [
    {
     "name": "stdout",
     "output_type": "stream",
     "text": [
      "2019-07-31 13:39:34,253 - core.dataset_contract.DatasetContract - INFO - Fetching dataframe from s3 location s3://ichain-dev/finish_ikes_branch/sun/ilumya/enrich/upstream.\n"
     ]
    }
   ],
   "source": [
    "\"\"\"\n",
    "************ FETCH DATA - TOUCH, BUT CAREFULLY **************\n",
    "This cell will be turned off in production, as the input_contract will be handled by the pipeline.\n",
    "\"\"\"\n",
    "\n",
    "if not input_branch:\n",
    "    input_branch = BRANCH_NAME\n",
    "input_contract = DatasetContract(branch=input_branch, state=input_state, parent=input_pharma, child=input_brand, dataset=input_name)\n",
    "run_filter = []\n",
    "# run_filter.append(dict(partition=\"run_id\", comparison=\"==\", values=[1]))\n",
    "# IF YOU HAVE PUBLISHED DATA MULTIPLE TIMES, uncomment the above line and change the int to the run_id to fetch.\n",
    "# Otherwise, you will have duplicate values in your fetched dataset!\n",
    "final_dataframe = input_contract.fetch(filters=run_filter)"
   ]
  },
  {
   "cell_type": "code",
   "execution_count": 9,
   "metadata": {},
   "outputs": [],
   "source": [
    "import numpy as np\n",
    "import pyarrow as pa\n",
    "import pyarrow.parquet as pq\n",
    "import pandas as pd\n",
    "from s3fs import S3FileSystem\n",
    "from core.secret import Secret\n",
    "from s3parq import fetch\n",
    "from random import getrandbits\n",
    "\n",
    "run_id = 4\n",
    "\n",
    "ingest_contract = DatasetContract(\n",
    "    branch='sun-extract-validation',\n",
    "    parent='sun',\n",
    "    child='ilumya',\n",
    "    state='ingest',\n",
    "    dataset='symphony_health_association_ingest_column_mapping'\n",
    ")\n",
    "\n",
    "run_filter = [{'partition':'__metadata_run_id', 'comparison':'==', 'values':[run_id]}]\n",
    "\n",
    "df = fetch(bucket=ingest_contract.bucket, key=ingest_contract.key, filters=run_filter)\n"
   ]
  },
  {
   "cell_type": "code",
   "execution_count": null,
   "metadata": {},
   "outputs": [
    {
     "name": "stdout",
     "output_type": "stream",
     "text": [
      "--Return--\n",
      "> <ipython-input-10-33e4be93c3ca>(4)<module>()->None\n",
      "-> import pdb; pdb.set_trace()\n"
     ]
    },
    {
     "name": "stdin",
     "output_type": "stream",
     "text": [
      "(Pdb)  columns\n",
      "(Pdb)  df.columns\n"
     ]
    },
    {
     "name": "stdout",
     "output_type": "stream",
     "text": [
      "Index(['rec_date', 'pharm_code', 'pharm_npi', 'transtype',\n",
      "       'pharm_transaction_id', 'trans_seq', 'ref_source', 'ref_date',\n",
      "       'program_id', 'pharmacy_id', 'pat_last_name', 'pat_first_name',\n",
      "       'pat_dob', 'pat_gender', 'pat_addr1', 'pat_addr2', 'pat_city',\n",
      "       'pat_state', 'pat_zip', 'dx1_code', 'dx2_code', 'status_date',\n",
      "       'status_code', 'sub_status', 'pres_last_name', 'pres_first_name',\n",
      "       'pres_addr1', 'pres_addr2', 'pres_city', 'pres_state', 'pres_zip',\n",
      "       'pres_phone', 'pres_npi', 'pres_dea', 'facility_name', 'rxdate',\n",
      "       'rxnumber', 'rxrefills', 'rxfill', 'refill_remaining', 'prev_disp',\n",
      "       'rx_ndc_number', 'medication', 'quantity', 'day_supply', 'ship_date',\n",
      "       'ship_carrier', 'shiptracking_num', 'ship_location', 'ship_address',\n",
      "       'ship_city', 'ship_state', 'ship_zip', 'has_medical',\n",
      "       'primary_coverage_type', 'primary_payer_name', 'primary_payer_type',\n",
      "       'secondary_coverage_type', 'secondary_payer_name',\n",
      "       'secondary_payer_type', 'plan_paid_amt', 'pat_copay',\n",
      "       'copay_assist_amount', 'oth_payer_amt', 'xfer_pharmname',\n",
      "       'msa_patient_id', 'msa_patient_bmap', '__metadata_run_timestamp',\n",
      "       '__metadata_app_version', '__metadata_output_contract',\n",
      "       '__metadata_transform_timestamp', '__metadata_run_id', 'product'],\n",
      "      dtype='object')\n"
     ]
    },
    {
     "name": "stdin",
     "output_type": "stream",
     "text": [
      "(Pdb)  list(df.columns)\n"
     ]
    },
    {
     "name": "stdout",
     "output_type": "stream",
     "text": [
      "*** Error in argument: '(df.columns)'\n"
     ]
    },
    {
     "name": "stdin",
     "output_type": "stream",
     "text": [
      "(Pdb)  df.columns\n"
     ]
    },
    {
     "name": "stdout",
     "output_type": "stream",
     "text": [
      "Index(['rec_date', 'pharm_code', 'pharm_npi', 'transtype',\n",
      "       'pharm_transaction_id', 'trans_seq', 'ref_source', 'ref_date',\n",
      "       'program_id', 'pharmacy_id', 'pat_last_name', 'pat_first_name',\n",
      "       'pat_dob', 'pat_gender', 'pat_addr1', 'pat_addr2', 'pat_city',\n",
      "       'pat_state', 'pat_zip', 'dx1_code', 'dx2_code', 'status_date',\n",
      "       'status_code', 'sub_status', 'pres_last_name', 'pres_first_name',\n",
      "       'pres_addr1', 'pres_addr2', 'pres_city', 'pres_state', 'pres_zip',\n",
      "       'pres_phone', 'pres_npi', 'pres_dea', 'facility_name', 'rxdate',\n",
      "       'rxnumber', 'rxrefills', 'rxfill', 'refill_remaining', 'prev_disp',\n",
      "       'rx_ndc_number', 'medication', 'quantity', 'day_supply', 'ship_date',\n",
      "       'ship_carrier', 'shiptracking_num', 'ship_location', 'ship_address',\n",
      "       'ship_city', 'ship_state', 'ship_zip', 'has_medical',\n",
      "       'primary_coverage_type', 'primary_payer_name', 'primary_payer_type',\n",
      "       'secondary_coverage_type', 'secondary_payer_name',\n",
      "       'secondary_payer_type', 'plan_paid_amt', 'pat_copay',\n",
      "       'copay_assist_amount', 'oth_payer_amt', 'xfer_pharmname',\n",
      "       'msa_patient_id', 'msa_patient_bmap', '__metadata_run_timestamp',\n",
      "       '__metadata_app_version', '__metadata_output_contract',\n",
      "       '__metadata_transform_timestamp', '__metadata_run_id', 'product'],\n",
      "      dtype='object')\n"
     ]
    },
    {
     "name": "stdin",
     "output_type": "stream",
     "text": [
      "(Pdb)  list(df.columns)\n"
     ]
    },
    {
     "name": "stdout",
     "output_type": "stream",
     "text": [
      "*** Error in argument: '(df.columns)'\n"
     ]
    },
    {
     "name": "stdin",
     "output_type": "stream",
     "text": [
      "(Pdb)  columns = list(df.columns).append('heirarchy')\n",
      "(Pdb)  columns\n",
      "(Pdb)  len(columns)\n"
     ]
    },
    {
     "name": "stdout",
     "output_type": "stream",
     "text": [
      "*** TypeError: object of type 'NoneType' has no len()\n"
     ]
    },
    {
     "name": "stdin",
     "output_type": "stream",
     "text": [
      "(Pdb)  len(df.columns)\n"
     ]
    },
    {
     "name": "stdout",
     "output_type": "stream",
     "text": [
      "73\n"
     ]
    },
    {
     "name": "stdin",
     "output_type": "stream",
     "text": [
      "(Pdb)  type(df.columns)\n"
     ]
    },
    {
     "name": "stdout",
     "output_type": "stream",
     "text": [
      "<class 'pandas.core.indexes.base.Index'>\n"
     ]
    },
    {
     "name": "stdin",
     "output_type": "stream",
     "text": [
      "(Pdb)  x = list(df.columns)\n",
      "(Pdb)  type(x)\n"
     ]
    },
    {
     "name": "stdout",
     "output_type": "stream",
     "text": [
      "<class 'list'>\n"
     ]
    },
    {
     "name": "stdin",
     "output_type": "stream",
     "text": [
      "(Pdb)  x\n"
     ]
    },
    {
     "name": "stdout",
     "output_type": "stream",
     "text": [
      "['rec_date', 'pharm_code', 'pharm_npi', 'transtype', 'pharm_transaction_id', 'trans_seq', 'ref_source', 'ref_date', 'program_id', 'pharmacy_id', 'pat_last_name', 'pat_first_name', 'pat_dob', 'pat_gender', 'pat_addr1', 'pat_addr2', 'pat_city', 'pat_state', 'pat_zip', 'dx1_code', 'dx2_code', 'status_date', 'status_code', 'sub_status', 'pres_last_name', 'pres_first_name', 'pres_addr1', 'pres_addr2', 'pres_city', 'pres_state', 'pres_zip', 'pres_phone', 'pres_npi', 'pres_dea', 'facility_name', 'rxdate', 'rxnumber', 'rxrefills', 'rxfill', 'refill_remaining', 'prev_disp', 'rx_ndc_number', 'medication', 'quantity', 'day_supply', 'ship_date', 'ship_carrier', 'shiptracking_num', 'ship_location', 'ship_address', 'ship_city', 'ship_state', 'ship_zip', 'has_medical', 'primary_coverage_type', 'primary_payer_name', 'primary_payer_type', 'secondary_coverage_type', 'secondary_payer_name', 'secondary_payer_type', 'plan_paid_amt', 'pat_copay', 'copay_assist_amount', 'oth_payer_amt', 'xfer_pharmname', 'msa_patient_id', 'msa_patient_bmap', '__metadata_run_timestamp', '__metadata_app_version', '__metadata_output_contract', '__metadata_transform_timestamp', '__metadata_run_id', 'product']\n"
     ]
    },
    {
     "name": "stdin",
     "output_type": "stream",
     "text": [
      "(Pdb)  x.append('hierarchy')\n",
      "(Pdb)  x\n"
     ]
    },
    {
     "name": "stdout",
     "output_type": "stream",
     "text": [
      "['rec_date', 'pharm_code', 'pharm_npi', 'transtype', 'pharm_transaction_id', 'trans_seq', 'ref_source', 'ref_date', 'program_id', 'pharmacy_id', 'pat_last_name', 'pat_first_name', 'pat_dob', 'pat_gender', 'pat_addr1', 'pat_addr2', 'pat_city', 'pat_state', 'pat_zip', 'dx1_code', 'dx2_code', 'status_date', 'status_code', 'sub_status', 'pres_last_name', 'pres_first_name', 'pres_addr1', 'pres_addr2', 'pres_city', 'pres_state', 'pres_zip', 'pres_phone', 'pres_npi', 'pres_dea', 'facility_name', 'rxdate', 'rxnumber', 'rxrefills', 'rxfill', 'refill_remaining', 'prev_disp', 'rx_ndc_number', 'medication', 'quantity', 'day_supply', 'ship_date', 'ship_carrier', 'shiptracking_num', 'ship_location', 'ship_address', 'ship_city', 'ship_state', 'ship_zip', 'has_medical', 'primary_coverage_type', 'primary_payer_name', 'primary_payer_type', 'secondary_coverage_type', 'secondary_payer_name', 'secondary_payer_type', 'plan_paid_amt', 'pat_copay', 'copay_assist_amount', 'oth_payer_amt', 'xfer_pharmname', 'msa_patient_id', 'msa_patient_bmap', '__metadata_run_timestamp', '__metadata_app_version', '__metadata_output_contract', '__metadata_transform_timestamp', '__metadata_run_id', 'product', 'hierarchy']\n"
     ]
    },
    {
     "name": "stdin",
     "output_type": "stream",
     "text": [
      "(Pdb)  columns\n",
      "(Pdb)  columns = list(df.columns)\n",
      "(Pdb)  columns.append('hierarchy')\n",
      "(Pdb)  columns\n"
     ]
    },
    {
     "name": "stdout",
     "output_type": "stream",
     "text": [
      "['rec_date', 'pharm_code', 'pharm_npi', 'transtype', 'pharm_transaction_id', 'trans_seq', 'ref_source', 'ref_date', 'program_id', 'pharmacy_id', 'pat_last_name', 'pat_first_name', 'pat_dob', 'pat_gender', 'pat_addr1', 'pat_addr2', 'pat_city', 'pat_state', 'pat_zip', 'dx1_code', 'dx2_code', 'status_date', 'status_code', 'sub_status', 'pres_last_name', 'pres_first_name', 'pres_addr1', 'pres_addr2', 'pres_city', 'pres_state', 'pres_zip', 'pres_phone', 'pres_npi', 'pres_dea', 'facility_name', 'rxdate', 'rxnumber', 'rxrefills', 'rxfill', 'refill_remaining', 'prev_disp', 'rx_ndc_number', 'medication', 'quantity', 'day_supply', 'ship_date', 'ship_carrier', 'shiptracking_num', 'ship_location', 'ship_address', 'ship_city', 'ship_state', 'ship_zip', 'has_medical', 'primary_coverage_type', 'primary_payer_name', 'primary_payer_type', 'secondary_coverage_type', 'secondary_payer_name', 'secondary_payer_type', 'plan_paid_amt', 'pat_copay', 'copay_assist_amount', 'oth_payer_amt', 'xfer_pharmname', 'msa_patient_id', 'msa_patient_bmap', '__metadata_run_timestamp', '__metadata_app_version', '__metadata_output_contract', '__metadata_transform_timestamp', '__metadata_run_id', 'product', 'hierarchy']\n"
     ]
    },
    {
     "name": "stdin",
     "output_type": "stream",
     "text": [
      "(Pdb)  derp = list(df.columns).append('heirarchy')\n",
      "(Pdb)  derp\n"
     ]
    }
   ],
   "source": [
    "### Use the variables above to execute your transformation. the final output needs to be a variable named final_dataframe\n",
    "columns = list(df.columns)\n",
    "columns.append('heirarchy')\n",
    "df = transform.load_clean_file(df)\n",
    "final_dataframe= transform.pending_new_enrichment(df, columns)\n",
    "final_dataframe.head()"
   ]
  },
  {
   "cell_type": "markdown",
   "metadata": {},
   "source": [
    "## Unit Testing"
   ]
  },
  {
   "cell_type": "code",
   "execution_count": null,
   "metadata": {},
   "outputs": [],
   "source": [
    "import unittest\n",
    "\n",
    "def length_status(final_dataframe,df):\n",
    "    \"\"\"\n",
    "    Make sure all rows from original df are maintained in final,\n",
    "    This is a test:\n",
    "    >>> length_status(final_dataframe,df)\n",
    "    True\n",
    "    \"\"\"\n",
    "    return len(final_dataframe[final_dataframe.pharm_transaction_id.isin(df.pharm_transaction_id)]) == len(df)\n",
    "    \n",
    "def check_new_rows(final_dataframe, df):\n",
    "    \"\"\"\n",
    "    Make sure the new rows in final all have a pending status and equal ref and status dates\n",
    "    This is a test:\n",
    "    >>> check_new_rows(final_dataframe, df)\n",
    "    True\n",
    "    \"\"\"\n",
    "    worked =final_dataframe[~(final_dataframe['pharm_transaction_id'].isin(df['pharm_transaction_id']))]\n",
    "\n",
    "    return ((len(worked.status_code.unique())==1) & (worked['ref_date'].equals(worked['status_date']))) \n",
    "\n",
    "class TestNotebook(unittest.TestCase):\n",
    "\n",
    "    def test_length_status(self):\n",
    "        self.assertEqual(length_status(final_dataframe,df),True)\n",
    "    \n",
    "    def test_check_new_rows(self):\n",
    "        self.assertEqual(check_new_rows(final_dataframe, df),True)\n",
    "    \n",
    "unittest.main(argv=[''], verbosity=2, exit=False)"
   ]
  },
  {
   "cell_type": "markdown",
   "metadata": {},
   "source": [
    "### Publish"
   ]
  },
  {
   "cell_type": "code",
   "execution_count": null,
   "metadata": {},
   "outputs": [],
   "source": [
    "## that's it - just provide the final dataframe to the var final_dataframe and we take it from there\n",
    "transform.publish_contract.publish(final_dataframe, run_id, session)\n",
    "session.close()"
   ]
  },
  {
   "cell_type": "code",
   "execution_count": null,
   "metadata": {},
   "outputs": [],
   "source": []
  }
 ],
 "metadata": {
  "celltoolbar": "Tags",
  "kernelspec": {
   "display_name": "Python 3",
   "language": "python",
   "name": "python3"
  },
  "language_info": {
   "codemirror_mode": {
    "name": "ipython",
    "version": 3
   },
   "file_extension": ".py",
   "mimetype": "text/x-python",
   "name": "python",
   "nbconvert_exporter": "python",
   "pygments_lexer": "ipython3",
   "version": "3.6.8"
  }
 },
 "nbformat": 4,
 "nbformat_minor": 2
}
