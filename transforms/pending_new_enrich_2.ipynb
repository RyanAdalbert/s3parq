{
 "cells": [
  {
   "cell_type": "code",
   "execution_count": null,
   "metadata": {},
   "outputs": [],
   "source": [
    "from core.helpers.session_helper import SessionHelper\n",
    "session = SessionHelper().session"
   ]
  },
  {
   "cell_type": "code",
   "execution_count": null,
   "metadata": {},
   "outputs": [],
   "source": [
    "\"\"\"\n",
    "************ CONFIGURATION - PLEASE TOUCH **************\n",
    "Pipeline Builder configuration: creates configurations from variables specified here!!\n",
    "This cell will be off in production as configurations will come from the configuration postgres DB.\n",
    "\"\"\"\n",
    "# config vars: this dataset\n",
    "config_pharma = \"sun\" # the pharmaceutical company which owns {brand}\n",
    "config_brand = \"ilumya\" # the brand this pipeline operates on\n",
    "config_state = \"enrich\" # the state this transform runs in\n",
    "config_name = \"pending_new_enrich\" # the name of this transform, which is the name of this notebook without .ipynb\n",
    "\n",
    "# input vars: dataset to fetch. Recall that a contract published to S3 has a key format branch/pharma/brand/state/name\n",
    "input_pharma= \"sun\"\n",
    "input_brand = \"ilumya\"\n",
    "input_state = \"enrich\"\n",
    "input_name = \"transactions\"\n",
    "input_branch = None # if None, input_branch is automagically set to your working branch"
   ]
  },
  {
   "cell_type": "code",
   "execution_count": null,
   "metadata": {},
   "outputs": [],
   "source": [
    "\"\"\"\n",
    "************ SETUP - DON'T TOUCH **************\n",
    "Populating config mocker based on config parameters...\n",
    "\"\"\"\n",
    "import core.helpers.pipeline_builder as builder\n",
    "\n",
    "ids = builder.build(config_pharma, config_brand, config_state, config_name, session)\n",
    "transform_id = ids[0]\n",
    "run_id = ids[1]"
   ]
  },
  {
   "cell_type": "code",
   "execution_count": null,
   "metadata": {},
   "outputs": [],
   "source": [
    "\"\"\"\n",
    "************ SETUP - DON'T TOUCH **************\n",
    "This section imports data from the configuration database\n",
    "and should not need to be altered or otherwise messed with. \n",
    "~~These are not the droids you are looking for~~\n",
    "\"\"\"\n",
    "from core.constants import BRANCH_NAME, ENV_BUCKET\n",
    "from core.helpers.session_helper import SessionHelper\n",
    "from core.models.configuration import Transformation\n",
    "from dataclasses import dataclass\n",
    "from core.dataset_contract import DatasetContract\n",
    "\n",
    "db_transform = session.query(Transformation).filter(Transformation.id == transform_id).one()\n",
    "\n",
    "@dataclass\n",
    "class DbTransform:\n",
    "    id: int = db_transform.id ## the instance id of the transform in the config app\n",
    "    name: str = db_transform.transformation_template.name ## the transform name in the config app\n",
    "    state: str = db_transform.pipeline_state.pipeline_state_type.name ## the pipeline state, one of raw, ingest, master, enhance, enrich, metrics, dimensional\n",
    "    branch:str = BRANCH_NAME ## the git branch for this execution \n",
    "    brand: str = db_transform.pipeline_state.pipeline.brand.name ## the pharma brand name\n",
    "    pharmaceutical_company: str = db_transform.pipeline_state.pipeline.brand.pharmaceutical_company.name # the pharma company name\n",
    "    publish_contract: DatasetContract = DatasetContract(branch=BRANCH_NAME,\n",
    "                            state=db_transform.pipeline_state.pipeline_state_type.name,\n",
    "                            parent=db_transform.pipeline_state.pipeline.brand.pharmaceutical_company.name,\n",
    "                            child=db_transform.pipeline_state.pipeline.brand.name,\n",
    "                            dataset=db_transform.transformation_template.name)\n"
   ]
  },
  {
   "cell_type": "markdown",
   "metadata": {},
   "source": [
    "# CORE Cartridge Notebook::[transform name here]\n",
    "![CORE Logo](assets/coreLogo.png) \n",
    "\n",
    "---\n",
    "## Keep in Mind\n",
    "Good Transforms Are...\n",
    "- **singular in purpose:** good transforms do one and only one thing, and handle all known cases for that thing. \n",
    "- **repeatable:** transforms should be written in a way that they can be run against the same dataset an infinate number of times and get the same result every time. \n",
    "- **easy to read:** 99 times out of 100, readable, clear code that runs a little slower is more valuable than a mess that runs quickly. \n",
    "- **No 'magic numbers':** if a variable or function is not instantly obvious as to what it is or does, without context, maybe consider renaming it."
   ]
  },
  {
   "cell_type": "markdown",
   "metadata": {},
   "source": [
    "## Workflow - how to use this notebook to make science\n",
    "#### Data Science\n",
    "1. **Document your transform.** Fill out the _description_ cell below describing what it is this transform does; this will appear in the configuration application where Ops will create, configure and update pipelines. \n",
    "1. **Define your config object.** Fill out the _configuration_ cell below the commented-out guide to define the variables you want ops to set in the configuration application (these will populate here for every pipeline). \n",
    "2. **Build your transformation logic.** Use the transformation cell to do that magic that you do. \n",
    "![caution](assets/cautionTape.png)"
   ]
  },
  {
   "cell_type": "markdown",
   "metadata": {},
   "source": [
    "### Configuration"
   ]
  },
  {
   "cell_type": "code",
   "execution_count": null,
   "metadata": {},
   "outputs": [],
   "source": [
    "\"\"\" \n",
    "********* VARIABLES - PLEASE TOUCH ********* \n",
    "This section defines what you expect to get from the configuration application \n",
    "in a single \"transform\" object. Define the vars you need here, and comment inline to the right of them \n",
    "for all-in-one documentation. \n",
    "Engineering will build a production \"transform\" object for every pipeline that matches what you define here.\n",
    "\n",
    "@@@ FORMAT OF THE DATA CLASS IS: @@@ \n",
    "\n",
    "<variable_name>: <data_type> #<comment explaining what the value is to future us>\n",
    "\n",
    "e.g.\n",
    "\n",
    "class Transform(DbTransform):\n",
    "    some_ratio: float\n",
    "    site_name: str\n",
    "\n",
    "~~These ARE the droids you are looking for~~\n",
    "\"\"\"\n",
    "\n",
    "class Transform(DbTransform):\n",
    "    '''\n",
    "    YOUR properties go here!!\n",
    "    Variable properties should be assigned to the exact name of\n",
    "    the transformation as it appears in the Jupyter notebook filename.\n",
    "    '''\n",
    "    trans_id: str\n",
    "    product: str\n",
    "    patient: str\n",
    "    pharm: str\n",
    "    status_date: str\n",
    "    ref_date: str\n",
    "    status: str\n",
    "    substatus: str\n",
    "    ic_status: str\n",
    "    ic_substatus: str\n",
    "    pending_status: str\n",
    "    active_status: str\n",
    "    cancelled_status: str\n",
    "    pending_new_substatus: str\n",
    "        \n",
    "    def load_clean_file(self, df):\n",
    "        # Convert dates to datetime format\n",
    "        df[self.status_date] = pd.to_datetime(df[self.status_date])\n",
    "        df[self.ref_date] = pd.to_datetime(df[self.ref_date])\n",
    "\n",
    "        ## Extract brand from medication\n",
    "        df[self.product] = df['medication'].apply(lambda x: x.split()[0].strip())\n",
    "\n",
    "        ## Convert status codes to uppercase\n",
    "        df[self.status] = df[self.status].str.upper()\n",
    "        df[self.substatus] = df[self.substatus].str.upper()\n",
    "        \n",
    "        return df\n",
    "    \n",
    "    def pending_new_enrichment(self, df, table_columns):\n",
    "\n",
    "        df.sort_values(by=[self.patient, self.pharm, self.product, self.status_date], \n",
    "                       ascending=[True, True, True, True], inplace=True)\n",
    "\n",
    "        min_date_df = df.groupby([self.patient, self.pharm, self.product])[self.status_date].min().reset_index().rename(\n",
    "            columns={status_date: 'First_Status_Date'})\n",
    "        df = pd.merge(df, min_date_df, how='inner', \n",
    "                      on=[self.patient, self.pharm, self.product])\n",
    "        min_ref_date_df = df.groupby([self.patient, self.pharm, self.product])[self.ref_date].min().reset_index().rename(\n",
    "            columns={ref_date: 'First_Ref_Date'})\n",
    "        df = pd.merge(df, min_ref_date_df, how='inner', \n",
    "                      on=[self.patient, self.pharm, self.product])\n",
    "        df.sort_values(by=[self.patient, self.pharm, self.product, self.status_date], \n",
    "                       ascending=[True, True, True, True], inplace=True)\n",
    "        first_status = df.groupby([self.pharm, self.product, self.patient])[self.ic_status].first().reset_index().rename(\n",
    "            columns={self.ic_status: 'First_IC_Status'})\n",
    "        first_status['First_Status_Active_Cancelled'] = np.where(\n",
    "            first_status['First_IC_Status'].isin([self.active_status, self.cancelled_status]), 1, 0)\n",
    "        df = pd.merge(df, first_status, how='inner', \n",
    "                      on=[self.pharm, self.product, self.patient])\n",
    "        pat_df = df.drop_duplicates(subset=[self.patient, self.pharm, self.product], keep='first')\n",
    "        pat_df['Day_Diff'] = (pat_df['First_Status_Date'] - pat_df['First_Ref_Date']) / np.timedelta64(1, 'D')\n",
    "        pat_df = pat_df[[self.patient, self.pharm, self.product, 'Day_Diff']]\n",
    "        df = pd.merge(df, pat_df, how='inner', \n",
    "                      on=[self.pharm, self.product, self.patient])\n",
    "        to_enrich_df = df[((df['First_Status_Active_Cancelled'] == 1)\n",
    "                          & (df['Day_Diff'] > 1))]\n",
    "        to_enrich_df = to_enrich_df.drop_duplicates(subset=[self.patient, self.pharm, self.product])\n",
    "\n",
    "        to_enrich_df.loc[:, self.substatus] = self.pending_new_substatus\n",
    "        to_enrich_df.loc[:, self.status] = self.pending_status\n",
    "        to_enrich_df.loc[:, self.ic_substatus] = self.pending_new_substatus\n",
    "        to_enrich_df.loc[:, self.ic_status] = self.pending_status\n",
    "        to_enrich_df.loc[:, 'pjh'] = 'No Status Clarity'\n",
    "        to_enrich_df.loc[:, self.status_date] = to_enrich_df['First_Ref_Date']\n",
    "        to_enrich_df.loc[:, self.ref_date] = to_enrich_df['First_Ref_Date']\n",
    "        to_enrich_df.loc[:, 'trans_id'] = 'ic_' + to_enrich_df['trans_id'].astype(str) + '_pn'\n",
    "        to_enrich_df.loc[:, 'enrichment'] = 'pending new'\n",
    "        #to_enrich_df = to_enrich_df[table_columns]\n",
    "        df = df.append(to_enrich_df)\n",
    "        #df = df[table_columns]\n",
    "        return (df)\n",
    "\n",
    "transform = Transform()"
   ]
  },
  {
   "cell_type": "code",
   "execution_count": null,
   "metadata": {},
   "outputs": [],
   "source": [
    "## Please place your value assignments for development here!!\n",
    "## This cell will be turned off in production and Engineering will set to pull from the configuration application instead\n",
    "## For the last example, this could look like...\n",
    "## transform.some_ratio = 0.6\n",
    "## transform.site_name = \"WALGREENS\"\n",
    "transform.trans_id = 'pmcTransactionId'\n",
    "transform.product = 'product'\n",
    "transform.patient = 'pmcPatientId'\n",
    "transform.pharm = 'pharmName'\n",
    "transform.status_date = 'statusDate'\n",
    "transform.ref_date = 'refDate'\n",
    "transform.status =  'statusCode'\n",
    "transform.substatus =  'subStatus'\n",
    "transform.ic_status = 'integrichain_status'\n",
    "transform.ic_substatus = 'integrichain_sub_status'\n",
    "transform.pending_status = 'PENDING'\n",
    "transform.active_status = 'ACTIVE'\n",
    "transform.cancelled_status = 'CANCELLED'\n",
    "transform.pending_new_substatus = 'NEW'"
   ]
  },
  {
   "cell_type": "markdown",
   "metadata": {},
   "source": [
    "### Description\n",
    "What does this transformation do? be specific.\n",
    "\n",
    "![what does your transform do](assets/what.gif)"
   ]
  },
  {
   "cell_type": "markdown",
   "metadata": {},
   "source": [
    "(clear out and replace with your description)"
   ]
  },
  {
   "cell_type": "markdown",
   "metadata": {},
   "source": [
    "### Transformation"
   ]
  },
  {
   "cell_type": "code",
   "execution_count": null,
   "metadata": {},
   "outputs": [],
   "source": [
    "\"\"\"\n",
    "************ FETCH DATA - TOUCH, BUT CAREFULLY **************\n",
    "This cell will be turned off in production, as the input_contract will be handled by the pipeline.\n",
    "\"\"\"\n",
    "\n",
    "if not input_branch:\n",
    "    input_branch = BRANCH_NAME\n",
    "input_contract = DatasetContract(branch=input_branch, state=input_state, parent=input_pharma, child=input_brand, dataset=input_name)\n",
    "run_filter = []\n",
    "# run_filter.append(dict(partition=\"run_id\", comparison=\"==\", values=[1]))\n",
    "# IF YOU HAVE PUBLISHED DATA MULTIPLE TIMES, uncomment the above line and change the int to the run_id to fetch.\n",
    "# Otherwise, you will have duplicate values in your fetched dataset!\n",
    "final_dataframe = input_contract.fetch(filters=run_filter)"
   ]
  },
  {
   "cell_type": "code",
   "execution_count": null,
   "metadata": {},
   "outputs": [],
   "source": [
    "import numpy as np\n",
    "import pyarrow as pa\n",
    "import pyarrow.parquet as pq\n",
    "import pandas as pd\n",
    "from s3fs import S3FileSystem\n",
    "from core.secret import Secret\n",
    "from s3parq import fetch\n",
    "from random import getrandbits\n",
    "\n",
    "run_id = 10\n",
    "\n",
    "ingest_contract = DatasetContract(branch='sun-extract-prod-vars',\n",
    "                                  parent='sun',\n",
    "                                  child='ilumya',\n",
    "                                  state='ingest',\n",
    "                                  dataset='symphony_health_association_ingest_column_mapping')\n",
    "\n",
    "run_filter = [{'partition':'__metadata_run_id', 'comparison':'==', 'values':[run_id]}]\n",
    "\n",
    "df = fetch(bucket=ingest_contract.bucket, key=ingest_contract.key, filters=run_filter)\n"
   ]
  },
  {
   "cell_type": "code",
   "execution_count": null,
   "metadata": {},
   "outputs": [],
   "source": [
    "df"
   ]
  },
  {
   "cell_type": "code",
   "execution_count": null,
   "metadata": {},
   "outputs": [],
   "source": [
    "def pandas_from_parquet_s3(file_path):\n",
    "    \n",
    "    s3 = S3FileSystem()\n",
    "    df = (\n",
    "        pq\n",
    "        .ParquetDataset(file_path, filesystem=s3)\n",
    "        .read_pandas()\n",
    "        .to_pandas()\n",
    "    )\n",
    "    \n",
    "    return df\n",
    "\n",
    "\n",
    "def pandas_from_database(query, *args):\n",
    "    \n",
    "    connection = mysql.connect(\n",
    "        host=secret.host, \n",
    "        user=secret.user, \n",
    "        passwd=secret.password, \n",
    "        port=secret.port, \n",
    "        charset='utf8'\n",
    "    )\n",
    "    \n",
    "    query = query.format(*args)\n",
    "    df = pd.read_sql(sql=query, con=connection)\n",
    "    connection.close()\n",
    "    \n",
    "    return df\n",
    "\n",
    "\n",
    "def pandas_to_parquet_s3(df, partition, file_path):\n",
    "    \n",
    "    s3 = S3FileSystem()\n",
    "    table = pa.Table.from_pandas(df)\n",
    "    \n",
    "    pq.write_to_dataset(table, file_path, partition_cols=partition, filesystem=s3)"
   ]
  },
  {
   "cell_type": "code",
   "execution_count": null,
   "metadata": {},
   "outputs": [],
   "source": [
    "### Use the variables above to execute your transformation. the final output needs to be a variable named final_dataframe\n",
    "columns = list(df.columns).append('pjh')\n",
    "final_dataframe = (\n",
    "    transform\n",
    "    .load_clean_file(df)\n",
    "    .pending_new_enrichment(df, columns)\n",
    ")\n",
    "final_dataframe.head()"
   ]
  },
  {
   "cell_type": "markdown",
   "metadata": {},
   "source": [
    "### Publish"
   ]
  },
  {
   "cell_type": "code",
   "execution_count": null,
   "metadata": {},
   "outputs": [],
   "source": [
    "## that's it - just provide the final dataframe to the var final_dataframe and we take it from there\n",
    "transform.publish_contract.publish(final_dataframe, run_id, session)\n",
    "session.close()"
   ]
  }
 ],
 "metadata": {
  "celltoolbar": "Tags",
  "kernelspec": {
   "display_name": "Python 3",
   "language": "python",
   "name": "python3"
  },
  "language_info": {
   "codemirror_mode": {
    "name": "ipython",
    "version": 3
   },
   "file_extension": ".py",
   "mimetype": "text/x-python",
   "name": "python",
   "nbconvert_exporter": "python",
   "pygments_lexer": "ipython3",
   "version": "3.6.8"
  }
 },
 "nbformat": 4,
 "nbformat_minor": 2
}
