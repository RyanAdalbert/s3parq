{
 "cells": [
  {
   "cell_type": "code",
   "execution_count": 1,
   "metadata": {},
   "outputs": [
    {
     "name": "stdout",
     "output_type": "stream",
     "text": [
      "2019-07-19 15:16:08,608 - core.helpers.session_helper.SessionHelper - INFO - Creating session for dev environment...\n",
      "2019-07-19 15:16:08,642 - core.helpers.configuration_mocker.ConfigurationMocker - DEBUG - Generating administrator mocks.\n",
      "2019-07-19 15:16:08,692 - core.helpers.configuration_mocker.ConfigurationMocker - DEBUG - Done generating administrator mocks.\n",
      "2019-07-19 15:16:08,693 - core.helpers.configuration_mocker.ConfigurationMocker - DEBUG - Generating pharmaceutical company mocks.\n",
      "2019-07-19 15:16:08,696 - core.helpers.configuration_mocker.ConfigurationMocker - DEBUG - Done generating pharmaceutical company mocks.\n",
      "2019-07-19 15:16:08,699 - core.helpers.configuration_mocker.ConfigurationMocker - DEBUG - Generating brand mocks.\n",
      "2019-07-19 15:16:08,702 - core.helpers.configuration_mocker.ConfigurationMocker - DEBUG - Done generating brand mocks.\n",
      "2019-07-19 15:16:08,707 - core.helpers.configuration_mocker.ConfigurationMocker - DEBUG - Generating segment mocks.\n",
      "2019-07-19 15:16:08,712 - core.helpers.configuration_mocker.ConfigurationMocker - DEBUG - Done generating segment mocks.\n",
      "2019-07-19 15:16:08,715 - core.helpers.configuration_mocker.ConfigurationMocker - DEBUG - Generating pipeline type mocks.\n",
      "2019-07-19 15:16:08,719 - core.helpers.configuration_mocker.ConfigurationMocker - DEBUG - Done generating pipeline type mocks.\n",
      "2019-07-19 15:16:08,727 - core.helpers.configuration_mocker.ConfigurationMocker - DEBUG - Generating pipeline mocks.\n",
      "2019-07-19 15:16:08,732 - core.helpers.configuration_mocker.ConfigurationMocker - DEBUG - Done generating pipeline mocks.\n",
      "2019-07-19 15:16:08,735 - core.helpers.configuration_mocker.ConfigurationMocker - DEBUG - Generating pipeline state type mocks.\n",
      "2019-07-19 15:16:08,738 - core.helpers.configuration_mocker.ConfigurationMocker - DEBUG - Done generating pipeline state type mocks.\n",
      "2019-07-19 15:16:08,740 - core.helpers.configuration_mocker.ConfigurationMocker - DEBUG - Generating pipeline state mocks.\n",
      "2019-07-19 15:16:08,746 - core.helpers.configuration_mocker.ConfigurationMocker - DEBUG - Done generating pipeline state mocks.\n",
      "2019-07-19 15:16:08,754 - core.helpers.configuration_mocker.ConfigurationMocker - DEBUG - Generating tag mocks.\n",
      "2019-07-19 15:16:08,764 - core.helpers.configuration_mocker.ConfigurationMocker - DEBUG - Done generating tag mocks.\n",
      "2019-07-19 15:16:08,771 - core.helpers.configuration_mocker.ConfigurationMocker - DEBUG - Generating transformation_template mocks.\n",
      "2019-07-19 15:16:08,777 - core.helpers.configuration_mocker.ConfigurationMocker - DEBUG - Done generating transformation_template mocks.\n",
      "2019-07-19 15:16:08,779 - core.helpers.configuration_mocker.ConfigurationMocker - DEBUG - Generating bridge table mocks for transformation_templates <=> tags.\n",
      "2019-07-19 15:16:08,790 - core.helpers.configuration_mocker.ConfigurationMocker - DEBUG - Done generating transformation_templates_tags mocks.\n",
      "2019-07-19 15:16:08,791 - core.helpers.configuration_mocker.ConfigurationMocker - DEBUG - Generating transformation mocks.\n",
      "2019-07-19 15:16:08,805 - core.helpers.configuration_mocker.ConfigurationMocker - DEBUG - Done generating transformation mocks.\n",
      "2019-07-19 15:16:08,811 - core.helpers.configuration_mocker.ConfigurationMocker - DEBUG - Generating transformation_variables mocks\n",
      "2019-07-19 15:16:08,818 - core.helpers.configuration_mocker.ConfigurationMocker - DEBUG - Done generating transformation_variables mocks.\n",
      "2019-07-19 15:16:08,820 - core.helpers.configuration_mocker.ConfigurationMocker - DEBUG - Generating run_events mocks.\n",
      "2019-07-19 15:16:08,827 - core.helpers.configuration_mocker.ConfigurationMocker - DEBUG - Done generating run_events mocks.\n",
      "2019-07-19 15:16:08,828 - core.helpers.session_helper.SessionHelper - INFO - Done. Created dev session with mock data.\n"
     ]
    }
   ],
   "source": [
    "from core.helpers.session_helper import SessionHelper\n",
    "session = SessionHelper().session"
   ]
  },
  {
   "cell_type": "code",
   "execution_count": 2,
   "metadata": {},
   "outputs": [],
   "source": [
    "\"\"\"\n",
    "************ CONFIGURATION - PLEASE TOUCH **************\n",
    "Pipeline Builder configuration: creates configurations from variables specified here!!\n",
    "This cell will be off in production as configurations will come from the configuration postgres DB.\n",
    "\"\"\"\n",
    "# config vars: this dataset\n",
    "config_pharma = \"sun\" # the pharmaceutical company which owns {brand}\n",
    "config_brand = \"ilumya\" # the brand this pipeline operates on\n",
    "config_state = \"enrich\" # the state this transform runs in\n",
    "config_name = \"pending_new_enrich\" # the name of this transform, which is the name of this notebook without .ipynb\n",
    "\n",
    "# input vars: dataset to fetch. Recall that a contract published to S3 has a key format branch/pharma/brand/state/name\n",
    "input_pharma= \"sun\"\n",
    "input_brand = \"ilumya\"\n",
    "input_state = \"enrich\"\n",
    "input_name = \"upstream\"\n",
    "input_branch = None # if None, input_branch is automagically set to your working branch"
   ]
  },
  {
   "cell_type": "code",
   "execution_count": 3,
   "metadata": {},
   "outputs": [
    {
     "name": "stdout",
     "output_type": "stream",
     "text": [
      "2019-07-19 15:16:13,588 - core.logging - DEBUG - Adding/getting mocks for specified configurations...\n",
      "2019-07-19 15:16:13,627 - core.logging - DEBUG - Done. Creating mock run event and committing results to configuration mocker.\n"
     ]
    }
   ],
   "source": [
    "\"\"\"\n",
    "************ SETUP - DON'T TOUCH **************\n",
    "Populating config mocker based on config parameters...\n",
    "\"\"\"\n",
    "import core.helpers.pipeline_builder as builder\n",
    "\n",
    "ids = builder.build(config_pharma, config_brand, config_state, config_name, session)\n",
    "transform_id = ids[0]\n",
    "run_id = ids[1]"
   ]
  },
  {
   "cell_type": "code",
   "execution_count": 4,
   "metadata": {},
   "outputs": [],
   "source": [
    "\"\"\"\n",
    "************ SETUP - DON'T TOUCH **************\n",
    "This section imports data from the configuration database\n",
    "and should not need to be altered or otherwise messed with. \n",
    "~~These are not the droids you are looking for~~\n",
    "\"\"\"\n",
    "from core.constants import BRANCH_NAME, ENV_BUCKET\n",
    "from core.helpers.session_helper import SessionHelper\n",
    "from core.models.configuration import Transformation\n",
    "from dataclasses import dataclass\n",
    "from core.dataset_contract import DatasetContract\n",
    "\n",
    "db_transform = session.query(Transformation).filter(Transformation.id == transform_id).one()\n",
    "\n",
    "@dataclass\n",
    "class DbTransform:\n",
    "    id: int = db_transform.id ## the instance id of the transform in the config app\n",
    "    name: str = db_transform.transformation_template.name ## the transform name in the config app\n",
    "    state: str = db_transform.pipeline_state.pipeline_state_type.name ## the pipeline state, one of raw, ingest, master, enhance, enrich, metrics, dimensional\n",
    "    branch:str = BRANCH_NAME ## the git branch for this execution \n",
    "    brand: str = db_transform.pipeline_state.pipeline.brand.name ## the pharma brand name\n",
    "    pharmaceutical_company: str = db_transform.pipeline_state.pipeline.brand.pharmaceutical_company.name # the pharma company name\n",
    "    publish_contract: DatasetContract = DatasetContract(branch=BRANCH_NAME,\n",
    "                            state=db_transform.pipeline_state.pipeline_state_type.name,\n",
    "                            parent=db_transform.pipeline_state.pipeline.brand.pharmaceutical_company.name,\n",
    "                            child=db_transform.pipeline_state.pipeline.brand.name,\n",
    "                            dataset=db_transform.transformation_template.name)\n"
   ]
  },
  {
   "cell_type": "markdown",
   "metadata": {},
   "source": [
    "# CORE Cartridge Notebook::[transform name here]\n",
    "![CORE Logo](assets/coreLogo.png) \n",
    "\n",
    "---\n",
    "## Keep in Mind\n",
    "Good Transforms Are...\n",
    "- **singular in purpose:** good transforms do one and only one thing, and handle all known cases for that thing. \n",
    "- **repeatable:** transforms should be written in a way that they can be run against the same dataset an infinate number of times and get the same result every time. \n",
    "- **easy to read:** 99 times out of 100, readable, clear code that runs a little slower is more valuable than a mess that runs quickly. \n",
    "- **No 'magic numbers':** if a variable or function is not instantly obvious as to what it is or does, without context, maybe consider renaming it."
   ]
  },
  {
   "cell_type": "markdown",
   "metadata": {},
   "source": [
    "## Workflow - how to use this notebook to make science\n",
    "#### Data Science\n",
    "1. **Document your transform.** Fill out the _description_ cell below describing what it is this transform does; this will appear in the configuration application where Ops will create, configure and update pipelines. \n",
    "1. **Define your config object.** Fill out the _configuration_ cell below the commented-out guide to define the variables you want ops to set in the configuration application (these will populate here for every pipeline). \n",
    "2. **Build your transformation logic.** Use the transformation cell to do that magic that you do. \n",
    "![caution](assets/cautionTape.png)"
   ]
  },
  {
   "cell_type": "markdown",
   "metadata": {},
   "source": [
    "### Configuration"
   ]
  },
  {
   "cell_type": "code",
   "execution_count": 16,
   "metadata": {},
   "outputs": [],
   "source": [
    "\"\"\" \n",
    "********* VARIABLES - PLEASE TOUCH ********* \n",
    "This section defines what you expect to get from the configuration application \n",
    "in a single \"transform\" object. Define the vars you need here, and comment inline to the right of them \n",
    "for all-in-one documentation. \n",
    "Engineering will build a production \"transform\" object for every pipeline that matches what you define here.\n",
    "\n",
    "@@@ FORMAT OF THE DATA CLASS IS: @@@ \n",
    "\n",
    "<variable_name>: <data_type> #<comment explaining what the value is to future us>\n",
    "\n",
    "e.g.\n",
    "\n",
    "class Transform(DbTransform):\n",
    "    some_ratio: float\n",
    "    site_name: str\n",
    "\n",
    "~~These ARE the droids you are looking for~~\n",
    "\"\"\"\n",
    "\n",
    "class Transform(DbTransform):\n",
    "    '''\n",
    "    YOUR properties go here!!\n",
    "    Variable properties should be assigned to the exact name of\n",
    "    the transformation as it appears in the Jupyter notebook filename.\n",
    "    '''\n",
    "    trans_id: str\n",
    "    product: str\n",
    "    patient: str\n",
    "    pharm: str\n",
    "    status_date: str\n",
    "    ref_date: str\n",
    "    status: str\n",
    "    substatus: str\n",
    "    ic_status: str\n",
    "    ic_substatus: str\n",
    "    pending_status: str\n",
    "    active_status: str\n",
    "    cancelled_status: str\n",
    "    pending_new_substatus: str\n",
    "        \n",
    "    def load_clean_file(self, df):\n",
    "        # Convert dates to datetime format\n",
    "        datetime = '%Y%m%d'\n",
    "        df[self.status_date] = pd.to_datetime(df[self.status_date], format=datetime, errors='coerce')\n",
    "        df[self.ref_date] = pd.to_datetime(df[self.ref_date], format=datetime, errors='coerce')\n",
    "\n",
    "        ## Extract brand from medication\n",
    "        df[self.product] = df['medication'].apply(lambda x: x.split()[0].strip() if not pd.isnull(x) else x)\n",
    "\n",
    "        ## Convert status codes to uppercase\n",
    "        df[self.status] = df[self.status].str.upper()\n",
    "        df[self.substatus] = df[self.substatus].str.upper()\n",
    "        \n",
    "        return df\n",
    "    \n",
    "    def pending_new_enrichment(self, df, table_columns):\n",
    "\n",
    "        df.sort_values(by=[self.patient, self.pharm, self.product, self.status_date], \n",
    "                       ascending=[True, True, True, True], inplace=True)\n",
    "\n",
    "        min_date_df = df.groupby([self.patient, self.pharm, self.product])[self.status_date].min().reset_index().rename(\n",
    "            columns={status_date: 'First_Status_Date'})\n",
    "        df = pd.merge(df, min_date_df, how='inner', \n",
    "                      on=[self.patient, self.pharm, self.product])\n",
    "        min_ref_date_df = df.groupby([self.patient, self.pharm, self.product])[self.ref_date].min().reset_index().rename(\n",
    "            columns={ref_date: 'First_Ref_Date'})\n",
    "        df = pd.merge(df, min_ref_date_df, how='inner', \n",
    "                      on=[self.patient, self.pharm, self.product])\n",
    "        df.sort_values(by=[self.patient, self.pharm, self.product, self.status_date], \n",
    "                       ascending=[True, True, True, True], inplace=True)\n",
    "        first_status = df.groupby([self.pharm, self.product, self.patient])[self.status].first().reset_index().rename(\n",
    "            columns={self.status: 'First_IC_Status'})\n",
    "        first_status['First_Status_Active_Cancelled'] = np.where(\n",
    "            first_status['First_IC_Status'].isin([self.active_status, self.cancelled_status]), 1, 0)\n",
    "        df = pd.merge(df, first_status, how='inner', \n",
    "                      on=[self.pharm, self.product, self.patient])\n",
    "        pat_df = df.drop_duplicates(subset=[self.patient, self.pharm, self.product], keep='first')\n",
    "        pat_df['Day_Diff'] = (pat_df['First_Status_Date'] - pat_df['First_Ref_Date']) / np.timedelta64(1, 'D')\n",
    "        pat_df = pat_df[[self.patient, self.pharm, self.product, 'Day_Diff']]\n",
    "        df = pd.merge(df, pat_df, how='inner', \n",
    "                      on=[self.pharm, self.product, self.patient])\n",
    "        to_enrich_df = df[((df['First_Status_Active_Cancelled'] == 1)\n",
    "                          & (df['Day_Diff'] > 1))]\n",
    "        to_enrich_df = to_enrich_df.drop_duplicates(subset=[self.patient, self.pharm, self.product])\n",
    "\n",
    "        to_enrich_df.loc[:, self.substatus] = self.pending_new_substatus\n",
    "        to_enrich_df.loc[:, self.status] = self.pending_status\n",
    "        #to_enrich_df.loc[:, self.ic_substatus] = self.pending_new_substatus\n",
    "        #to_enrich_df.loc[:, self.ic_status] = self.pending_status\n",
    "        to_enrich_df.loc[:, 'pjh'] = 'No Status Clarity'\n",
    "        to_enrich_df.loc[:, self.status_date] = to_enrich_df['First_Ref_Date']\n",
    "        to_enrich_df.loc[:, self.ref_date] = to_enrich_df['First_Ref_Date']\n",
    "        to_enrich_df.loc[:, 'trans_id'] = 'ic_' + to_enrich_df['trans_id'].astype(str) + '_pn'\n",
    "        to_enrich_df.loc[:, 'enrichment'] = 'pending new'\n",
    "        #to_enrich_df = to_enrich_df[table_columns]\n",
    "        df = df.append(to_enrich_df)\n",
    "        #df = df[table_columns]\n",
    "        return (df)\n",
    "\n",
    "transform = Transform()"
   ]
  },
  {
   "cell_type": "code",
   "execution_count": 12,
   "metadata": {},
   "outputs": [],
   "source": [
    "## Please place your value assignments for development here!!\n",
    "## This cell will be turned off in production and Engineering will set to pull from the configuration application instead\n",
    "## For the last example, this could look like...\n",
    "## transform.some_ratio = 0.6\n",
    "## transform.site_name = \"WALGREENS\"\n",
    "if input_pharma == \"sun\":\n",
    "    transform.trans_id = 'pharm_transaction_id'\n",
    "    transform.patient = 'msa_patient_id'\n",
    "    transform.pharm = 'pharmacy_id'\n",
    "    transform.status_date = 'status_date'\n",
    "    transform.ref_date = 'ref_date'\n",
    "    transform.status =  'status_code'\n",
    "    transform.substatus =  'sub_status'\n",
    "else:\n",
    "    transform.trans_id = 'pmcTransactionId'\n",
    "    transform.patient = 'pmcPatientId'\n",
    "    transform.pharm = 'pharmName'\n",
    "    transform.status_date = 'statusDate'\n",
    "    transform.ref_date = 'refDate'\n",
    "    transform.status =  'statusCode'\n",
    "    transform.substatus =  'subStatus'\n",
    "transform.product = 'product'\n",
    "transform.ic_status = 'integrichain_status'\n",
    "transform.ic_substatus = 'integrichain_sub_status'\n",
    "transform.pending_status = 'PENDING'\n",
    "transform.active_status = 'ACTIVE'\n",
    "transform.cancelled_status = 'CANCELLED'\n",
    "transform.pending_new_substatus = 'NEW'"
   ]
  },
  {
   "cell_type": "markdown",
   "metadata": {},
   "source": [
    "### Description\n",
    "What does this transformation do? be specific.\n",
    "\n",
    "![what does your transform do](assets/what.gif)"
   ]
  },
  {
   "cell_type": "markdown",
   "metadata": {},
   "source": [
    "(clear out and replace with your description)"
   ]
  },
  {
   "cell_type": "markdown",
   "metadata": {},
   "source": [
    "### Transformation"
   ]
  },
  {
   "cell_type": "code",
   "execution_count": 20,
   "metadata": {},
   "outputs": [
    {
     "name": "stdout",
     "output_type": "stream",
     "text": [
      "2019-07-19 13:13:47,802 - core.dataset_contract.DatasetContract - INFO - Fetching dataframe from s3 location s3://ichain-dev/core/sun/ilumya/enrich/upstream.\n"
     ]
    }
   ],
   "source": [
    "\"\"\"\n",
    "************ FETCH DATA - TOUCH, BUT CAREFULLY **************\n",
    "This cell will be turned off in production, as the input_contract will be handled by the pipeline.\n",
    "\"\"\"\n",
    "\n",
    "if not input_branch:\n",
    "    input_branch = BRANCH_NAME\n",
    "input_contract = DatasetContract(branch=input_branch, state=input_state, parent=input_pharma, child=input_brand, dataset=input_name)\n",
    "run_filter = []\n",
    "# run_filter.append(dict(partition=\"run_id\", comparison=\"==\", values=[1]))\n",
    "# IF YOU HAVE PUBLISHED DATA MULTIPLE TIMES, uncomment the above line and change the int to the run_id to fetch.\n",
    "# Otherwise, you will have duplicate values in your fetched dataset!\n",
    "final_dataframe = input_contract.fetch(filters=run_filter)"
   ]
  },
  {
   "cell_type": "code",
   "execution_count": 7,
   "metadata": {},
   "outputs": [],
   "source": [
    "import numpy as np\n",
    "import pyarrow as pa\n",
    "import pyarrow.parquet as pq\n",
    "import pandas as pd\n",
    "from s3fs import S3FileSystem\n",
    "from core.secret import Secret\n",
    "from s3parq import fetch\n",
    "from random import getrandbits\n",
    "\n",
    "run_id = 4\n",
    "\n",
    "ingest_contract = DatasetContract(\n",
    "    branch='sun-extract-validation',\n",
    "    parent='sun',\n",
    "    child='ilumya',\n",
    "    state='ingest',\n",
    "    dataset='symphony_health_association_ingest_column_mapping'\n",
    ")\n",
    "\n",
    "run_filter = [{'partition':'__metadata_run_id', 'comparison':'==', 'values':[run_id]}]\n",
    "\n",
    "df = fetch(bucket=ingest_contract.bucket, key=ingest_contract.key, filters=run_filter)\n",
    "df.status_date = df.status_date.str[:8].astype(str)\n",
    "df.ref_date = df.ref_date.str[:8].astype(str)"
   ]
  },
  {
   "cell_type": "code",
   "execution_count": 15,
   "metadata": {},
   "outputs": [
    {
     "data": {
      "text/plain": [
       "['rec_date',\n",
       " 'pharm_code',\n",
       " 'pharm_npi',\n",
       " 'transtype',\n",
       " 'pharm_transaction_id',\n",
       " 'trans_seq',\n",
       " 'ref_source',\n",
       " 'ref_date',\n",
       " 'program_id',\n",
       " 'pharmacy_id',\n",
       " 'pat_last_name',\n",
       " 'pat_first_name',\n",
       " 'pat_dob',\n",
       " 'pat_gender',\n",
       " 'pat_addr1',\n",
       " 'pat_addr2',\n",
       " 'pat_city',\n",
       " 'pat_state',\n",
       " 'pat_zip',\n",
       " 'dx1_code',\n",
       " 'dx2_code',\n",
       " 'status_date',\n",
       " 'status_code',\n",
       " 'sub_status',\n",
       " 'pres_last_name',\n",
       " 'pres_first_name',\n",
       " 'pres_addr1',\n",
       " 'pres_addr2',\n",
       " 'pres_city',\n",
       " 'pres_state',\n",
       " 'pres_zip',\n",
       " 'pres_phone',\n",
       " 'pres_npi',\n",
       " 'pres_dea',\n",
       " 'facility_name',\n",
       " 'rxdate',\n",
       " 'rxnumber',\n",
       " 'rxrefills',\n",
       " 'rxfill',\n",
       " 'refill_remaining',\n",
       " 'prev_disp',\n",
       " 'rx_ndc_number',\n",
       " 'medication',\n",
       " 'quantity',\n",
       " 'day_supply',\n",
       " 'ship_date',\n",
       " 'ship_carrier',\n",
       " 'shiptracking_num',\n",
       " 'ship_location',\n",
       " 'ship_address',\n",
       " 'ship_city',\n",
       " 'ship_state',\n",
       " 'ship_zip',\n",
       " 'has_medical',\n",
       " 'primary_coverage_type',\n",
       " 'primary_payer_name',\n",
       " 'primary_payer_type',\n",
       " 'secondary_coverage_type',\n",
       " 'secondary_payer_name',\n",
       " 'secondary_payer_type',\n",
       " 'plan_paid_amt',\n",
       " 'pat_copay',\n",
       " 'copay_assist_amount',\n",
       " 'oth_payer_amt',\n",
       " 'xfer_pharmname',\n",
       " 'msa_patient_id',\n",
       " 'msa_patient_bmap',\n",
       " '__metadata_run_timestamp',\n",
       " '__metadata_app_version',\n",
       " '__metadata_output_contract',\n",
       " '__metadata_transform_timestamp',\n",
       " '__metadata_run_id']"
      ]
     },
     "execution_count": 15,
     "metadata": {},
     "output_type": "execute_result"
    }
   ],
   "source": [
    "list(df.columns)"
   ]
  },
  {
   "cell_type": "code",
   "execution_count": 8,
   "metadata": {},
   "outputs": [],
   "source": [
    "def pandas_from_parquet_s3(file_path):\n",
    "    \n",
    "    s3 = S3FileSystem()\n",
    "    df = (\n",
    "        pq\n",
    "        .ParquetDataset(file_path, filesystem=s3)\n",
    "        .read_pandas()\n",
    "        .to_pandas()\n",
    "    )\n",
    "    \n",
    "    return df\n",
    "\n",
    "\n",
    "def pandas_from_database(query, *args):\n",
    "    \n",
    "    connection = mysql.connect(\n",
    "        host=secret.host, \n",
    "        user=secret.user, \n",
    "        passwd=secret.password, \n",
    "        port=secret.port, \n",
    "        charset='utf8'\n",
    "    )\n",
    "    \n",
    "    query = query.format(*args)\n",
    "    df = pd.read_sql(sql=query, con=connection)\n",
    "    connection.close()\n",
    "    \n",
    "    return df\n",
    "\n",
    "\n",
    "def pandas_to_parquet_s3(df, partition, file_path):\n",
    "    \n",
    "    s3 = S3FileSystem()\n",
    "    table = pa.Table.from_pandas(df)\n",
    "    \n",
    "    pq.write_to_dataset(table, file_path, partition_cols=partition, filesystem=s3)"
   ]
  },
  {
   "cell_type": "code",
   "execution_count": 17,
   "metadata": {},
   "outputs": [
    {
     "ename": "AttributeError",
     "evalue": "'Transform' object has no attribute 'status_date'",
     "output_type": "error",
     "traceback": [
      "\u001b[0;31m---------------------------------------------------------------------------\u001b[0m",
      "\u001b[0;31mAttributeError\u001b[0m                            Traceback (most recent call last)",
      "\u001b[0;32m<ipython-input-17-55a4bbb83846>\u001b[0m in \u001b[0;36m<module>\u001b[0;34m\u001b[0m\n\u001b[1;32m      3\u001b[0m final_dataframe = (\n\u001b[1;32m      4\u001b[0m     \u001b[0mtransform\u001b[0m\u001b[0;34m\u001b[0m\u001b[0;34m\u001b[0m\u001b[0m\n\u001b[0;32m----> 5\u001b[0;31m     \u001b[0;34m.\u001b[0m\u001b[0mload_clean_file\u001b[0m\u001b[0;34m(\u001b[0m\u001b[0mdf\u001b[0m\u001b[0;34m)\u001b[0m\u001b[0;34m\u001b[0m\u001b[0;34m\u001b[0m\u001b[0m\n\u001b[0m\u001b[1;32m      6\u001b[0m     \u001b[0;34m.\u001b[0m\u001b[0mpending_new_enrichment\u001b[0m\u001b[0;34m(\u001b[0m\u001b[0mdf\u001b[0m\u001b[0;34m,\u001b[0m \u001b[0mcolumns\u001b[0m\u001b[0;34m)\u001b[0m\u001b[0;34m\u001b[0m\u001b[0;34m\u001b[0m\u001b[0m\n\u001b[1;32m      7\u001b[0m )\n",
      "\u001b[0;32m<ipython-input-16-3ed567b16024>\u001b[0m in \u001b[0;36mload_clean_file\u001b[0;34m(self, df)\u001b[0m\n\u001b[1;32m     43\u001b[0m         \u001b[0;31m# Convert dates to datetime format\u001b[0m\u001b[0;34m\u001b[0m\u001b[0;34m\u001b[0m\u001b[0;34m\u001b[0m\u001b[0m\n\u001b[1;32m     44\u001b[0m         \u001b[0mdatetime\u001b[0m \u001b[0;34m=\u001b[0m \u001b[0;34m'%Y%m%d'\u001b[0m\u001b[0;34m\u001b[0m\u001b[0;34m\u001b[0m\u001b[0m\n\u001b[0;32m---> 45\u001b[0;31m         \u001b[0mdf\u001b[0m\u001b[0;34m[\u001b[0m\u001b[0mself\u001b[0m\u001b[0;34m.\u001b[0m\u001b[0mstatus_date\u001b[0m\u001b[0;34m]\u001b[0m \u001b[0;34m=\u001b[0m \u001b[0mpd\u001b[0m\u001b[0;34m.\u001b[0m\u001b[0mto_datetime\u001b[0m\u001b[0;34m(\u001b[0m\u001b[0mdf\u001b[0m\u001b[0;34m[\u001b[0m\u001b[0mself\u001b[0m\u001b[0;34m.\u001b[0m\u001b[0mstatus_date\u001b[0m\u001b[0;34m]\u001b[0m\u001b[0;34m,\u001b[0m \u001b[0mformat\u001b[0m\u001b[0;34m=\u001b[0m\u001b[0mdatetime\u001b[0m\u001b[0;34m,\u001b[0m \u001b[0merrors\u001b[0m\u001b[0;34m=\u001b[0m\u001b[0;34m'coerce'\u001b[0m\u001b[0;34m)\u001b[0m\u001b[0;34m\u001b[0m\u001b[0;34m\u001b[0m\u001b[0m\n\u001b[0m\u001b[1;32m     46\u001b[0m         \u001b[0mdf\u001b[0m\u001b[0;34m[\u001b[0m\u001b[0mself\u001b[0m\u001b[0;34m.\u001b[0m\u001b[0mref_date\u001b[0m\u001b[0;34m]\u001b[0m \u001b[0;34m=\u001b[0m \u001b[0mpd\u001b[0m\u001b[0;34m.\u001b[0m\u001b[0mto_datetime\u001b[0m\u001b[0;34m(\u001b[0m\u001b[0mdf\u001b[0m\u001b[0;34m[\u001b[0m\u001b[0mself\u001b[0m\u001b[0;34m.\u001b[0m\u001b[0mref_date\u001b[0m\u001b[0;34m]\u001b[0m\u001b[0;34m,\u001b[0m \u001b[0mformat\u001b[0m\u001b[0;34m=\u001b[0m\u001b[0mdatetime\u001b[0m\u001b[0;34m,\u001b[0m \u001b[0merrors\u001b[0m\u001b[0;34m=\u001b[0m\u001b[0;34m'coerce'\u001b[0m\u001b[0;34m)\u001b[0m\u001b[0;34m\u001b[0m\u001b[0;34m\u001b[0m\u001b[0m\n\u001b[1;32m     47\u001b[0m \u001b[0;34m\u001b[0m\u001b[0m\n",
      "\u001b[0;31mAttributeError\u001b[0m: 'Transform' object has no attribute 'status_date'"
     ]
    }
   ],
   "source": [
    "### Use the variables above to execute your transformation. the final output needs to be a variable named final_dataframe\n",
    "columns = list(df.columns).append('pjh')\n",
    "final_dataframe = (\n",
    "    transform\n",
    "    .load_clean_file(df)\n",
    "    .pending_new_enrichment(df, columns)\n",
    ")\n",
    "final_dataframe.head()"
   ]
  },
  {
   "cell_type": "markdown",
   "metadata": {},
   "source": [
    "### Publish"
   ]
  },
  {
   "cell_type": "code",
   "execution_count": null,
   "metadata": {},
   "outputs": [],
   "source": [
    "## that's it - just provide the final dataframe to the var final_dataframe and we take it from there\n",
    "transform.publish_contract.publish(final_dataframe, run_id, session)\n",
    "session.close()"
   ]
  }
 ],
 "metadata": {
  "celltoolbar": "Tags",
  "kernelspec": {
   "display_name": "Python 3",
   "language": "python",
   "name": "python3"
  },
  "language_info": {
   "codemirror_mode": {
    "name": "ipython",
    "version": 3
   },
   "file_extension": ".py",
   "mimetype": "text/x-python",
   "name": "python",
   "nbconvert_exporter": "python",
   "pygments_lexer": "ipython3",
   "version": "3.6.8"
  }
 },
 "nbformat": 4,
 "nbformat_minor": 2
}
