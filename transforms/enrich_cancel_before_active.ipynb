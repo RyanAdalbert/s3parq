{
 "cells": [
  {
   "cell_type": "code",
   "execution_count": null,
   "metadata": {},
   "outputs": [],
   "source": [
    "from core.helpers.session_helper import SessionHelper\n",
    "session = SessionHelper().session"
   ]
  },
  {
   "cell_type": "code",
   "execution_count": null,
   "metadata": {},
   "outputs": [],
   "source": [
    "\"\"\"\n",
    "************ CONFIGURATION - PLEASE TOUCH **************\n",
    "Pipeline Builder configuration: creates configurations from variables specified here!!\n",
    "This cell will be off in production as configurations will come from the configuration postgres DB.\n",
    "\"\"\"\n",
    "# config vars: this dataset\n",
    "config_pharma = \"sun\" # the pharmaceutical company which owns {brand}\n",
    "config_brand = \"ilumya\" # the brand this pipeline operates on\n",
    "config_state = \"enrich\" # the state this transform runs in\n",
    "config_name = \"enrich_cancel_before_active\" # the name of this transform, which is the name of this notebook without .ipynb\n",
    "\n",
    "# input vars: dataset to fetch. Recall that a contract published to S3 has a key format branch/pharma/brand/state/name\n",
    "# Note: this key is case sensitive!!\n",
    "input_pharma = \"sun\"\n",
    "input_brand = \"ilumya\"\n",
    "input_state = \"ingest\"\n",
    "input_name = \"symphony_health_association_ingest_column_mapping\"\n",
    "input_branch = \"sun-extract-validation\" # if None, input_branch is automagically set to your working branch"
   ]
  },
  {
   "cell_type": "code",
   "execution_count": null,
   "metadata": {},
   "outputs": [],
   "source": [
    "\"\"\"\n",
    "************ SETUP - DON'T TOUCH **************\n",
    "Populating config mocker based on config parameters...\n",
    "\"\"\"\n",
    "import core.helpers.pipeline_builder as builder\n",
    "\n",
    "ids = builder.build(config_pharma, config_brand, config_state, config_name, session)\n",
    "transform_id = ids[0]\n",
    "run_id = ids[1]"
   ]
  },
  {
   "cell_type": "code",
   "execution_count": null,
   "metadata": {},
   "outputs": [],
   "source": [
    "\"\"\"\n",
    "************ SETUP - DON'T TOUCH **************\n",
    "This section imports data from the configuration database\n",
    "and should not need to be altered or otherwise messed with. \n",
    "~~These are not the droids you are looking for~~\n",
    "\"\"\"\n",
    "from core.constants import BRANCH_NAME, ENV_BUCKET\n",
    "from core.helpers.session_helper import SessionHelper\n",
    "from core.models.configuration import Transformation\n",
    "from dataclasses import dataclass\n",
    "from core.dataset_contract import DatasetContract\n",
    "\n",
    "db_transform = session.query(Transformation).filter(Transformation.id == transform_id).one()\n",
    "\n",
    "@dataclass\n",
    "class DbTransform:\n",
    "    id: int = db_transform.id ## the instance id of the transform in the config app\n",
    "    name: str = db_transform.transformation_template.name ## the transform name in the config app\n",
    "    state: str = db_transform.pipeline_state.pipeline_state_type.name ## the pipeline state, one of raw, ingest, master, enhance, enrich, metrics, dimensional\n",
    "    branch:str = BRANCH_NAME ## the git branch for this execution \n",
    "    brand: str = db_transform.pipeline_state.pipeline.brand.name ## the pharma brand name\n",
    "    pharmaceutical_company: str = db_transform.pipeline_state.pipeline.brand.pharmaceutical_company.name # the pharma company name\n",
    "    publish_contract: DatasetContract = DatasetContract(branch=BRANCH_NAME,\n",
    "                            state=db_transform.pipeline_state.pipeline_state_type.name,\n",
    "                            parent=db_transform.pipeline_state.pipeline.brand.pharmaceutical_company.name,\n",
    "                            child=db_transform.pipeline_state.pipeline.brand.name,\n",
    "                            dataset=db_transform.transformation_template.name)\n"
   ]
  },
  {
   "cell_type": "markdown",
   "metadata": {},
   "source": [
    "# CORE Cartridge Notebook::[transform name here]\n",
    "![CORE Logo](assets/coreLogo.png) \n",
    "\n",
    "---\n",
    "## Keep in Mind\n",
    "Good Transforms Are...\n",
    "- **singular in purpose:** good transforms do one and only one thing, and handle all known cases for that thing. \n",
    "- **repeatable:** transforms should be written in a way that they can be run against the same dataset an infinate number of times and get the same result every time. \n",
    "- **easy to read:** 99 times out of 100, readable, clear code that runs a little slower is more valuable than a mess that runs quickly. \n",
    "- **No 'magic numbers':** if a variable or function is not instantly obvious as to what it is or does, without context, maybe consider renaming it."
   ]
  },
  {
   "cell_type": "markdown",
   "metadata": {},
   "source": [
    "## Workflow - how to use this notebook to make science\n",
    "#### Data Science\n",
    "1. **Document your transform.** Fill out the _description_ cell below describing what it is this transform does; this will appear in the configuration application where Ops will create, configure and update pipelines. \n",
    "1. **Define your config object.** Fill out the _configuration_ cell below the commented-out guide to define the variables you want ops to set in the configuration application (these will populate here for every pipeline). \n",
    "2. **Build your transformation logic.** Use the transformation cell to do that magic that you do. \n",
    "![caution](assets/cautionTape.png)"
   ]
  },
  {
   "cell_type": "markdown",
   "metadata": {},
   "source": [
    "### Configuration"
   ]
  },
  {
   "cell_type": "code",
   "execution_count": null,
   "metadata": {},
   "outputs": [],
   "source": [
    "\"\"\" \n",
    "********* CONFIGURATION - PLEASE TOUCH ********* \n",
    "This section defines what you expect to get from the configuration application \n",
    "in a single \"transform\" object. Define the vars you need here, and comment inline to the right of them \n",
    "for all-in-one documentation. \n",
    "Engineering will build a production \"transform\" object for every pipeline that matches what you define here.\n",
    "\n",
    "@@@ FORMAT OF THE DATA CLASS IS: @@@ \n",
    "\n",
    "<value_name>: <data_type> #<comment explaining what the value is to future us>\n",
    "\n",
    "~~These ARE the droids you are looking for~~\n",
    "\"\"\"\n",
    "\n",
    "class Transform(DbTransform):\n",
    "    '''\n",
    "    YOUR properties go here!!\n",
    "    Include your input dataset(s) here. Variable properties should be assigned to the exact name of\n",
    "    the transformation as it appears in the Jupyter notebook filename.\n",
    "    '''"
   ]
  },
  {
   "cell_type": "code",
   "execution_count": null,
   "metadata": {},
   "outputs": [],
   "source": [
    "## Please place your value assignments for development here!!\n",
    "## This cell will be turned off in production and Engineering will set to pull form the configuration application instead\n",
    "\n",
    "transform = Transform()"
   ]
  },
  {
   "cell_type": "markdown",
   "metadata": {},
   "source": [
    "### Description\n",
    "What does this transformation do? be specific.\n",
    "\n",
    "![what does your transform do](assets/what.gif)"
   ]
  },
  {
   "cell_type": "markdown",
   "metadata": {},
   "source": [
    "Cancelled Before Active enrichment.\n",
    "Assigns hierarchy values in cases where cancelled status is reported before first active shipment.  This is used as part of the TTFF enrichment.  See logic diagram below:\n",
    "\n",
    "<img src='assets/cancel_before_active.png'>"
   ]
  },
  {
   "cell_type": "markdown",
   "metadata": {},
   "source": [
    "### Transformation"
   ]
  },
  {
   "cell_type": "code",
   "execution_count": null,
   "metadata": {},
   "outputs": [],
   "source": [
    "\"\"\"\n",
    "************ FETCH DATA - TOUCH, BUT CAREFULLY **************\n",
    "This cell will be turned off in production, as the input_contract will be handled by the pipeline.\n",
    "\"\"\"\n",
    "\n",
    "if not input_branch:\n",
    "    input_branch = BRANCH_NAME\n",
    "input_contract = DatasetContract(branch=input_branch, state=input_state, parent=input_pharma, child=input_brand, dataset=input_name)\n",
    "run_filter = []\n",
    "run_filter.append(dict(partition=\"__metadata_run_id\", comparison=\"==\", values=[4]))\n",
    "# IF YOU HAVE PUBLISHED DATA MULTIPLE TIMES, uncomment the above line and change the int to the run_id to fetch.\n",
    "# Otherwise, you will have duplicate values in your fetched dataset!\n",
    "df = input_contract.fetch(filters=run_filter)"
   ]
  },
  {
   "cell_type": "code",
   "execution_count": null,
   "metadata": {},
   "outputs": [],
   "source": [
    "df.shape"
   ]
  },
  {
   "cell_type": "code",
   "execution_count": null,
   "metadata": {},
   "outputs": [],
   "source": [
    "### Use the variables above to execute your transformation. the final output needs to be a variable named final_dataframe"
   ]
  },
  {
   "cell_type": "code",
   "execution_count": null,
   "metadata": {},
   "outputs": [],
   "source": [
    "import numpy as np\n",
    "import pandas as pd"
   ]
  },
  {
   "cell_type": "code",
   "execution_count": null,
   "metadata": {},
   "outputs": [],
   "source": [
    "pd.set_option('display.max_columns', 100)\n",
    "pd.set_option('display.max_rows', 500)"
   ]
  },
  {
   "cell_type": "markdown",
   "metadata": {},
   "source": [
    "### DATA CLEANING: ADDRESS THIS SECTION BEFORE PIPELINE INTEGRATION"
   ]
  },
  {
   "cell_type": "code",
   "execution_count": null,
   "metadata": {},
   "outputs": [],
   "source": [
    "if input_pharma == 'sun':\n",
    "    trans_id = 'pharm_transaction_id'\n",
    "    brand = 'medication'\n",
    "    patient_id = 'msa_patient_id'\n",
    "    pharmacy = 'pharm_code'\n",
    "    status_date = 'status_date'\n",
    "    referral_date = 'ref_date'\n",
    "    status =  'status_code'\n",
    "    substatus =  'sub_status'\n",
    "    datetime = '%Y%m%d'\n",
    "    active_substatus_code = 'SHIPMENT'\n",
    "    cancel_status_code = 'CANCELLED'\n",
    "    active_hierarchy = 'ACTIVE - SHIPMENT'\n",
    "\n",
    "elif input_pharma == 'bi':\n",
    "    trans_id = 'pmcTransactionId'\n",
    "    brand = 'medication'\n",
    "    patient_id = 'pmcPatientID'\n",
    "    pharmacy = 'pharmName'\n",
    "    status_date = 'statusDate'\n",
    "    referral_date = 'refDate'\n",
    "    status =  'statusCode'\n",
    "    substatus =  'custStatusCode'\n",
    "    datetime = '%Y-%b-%d'\n",
    "    active_substatus_code = 'S01'\n",
    "    cancel_status_code = 'CANCELLED'\n",
    "    active_hierarchy = 'ACTIVE - S01'"
   ]
  },
  {
   "cell_type": "code",
   "execution_count": null,
   "metadata": {},
   "outputs": [],
   "source": [
    "# CLEAN DATA - This step should not be necessary once transform is integrated into pipeline.\n",
    "#    Extract and map relevant columns\n",
    "#    Convert dates to datetime format\n",
    "#    Extract brand from medication\n",
    "#    Convert substatuses to uppercase\n",
    "#    Populate null referral dates with the min(status_date) for that patient/pharmacy/brand.\n",
    "    \n",
    "def clean_data(cust_input_df, datetime, trans_id, brand, patient_id, pharmacy, status_date, referral_date, status, substatus):\n",
    "\n",
    "    cust_df = (\n",
    "        cust_input_df\n",
    "        .loc[:,\n",
    "             [trans_id,\n",
    "              patient_id,\n",
    "              pharmacy,\n",
    "              brand,\n",
    "              status_date,\n",
    "              referral_date,\n",
    "              status,\n",
    "              substatus]\n",
    "            ]\n",
    "        .rename(\n",
    "            columns={\n",
    "                trans_id:'trans_id',\n",
    "                patient_id:'patient_id',\n",
    "                pharmacy:'pharmacy',\n",
    "                brand:'brand',\n",
    "                status_date:'status_date',\n",
    "                referral_date:'referral_date',\n",
    "                status:'status_code',\n",
    "                substatus:'substatus_code'}\n",
    "        )\n",
    "        .assign(status_date = lambda x: (\n",
    "            pd.to_datetime(\n",
    "                x.status_date.str[:8].astype(str),\n",
    "                format=datetime,\n",
    "                errors='coerce'\n",
    "            )\n",
    "        ))\n",
    "        .fillna(value={'referral_date':'min_status_date'})\n",
    "        .assign(referral_date = lambda x: (\n",
    "            pd.to_datetime(\n",
    "                x.referral_date.str[:8].astype(str),\n",
    "                format=datetime,\n",
    "                errors='coerce'\n",
    "            )\n",
    "        ))\n",
    "        .dropna()\n",
    "        .assign(brand = lambda x: (\n",
    "            x['brand'].apply(lambda x: x.split()[0].strip())\n",
    "        ))\n",
    "        .assign(status_code = lambda x: (\n",
    "            x.status_code.str.upper()\n",
    "        ))\n",
    "        .assign(substatus_code = lambda x: (\n",
    "            x.substatus_code.str.upper()\n",
    "        ))\n",
    "        .assign(min_status_date = lambda x: (\n",
    "            x.groupby(['patient_id','pharmacy','brand'])['status_date']\n",
    "            .transform(min)\n",
    "        ))\n",
    "        .drop(['min_status_date'],axis=1)\n",
    "        .drop_duplicates()\n",
    "        .sort_values(\n",
    "            by=['patient_id', 'pharmacy', 'brand', 'status_date','status_code'],\n",
    "            ascending=[True, True, True, True, False])\n",
    "        .reset_index(drop=True)\n",
    "    )\n",
    "\n",
    "    return cust_df"
   ]
  },
  {
   "cell_type": "code",
   "execution_count": null,
   "metadata": {},
   "outputs": [],
   "source": [
    "clean_df = clean_data(\n",
    "    df,\n",
    "    datetime,\n",
    "    trans_id,\n",
    "    brand,\n",
    "    patient_id,\n",
    "    pharmacy,\n",
    "    status_date,\n",
    "    referral_date,\n",
    "    status,\n",
    "    substatus\n",
    ")\n",
    "\n",
    "clean_df.head()"
   ]
  },
  {
   "cell_type": "code",
   "execution_count": null,
   "metadata": {},
   "outputs": [],
   "source": [
    "clean_df.shape"
   ]
  },
  {
   "cell_type": "markdown",
   "metadata": {},
   "source": [
    "### APPLY TRANSFORM LOGIC"
   ]
  },
  {
   "cell_type": "code",
   "execution_count": null,
   "metadata": {},
   "outputs": [],
   "source": [
    "# Assign Patient Journey (pj_id) and Patient Journey Step (pj_step) identifiers\n",
    "# (These IDs are used for calculation purposes only.  They will not be published)\n",
    "\n",
    "pj_df = (\n",
    "    clean_df\n",
    "    .assign(pj_id = lambda x: (\n",
    "        x.groupby(['patient_id','pharmacy','brand']).grouper.group_info[0]\n",
    "    ))\n",
    "    .assign(pj_step = lambda x: x.index)\n",
    ")\n",
    "\n",
    "pj_df.head()"
   ]
  },
  {
   "cell_type": "code",
   "execution_count": null,
   "metadata": {},
   "outputs": [],
   "source": [
    "# Filter to only include patient journeys where:\n",
    "#    a) Active Shipment status is reported\n",
    "#    b) Cancelled status occurs prior to first active shipment\n",
    "\n",
    "cancel_before_active_df = (\n",
    "    pj_df\n",
    "    .assign(active_step = lambda x: (\n",
    "        np.where(\n",
    "            x['substatus_code']==active_substatus_code,\n",
    "            x['pj_step'],\n",
    "            np.nan\n",
    "    )))\n",
    "    .assign(active_status_date = lambda x: (\n",
    "        pd.to_datetime(np.where(\n",
    "            x['substatus_code']==active_substatus_code,\n",
    "            x['status_date'],\n",
    "            pd.NaT\n",
    "    ))))\n",
    "    .assign(first_active_step = lambda x: (\n",
    "        x.groupby(['pj_id'])['active_step']\n",
    "        .transform(min)\n",
    "    ))\n",
    "    .assign(first_active_status_date = lambda x: (\n",
    "        x.groupby(['pj_id'])['active_status_date']\n",
    "        .transform(min)\n",
    "    ))\n",
    "    .drop(['active_step', 'active_status_date'], axis=1)\n",
    "    .dropna(axis=0)\n",
    "    .assign(active_cancel_diff = lambda x:(\n",
    "        np.where(x['status_code'] == cancel_status_code,\n",
    "                 (x['first_active_status_date'] - x['status_date']) / np.timedelta64(1, 'D'),\n",
    "                 np.nan\n",
    "                )\n",
    "    ))\n",
    "    .assign(active_cancel_diff = lambda x: (\n",
    "        x.groupby(['pj_id'], sort=False)['active_cancel_diff']\n",
    "        .transform(lambda x: x.bfill())\n",
    "        ))\n",
    "    .loc[lambda x: (\n",
    "        x['pj_id'].isin(x\n",
    "                        .loc[x['active_cancel_diff'] > 0]\n",
    "                        .pj_id\n",
    "                        .drop_duplicates()\n",
    "                        .tolist()\n",
    "                       )\n",
    "    )]\n",
    ")\n",
    "\n",
    "cancel_before_active_df.head()"
   ]
  },
  {
   "cell_type": "code",
   "execution_count": null,
   "metadata": {},
   "outputs": [],
   "source": [
    "# For each patient journey step, get the previous status and time spent in previous status.\n",
    "# If it's the first step in the patient journey, show \"no_prior_status\"\n",
    "\n",
    "prior_status_df = (\n",
    "    cancel_before_active_df\n",
    "    .assign(prior_status = lambda x:(\n",
    "        x.groupby(['pj_id'])['status_code']\n",
    "        .transform(lambda x: x.shift(1))\n",
    "    ))\n",
    "    .fillna(value={'prior_status':'no_prior_status'})\n",
    "    .assign(prior_status_diff = lambda x: (\n",
    "        x.groupby(['pj_id'])['status_date']\n",
    "        .transform(lambda x: (x - x.shift(1))/np.timedelta64(1,'D'))\n",
    "    ))\n",
    ")\n",
    "\n",
    "prior_status_df.head()"
   ]
  },
  {
   "cell_type": "code",
   "execution_count": null,
   "metadata": {},
   "outputs": [],
   "source": [
    "# Apply logic to determine patient journey hierarchy. See logic diagram in transform description.\n",
    "hierarchy_df = (\n",
    "    prior_status_df\n",
    "    .assign(hierarchy = lambda x:(\n",
    "        np.where(\n",
    "            x['pj_step'] >= x['first_active_step'],\n",
    "            active_hierarchy,\n",
    "            np.where(\n",
    "                x['active_cancel_diff'] > 60,\n",
    "                'REMOVE FROM TTFF',\n",
    "                np.where(\n",
    "                    (x['status_code'] != cancel_status_code),\n",
    "                    x['status_code'] + ' - '+ x['substatus_code'], ## THIS WILL NEED TO BE CHANGED BEFORE PIPELINE INTEGRATION\n",
    "                    np.where(\n",
    "                        (x['status_code'] == cancel_status_code) & ((x['prior_status_diff'] > 60) | (x['prior_status'] == 'no_prior_status')),\n",
    "                        'NO STATUS CLARITY',\n",
    "                        np.where(\n",
    "                            x['substatus_code'] == 'INSURANCE DENIED',\n",
    "                            'BVPA',\n",
    "                            None\n",
    "                        )\n",
    "                    )\n",
    "                )\n",
    "            )\n",
    "        )\n",
    "    ))\n",
    "    .reset_index(drop=True)\n",
    "    .assign(hierarchy = lambda x: (\n",
    "        x.groupby(['pj_id'], sort=False)['hierarchy']\n",
    "        .transform(lambda x: x.ffill())\n",
    "        ))\n",
    ")\n",
    "\n",
    "hierarchy_df.head()"
   ]
  },
  {
   "cell_type": "code",
   "execution_count": null,
   "metadata": {},
   "outputs": [],
   "source": [
    "final_dataframe = (\n",
    "    hierarchy_df\n",
    "    .drop(\n",
    "        [\n",
    "            'first_active_step',\n",
    "            'first_active_status_date',\n",
    "            'active_cancel_diff',\n",
    "            'prior_status',\n",
    "            'prior_status_diff',\n",
    "            'pj_id',\n",
    "            'pj_step'\n",
    "        ],\n",
    "        axis = 1)\n",
    ")\n",
    "\n",
    "final_dataframe.head()"
   ]
  },
  {
   "cell_type": "code",
   "execution_count": null,
   "metadata": {},
   "outputs": [],
   "source": [
    "final_dataframe.shape"
   ]
  },
  {
   "cell_type": "markdown",
   "metadata": {},
   "source": [
    "### Publish"
   ]
  },
  {
   "cell_type": "code",
   "execution_count": null,
   "metadata": {},
   "outputs": [],
   "source": [
    "## that's it - just provide the final dataframe to the var final_dataframe and we take it from there\n",
    "transform.publish_contract.publish(final_dataframe, run_id, session)\n",
    "session.close()"
   ]
  },
  {
   "cell_type": "code",
   "execution_count": null,
   "metadata": {},
   "outputs": [],
   "source": [
    "final_dataframe.info()"
   ]
  },
  {
   "cell_type": "code",
   "execution_count": null,
   "metadata": {},
   "outputs": [],
   "source": []
  }
 ],
 "metadata": {
  "celltoolbar": "Tags",
  "kernelspec": {
   "display_name": "Python 3",
   "language": "python",
   "name": "python3"
  },
  "language_info": {
   "codemirror_mode": {
    "name": "ipython",
    "version": 3
   },
   "file_extension": ".py",
   "mimetype": "text/x-python",
   "name": "python",
   "nbconvert_exporter": "python",
   "pygments_lexer": "ipython3",
   "version": "3.6.8"
  }
 },
 "nbformat": 4,
 "nbformat_minor": 2
}
