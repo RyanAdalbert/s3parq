{
 "cells": [
  {
   "cell_type": "code",
   "execution_count": null,
   "metadata": {},
   "outputs": [],
   "source": [
    "# workaround via specifying an invalid value first\n",
    "%config Application.log_level='WORKAROUND'\n",
    "# => fails, necessary on Fedora 27, ipython3 6.2.1\n",
    "%config Application.log_level='DEBUG'\n",
    "import logging\n",
    "logging.getLogger().setLevel(logging.DEBUG)\n",
    "log = logging.getLogger()\n",
    "log.debug('Test debug')"
   ]
  },
  {
   "cell_type": "code",
   "execution_count": null,
   "metadata": {},
   "outputs": [],
   "source": [
    "transform_id=26"
   ]
  },
  {
   "cell_type": "code",
   "execution_count": null,
   "metadata": {},
   "outputs": [],
   "source": [
    "\"\"\"\n",
    "************ SETUP - DON'T TOUCH **************\n",
    "This section imports data from the configuration database\n",
    "and should not need to be altered, molested or otherwise messed with. \n",
    "~~These are not the droids you are looking for~~\n",
    "\"\"\"\n",
    "from core.constants import BRANCH_NAME, ENV_BUCKET\n",
    "from core.helpers.session_helper import SessionHelper\n",
    "from core.models.configuration import Transformation\n",
    "from dataclasses import dataclass\n",
    "from core.dataset_contract import DatasetContract\n",
    "\n",
    "db_transform = SessionHelper().session.query(Transformation).filter(Transformation.id == transform_id).one()\n",
    "\n",
    "@dataclass\n",
    "class DbTransform:\n",
    "    id: int = db_transform.id ## the instance id of the transform in the config app\n",
    "    name: str = db_transform.transformation_template.name ## the transform name in the config app\n",
    "    state: str = db_transform.pipeline_state.pipeline_state_type.name ## the pipeline state, one of raw, ingest, master, enhance, enrich, metrics, dimensional\n",
    "    branch:str = BRANCH_NAME ## the git branch for this execution \n",
    "    brand: str = db_transform.pipeline_state.pipeline.brand.name ## the pharma brand name\n",
    "    pharmaceutical_company: str = db_transform.pipeline_state.pipeline.brand.pharmaceutical_company.name # the pharma company name\n",
    "    publish_contract: DatasetContract = DatasetContract(branch=BRANCH_NAME,\n",
    "                            parent=db_transform.pipeline_state.pipeline.brand.pharmaceutical_company.name,\n",
    "                            child=db_transform.pipeline_state.pipeline.brand.name,\n",
    "                            state=db_transform.pipeline_state.pipeline_state_type.name,\n",
    "                            dataset=db_transform.transformation_template.name)\n"
   ]
  },
  {
   "cell_type": "markdown",
   "metadata": {},
   "source": [
    "# CORE Cartridge Notebook::[transform name here]\n",
    "![CORE Logo](assets/coreLogo.png) \n",
    "\n",
    "---\n",
    "## Keep in Mind\n",
    "Good Transforms Are...\n",
    "- **singular in purpose:** good transforms do one and only one thing, and handle all known cases for that thing. \n",
    "- **repeatable:** transforms should be written in a way that they can be run against the same dataset an infinate number of times and get the same result every time. \n",
    "- **easy to read:** 99 times out of 100, readable, clear code that runs a little slower is more valuable than a mess that runs quickly. \n",
    "- **No 'magic numbers':** if a variable or function is not instantly obvious as to what it is or does, without context, maybe consider renaming it."
   ]
  },
  {
   "cell_type": "markdown",
   "metadata": {},
   "source": [
    "## Workflow - how to use this notebook to make science\n",
    "#### Data Science\n",
    "1. **Document your transform.** Fill out the _description_ cell below describing what it is this transform does; this will appear in the configuration application where Ops will create, configure and update pipelines. \n",
    "1. **Define your config object.** Fill out the _configuration_ cell below the commented-out guide to define the variables you want ops to set in the configuration application (these will populate here for every pipeline). \n",
    "2. **Build your transformation logic.** Use the transformation cell to do that magic that you do. \n",
    "![caution](assets/cautionTape.png)"
   ]
  },
  {
   "cell_type": "markdown",
   "metadata": {},
   "source": [
    "### Configuration"
   ]
  },
  {
   "cell_type": "code",
   "execution_count": null,
   "metadata": {},
   "outputs": [],
   "source": [
    "\"\"\" \n",
    "********* CONFIGURATION - PLEASE TOUCH ********* \n",
    "This section defines what you expect to get from the configuration application \n",
    "in a single \"transform\" object. Define the vars you need here, and comment inline to the right of them \n",
    "for all-in-one documentation. \n",
    "Engineering will build a production \"transform\" object for every pipeline that matches what you define here.\n",
    "\n",
    "@@@ FORMAT OF THE DATA CLASS IS: @@@ \n",
    "\n",
    "<value_name>: <data_type> #<comment explaining what the value is to future us>\n",
    "\n",
    "~~These ARE the droids you are looking for~~\n",
    "\"\"\"\n",
    "\n",
    "class Transform(DbTransform):\n",
    "        ## YOUR properties go here!!\n",
    "        ingest_source_transform: str = db_transform.variables.ingest_source_transform # The name of the dataset to pull from\n",
    "        ingest_source_file_prefix: str = db_transform.variables.ingest_source_file_prefix # If from initial ingest, the file prefix name\n",
    "        persisted_columns: str = db_transform.variables.persisted_columns # String array of columns to keep"
   ]
  },
  {
   "cell_type": "code",
   "execution_count": null,
   "metadata": {},
   "outputs": [],
   "source": [
    "transform = Transform()"
   ]
  },
  {
   "cell_type": "code",
   "execution_count": null,
   "metadata": {},
   "outputs": [],
   "source": [
    "## Please place your value assignments for development here!!\n",
    "## This cell will be turned off in production and Engineering will set to pull form the configuration application instead\n",
    "persisted_columns = [\n",
    "    'rec_date',\n",
    "    'pharm_code',\n",
    "    'pharm_npi',\n",
    "    'transtype',\n",
    "    'pharm_transaction_id',\n",
    "    'trans_seq',\n",
    "    'ref_source',\n",
    "    'ref_date',\n",
    "    'program_id',\n",
    "    'pharmacy_id',\n",
    "    'pat_last_name',\n",
    "    'pat_first_name',\n",
    "    'pat_dob',\n",
    "    'pat_gender',\n",
    "    'pat_addr1',\n",
    "    'pat_addr2',\n",
    "    'pat_city',\n",
    "    'pat_state',\n",
    "    'pat_zip',\n",
    "    'dx1_code',\n",
    "    'dx2_code',\n",
    "    'status_date',\n",
    "    'status_code',\n",
    "    'sub_status',\n",
    "    'pres_last_name',\n",
    "    'pres_first_name',\n",
    "    'pres_addr1',\n",
    "    'pres_addr2',\n",
    "    'pres_city',\n",
    "    'pres_state',\n",
    "    'pres_zip',\n",
    "    'pres_phone',\n",
    "    'pres_npi',\n",
    "    'pres_dea',\n",
    "    'facility_name',\n",
    "    'rxdate',\n",
    "    'rxnumber',\n",
    "    'rxrefills',\n",
    "    'rxfill',\n",
    "    'refill_remaining',\n",
    "    'prev_disp',\n",
    "    'rx_ndc_number',\n",
    "    'medication',\n",
    "    'quantity',\n",
    "    'day_supply',\n",
    "    'ship_date',\n",
    "    'ship_carrier',\n",
    "    'shiptracking_num',\n",
    "    'ship_location',\n",
    "    'ship_address',\n",
    "    'ship_city',\n",
    "    'ship_state',\n",
    "    'ship_zip',\n",
    "    'has_medical',\n",
    "    'primary_coverage_type',\n",
    "    'primary_payer_name',\n",
    "    'primarypayer_type',\n",
    "    'secondary_coverage_type',\n",
    "    'secondary_payer_name',\n",
    "    'secondary_payer_type',\n",
    "    'plan_paid_amt',\n",
    "    'pat_copay',\n",
    "    'copay_assist_amount',\n",
    "    'oth_payer_amt',\n",
    "    'xfer_pharmname',\n",
    "    'msa_patient_id',\n",
    "    'msa_patient_bmap'\n",
    "    ]"
   ]
  },
  {
   "cell_type": "markdown",
   "metadata": {},
   "source": [
    "### Description\n",
    "What does this transformation do? be specific.\n",
    "\n",
    "![what does your transform do](assets/what.gif)"
   ]
  },
  {
   "cell_type": "markdown",
   "metadata": {},
   "source": [
    "This transform takes the Symphony Health Association base ingested data and separates out useful columns and uppercases all the data."
   ]
  },
  {
   "cell_type": "markdown",
   "metadata": {},
   "source": [
    "### Transformation"
   ]
  },
  {
   "cell_type": "code",
   "execution_count": null,
   "metadata": {},
   "outputs": [],
   "source": [
    "import ast\n",
    "import pandas as pd\n",
    "from s3parq.s3parq import fetch_diff\n",
    "\n",
    "from core.helpers.contract_creator import get_relative_contract"
   ]
  },
  {
   "cell_type": "code",
   "execution_count": null,
   "metadata": {},
   "outputs": [],
   "source": [
    "# Place your import contracts here\n",
    "diff_partition = \"__metadata_run_timestamp\"\n",
    "#ingest_contract = get_relative_contract(t_name=transform.ingest_source_transform, contract=transform.publish_contract)\n",
    "ingest_contract = DatasetContract(branch=BRANCH_NAME,\n",
    "                            parent=transform.pharmaceutical_company,\n",
    "                            child=transform.brand,\n",
    "                            state=\"ingest\",\n",
    "                            dataset=transform.ingest_source_transform)\n",
    "\n",
    "ingest_key = ingest_contract.key+\"/\"+transform.ingest_source_file_prefix"
   ]
  },
  {
   "cell_type": "markdown",
   "metadata": {},
   "source": [
    "final_dataframe = fetch_diff(input_bucket=bucket, input_key=transform.publish_contract.key, comparison_bucket=bucket, comparison_key=ingest_key, partition=diff_partition)"
   ]
  },
  {
   "cell_type": "code",
   "execution_count": null,
   "metadata": {},
   "outputs": [],
   "source": [
    "ingest_contract.dataset = transform.ingest_source_transform + \"/\" + transform.ingest_source_file_prefix\n",
    "# TODO: fetch_diff when fixed\n",
    "final_dataframe = ingest_contract.fetch(filters=[])"
   ]
  },
  {
   "cell_type": "code",
   "execution_count": null,
   "metadata": {},
   "outputs": [],
   "source": [
    "# Select columns - TODO: fix to the name thing\n",
    "for x in range(len(persisted_columns)):\n",
    "    final_dataframe.rename(columns={final_dataframe.columns[x]:persisted_columns[x]}, inplace=True)"
   ]
  },
  {
   "cell_type": "code",
   "execution_count": null,
   "metadata": {},
   "outputs": [],
   "source": [
    "# Uppercase\n",
    "# final_dataframe = pd.concat([final_dataframe[col].astype(str).str.upper() for col in final_dataframe.columns], axis=1)\n",
    "final_dataframe = final_dataframe.apply(lambda x: x.str.upper().str.strip() if isinstance(x, object) else x)"
   ]
  },
  {
   "cell_type": "markdown",
   "metadata": {},
   "source": [
    "### Publish"
   ]
  },
  {
   "cell_type": "code",
   "execution_count": null,
   "metadata": {},
   "outputs": [],
   "source": [
    "## that's it - just provide the final dataframe to the var final_dataframe and we take it from there\n",
    "transform.publish_contract.publish(final_dataframe)"
   ]
  }
 ],
 "metadata": {
  "celltoolbar": "Tags",
  "kernelspec": {
   "display_name": "Python 3",
   "language": "python",
   "name": "python3"
  },
  "language_info": {
   "codemirror_mode": {
    "name": "ipython",
    "version": 3
   },
   "file_extension": ".py",
   "mimetype": "text/x-python",
   "name": "python",
   "nbconvert_exporter": "python",
   "pygments_lexer": "ipython3",
   "version": "3.6.8"
  }
 },
 "nbformat": 4,
 "nbformat_minor": 2
}
