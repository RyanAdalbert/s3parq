{
 "cells": [
  {
   "cell_type": "code",
   "execution_count": null,
   "metadata": {},
   "outputs": [],
   "source": [
    "import sys\n",
    "!{sys.executable} -m pip install /host/project"
   ]
  },
  {
   "cell_type": "code",
   "execution_count": null,
   "metadata": {
    "tags": [
     "parameters"
    ]
   },
   "outputs": [],
   "source": [
    "id = 1\n",
    "\n",
    "# input_contract = \"IM/AN/INPUT/CONTRACT/SHORT/AND/STOUT\"\n",
    "# output_contract = \"THIS/IS/MY/SPOUT\"\n",
    "env = \"dev\"\n",
    "branch = \"DC-18-extract-main-executor\"\n",
    "parent = \"test-manu2\"\n",
    "child = \"test-brand\"\n",
    "state = \"raw\""
   ]
  },
  {
   "cell_type": "code",
   "execution_count": null,
   "metadata": {},
   "outputs": [],
   "source": [
    "from core.helpers import configuration_mocker, file_mover\n",
    "from core.models import configuration\n",
    "from core import secret, contract\n",
    "from core.transforms.shared.raw import extract\n",
    "from pprint import pprint\n",
    "from core.helpers.notebook import get_contract, get_transform"
   ]
  },
  {
   "cell_type": "code",
   "execution_count": null,
   "metadata": {},
   "outputs": [],
   "source": [
    "transform = get_transform(id)\n",
    "output_contract = get_contract(env=env,\n",
    "                              state=state,\n",
    "                              branch=branch,\n",
    "                              parent=parent,\n",
    "                              child=child\n",
    "                              )\n",
    "pprint(transform)"
   ]
  },
  {
   "cell_type": "code",
   "execution_count": null,
   "metadata": {},
   "outputs": [],
   "source": [
    "extract_transform = extract.ExtractTransform(env=env, transform=transform, output_contract=output_contract)\n",
    "extract_transform.run()"
   ]
  },
  {
   "cell_type": "code",
   "execution_count": null,
   "metadata": {},
   "outputs": [],
   "source": []
  }
 ],
 "metadata": {
  "celltoolbar": "Tags",
  "kernelspec": {
   "display_name": "Python 3",
   "language": "python",
   "name": "python3"
  },
  "language_info": {
   "codemirror_mode": {
    "name": "ipython",
    "version": 3
   },
   "file_extension": ".py",
   "mimetype": "text/x-python",
   "name": "python",
   "nbconvert_exporter": "python",
   "pygments_lexer": "ipython3",
   "version": "3.6.7"
  }
 },
 "nbformat": 4,
 "nbformat_minor": 2
}
