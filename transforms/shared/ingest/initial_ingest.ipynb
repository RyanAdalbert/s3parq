{
 "cells": [
  {
   "cell_type": "code",
   "execution_count": 1,
   "metadata": {},
   "outputs": [],
   "source": [
    "from core.models import configuration\n",
    "from core.logging import get_logger\n",
    "from core.helpers import notebook\n",
    "from core.contract import Contract"
   ]
  },
  {
   "cell_type": "code",
   "execution_count": 2,
   "metadata": {},
   "outputs": [],
   "source": [
    "logger = get_logger('core.transforms.shared.injest.initial_injest')"
   ]
  },
  {
   "cell_type": "code",
   "execution_count": 3,
   "metadata": {
    "tags": [
     "parameters"
    ]
   },
   "outputs": [],
   "source": [
    "id = 11"
   ]
  },
  {
   "cell_type": "code",
   "execution_count": 4,
   "metadata": {},
   "outputs": [
    {
     "name": "stdout",
     "output_type": "stream",
     "text": [
      "2019-03-04 20:28:59,689 - core.helpers.session_helper.SessionHelper - INFO - Creating session for dev environment...\n",
      "2019-03-04 20:28:59,733 - core.helpers.configuration_mocker.ConfigurationMocker - DEBUG - Generating pharmaceutical company mocks.\n",
      "2019-03-04 20:28:59,769 - core.helpers.configuration_mocker.ConfigurationMocker - DEBUG - Done generating pharmaceutical company mocks.\n",
      "2019-03-04 20:28:59,771 - core.helpers.configuration_mocker.ConfigurationMocker - DEBUG - Generating brand mocks.\n",
      "2019-03-04 20:28:59,776 - core.helpers.configuration_mocker.ConfigurationMocker - DEBUG - Done generating brand mocks.\n",
      "2019-03-04 20:28:59,778 - core.helpers.configuration_mocker.ConfigurationMocker - DEBUG - Generating segment mocks.\n",
      "2019-03-04 20:28:59,781 - core.helpers.configuration_mocker.ConfigurationMocker - DEBUG - Done generating segment mocks.\n",
      "2019-03-04 20:28:59,783 - core.helpers.configuration_mocker.ConfigurationMocker - DEBUG - Generating pipeline type mocks.\n",
      "2019-03-04 20:28:59,788 - core.helpers.configuration_mocker.ConfigurationMocker - DEBUG - Done generating pipeline type mocks.\n",
      "2019-03-04 20:28:59,789 - core.helpers.configuration_mocker.ConfigurationMocker - DEBUG - Generating pipeline mocks.\n",
      "2019-03-04 20:28:59,793 - core.helpers.configuration_mocker.ConfigurationMocker - DEBUG - Done generating pipeline mocks.\n",
      "2019-03-04 20:28:59,795 - core.helpers.configuration_mocker.ConfigurationMocker - DEBUG - Generating pipeline state type mocks.\n",
      "2019-03-04 20:28:59,810 - core.helpers.configuration_mocker.ConfigurationMocker - DEBUG - Done generating pipeline state type mocks.\n",
      "2019-03-04 20:28:59,813 - core.helpers.configuration_mocker.ConfigurationMocker - DEBUG - Generating pipeline state mocks.\n",
      "2019-03-04 20:28:59,818 - core.helpers.configuration_mocker.ConfigurationMocker - DEBUG - Done generating pipeline state mocks.\n",
      "2019-03-04 20:28:59,819 - core.helpers.configuration_mocker.ConfigurationMocker - DEBUG - Generating transformation_template mocks.\n",
      "2019-03-04 20:28:59,823 - core.helpers.configuration_mocker.ConfigurationMocker - DEBUG - Done generating transformation_template mocks.\n",
      "2019-03-04 20:28:59,825 - core.helpers.configuration_mocker.ConfigurationMocker - DEBUG - Generating transformation mocks.\n",
      "2019-03-04 20:28:59,833 - core.helpers.configuration_mocker.ConfigurationMocker - DEBUG - Done generating transformation mocks.\n",
      "2019-03-04 20:28:59,834 - core.helpers.configuration_mocker.ConfigurationMocker - DEBUG - Generating extract_configuation mocks.\n",
      "2019-03-04 20:28:59,846 - core.helpers.configuration_mocker.ConfigurationMocker - DEBUG - Done generating extract_configuration mocks.\n",
      "2019-03-04 20:28:59,847 - core.helpers.configuration_mocker.ConfigurationMocker - DEBUG - Generating initial_injest mocks.\n",
      "2019-03-04 20:28:59,854 - core.helpers.configuration_mocker.ConfigurationMocker - DEBUG - Done generating initial_injest mocks.\n",
      "2019-03-04 20:28:59,856 - core.helpers.session_helper.SessionHelper - INFO - Done. Created dev session with mock data.\n"
     ]
    }
   ],
   "source": [
    "initial_injest_transform = notebook.get_transform(id)"
   ]
  },
  {
   "cell_type": "code",
   "execution_count": 5,
   "metadata": {},
   "outputs": [
    {
     "data": {
      "text/plain": [
       "<core.models.configuration.Transformation at 0x7fd05b8c57f0>"
      ]
     },
     "execution_count": 5,
     "metadata": {},
     "output_type": "execute_result"
    }
   ],
   "source": [
    "initial_injest_transform"
   ]
  },
  {
   "cell_type": "code",
   "execution_count": 6,
   "metadata": {},
   "outputs": [],
   "source": [
    "from pprint import pprint"
   ]
  },
  {
   "cell_type": "code",
   "execution_count": 13,
   "metadata": {},
   "outputs": [
    {
     "name": "stdout",
     "output_type": "stream",
     "text": [
      "{'_sa_instance_state': <sqlalchemy.orm.state.InstanceState object at 0x7f1f16beb4e0>, 'encoding': 'utf-8', 'delimiter': ',', 'id': 1, 'updated_at': datetime.datetime(2019, 3, 4, 20, 28, 59), 'skip_rows': 0, 'transformation_id': 11, 'last_actor': None, 'created_at': datetime.datetime(2019, 3, 4, 20, 28, 59)}\n"
     ]
    }
   ],
   "source": [
    "for iic in initial_injest_transform.initial_injest_configurations:\n",
    "    print(iic.__dict__)\n",
    "    #     for item in dir(iic):\n",
    "#         print(i)"
   ]
  },
  {
   "cell_type": "code",
   "execution_count": null,
   "metadata": {},
   "outputs": [],
   "source": []
  }
 ],
 "metadata": {
  "kernelspec": {
   "display_name": "Python 3",
   "language": "python",
   "name": "python3"
  },
  "language_info": {
   "codemirror_mode": {
    "name": "ipython",
    "version": 3
   },
   "file_extension": ".py",
   "mimetype": "text/x-python",
   "name": "python",
   "nbconvert_exporter": "python",
   "pygments_lexer": "ipython3",
   "version": "3.6.8"
  }
 },
 "nbformat": 4,
 "nbformat_minor": 2
}
