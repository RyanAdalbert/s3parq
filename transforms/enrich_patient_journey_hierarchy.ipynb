{
 "cells": [
  {
   "cell_type": "markdown",
   "metadata": {},
   "source": [
    "<a id=\"CELL1\"></a>\n",
    "## CELL 1 \n",
    "<font color=orange>*Thursday, August 8, 2019 2:08:43 PM GMT-04:00 DST*</font>"
   ]
  },
  {
   "cell_type": "code",
   "execution_count": 115,
   "metadata": {},
   "outputs": [
    {
     "name": "stdout",
     "output_type": "stream",
     "text": [
      "2019-08-08 18:09:15,744 - core.helpers.session_helper.SessionHelper - INFO - Creating session for dev environment...\n",
      "2019-08-08 18:09:15,774 - core.helpers.configuration_mocker.ConfigurationMocker - DEBUG - Generating administrator mocks.\n",
      "2019-08-08 18:09:15,779 - core.helpers.configuration_mocker.ConfigurationMocker - DEBUG - Done generating administrator mocks.\n",
      "2019-08-08 18:09:15,781 - core.helpers.configuration_mocker.ConfigurationMocker - DEBUG - Generating pharmaceutical company mocks.\n",
      "2019-08-08 18:09:15,784 - core.helpers.configuration_mocker.ConfigurationMocker - DEBUG - Done generating pharmaceutical company mocks.\n",
      "2019-08-08 18:09:15,786 - core.helpers.configuration_mocker.ConfigurationMocker - DEBUG - Generating brand mocks.\n",
      "2019-08-08 18:09:15,790 - core.helpers.configuration_mocker.ConfigurationMocker - DEBUG - Done generating brand mocks.\n",
      "2019-08-08 18:09:15,792 - core.helpers.configuration_mocker.ConfigurationMocker - DEBUG - Generating segment mocks.\n",
      "2019-08-08 18:09:15,795 - core.helpers.configuration_mocker.ConfigurationMocker - DEBUG - Done generating segment mocks.\n",
      "2019-08-08 18:09:15,797 - core.helpers.configuration_mocker.ConfigurationMocker - DEBUG - Generating pipeline type mocks.\n",
      "2019-08-08 18:09:15,799 - core.helpers.configuration_mocker.ConfigurationMocker - DEBUG - Done generating pipeline type mocks.\n",
      "2019-08-08 18:09:15,801 - core.helpers.configuration_mocker.ConfigurationMocker - DEBUG - Generating pipeline mocks.\n",
      "2019-08-08 18:09:15,805 - core.helpers.configuration_mocker.ConfigurationMocker - DEBUG - Done generating pipeline mocks.\n",
      "2019-08-08 18:09:15,807 - core.helpers.configuration_mocker.ConfigurationMocker - DEBUG - Generating pipeline state type mocks.\n",
      "2019-08-08 18:09:15,811 - core.helpers.configuration_mocker.ConfigurationMocker - DEBUG - Done generating pipeline state type mocks.\n",
      "2019-08-08 18:09:15,813 - core.helpers.configuration_mocker.ConfigurationMocker - DEBUG - Generating pipeline state mocks.\n",
      "2019-08-08 18:09:15,816 - core.helpers.configuration_mocker.ConfigurationMocker - DEBUG - Done generating pipeline state mocks.\n",
      "2019-08-08 18:09:15,817 - core.helpers.configuration_mocker.ConfigurationMocker - DEBUG - Generating tag mocks.\n",
      "2019-08-08 18:09:15,821 - core.helpers.configuration_mocker.ConfigurationMocker - DEBUG - Done generating tag mocks.\n",
      "2019-08-08 18:09:15,822 - core.helpers.configuration_mocker.ConfigurationMocker - DEBUG - Generating transformation_template mocks.\n",
      "2019-08-08 18:09:15,826 - core.helpers.configuration_mocker.ConfigurationMocker - DEBUG - Done generating transformation_template mocks.\n",
      "2019-08-08 18:09:15,827 - core.helpers.configuration_mocker.ConfigurationMocker - DEBUG - Generating bridge table mocks for transformation_templates <=> tags.\n",
      "2019-08-08 18:09:15,831 - core.helpers.configuration_mocker.ConfigurationMocker - DEBUG - Done generating transformation_templates_tags mocks.\n",
      "2019-08-08 18:09:15,832 - core.helpers.configuration_mocker.ConfigurationMocker - DEBUG - Generating transformation mocks.\n",
      "2019-08-08 18:09:15,838 - core.helpers.configuration_mocker.ConfigurationMocker - DEBUG - Done generating transformation mocks.\n",
      "2019-08-08 18:09:15,839 - core.helpers.configuration_mocker.ConfigurationMocker - DEBUG - Generating transformation_variables mocks\n",
      "2019-08-08 18:09:15,847 - core.helpers.configuration_mocker.ConfigurationMocker - DEBUG - Done generating transformation_variables mocks.\n",
      "2019-08-08 18:09:15,848 - core.helpers.configuration_mocker.ConfigurationMocker - DEBUG - Generating run_events mocks.\n",
      "2019-08-08 18:09:15,853 - core.helpers.configuration_mocker.ConfigurationMocker - DEBUG - Done generating run_events mocks.\n",
      "2019-08-08 18:09:15,855 - core.helpers.session_helper.SessionHelper - INFO - Done. Created dev session with mock data.\n"
     ]
    }
   ],
   "source": [
    "\"\"\"CELL 1\n",
    "builds and returns a database session\n",
    "local assumes a psql instance in a local docker container\n",
    "only postgres database is supported for configuration_application at this time\n",
    "\"\"\"\n",
    "\"\"\"\n",
    "gets env-based configuration secret\n",
    "returns a session to the configuration db\n",
    "for dev env it pre-populates the database with helper and seed data\n",
    "\"\"\"\n",
    "from core.helpers.session_helper import SessionHelper\n",
    "session = SessionHelper().session"
   ]
  },
  {
   "cell_type": "markdown",
   "metadata": {},
   "source": [
    "## CONFIGURATION - PLEASE TOUCH\n",
    "### <font color=pink>This cell will be off in production as configurations will come from the configuration postgres DB</color>"
   ]
  },
  {
   "cell_type": "code",
   "execution_count": 116,
   "metadata": {},
   "outputs": [],
   "source": [
    "\"\"\"\n",
    "************ CONFIGURATION - PLEASE TOUCH **************\n",
    "Pipeline Builder configuration: creates configurations from variables specified here!!\n",
    "This cell will be off in production as configurations will come from the configuration postgres DB.\n",
    "\"\"\"\n",
    "\"\"\"\n",
    "PIPELINE STATE:\n",
    "\n",
    "raw-->ingest-->master-->enhance-->enrich-->metrics-->dimensional\n",
    "\n",
    "\"\"\"\n",
    "# config vars: this dataset\n",
    "config_pharma = \"sun\" # the pharmaceutical company which owns {brand}\n",
    "config_brand = \"ilumya\" # the brand this pipeline operates on\n",
    "config_state = \"enrich\" # the state this transform runs in\n",
    "config_name = \"enrich_patient_journey_hierarchy\" # the name of this transform, which is the name of this notebook without .ipynb\n",
    "\n",
    "# input vars: dataset to fetch. \n",
    "# Recall that a contract published to S3 has a key format branch/pharma/brand/state/name\n",
    "input_branch = \"sun-extract-validation\"\n",
    "# None\n",
    "# if None, input_branch is automagically set to your working branch\n",
    "input_pharma = \"sun\"\n",
    "input_brand = \"ilumya\"\n",
    "input_state = \"ingest\"\n",
    "input_name = \"symphony_health_association_ingest_column_mapping\"\n",
    "\n",
    "#This contract defines the base of the output structure of data into S3.\n",
    "#\n",
    "#contract structure in s3: \n",
    "#s3:// {ENV} / {BRANCH} / {PARENT} / {CHILD} / {STATE} / {name of input}\n",
    "#\n",
    "#ENV - environment Must be one of development, uat, production.\n",
    "#Prefixed with integrichain- due to global unique reqirement\n",
    "#BRANCH - the software branch for development this will be the working pull request (eg pr-225)\n",
    "#in uat this will be edge, in production this will be master\n",
    "#PARENT - The top level source identifier\n",
    "#this is generally the customer (and it is aliased as such) but can be IntegriChain for internal sources,\n",
    "#or another aggregator for future-proofing\n",
    "#CHILD - The sub level source identifier, generally the brand (and is aliased as such)\n",
    "#STATE - One of: raw, ingest, master, enhance, enrich, metrics\n"
   ]
  },
  {
   "cell_type": "code",
   "execution_count": 117,
   "metadata": {},
   "outputs": [],
   "source": [
    "import logging\n",
    "logging.getLogger().setLevel(logging.DEBUG)\n",
    "log = logging.getLogger()"
   ]
  },
  {
   "cell_type": "markdown",
   "metadata": {},
   "source": [
    "### <font color=orange>SETUP - DON'T TOUCH </font>\n",
    "Populating config mocker based on config parameters..."
   ]
  },
  {
   "cell_type": "code",
   "execution_count": 118,
   "metadata": {},
   "outputs": [
    {
     "name": "stdout",
     "output_type": "stream",
     "text": [
      "2019-08-08 18:09:28,965 - core.logging - DEBUG - Adding/getting mocks for specified configurations...\n",
      "2019-08-08 18:09:29,000 - core.logging - DEBUG - Done. Creating mock run event and committing results to configuration mocker.\n"
     ]
    }
   ],
   "source": [
    "\"\"\"\n",
    "************ SETUP - DON'T TOUCH **************\n",
    "Populating config mocker based on config parameters...\n",
    "\"\"\"\n",
    "import core.helpers.pipeline_builder as builder\n",
    "\n",
    "ids = builder.build(config_pharma, config_brand, config_state, config_name, session)\n",
    "\"\"\"\n",
    "RETURNS: A list of 2 items: [transformation_id, run_id] where transformation_id corresponds\n",
    "to the configuration created/found for {transformation} and run_id is a randomly generated 6 digit\n",
    "number (to avoid publishing to the same place with the same dataset)\n",
    "\"\"\"\n",
    "transform_id = ids[0]\n",
    "run_id = ids[1]"
   ]
  },
  {
   "cell_type": "code",
   "execution_count": 119,
   "metadata": {},
   "outputs": [
    {
     "name": "stdout",
     "output_type": "stream",
     "text": [
      "2019-08-08 18:09:31,881 - root - DEBUG - Transform Id:6 Run Id:645619\n"
     ]
    }
   ],
   "source": [
    "# debug only\n",
    "# e.g.\n",
    "# 6\n",
    "# 136126\n",
    "log.debug(f'Transform Id:{transform_id} Run Id:{run_id}')"
   ]
  },
  {
   "cell_type": "markdown",
   "metadata": {},
   "source": [
    "### <font color=orange>SETUP - DON'T TOUCH </font>\n",
    "This section imports data from the configuration database\n",
    "and should not need to be altered or otherwise messed with. \n"
   ]
  },
  {
   "cell_type": "code",
   "execution_count": 120,
   "metadata": {},
   "outputs": [],
   "source": [
    "\"\"\"************ SETUP - DON'T TOUCH **************\n",
    "This section imports data from the configuration database\n",
    "and should not need to be altered or otherwise messed with. \n",
    "~~These are not the droids you are looking for~~\n",
    "\"\"\"\n",
    "from core.constants import BRANCH_NAME, ENV_BUCKET, BATCH_JOB_QUEUE\n",
    "from core.helpers.session_helper import SessionHelper\n",
    "from core.models.configuration import Transformation\n",
    "from dataclasses import dataclass\n",
    "from core.dataset_contract import DatasetContract\n",
    "\n",
    "\n",
    "db_transform = session.query(Transformation).filter(Transformation.id == transform_id).one()\n",
    "\n",
    "@dataclass\n",
    "class DbTransform:\n",
    "    id: int = db_transform.id ## the instance id of the transform in the config app\n",
    "    name: str = db_transform.transformation_template.name ## the transform name in the config app\n",
    "    state: str = db_transform.pipeline_state.pipeline_state_type.name ## the pipeline state, one of raw, ingest, master, enhance, enrich, metrics, dimensional\n",
    "    branch:str = BRANCH_NAME ## the git branch for this execution \n",
    "    brand: str = db_transform.pipeline_state.pipeline.brand.name ## the pharma brand name\n",
    "    pharmaceutical_company: str = db_transform.pipeline_state.pipeline.brand.pharmaceutical_company.name # the pharma company name\n",
    "    publish_contract: DatasetContract = DatasetContract(branch=BRANCH_NAME,\n",
    "                            state=db_transform.pipeline_state.pipeline_state_type.name,\n",
    "                            parent=db_transform.pipeline_state.pipeline.brand.pharmaceutical_company.name,\n",
    "                            child=db_transform.pipeline_state.pipeline.brand.name,\n",
    "                            dataset=db_transform.transformation_template.name)\n"
   ]
  },
  {
   "cell_type": "code",
   "execution_count": 121,
   "metadata": {},
   "outputs": [
    {
     "name": "stdout",
     "output_type": "stream",
     "text": [
      "2019-08-08 18:09:37,998 - root - DEBUG - Branch name:DC-546_ENRICH_PATIENT_JOURNEY_HIERARCHY Env Bucket:ichain-dev Batch Job Queue:dev-core\n"
     ]
    }
   ],
   "source": [
    "#debug only\n",
    "# e.g:\n",
    "#DC-578_PatientStatus\n",
    "#ichain-dev\n",
    "#dev-core\n",
    "log.debug(f'Branch name:{BRANCH_NAME} Env Bucket:{ENV_BUCKET} Batch Job Queue:{BATCH_JOB_QUEUE}')"
   ]
  },
  {
   "cell_type": "markdown",
   "metadata": {},
   "source": [
    "***\n",
    "# CORE Cartridge Notebook::[master_patient_status]\n",
    "![CORE Logo](assets/coreLogo.png) \n",
    "\n",
    "---\n",
    "## Keep in Mind\n",
    "Good Transforms Are...\n",
    "- **singular in purpose:** good transforms do one and only one thing, and handle all known cases for that thing. \n",
    "- **repeatable:** transforms should be written in a way that they can be run against the same dataset an infinate number of times and get the same result every time. \n",
    "- **easy to read:** 99 times out of 100, readable, clear code that runs a little slower is more valuable than a mess that runs quickly. \n",
    "- **No 'magic numbers':** if a variable or function is not instantly obvious as to what it is or does, without context, maybe consider renaming it."
   ]
  },
  {
   "cell_type": "markdown",
   "metadata": {},
   "source": [
    "## Workflow - how to use this notebook to make science\n",
    "#### Data Science\n",
    "1. **Document your transform.** Fill out the _description_ cell below describing what it is this transform does; this will appear in the configuration application where Ops will create, configure and update pipelines. \n",
    "1. **Define your config object.** Fill out the _configuration_ cell below the commented-out guide to define the variables you want ops to set in the configuration application (these will populate here for every pipeline). \n",
    "2. **Build your transformation logic.** Use the transformation cell to do that magic that you do. \n",
    "![caution](assets/cautionTape.png)"
   ]
  },
  {
   "cell_type": "markdown",
   "metadata": {},
   "source": [
    "## CONFIGURATION - VARIABLES - PLEASE TOUCH"
   ]
  },
  {
   "cell_type": "markdown",
   "metadata": {},
   "source": [
    "# TRANSFORM"
   ]
  },
  {
   "cell_type": "code",
   "execution_count": 166,
   "metadata": {},
   "outputs": [],
   "source": [
    "\"\"\" \n",
    "CONFIGURATION ********* VARIABLES - PLEASE TOUCH ********* \n",
    "This section defines what you expect to get from the configuration application \n",
    "in a single \"transform\" object. Define the vars you need here, and comment inline to the right of them \n",
    "for all-in-one documentation. \n",
    "Engineering will build a production \"transform\" object for every pipeline that matches what you define here.\n",
    "\n",
    "@@@ FORMAT OF THE DATA CLASS IS: @@@ \n",
    "\n",
    "<variable_name>: <data_type> #<comment explaining what the value is to future us>\n",
    "e.g.\n",
    "class Transform(DbTransform):\n",
    "    some_ratio: float\n",
    "    site_name: str\n",
    "\n",
    "~~These ARE the droids you are looking for~~\n",
    "\"\"\"\n",
    "\"\"\"\n",
    "imports\n",
    "\"\"\"\n",
    "import pandas as pd\n",
    "from core.logging import get_logger\n",
    " \n",
    "class Transform(DbTransform):\n",
    "    '''\n",
    "    YOUR properties go here!!\n",
    "    Variable properties should be assigned to the exact name of\n",
    "    the transformation as it appears in the Jupyter notebook filename.\n",
    "    ''' \n",
    "    col_status: str \n",
    "    col_substatus: str \n",
    "    customer_name: str\n",
    "        \n",
    "    def enrich_status_substatus():\n",
    "        customer_name = transform.customer_name\n",
    "        try:\n",
    "            if customer_name=='sun':\n",
    "                enrich_patient_journey_hierarchy_dict = Transform.enrich_patient_journey_hierarchy_sun()\n",
    "                df_enrich_patient_journey_hierarchy = pd.DataFrame.from_dict(enrich_patient_journey_hierarchy_dict)\n",
    "            elif customer_name=='bi':\n",
    "                # tbd \n",
    "                # = Transform.master_COL_bi()\n",
    "                pass\n",
    "            elif customer_name=='alkermes':\n",
    "                # tbd\n",
    "                # = Transform.master_COL_alkermes()\n",
    "                pass\n",
    "            else:\n",
    "                logger.exception('expecting customer name as sun bi or alkermes')\n",
    "                raise Exception('expecting customer name as sun bi or alkermes') \n",
    "        except Exception as e:\n",
    "            go = False \n",
    "            logger.exception(f'exception:{e}')\n",
    "            raise Exception(f'raise exception:{e}')    \n",
    "        return df_enrich_patient_journey_hierarchy   \n",
    "    \n",
    "    def patient_journey_hierarchy_sun():\n",
    "        # need to input/ define for ic-gold mapping\n",
    "        # temporary until furture User story defines\n",
    "        # IC - GOLD persistence solution\n",
    "        # kept for consistency with the tranforms built\n",
    "        # for prior sprint\n",
    "        patient_journey_hierarchy_dict = {}\n",
    "        patient_journey_hierarchy_dict[1]='BV/PA'\n",
    "        patient_journey_hierarchy_dict[2]='FINANCIAL'\n",
    "        patient_journey_hierarchy_dict[3]='FULFILLMENT'\n",
    "        patient_journey_hierarchy_dict[4]='INTAKE'\n",
    "        patient_journey_hierarchy_dict[5]='PATIENT'\n",
    "        patient_journey_hierarchy_dict[6]='PAYER'\n",
    "        patient_journey_hierarchy_dict[7]='PROVIDER'\n",
    "        patient_journey_hierarchy_dict[8]='TRANSFERRED'     \n",
    "        return patient_journey_hierarchy_dict \n",
    "    \n",
    "    def enrich_patient_journey_hierarchy_sun():\n",
    "        enrich_patient_journey_hierarchy_dict = {}\n",
    "        enrich_patient_journey_hierarchy_dict = {'status':['ACTIVE','ACTIVE','ACTIVE','ACTIVE','ACTIVE','ACTIVE','ACTIVE','ACTIVE','ACTIVE','ACTIVE','CANCELLED','CANCELLED','CANCELLED','CANCELLED','CANCELLED','CANCELLED','CANCELLED','CANCELLED','CANCELLED','CANCELLED','CANCELLED','CANCELLED','CANCELLED','DENIED','DENIED','DENIED','DENIED','DENIED','DENIED','DISCONTINUED','DISCONTINUED','DISCONTINUED','DISCONTINUED','DISCONTINUED','DISCONTINUED','DISCONTINUED','DISCONTINUED','DISCONTINUED','DISCONTINUED','DISCONTINUED','DISCONTINUED','DISCONTINUED','DISCONTINUED','DISCONTINUED','DISCONTINUED','PENDING','PENDING','PENDING','PENDING','PENDING','PENDING','PENDING','PENDING','PENDING','PENDING','PENDING','PENDING','PENDING','PENDING','PENDING','PENDING','PENDING'],'substatus':['HOLD OTHER ','HOLD RTS','INSURANCE HOLD','MATERIAL','PATENT RESPONSE','PRESCRIBER','PT HOLD','READY','SHIPMENT','TREATMENT DELAY','ALT THERAPY','INSURANCE COPAY','INSURANCE DENIED','INSURANCE OON','INSURANCE OTHER','OTHER','PATIENT DECEASED','PATIENT END','PATIENT FINANCIAL','PATIENT RESPONSE','PRESCRIBER END','TRANSFER HUB','TRANSFER SP','DOSAGE','FORMULARY','OTHER','PA','QUANTITY','STEP EDIT','ALT THERAPY','INS OON ','INS OTHER','INSURANCE COPAY','INSURANCE DENIED','OTHER','PATIENT DECEASED','PATIENT END','PATIENT FINANCIAL','PATIENT RESPONSE','PRESCRIBER END','SERVICES END','THERAPY COMPLETE','THERAPY END','TRANSFER HUB','TRANSFER SP','APPEAL','BENEFITS','COPAY ASSISTANCE','DELAY','FOUNDATION','INFORMATION','INVENTORY HOLD','NEW','OTHER','PA','PATIENT  RESPONSE','PATIENT CONTACT','PATIENT FINANCIAL','PATIENT HOLD','PRESCRIBER','PRESCRIBER  HOLD','THERAPY HOLD'],'patient_journey_hierarchy':['FULFILLMENT','FULFILLMENT','PAYER','FULFILLMENT','PATIENT','PROVIDER','PATIENT','FULFILLMENT','FULFILLMENT','FULFILLMENT','PROVIDER','PAYER','PAYER','PAYER','PAYER','PROVIDER','PATIENT','PATIENT','PATIENT','PATIENT','PROVIDER','TRANSFERRED','TRANSFERRED','PAYER','PAYER','PAYER','PAYER','PAYER','PAYER','PROVIDER','PAYER','PAYER','PAYER','PAYER','PROVIDER','PATIENT','PATIENT','PATIENT','PATIENT','PROVIDER','PROVIDER','PATIENT','PROVIDER','TRANSFERRED','TRANSFERRED','BV/PA','BV/PA','FINANCIAL','FULFILLMENT','FINANCIAL','INTAKE','FULFILLMENT','INTAKE','FULFILLMENT','BV/PA','FULFILLMENT','FULFILLMENT','FINANCIAL','FULFILLMENT','FULFILLMENT','FULFILLMENT','FULFILLMENT']}\n",
    "        return enrich_patient_journey_hierarchy_dict\n",
    "\n",
    "    \n",
    "    def enrich_patient_journey_hierarchy(self,df):\n",
    "        try:        \n",
    "            enriched_col_name = 'patient_journey_hierarchy'\n",
    "            go = False # assume things are not working YET.\n",
    "           \n",
    "            dffail = pd.DataFrame() # initialize df for fails\n",
    "            \n",
    "            logger.info('try:')\n",
    "            #status_dict = {}\n",
    "            #status_list = list(status_dict.values())           \n",
    "            \n",
    "            # log metadata \n",
    "\n",
    "            \n",
    "            # df in\n",
    "            dfShape = df.shape\n",
    "            logger.info(f'df in  shape: {dfShape[0]} {dfShape[1]}')\n",
    "            logger.info(f'df in {df.head()}') \n",
    "            \n",
    "            # are we expecting certain column names? YES \n",
    "            statusColNameExpected = transform.col_status\n",
    "            substatusColNameExpected = transform.col_substatus\n",
    "            \n",
    "            logger.info(f'expecting column name  referral as:{statusColNameExpected}')\n",
    "            logger.info(f'expecting column name  referral as:{substatusColNameExpected}')\n",
    "            columnNamesArr = df.columns.values.tolist()\n",
    "            logger.info(f'df column names:{columnNamesArr}')\n",
    "            \n",
    "            if statusColNameExpected in columnNamesArr and substatusColNameExpected in columnNamesArr:\n",
    " \n",
    "                # apply Upper Case to col(s) values of interest\n",
    "                # apply strip  to col(s) values of interest\n",
    "                # apply other cleanup for substaus\n",
    "                df[statusColNameExpected]= df[statusColNameExpected].apply(lambda x: x.upper() if x is not None else x)   \n",
    "                df[statusColNameExpected]= df[statusColNameExpected].apply(lambda x: x.strip() if x is not None else x)\n",
    "                df[substatusColNameExpected]= df[substatusColNameExpected].apply(lambda x: x.upper() if x is not None else x)   \n",
    "                df[substatusColNameExpected]= df[substatusColNameExpected].apply(lambda x: x.strip() if x is not None else x)\n",
    "                df[substatusColNameExpected]= df[substatusColNameExpected].apply(lambda x: x.replace('_',' ').replace('\\r', '').replace('\\t', '').replace('\\w', '') if x is not None else x)\n",
    "                \n",
    "                \n",
    "                # enrich mapping\n",
    "                df_enrich_patient_journey_hierarchy = pd.DataFrame()\n",
    "                df_enrich_patient_journey_hierarchy = Transform.enrich_status_substatus()\n",
    "                \n",
    "                # what fails\n",
    "                dffail =  pd.DataFrame()\n",
    "                dffail = df_enrich_patient_journey_hierarchy \n",
    "                # dffail = df[~df[statusColNameExpected].isin(status_list)]\n",
    "                # apply master selection for the column of interest\n",
    "                # what passes\n",
    "                df = pd.DataFrame()\n",
    "                #df = df[df[statusColNameExpected].isin(status_list)]\n",
    "                #df = df_enrich_patient_journey_hierarchy # temporary for DEV/DEBUG purposes\n",
    "                \n",
    "                # meta data log for what comes out of the function pass and fail df\n",
    "                dfOutSize = df.size\n",
    "                dfOutShape = df.shape\n",
    "                dffailSize = dffail.size\n",
    "                dffailShape = dffail.shape\n",
    "                logger.info(f'df in   shape: {dfShape[0]} {dfShape[1]}')                \n",
    "                logger.info(f'df pass shape: {dfOutShape[0]} {dfOutShape[1]}')\n",
    "                logger.info(f'df fail shape: {dffailShape[0]} {dffailShape[1]}')\n",
    "                logger.info(f'df pass {df.head()}')\n",
    "                logger.info(f'df fail {dffail.head()}')  \n",
    "                go = True\n",
    "            else:\n",
    "                go = False  \n",
    "                logger.exception('expecting column names for patient status substatus if/else exception raise')\n",
    "                raise Exception('expecting column names for patient status substatus if/else exception raise')              \n",
    "        except Exception as e:\n",
    "            go = False  \n",
    "            logger.exception(f'exception:{e}')\n",
    "            raise Exception(str(e))\n",
    "        else:\n",
    "            pass\n",
    "        finally:\n",
    "            pass\n",
    "        return df.copy(),dffail.copy(),go\n",
    "                \n",
    "\n",
    "transform = Transform()\n",
    "logger = get_logger(f'core.transforms.{transform.state}.{transform.name}')"
   ]
  },
  {
   "cell_type": "markdown",
   "metadata": {},
   "source": [
    "### *Please place your value assignments for development below*\n",
    "### <font color=pink>This cell will be turned off in production, Engineering will set to pull from the configuration</color>"
   ]
  },
  {
   "cell_type": "code",
   "execution_count": 167,
   "metadata": {},
   "outputs": [],
   "source": [
    "## Please place your value assignments for development here!!\n",
    "## This cell will be turned off in production and Engineering will set to pull from the configuration application instead\n",
    "## For the last example, this could look like...\n",
    "## transform.some_ratio = 0.6\n",
    "## transform.site_name = \"WALGREENS\"\n",
    "\n",
    "transform.customer_name = 'sun'\n",
    "transform.col_status = 'status_code'\n",
    "transform.col_substatus = 'sub_status'\n",
    "\n"
   ]
  },
  {
   "cell_type": "markdown",
   "metadata": {},
   "source": [
    "### Description\n",
    "What does this transformation do? be specific.\n",
    "\n",
    "![what does your transform do](assets/what.gif)"
   ]
  },
  {
   "cell_type": "markdown",
   "metadata": {},
   "source": [
    "## Planned\n",
    "\n",
    "We map status/sub-status combinations to a patient journey model in order to provide actionable insights to our customers.\n",
    "\n",
    "Definition of Done:\n",
    "\n",
    "- by status/sub-status combination - map to a patient journey bucket defined in a bridge table.\n",
    "- process to kick out any statuses/sub-statuses that are NOT mapped. \n",
    "\n",
    "**Transform assumes MASTER patient status and MASTER substatus transforms at a minimum have been run.**\n",
    "\n"
   ]
  },
  {
   "cell_type": "markdown",
   "metadata": {},
   "source": [
    "### FETCH DATA - TOUCH, BUT CAREFULLY\n",
    "### <font color=pink>This cell will be turned off in production, as the input_contract will be handled by the pipeline</color>"
   ]
  },
  {
   "cell_type": "code",
   "execution_count": 137,
   "metadata": {},
   "outputs": [
    {
     "name": "stdout",
     "output_type": "stream",
     "text": [
      "2019-08-08 18:46:10,368 - core.transforms.enrich.enrich_patient_journey_hierarchy - INFO - FETCH DATA CELL - TOUCH - This cell will be turned off in production, as the input_contract will be handled by the pipeline. \n",
      "2019-08-08 18:46:10,371 - core.dataset_contract.DatasetContract - INFO - Fetching dataframe from s3 location s3://ichain-dev/sun-extract-validation/sun/ilumya/ingest/symphony_health_association_ingest_column_mapping.\n",
      "2019-08-08 18:46:10,389 - urllib3.util.retry - DEBUG - Converted retries value: False -> Retry(total=False, connect=None, read=None, redirect=0, status=None)\n",
      "2019-08-08 18:46:10,390 - urllib3.connectionpool - DEBUG - Starting new HTTPS connection (1): ichain-dev.s3.amazonaws.com:443\n",
      "2019-08-08 18:46:10,504 - urllib3.connectionpool - DEBUG - https://ichain-dev.s3.amazonaws.com:443 \"GET /?prefix=sun-extract-validation%2Fsun%2Filumya%2Fingest%2Fsymphony_health_association_ingest_column_mapping&encoding-type=url HTTP/1.1\" 200 None\n",
      "2019-08-08 18:46:10,557 - urllib3.util.retry - DEBUG - Converted retries value: False -> Retry(total=False, connect=None, read=None, redirect=0, status=None)\n",
      "2019-08-08 18:46:10,559 - urllib3.connectionpool - DEBUG - Starting new HTTPS connection (1): ichain-dev.s3.amazonaws.com:443\n",
      "2019-08-08 18:46:10,633 - urllib3.connectionpool - DEBUG - https://ichain-dev.s3.amazonaws.com:443 \"HEAD /sun-extract-validation/sun/ilumya/ingest/symphony_health_association_ingest_column_mapping/__metadata_run_id%3D3/1a6ffd3598d442e38fbba66ea85a55a2.parquet HTTP/1.1\" 200 0\n"
     ]
    }
   ],
   "source": [
    "\"\"\"\n",
    "************ FETCH DATA - TOUCH, BUT CAREFULLY **************\n",
    "This cell will be turned off in production, as the input_contract will be handled by the pipeline.\n",
    "\"\"\"\n",
    "logger.info(\"FETCH DATA CELL - TOUCH - This cell will be turned off in production, as the input_contract will be handled by the pipeline. \")\n",
    "\n",
    "# for testing / development only\n",
    "run_id = 3\n",
    "\n",
    "if not input_branch:\n",
    "    input_branch = BRANCH_NAME\n",
    "input_contract = DatasetContract(branch=input_branch,\n",
    "                                 state=input_state, \n",
    "                                 parent=input_pharma, \n",
    "                                 child=input_brand, \n",
    "                                 dataset=input_name)\n",
    "run_filter = []\n",
    "run_filter.append(dict(partition=\"__metadata_run_id\", comparison=\"==\", values=[run_id]))\n",
    "# IF YOU HAVE PUBLISHED DATA MULTIPLE TIMES, uncomment the above line and change the int to the run_id to fetch.\n",
    "# Otherwise, you will have duplicate values in your fetched dataset!\n",
    "\n",
    "# bypass/comment out when unit testing individual parquet files\n",
    "df = input_contract.fetch(filters=run_filter)\n",
    "\n"
   ]
  },
  {
   "cell_type": "markdown",
   "metadata": {},
   "source": [
    "## *<font color=grey>unit test development only*</font>\n",
    "*<font color=grey>The next **5** cells will be deleted in production.* </font>"
   ]
  },
  {
   "cell_type": "raw",
   "metadata": {},
   "source": [
    "import pyarrow.parquet as pq\n",
    "import s3fs\n",
    "\n",
    "def pandas_from_parquet_s3(file_path):  \n",
    "    s3 = s3fs.S3FileSystem()\n",
    "    df = (\n",
    "        pq\n",
    "        .ParquetDataset(file_path, filesystem=s3)\n",
    "        .read_pandas()\n",
    "        .to_pandas()\n",
    "    )    \n",
    "    return df"
   ]
  },
  {
   "cell_type": "raw",
   "metadata": {},
   "source": [
    "# unit test/development \n",
    "# isolate on individual parquet files\n",
    "#TEST 1\n",
    "#df = pandas_from_parquet_s3('ichain-dev/sun-extract-validation/sun/ilumya/ingest/symphony_health_association_ingest_column_mapping/__metadata_run_id=3/90ca3aa7b0bb4246a281591b013ff54e.parquet')\n",
    "# TEST 2\n",
    "#df = pandas_from_parquet_s3('ichain-dev/sun-extract-validation/sun/ilumya/ingest/symphony_health_association_ingest_column_mapping/__metadata_run_id=3/d7ad974cef284e19aa7b5ac410220b96.parquet')\n",
    "# TEST 3\n",
    "#df = pandas_from_parquet_s3('ichain-dev/sun-extract-validation/sun/ilumya/ingest/symphony_health_association_ingest_column_mapping/__metadata_run_id=3/1a6ffd3598d442e38fbba66ea85a55a2.parquet')\n",
    "# TEST 4\n",
    "#df = pandas_from_parquet_s3('ichain-dev/sun-extract-validation/sun/ilumya/ingest/symphony_health_association_ingest_column_mapping/__metadata_run_id=3/5c00059d9fc04b0e8bc4ce764c50f3fb.parquet')\n",
    "# TEST 5\n",
    "# df = pandas_from_parquet_s3('ichain-dev/sun-extract-validation/sun/ilumya/ingest/symphony_health_association_ingest_column_mapping/__metadata_run_id=3/6eceb7ce59bd4dec8720316b4209b0e3.parquet')\n",
    "# THEN ALL TEST use \n",
    "# then use the FETCH DATA - TOUCH, BUT CAREFULLY CELL\n",
    "#'ichain-dev/dc-578_patientstatus/sun/ilumya/master/master_patient_status/__metadata_run_id=3/__metadata_run_id=3/__metadata_run_id=3/__metadata_run_id=3/__metadata_run_id=3/__metadata_run_id=3/__metadata_run_id=3/__metadata_run_id=3/__metadata_run_id=3/__metadata_run_id=3/__metadata_run_id=3/__metadata_run_id=3/3598bce37be34ef4961dcbb4fbccaa0d.parquet'"
   ]
  },
  {
   "cell_type": "code",
   "execution_count": 148,
   "metadata": {},
   "outputs": [
    {
     "name": "stdout",
     "output_type": "stream",
     "text": [
      "shape: 24457 72\n"
     ]
    }
   ],
   "source": [
    "# unit test/development only\n",
    "# before shot unit testing only\n",
    "dfSize = df.size\n",
    "dfShape = df.shape\n",
    "print('shape: {} {}'.format(dfShape[0],dfShape[1])) "
   ]
  },
  {
   "cell_type": "code",
   "execution_count": 139,
   "metadata": {},
   "outputs": [],
   "source": [
    "# unit test/development only\n",
    "# needed to see the col(s) of interest\n",
    "pd.set_option('display.max_columns', 50)"
   ]
  },
  {
   "cell_type": "code",
   "execution_count": 155,
   "metadata": {},
   "outputs": [
    {
     "data": {
      "text/plain": [
       "0               OTHER\n",
       "1       INSURANCE OON\n",
       "2               OTHER\n",
       "3       INSURANCE OON\n",
       "4               OTHER\n",
       "            ...      \n",
       "1407            READY\n",
       "1408         SHIPMENT\n",
       "1409            READY\n",
       "1410         SHIPMENT\n",
       "1411               PA\n",
       "Name: sub_status, Length: 24457, dtype: object"
      ]
     },
     "execution_count": 155,
     "metadata": {},
     "output_type": "execute_result"
    }
   ],
   "source": [
    "## unit test/development only\n",
    "#df.head()\n",
    "df['status_code']\n",
    "df['sub_status']\n",
    "#df['temp'] = df['status_code'] + df['sub_status']\n",
    "#cols_of_interest = ['status_code','sub_status']\n",
    "#df['temp']\n",
    "#df[cols_of_interest]\n",
    "#df['temp']\n",
    "#df['temp'].value_counts(dropna=False)\n",
    "#df[transform.col_referral_source].value_counts(dropna=False)\n"
   ]
  },
  {
   "cell_type": "markdown",
   "metadata": {},
   "source": [
    "# <font color=red>**CALL**</font> THE TRANSFORM"
   ]
  },
  {
   "cell_type": "code",
   "execution_count": 168,
   "metadata": {},
   "outputs": [
    {
     "name": "stdout",
     "output_type": "stream",
     "text": [
      "2019-08-08 19:19:42,036 - core.transforms.enrich.enrich_patient_journey_hierarchy - INFO - CALL THE TRANSFORM - execute your transformation - the final output needs to be a variable named final_dataframe\n",
      "2019-08-08 19:19:42,040 - core.transforms.enrich.enrich_patient_journey_hierarchy - INFO - try:\n",
      "2019-08-08 19:19:42,041 - core.transforms.enrich.enrich_patient_journey_hierarchy - INFO - df in  shape: 24457 72\n",
      "2019-08-08 19:19:42,079 - core.transforms.enrich.enrich_patient_journey_hierarchy - INFO - df in          rec_date pharm_code   pharm_npi transtype pharm_transaction_id  \\\n",
      "0  20181024115959    ACCREDO  1346208949       COM   279133432018102401   \n",
      "1  20181025115959    ACCREDO  1346208949       COM   278370982018102502   \n",
      "2  20181029115959    ACCREDO  1346208949       COM   279181482018102903   \n",
      "3  20181102115959    ACCREDO  1346208949       COM   267244982018110204   \n",
      "4  20181106115959    ACCREDO  1346208949       COM   160618142018110605   \n",
      "\n",
      "  trans_seq ref_source        ref_date program_id pharmacy_id pat_last_name  \\\n",
      "0         0     DIRECT  20181019120000       None    27913343          None   \n",
      "1         0     DIRECT  20181022120000       None    27837098          None   \n",
      "2         0     DIRECT  20181024120000       None    27918148          None   \n",
      "3         0     DIRECT  20181030120000       None    26724498          None   \n",
      "4         0     DIRECT  20181102120000       None    16061814          None   \n",
      "\n",
      "  pat_first_name pat_dob pat_gender pat_addr1 pat_addr2 pat_city pat_state  \\\n",
      "0           None    None       None      None      None     None      None   \n",
      "1           None    None          F      None      None     None      None   \n",
      "2           None    None          M      None      None     None      None   \n",
      "3           None    None          F      None      None     None      None   \n",
      "4           None    None          F      None      None     None      None   \n",
      "\n",
      "  pat_zip dx1_code dx2_code     status_date status_code     sub_status  \\\n",
      "0      00    L40.0     None  20181024115959   CANCELLED          OTHER   \n",
      "1      00    L40.0     None  20181025115959   CANCELLED  INSURANCE OON   \n",
      "2      00    L40.0     None  20181029115959   CANCELLED          OTHER   \n",
      "3      00      Q84    L40.0  20181102115959   CANCELLED  INSURANCE OON   \n",
      "4      00    696.1     None  20181106115959   CANCELLED          OTHER   \n",
      "\n",
      "  pres_last_name  ... shiptracking_num ship_location ship_address ship_city  \\\n",
      "0           None  ...             None          None         None      None   \n",
      "1      GREENBERG  ...             None          None         None      None   \n",
      "2        SCIURBA  ...             None          None         None      None   \n",
      "3       KNUCKLES  ...             None          None         None      None   \n",
      "4           KORY  ...             None          None         None      None   \n",
      "\n",
      "  ship_state ship_zip has_medical primary_coverage_type  \\\n",
      "0       None     None           Y               MEDICAL   \n",
      "1       None     None           Y               MEDICAL   \n",
      "2       None     None           Y               MEDICAL   \n",
      "3       None     None           Y               MEDICAL   \n",
      "4       None     None           Y               MEDICAL   \n",
      "\n",
      "           primary_payer_name primary_payer_type secondary_coverage_type  \\\n",
      "0              GENERAL DIRECT         COMMERCIAL                    None   \n",
      "1  BROWN & TOLAND MEDICAL GRP         COMMERCIAL                    None   \n",
      "2     GENERAL HORIZON BCBS NJ         COMMERCIAL                    None   \n",
      "3     ANTHEM BCBS OF KENTUCKY           MEDICARE                    None   \n",
      "4             EXPRESS SCRIPTS         COMMERCIAL                    None   \n",
      "\n",
      "  secondary_payer_name secondary_payer_type plan_paid_amt pat_copay  \\\n",
      "0                 None                 None          None      None   \n",
      "1                 None                 None          None      None   \n",
      "2                 None                 None          None      None   \n",
      "3                 None                 None          None      None   \n",
      "4                 None                 None          None      None   \n",
      "\n",
      "  copay_assist_amount oth_payer_amt xfer_pharmname msa_patient_id  \\\n",
      "0                None          None           None           None   \n",
      "1                None          None           None           None   \n",
      "2                None          None           None           None   \n",
      "3                None          None           None           None   \n",
      "4                None          None           None           None   \n",
      "\n",
      "  msa_patient_bmap __metadata_run_timestamp __metadata_app_version  \\\n",
      "0            NNNNV      2019-07-01 13:25:07                 0.0.11   \n",
      "1            NNNVV      2019-07-01 13:25:07                 0.0.11   \n",
      "2            NNNVV      2019-07-01 13:25:07                 0.0.11   \n",
      "3            NNNVV      2019-07-01 13:25:07                 0.0.11   \n",
      "4            NNNVV      2019-07-01 13:25:07                 0.0.11   \n",
      "\n",
      "                          __metadata_output_contract  \\\n",
      "0  s3://ichain-dev/sun-extract-validation/sun/ilu...   \n",
      "1  s3://ichain-dev/sun-extract-validation/sun/ilu...   \n",
      "2  s3://ichain-dev/sun-extract-validation/sun/ilu...   \n",
      "3  s3://ichain-dev/sun-extract-validation/sun/ilu...   \n",
      "4  s3://ichain-dev/sun-extract-validation/sun/ilu...   \n",
      "\n",
      "  __metadata_transform_timestamp __metadata_run_id  \n",
      "0            2019-07-01 13:35:22                 3  \n",
      "1            2019-07-01 13:35:22                 3  \n",
      "2            2019-07-01 13:35:22                 3  \n",
      "3            2019-07-01 13:35:22                 3  \n",
      "4            2019-07-01 13:35:22                 3  \n",
      "\n",
      "[5 rows x 72 columns]\n",
      "2019-08-08 19:19:42,080 - core.transforms.enrich.enrich_patient_journey_hierarchy - INFO - expecting column name  referral as:status_code\n",
      "2019-08-08 19:19:42,081 - core.transforms.enrich.enrich_patient_journey_hierarchy - INFO - expecting column name  referral as:sub_status\n",
      "2019-08-08 19:19:42,082 - core.transforms.enrich.enrich_patient_journey_hierarchy - INFO - df column names:['rec_date', 'pharm_code', 'pharm_npi', 'transtype', 'pharm_transaction_id', 'trans_seq', 'ref_source', 'ref_date', 'program_id', 'pharmacy_id', 'pat_last_name', 'pat_first_name', 'pat_dob', 'pat_gender', 'pat_addr1', 'pat_addr2', 'pat_city', 'pat_state', 'pat_zip', 'dx1_code', 'dx2_code', 'status_date', 'status_code', 'sub_status', 'pres_last_name', 'pres_first_name', 'pres_addr1', 'pres_addr2', 'pres_city', 'pres_state', 'pres_zip', 'pres_phone', 'pres_npi', 'pres_dea', 'facility_name', 'rxdate', 'rxnumber', 'rxrefills', 'rxfill', 'refill_remaining', 'prev_disp', 'rx_ndc_number', 'medication', 'quantity', 'day_supply', 'ship_date', 'ship_carrier', 'shiptracking_num', 'ship_location', 'ship_address', 'ship_city', 'ship_state', 'ship_zip', 'has_medical', 'primary_coverage_type', 'primary_payer_name', 'primary_payer_type', 'secondary_coverage_type', 'secondary_payer_name', 'secondary_payer_type', 'plan_paid_amt', 'pat_copay', 'copay_assist_amount', 'oth_payer_amt', 'xfer_pharmname', 'msa_patient_id', 'msa_patient_bmap', '__metadata_run_timestamp', '__metadata_app_version', '__metadata_output_contract', '__metadata_transform_timestamp', '__metadata_run_id']\n",
      "2019-08-08 19:19:42,152 - core.transforms.enrich.enrich_patient_journey_hierarchy - INFO - df in   shape: 24457 72\n",
      "2019-08-08 19:19:42,153 - core.transforms.enrich.enrich_patient_journey_hierarchy - INFO - df pass shape: 0 0\n",
      "2019-08-08 19:19:42,154 - core.transforms.enrich.enrich_patient_journey_hierarchy - INFO - df fail shape: 62 3\n",
      "2019-08-08 19:19:42,156 - core.transforms.enrich.enrich_patient_journey_hierarchy - INFO - df pass Empty DataFrame\n",
      "Columns: []\n",
      "Index: []\n",
      "2019-08-08 19:19:42,160 - core.transforms.enrich.enrich_patient_journey_hierarchy - INFO - df fail    status        substatus patient_journey_hierarchy\n",
      "0  ACTIVE      HOLD OTHER                FULFILLMENT\n",
      "1  ACTIVE         HOLD RTS               FULFILLMENT\n",
      "2  ACTIVE   INSURANCE HOLD                     PAYER\n",
      "3  ACTIVE         MATERIAL               FULFILLMENT\n",
      "4  ACTIVE  PATENT RESPONSE                   PATIENT\n",
      "2019-08-08 19:19:42,162 - core.transforms.enrich.enrich_patient_journey_hierarchy - INFO - CALL THE TRANSFORM -  go no go = GO\n"
     ]
    }
   ],
   "source": [
    "### Use the variables above to execute your transformation.\n",
    "### the final output needs to be a variable named final_dataframe\n",
    "logger.info(\"CALL THE TRANSFORM - execute your transformation - the final output needs to be a variable named final_dataframe\")\n",
    "\n",
    "final_dataframe, final_fail, go = transform.enrich_patient_journey_hierarchy(df)\n",
    "\n",
    "if go==True:\n",
    "    logger.info(\"CALL THE TRANSFORM -  go no go = GO\")\n",
    "elif go==False:\n",
    "    logger.info(\"CALL THE TRANSFORM -  go no go = NO go\")\n",
    "else:\n",
    "    go=False\n",
    "    logger.info(\"CALL THE TRANSFORM -  go no go = unknown make it NO go\")\n",
    "        "
   ]
  },
  {
   "cell_type": "markdown",
   "metadata": {},
   "source": [
    "### *<font color=grey>unittest python*</font>"
   ]
  },
  {
   "cell_type": "code",
   "execution_count": 130,
   "metadata": {},
   "outputs": [
    {
     "name": "stderr",
     "output_type": "stream",
     "text": [
      "test_ut_shapeInVsOut (__main__.TestNotebook) ... FAIL\n",
      "test_ut_shape_InVsfail (__main__.TestNotebook) ... FAIL\n",
      "test_ut_shape_passVsfail (__main__.TestNotebook) ... ok\n",
      "\n",
      "======================================================================\n",
      "FAIL: test_ut_shapeInVsOut (__main__.TestNotebook)\n",
      "----------------------------------------------------------------------\n",
      "Traceback (most recent call last):\n",
      "  File \"<ipython-input-130-92bb1d26151d>\", line 28, in test_ut_shapeInVsOut\n",
      "    self.assertEqual(ut_shapeInputVsOut(df,final_dataframe),True)\n",
      "AssertionError: False != True\n",
      "\n",
      "======================================================================\n",
      "FAIL: test_ut_shape_InVsfail (__main__.TestNotebook)\n",
      "----------------------------------------------------------------------\n",
      "Traceback (most recent call last):\n",
      "  File \"<ipython-input-130-92bb1d26151d>\", line 32, in test_ut_shape_InVsfail\n",
      "    self.assertEqual(ut_shape_InVsfail(df,final_fail),True)\n",
      "AssertionError: False != True\n",
      "\n",
      "----------------------------------------------------------------------\n",
      "Ran 3 tests in 0.008s\n",
      "\n",
      "FAILED (failures=2)\n"
     ]
    },
    {
     "data": {
      "text/plain": [
       "<unittest.main.TestProgram at 0x7f8163b3a198>"
      ]
     },
     "execution_count": 130,
     "metadata": {},
     "output_type": "execute_result"
    }
   ],
   "source": [
    "import unittest\n",
    "\n",
    "def ut_shapeInVsOut(df,final_dataframe):\n",
    "    \"\"\"\n",
    "    assertion will change based on coding state and input datasets\n",
    "    inital template (gutted) expect ... FAIL\n",
    "    \"\"\"\n",
    "    return df.shape == final_dataframe.shape\n",
    "\n",
    "def ut_shape_InVsfail(df,df_fail):\n",
    "    \"\"\"\n",
    "    assertion will change based on coding state and input datasets\n",
    "    inital template (gutted) expect ... FAIL\n",
    "    \"\"\"\n",
    "    return df.shape == df_fail.shape\n",
    "\n",
    "def ut_shape_passVsfail(df_pass,df_fail):\n",
    "    \"\"\"\n",
    "    assertion will change based on coding state and input datasets\n",
    "    inital template (gutted) expect ... ok\n",
    "    \"\"\"\n",
    "    return df_pass.shape == df_fail.shape\n",
    "\n",
    "\n",
    "class TestNotebook(unittest.TestCase):\n",
    "    \n",
    "    def test_ut_shapeInVsOut(self):\n",
    "        \n",
    "        self.assertEqual(ut_shapeInputVsOut(df,final_dataframe),True)\n",
    "        \n",
    "    def test_ut_shape_InVsfail(self):\n",
    "        \n",
    "        self.assertEqual(ut_shape_InVsfail(df,final_fail),True)     \n",
    "        \n",
    "    def test_ut_shape_passVsfail(self):\n",
    "        \n",
    "        self.assertEqual(ut_shape_passVsfail(final_dataframe,final_fail),True)    \n",
    "        \n",
    "     \n",
    "                \n",
    "\"\"\"\n",
    "\"\"\"\n",
    "# for development only\n",
    "unittest.main(argv=[''], verbosity= 2, exit=False)        \n",
    "    "
   ]
  },
  {
   "cell_type": "code",
   "execution_count": 169,
   "metadata": {},
   "outputs": [
    {
     "data": {
      "text/html": [
       "<div>\n",
       "<style scoped>\n",
       "    .dataframe tbody tr th:only-of-type {\n",
       "        vertical-align: middle;\n",
       "    }\n",
       "\n",
       "    .dataframe tbody tr th {\n",
       "        vertical-align: top;\n",
       "    }\n",
       "\n",
       "    .dataframe thead th {\n",
       "        text-align: right;\n",
       "    }\n",
       "</style>\n",
       "<table border=\"1\" class=\"dataframe\">\n",
       "  <thead>\n",
       "    <tr style=\"text-align: right;\">\n",
       "      <th></th>\n",
       "      <th>status</th>\n",
       "      <th>substatus</th>\n",
       "      <th>patient_journey_hierarchy</th>\n",
       "    </tr>\n",
       "  </thead>\n",
       "  <tbody>\n",
       "    <tr>\n",
       "      <th>0</th>\n",
       "      <td>ACTIVE</td>\n",
       "      <td>HOLD OTHER</td>\n",
       "      <td>FULFILLMENT</td>\n",
       "    </tr>\n",
       "    <tr>\n",
       "      <th>1</th>\n",
       "      <td>ACTIVE</td>\n",
       "      <td>HOLD RTS</td>\n",
       "      <td>FULFILLMENT</td>\n",
       "    </tr>\n",
       "    <tr>\n",
       "      <th>2</th>\n",
       "      <td>ACTIVE</td>\n",
       "      <td>INSURANCE HOLD</td>\n",
       "      <td>PAYER</td>\n",
       "    </tr>\n",
       "    <tr>\n",
       "      <th>3</th>\n",
       "      <td>ACTIVE</td>\n",
       "      <td>MATERIAL</td>\n",
       "      <td>FULFILLMENT</td>\n",
       "    </tr>\n",
       "    <tr>\n",
       "      <th>4</th>\n",
       "      <td>ACTIVE</td>\n",
       "      <td>PATENT RESPONSE</td>\n",
       "      <td>PATIENT</td>\n",
       "    </tr>\n",
       "  </tbody>\n",
       "</table>\n",
       "</div>"
      ],
      "text/plain": [
       "   status        substatus patient_journey_hierarchy\n",
       "0  ACTIVE      HOLD OTHER                FULFILLMENT\n",
       "1  ACTIVE         HOLD RTS               FULFILLMENT\n",
       "2  ACTIVE   INSURANCE HOLD                     PAYER\n",
       "3  ACTIVE         MATERIAL               FULFILLMENT\n",
       "4  ACTIVE  PATENT RESPONSE                   PATIENT"
      ]
     },
     "execution_count": 169,
     "metadata": {},
     "output_type": "execute_result"
    }
   ],
   "source": [
    "# untit test/development only look at the fails\n",
    "#final_fail.head()\n",
    "#final_fail[transform.col_status]"
   ]
  },
  {
   "cell_type": "code",
   "execution_count": null,
   "metadata": {},
   "outputs": [],
   "source": [
    "# untit test/development only look at the pass(es)\n",
    "#final_dataframe.head()\n",
    "#final_dataframe[transform.col_status]"
   ]
  },
  {
   "cell_type": "markdown",
   "metadata": {},
   "source": [
    "# **publish**\n",
    "### Writing to S3\n",
    "Invoke the `publish()` command to write to a given contract. Some things to know:\n",
    "- To invoke publish a contract must be at the grain of dataset. This is because file names will be set by the dataframe=\\>parquet conversion. \n",
    "- publish only accepts a pandas dataframe.\n",
    "- publish does not allow for timedelta data types at this time (this is missing functionality in pyarrow).\n",
    "- publish handles partitioning the data as per contract, creating file paths, and creating the binary parquet files in S3, as well as the needed metadata. <br>\n",
    "**- by default, all datasets include a single partition, \\_\\_metadata\\_run\\_id, the RunEvent ID of an executed pipeline**"
   ]
  },
  {
   "cell_type": "code",
   "execution_count": null,
   "metadata": {},
   "outputs": [],
   "source": [
    "## that's it - just provide the final dataframe to the var final_dataframe and we take it from there\n",
    "if go==True:\n",
    "    logger.info(\"PUBLISH - that's it - its a GO - just provide the final dataframe to the var final_dataframe and we take it from there\")\n",
    "    transform.publish_contract.publish(final_dataframe, run_id, session)\n",
    "elif go==False:\n",
    "    logger.info(\"PUBLISH -  go no go = NO go -  so DONT publish\")\n",
    "else:\n",
    "    go=False\n",
    "    logger.info(\"PUBLISH -  go no go = unknown make it NO go - so DONT publish\")    \n",
    "session.close()"
   ]
  },
  {
   "cell_type": "markdown",
   "metadata": {},
   "source": [
    "***"
   ]
  },
  {
   "cell_type": "markdown",
   "metadata": {},
   "source": []
  }
 ],
 "metadata": {
  "celltoolbar": "Tags",
  "kernelspec": {
   "display_name": "Python 3",
   "language": "python",
   "name": "python3"
  },
  "language_info": {
   "codemirror_mode": {
    "name": "ipython",
    "version": 3
   },
   "file_extension": ".py",
   "mimetype": "text/x-python",
   "name": "python",
   "nbconvert_exporter": "python",
   "pygments_lexer": "ipython3",
   "version": "3.6.9"
  }
 },
 "nbformat": 4,
 "nbformat_minor": 2
}
