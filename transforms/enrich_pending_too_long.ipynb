{
 "cells": [
  {
   "cell_type": "code",
   "execution_count": null,
   "metadata": {},
   "outputs": [],
   "source": [
    "from core.helpers.session_helper import SessionHelper\n",
    "session = SessionHelper().session"
   ]
  },
  {
   "cell_type": "raw",
   "metadata": {},
   "source": [
    "\"\"\"\n",
    "************ CONFIGURATION - PLEASE TOUCH **************\n",
    "Pipeline Builder configuration: creates configurations from variables specified here!!\n",
    "This cell will be off in production as configurations will come from the configuration postgres DB.\n",
    "\"\"\"\n",
    "# config vars: this dataset\n",
    "config_pharma = \"sun\" # the pharmaceutical company which owns {brand}\n",
    "config_brand = \"ilumya\" # the brand this pipeline operates on\n",
    "config_state = \"enrich\" # the state this transform runs in\n",
    "config_name = \"enrich_cancel_not_before_active\" # the name of this transform, which is the name of this notebook without .ipynb\n",
    "\n",
    "# input vars: dataset to fetch. Recall that a contract published to S3 has a key format branch/pharma/brand/state/name\n",
    "# Note: this key is case sensitive!!\n",
    "input_pharma = \"sun\"\n",
    "input_brand = \"ilumya\"\n",
    "input_state = \"ingest\"\n",
    "input_name = \"symphony_health_association_ingest_column_mapping\"\n",
    "input_branch = \"sun-extract-validation\" # if None, input_branch is automagically set to your working branch"
   ]
  },
  {
   "cell_type": "raw",
   "metadata": {},
   "source": [
    "\"\"\"\n",
    "************ SETUP - DON'T TOUCH **************\n",
    "Populating config mocker based on config parameters...\n",
    "\"\"\"\n",
    "import core.helpers.pipeline_builder as builder\n",
    "\n",
    "ids = builder.build(config_pharma, config_brand, config_state, config_name, session)\n",
    "transform_id = ids[0]\n",
    "run_id = ids[1]"
   ]
  },
  {
   "cell_type": "code",
   "execution_count": null,
   "metadata": {},
   "outputs": [],
   "source": [
    "\"\"\"\n",
    "************ SETUP - DON'T TOUCH **************\n",
    "This section imports data from the configuration database\n",
    "and should not need to be altered or otherwise messed with. \n",
    "~~These are not the droids you are looking for~~\n",
    "\"\"\"\n",
    "from core.constants import BRANCH_NAME, ENV_BUCKET\n",
    "from core.helpers.session_helper import SessionHelper\n",
    "from core.models.configuration import Transformation\n",
    "from dataclasses import dataclass\n",
    "from core.dataset_contract import DatasetContract\n",
    "\n",
    "db_transform = session.query(Transformation).filter(Transformation.id == transform_id).one()\n",
    "\n",
    "@dataclass\n",
    "class DbTransform:\n",
    "    id: int = db_transform.id ## the instance id of the transform in the config app\n",
    "    name: str = db_transform.transformation_template.name ## the transform name in the config app\n",
    "    state: str = db_transform.pipeline_state.pipeline_state_type.name ## the pipeline state, one of raw, ingest, master, enhance, enrich, metrics, dimensional\n",
    "    branch:str = BRANCH_NAME ## the git branch for this execution \n",
    "    brand: str = db_transform.pipeline_state.pipeline.brand.name ## the pharma brand name\n",
    "    pharmaceutical_company: str = db_transform.pipeline_state.pipeline.brand.pharmaceutical_company.name # the pharma company name\n",
    "    publish_contract: DatasetContract = DatasetContract(branch=BRANCH_NAME,\n",
    "                            state=db_transform.pipeline_state.pipeline_state_type.name,\n",
    "                            parent=db_transform.pipeline_state.pipeline.brand.pharmaceutical_company.name,\n",
    "                            child=db_transform.pipeline_state.pipeline.brand.name,\n",
    "                            dataset=db_transform.transformation_template.name)"
   ]
  },
  {
   "cell_type": "markdown",
   "metadata": {},
   "source": [
    "# CORE Cartridge Notebook::[transform name here]\n",
    "![CORE Logo](assets/coreLogo.png) \n",
    "\n",
    "---\n",
    "## Keep in Mind\n",
    "Good Transforms Are...\n",
    "- **singular in purpose:** good transforms do one and only one thing, and handle all known cases for that thing. \n",
    "- **repeatable:** transforms should be written in a way that they can be run against the same dataset an infinate number of times and get the same result every time. \n",
    "- **easy to read:** 99 times out of 100, readable, clear code that runs a little slower is more valuable than a mess that runs quickly. \n",
    "- **No 'magic numbers':** if a variable or function is not instantly obvious as to what it is or does, without context, maybe consider renaming it."
   ]
  },
  {
   "cell_type": "markdown",
   "metadata": {},
   "source": [
    "## Workflow - how to use this notebook to make science\n",
    "#### Data Science\n",
    "1. **Document your transform.** Fill out the _description_ cell below describing what it is this transform does; this will appear in the configuration application where Ops will create, configure and update pipelines. \n",
    "1. **Define your config object.** Fill out the _configuration_ cell below the commented-out guide to define the variables you want ops to set in the configuration application (these will populate here for every pipeline). \n",
    "2. **Build your transformation logic.** Use the transformation cell to do that magic that you do. \n",
    "![caution](assets/cautionTape.png)"
   ]
  },
  {
   "cell_type": "markdown",
   "metadata": {},
   "source": [
    "### Configuration"
   ]
  },
  {
   "cell_type": "code",
   "execution_count": 155,
   "metadata": {},
   "outputs": [],
   "source": [
    "\"\"\" \n",
    "********* VARIABLES - PLEASE TOUCH ********* \n",
    "This section defines what you expect to get from the configuration application \n",
    "in a single \"transform\" object. Define the vars you need here, and comment inline to the right of them \n",
    "for all-in-one documentation. \n",
    "Engineering will build a production \"transform\" object for every pipeline that matches what you define here.\n",
    "\n",
    "@@@ FORMAT OF THE DATA CLASS IS: @@@ \n",
    "\n",
    "<variable_name>: <data_type> #<comment explaining what the value is to future us>\n",
    "\n",
    "e.g.\n",
    "\n",
    "class Transform(DbTransform):\n",
    "    some_ratio: float\n",
    "    site_name: str\n",
    "\n",
    "~~These ARE the droids you are looking for~~\n",
    "\"\"\"\n",
    "\n",
    "class Transform(DbTransform):\n",
    "    '''\n",
    "    YOUR properties go here!!\n",
    "    Variable properties should be assigned to the exact name of\n",
    "    the transformation as it appears in the Jupyter notebook filename.\n",
    "    '''\n",
    "    unique_id: str = db_transform.variables.unique_id # Column name to use as ID for ic_{id}_ptl modification\n",
    "    trans_id: str = db_transform.variables.trans_id # Column name to use for Transaction ID\n",
    "    brand_col: str = db_transform.variables.brand_col # Column name to use for Brand\n",
    "    patient_id: str = db_transform.variables.patient_id # Column name to use for Patient ID\n",
    "    pharmacy: str = db_transform.variables.pharmacy # Column name to use for Pharmacy\n",
    "    status_date: str = db_transform.variables.status_date # Column name to use for Status Date\n",
    "    referral_date: str = db_transform.variables.referral_date # Column name to use for Referral Date\n",
    "    status: str = db_transform.variables.status # Column name to use for Status\n",
    "    substatus: str = db_transform.variables.substatus # Column name to use for Substatus\n",
    "    hierarchy: str = db_transform.variables.hierarchy # Column name to use for Hierarchy\n",
    "    pending_status_code: str = db_transform.variables.pending_status_code # Pending status code (customer-specific)\n",
    "    cancel_status_code: str = db_transform.variables.cancel_status_code # Cancel status code (customer-specific)\n",
    "    pending_too_long_code: str = db_transform.variables.pending_too_long_code # Pending Too Long status code\n",
    "    ptl_threshold: str = db_transform.variables.ptl_threshold # Number of days threshold for inserting a PENDING TOO LONG record (customer-specific)\n"
   ]
  },
  {
   "cell_type": "code",
   "execution_count": null,
   "metadata": {},
   "outputs": [],
   "source": [
    "transform = Transform()"
   ]
  },
  {
   "cell_type": "raw",
   "metadata": {},
   "source": [
    "## Please place your value assignments for development here!!\n",
    "## This cell will be turned off in production and Engineering will set to pull from the configuration application instead\n",
    "## For the last example, this could look like...\n",
    "## transform.some_ratio = 0.6\n",
    "## transform.site_name = \"WALGREENS\"\n",
    "\n",
    "if input_pharma == 'sun':\n",
    "    transform.unique_id = 'pharm_transaction_id'\n",
    "    transform.trans_id = 'pharm_transaction_id'\n",
    "    transform.brand_col = 'medication'\n",
    "    transform.patient_id = 'msa_patient_id'\n",
    "    transform.pharmacy = 'pharm_code'\n",
    "    transform.status_date = 'status_date'\n",
    "    transform.referral_date = 'ref_date'\n",
    "    transform.status =  'status_code'\n",
    "    transform.substatus =  'sub_status'\n",
    "    transform.hierarchy = 'hierarchy'\n",
    "    transform.pending_status_code = 'PENDING'\n",
    "    transform.cancel_status_code = 'CANCELLED'\n",
    "    transform.pending_too_long_code = 'PENDING TOO LONG'\n",
    "    transform.ptl_threshold = 60\n",
    "    datetime = '%Y%m%d'\n",
    "\n",
    "else:\n",
    "    transform.unique_id = 'pmcTransactionId'\n",
    "    transform.trans_id = 'pmcTransactionId'\n",
    "    transform.brand_col = 'medication'\n",
    "    transform.patient_id = 'pmcPatientID'\n",
    "    transform.pharmacy = 'pharmName'\n",
    "    transform.status_date = 'statusDate'\n",
    "    transform.referral_date = 'refDate'\n",
    "    transform.status =  'statusCode'\n",
    "    transform.substatus =  'custStatusCode'\n",
    "    transform.hierarchy = 'hierarchy'\n",
    "    transform.pending_status_code = 'PENDING'\n",
    "    transform.cancel_status_code = 'CANCELLED'\n",
    "    transform.pending_too_long_code = 'PENDING TOO LONG'\n",
    "    transform.ptl_threshold = 60\n",
    "    datetime = '%Y-%b-%d'"
   ]
  },
  {
   "cell_type": "markdown",
   "metadata": {},
   "source": [
    "### Description\n",
    "What does this transformation do? be specific.\n",
    "\n",
    "![what does your transform do](assets/what.gif)"
   ]
  },
  {
   "cell_type": "markdown",
   "metadata": {},
   "source": [
    "Pending Too Long enrichment. Creates a 'Cancelled - Pending Too Long' record in cases where last status reported is PENDING, and no followup has been received in at least 60 days.  This is used as part of the Fill Rate enrichment. See logic diagram below:"
   ]
  },
  {
   "cell_type": "markdown",
   "metadata": {},
   "source": [
    "<img src = 'assets/pending_too_long.svg' style=\"width:600px;\">"
   ]
  },
  {
   "cell_type": "markdown",
   "metadata": {},
   "source": [
    "### Transformation"
   ]
  },
  {
   "cell_type": "raw",
   "metadata": {},
   "source": [
    "\"\"\"\n",
    "************ FETCH DATA - TOUCH, BUT CAREFULLY **************\n",
    "This cell will be turned off in production, as the input_contract will be handled by the pipeline.\n",
    "\"\"\"\n",
    "\n",
    "if not input_branch:\n",
    "    input_branch = BRANCH_NAME\n",
    "input_contract = DatasetContract(branch=input_branch, state=input_state, parent=input_pharma, child=input_brand, dataset=input_name)\n",
    "run_filter = []\n",
    "run_filter.append(dict(partition=\"__metadata_run_id\", comparison=\"==\", values=[4]))\n",
    "# IF YOU HAVE PUBLISHED DATA MULTIPLE TIMES, uncomment the above line and change the int to the run_id to fetch.\n",
    "# Otherwise, you will have duplicate values in your fetched dataset!\n",
    "df = input_contract.fetch(filters=run_filter)"
   ]
  },
  {
   "cell_type": "code",
   "execution_count": null,
   "metadata": {},
   "outputs": [],
   "source": [
    "### Retrieve current dataset from contract\n",
    "from core.dataset_diff import DatasetDiff\n",
    "\n",
    "diff = DatasetDiff(db_transform.id)\n",
    "df = diff.get_diff(transform_name=transform.input_transform, values=[run_id])"
   ]
  },
  {
   "cell_type": "code",
   "execution_count": null,
   "metadata": {},
   "outputs": [],
   "source": [
    "df.shape"
   ]
  },
  {
   "cell_type": "code",
   "execution_count": null,
   "metadata": {},
   "outputs": [],
   "source": [
    "### Use the variables above to execute your transformation. the final output needs to be a variable named final_dataframe"
   ]
  },
  {
   "cell_type": "code",
   "execution_count": null,
   "metadata": {},
   "outputs": [],
   "source": [
    "import numpy as np\n",
    "import pandas as pd"
   ]
  },
  {
   "cell_type": "code",
   "execution_count": null,
   "metadata": {},
   "outputs": [],
   "source": [
    "pd.set_option('display.max_columns', 100)\n",
    "pd.set_option('display.max_rows', 500)"
   ]
  },
  {
   "cell_type": "markdown",
   "metadata": {},
   "source": [
    "### DATA CLEANING: ADDRESS THIS SECTION BEFORE PIPELINE INTEGRATION"
   ]
  },
  {
   "cell_type": "raw",
   "metadata": {},
   "source": [
    "# CLEAN DATA - This step should not be necessary once transform is integrated into pipeline.\n",
    "#    Extract and map relevant columns\n",
    "#    Convert dates to datetime format\n",
    "#    Extract brand from medication\n",
    "#    Convert substatuses to uppercase\n",
    "#    Populate null referral dates with the min(status_date) for that patient/pharmacy/brand.\n",
    "    \n",
    "def clean_data(cust_input_df, datetime, transform):\n",
    "\n",
    "    clean_df = (\n",
    "        cust_input_df\n",
    "        .loc[:,\n",
    "             [transform.trans_id,\n",
    "              transform.patient_id,\n",
    "              transform.pharmacy,\n",
    "              transform.brand_col,\n",
    "              transform.status_date,\n",
    "              transform.referral_date,\n",
    "              transform.status,\n",
    "              transform.substatus]\n",
    "            ]\n",
    "        .assign(**{\n",
    "            transform.status_date : lambda x: (\n",
    "                pd.to_datetime(\n",
    "                    x[transform.status_date].str[:8].astype(str),\n",
    "                    format=datetime,\n",
    "                    errors='coerce'\n",
    "                )),\n",
    "            'min_status_date' : lambda x: (\n",
    "                x.groupby([transform.patient_id,transform.pharmacy,transform.brand_col])\n",
    "                [transform.status_date]\n",
    "                .transform(min)\n",
    "            )\n",
    "        })       \n",
    "        .fillna(value={transform.referral_date:'min_status_date'})\n",
    "        .assign(**{\n",
    "            transform.referral_date : lambda x: (\n",
    "                pd.to_datetime(\n",
    "                    x[transform.referral_date].str[:8].astype(str),\n",
    "                    format=datetime,\n",
    "                    errors='coerce'\n",
    "                ))\n",
    "        })\n",
    "        .dropna()\n",
    "        .assign(**{\n",
    "            transform.brand_col : lambda x: (x[transform.brand_col].apply(lambda x: x.split()[0].strip())),\n",
    "            transform.status : lambda x: (x[transform.status].str.upper()),\n",
    "            transform.substatus : lambda x: (x[transform.substatus].str.upper())\n",
    "        })\n",
    "        .drop(['min_status_date'],axis=1)\n",
    "        .drop_duplicates()\n",
    "        .sort_values(\n",
    "            by=[transform.patient_id, transform.pharmacy, transform.brand_col, transform.status_date, transform.status, transform.trans_id],\n",
    "            ascending=[True, True, True, True, False, True])\n",
    "        .reset_index(drop=True)\n",
    "    )\n",
    "\n",
    "    return clean_df"
   ]
  },
  {
   "cell_type": "raw",
   "metadata": {},
   "source": [
    "df = clean_data(\n",
    "    df,\n",
    "    datetime,\n",
    "    transform\n",
    ")\n",
    "\n",
    "df.head()"
   ]
  },
  {
   "cell_type": "raw",
   "metadata": {},
   "source": [
    "df.shape"
   ]
  },
  {
   "cell_type": "markdown",
   "metadata": {},
   "source": [
    "### APPLY TRANSFORM LOGIC"
   ]
  },
  {
   "cell_type": "code",
   "execution_count": null,
   "metadata": {},
   "outputs": [],
   "source": [
    "# Assign Patient Journey (pj_id), Patient Journey Step (pj_step) and Patient Journey Phase (pj_phase) identifiers\n",
    "# (These IDs are used for calculation purposes only.  They will not be published)\n",
    "\n",
    "def pj(df):\n",
    "    pj_df = (\n",
    "        df\n",
    "        .assign(**{\n",
    "            'pj_id' : lambda x: (\n",
    "                x.groupby([transform.patient_id, transform.pharmacy, transform.brand_col]).grouper.group_info[0]\n",
    "            ),\n",
    "            'pj_step' : lambda x: x.index,\n",
    "            'pj_phase' : lambda x:(\n",
    "                np.where(\n",
    "                    ((x['pj_id'] == x['pj_id'].shift(1))\n",
    "                     & (x[transform.status] == x[transform.status].shift(1))),\n",
    "                    0,\n",
    "                    1\n",
    "                )\n",
    "                .cumsum()\n",
    "            )\n",
    "        })\n",
    "        .sort_values(\n",
    "            by=[transform.patient_id, transform.pharmacy, transform.brand_col, transform.status_date, transform.status, transform.trans_id],\n",
    "            ascending=[True, True, True, True, False, True])\n",
    "        .reset_index(drop=True)\n",
    "    )\n",
    "    return pj_df"
   ]
  },
  {
   "cell_type": "code",
   "execution_count": null,
   "metadata": {},
   "outputs": [],
   "source": [
    "# Assign True/False to \"last_status_flag\" to flag records that are the last in a given patient journey.\n",
    "# Get the max(status_date) for the entire dataset.\n",
    "\n",
    "def last_status(pj_df):\n",
    "    last_status_df = (\n",
    "        pj_df\n",
    "        .assign(last_status_flag = lambda x: (\n",
    "            np.where(\n",
    "                x['pj_step'] == x.groupby(['pj_id'])['pj_step'].transform(max),\n",
    "                True,\n",
    "                False\n",
    "            )\n",
    "        ))\n",
    "        .assign(max_status_date = lambda x:(\n",
    "            x[transform.status_date].max()\n",
    "        ))\n",
    "    )\n",
    "    return last_status_df"
   ]
  },
  {
   "cell_type": "code",
   "execution_count": null,
   "metadata": {},
   "outputs": [],
   "source": [
    "# Filter the data to include only the last status for patient journeys that require a \"pending too long\" record to be inserted\n",
    "# Manipulate the last status for that journey into the format of the inserted record (see Logic Diagram in description)\n",
    "\n",
    "def pending_too_long(last_status_df):\n",
    "    pending_too_long_df = (\n",
    "        last_status_df\n",
    "        .loc[lambda x: (\n",
    "            ((x[transform.status] == transform.pending_status_code)\n",
    "             &\n",
    "             (x['last_status_flag'] == True)\n",
    "             &\n",
    "             ((x['max_status_date'] - x[transform.status_date]) / np.timedelta64(1,'D') > transform.ptl_threshold)\n",
    "            ))\n",
    "            ]\n",
    "        .assign(**{\n",
    "            transform.status : transform.cancel_status_code,\n",
    "            transform.substatus : transform.pending_too_long_code,\n",
    "            transform.hierarchy : transform.pending_too_long_code,\n",
    "            transform.status_date : lambda x:(\n",
    "                x[transform.status_date] + np.timedelta64(transform.ptl_threshold, 'D')),\n",
    "            transform.unique_id : lambda x:('ic_' + x[transform.unique_id] + '_ptl')\n",
    "        })\n",
    "    )\n",
    "    return pending_too_long_df"
   ]
  },
  {
   "cell_type": "code",
   "execution_count": null,
   "metadata": {},
   "outputs": [],
   "source": [
    "# Run the pending_too_long enrichment\n",
    "\n",
    "pending_too_long_df = (\n",
    "    df\n",
    "    .pipe(pj)\n",
    "    .pipe(last_status)\n",
    "    .pipe(pending_too_long)\n",
    ")\n",
    "    \n",
    "pending_too_long_df.head()"
   ]
  },
  {
   "cell_type": "code",
   "execution_count": null,
   "metadata": {},
   "outputs": [],
   "source": [
    "final_dataframe = (\n",
    "    df\n",
    "    .append(\n",
    "        pending_too_long_df\n",
    "        .drop(['pj_id', 'pj_step', 'pj_phase', 'last_status_flag', 'max_status_date'], axis=1)\n",
    "    )\n",
    "    .sort_values(\n",
    "            by=[transform.patient_id, transform.pharmacy, transform.brand_col, transform.status_date, transform.status, transform.trans_id],\n",
    "            ascending=[True, True, True, True, False, True])\n",
    "    .reset_index(drop=True)\n",
    ")\n",
    "\n",
    "final_dataframe.head()"
   ]
  },
  {
   "cell_type": "markdown",
   "metadata": {},
   "source": [
    "### TEST TRANSFORM OUTPUT"
   ]
  },
  {
   "cell_type": "code",
   "execution_count": null,
   "metadata": {},
   "outputs": [],
   "source": [
    "# TEST 1: Create a \"test\" dataframe with expected results. Test the following scenarios:\n",
    "#    1) Last status not pending and > 60 days from max(status_date) -> Leave as is\n",
    "#    2) Last status is pending but not > 60 days from max(status_date) -> Leave as is\n",
    "#    3) Last status is pending and > 60 days from max(status_date) -> Insert \"PENDING TOO LONG\" record\n",
    "#    4) Multiple statuses reported on last day, some of which are pending, others not. -> Leave as is\n",
    "\n",
    "test_data = ([\n",
    "    ['01', 1, 0, 'ACTIVE', 'READY'],\n",
    "    ['02', 1, 1, transform.pending_status_code, 'OTHER'],\n",
    "    ['03', 1, 2, 'ACTIVE', 'READY'],\n",
    "    ['04', 2, 0, transform.cancel_status_code, 'OTHER'],\n",
    "    ['05', 2, 1, transform.pending_status_code, 'OTHER'],\n",
    "    ['06', 3, 1, transform.cancel_status_code, 'OTHER'],\n",
    "    ['07', 3, 1, transform.pending_status_code, 'OTHER'],\n",
    "    ['08', 3, 1, transform.cancel_status_code, 'OTHER'],\n",
    "    ['09', 4, 1, transform.pending_status_code, 'OTHER'],\n",
    "    ['10', 4, 99, transform.pending_status_code, 'OTHER'],\n",
    "    ['11', 5, 100, 'ACTIVE', 'SHIPMENT']\n",
    "])\n",
    "\n",
    "test_df = (\n",
    "    pd.DataFrame(test_data, columns = [transform.unique_id, transform.patient_id, transform.status_date, transform.status, transform.substatus])\n",
    "    .assign(**{\n",
    "        transform.pharmacy : 'ABC',\n",
    "        transform.brand_col : 'A',\n",
    "        transform.status_date : lambda x: (\n",
    "            pd.to_datetime('2019-01-01', format='%Y-%m-%d') + pd.to_timedelta(x[transform.status_date], unit='d')),\n",
    "        transform.hierarchy : None,\n",
    "        transform.trans_id : 1\n",
    "    })\n",
    "    .sort_values(\n",
    "            by=[transform.patient_id, transform.pharmacy, transform.brand_col, transform.status_date, transform.status, transform.trans_id],\n",
    "            ascending=[True, True, True, True, False, True])\n",
    "    .reset_index(drop=True)\n",
    ")\n",
    "\n",
    "test_df"
   ]
  },
  {
   "cell_type": "code",
   "execution_count": null,
   "metadata": {},
   "outputs": [],
   "source": [
    "# Apply transform to test dataframe\n",
    "\n",
    "test_output = (\n",
    "    test_df\n",
    "    .pipe(pj)\n",
    "    .pipe(last_status)\n",
    "    .pipe(pending_too_long)\n",
    ")\n",
    "\n",
    "final_dataframe_test = (\n",
    "    test_df\n",
    "    .append(\n",
    "        test_output\n",
    "        .drop(['pj_id', 'pj_step', 'pj_phase', 'last_status_flag', 'max_status_date'], axis=1),\n",
    "        sort=False\n",
    "    )\n",
    "    .sort_values(\n",
    "            by=[transform.patient_id, transform.pharmacy, transform.brand_col, transform.status_date, transform.status, transform.trans_id],\n",
    "            ascending=[True, True, True, True, False, True])\n",
    "    .reset_index(drop=True)\n",
    ")\n",
    "\n",
    "final_dataframe_test"
   ]
  },
  {
   "cell_type": "code",
   "execution_count": null,
   "metadata": {},
   "outputs": [],
   "source": [
    "# Check that results match expectations\n",
    "\n",
    "test1 = (\n",
    "    (test_df.shape[0] == final_dataframe_test.shape[0] - 1) # Only 1 \"pending too long\" record created\n",
    "    &\n",
    "    (final_dataframe_test.loc[lambda x: x[transform.substatus] != transform.pending_too_long_code].reset_index(drop=True).equals(test_df)) # Original data is not affected\n",
    "    &\n",
    "    (final_dataframe_test.loc[lambda x: x[transform.substatus] == transform.pending_too_long_code, transform.status] == transform.cancel_status_code) # Pending too long status code applied\n",
    "    &\n",
    "    (final_dataframe_test.loc[lambda x: x[transform.substatus] == transform.pending_too_long_code, transform.substatus] == transform.pending_too_long_code) # Pending too long substatus code applied\n",
    "    &\n",
    "    (final_dataframe_test.loc[lambda x: x[transform.substatus] == transform.pending_too_long_code, transform.hierarchy] == transform.pending_too_long_code) # Pending too long hierarchy applied\n",
    "    &\n",
    "    (final_dataframe_test.loc[lambda x: x[transform.substatus] == transform.pending_too_long_code, transform.unique_id] == 'ic_05_ptl') # Modified trans_id is correct\n",
    "    &\n",
    "    (final_dataframe_test.loc[lambda x: x[transform.substatus] == transform.pending_too_long_code, transform.patient_id] == 2) # patient_id is correct\n",
    "    &\n",
    "    (final_dataframe_test.loc[lambda x: x[transform.substatus] == transform.pending_too_long_code, transform.status_date] == pd.to_datetime('2019-03-03')) # status_date is correct\n",
    "    &\n",
    "    (final_dataframe_test.loc[lambda x: x[transform.substatus] == transform.pending_too_long_code, transform.pharmacy] == 'ABC') # pharmacy is correct\n",
    "    &\n",
    "    (final_dataframe_test.loc[lambda x: x[transform.substatus] == transform.pending_too_long_code, transform.brand_col] == 'A') # brand is correct\n",
    "    &\n",
    "    (final_dataframe_test.loc[lambda x: x[transform.substatus] == transform.pending_too_long_code, transform.trans_id] == 1) # brand is correct\n",
    ").all()\n",
    "\n",
    "test1"
   ]
  },
  {
   "cell_type": "code",
   "execution_count": null,
   "metadata": {},
   "outputs": [],
   "source": [
    "# TEST 2: Check that final dataframe, minus the inserted records, has the same number of rows as the input dataframe\n",
    "\n",
    "test2 = (final_dataframe.loc[lambda x: x[transform.substatus] != transform.pending_too_long_code].shape[0] == df.shape[0])\n",
    "\n",
    "test2"
   ]
  },
  {
   "cell_type": "code",
   "execution_count": null,
   "metadata": {},
   "outputs": [],
   "source": [
    "# TEST 3: Check that all \"PENDING TOO LONG\" records are preceded by \"PENDING\" statuses.\n",
    "\n",
    "test3 = (\n",
    "    final_dataframe\n",
    "    .loc[lambda x:\n",
    "         (x.shift(-1)[transform.status] == transform.pending_too_long_code)\n",
    "        ]\n",
    "    [transform.status]\n",
    "    == transform.pending_status_code\n",
    ").all()\n",
    "\n",
    "test3"
   ]
  },
  {
   "cell_type": "code",
   "execution_count": null,
   "metadata": {},
   "outputs": [],
   "source": [
    "# FINAL TEST: Did all 3 tests pass?\n",
    "\n",
    "test1 & test2 & test3"
   ]
  },
  {
   "cell_type": "markdown",
   "metadata": {},
   "source": [
    "### Publish"
   ]
  },
  {
   "cell_type": "code",
   "execution_count": null,
   "metadata": {},
   "outputs": [],
   "source": [
    "## that's it - just provide the final dataframe to the var final_dataframe and we take it from there\n",
    "transform.publish_contract.publish(final_dataframe, run_id, session)\n",
    "session.close()"
   ]
  }
 ],
 "metadata": {
  "celltoolbar": "Tags",
  "kernelspec": {
   "display_name": "Python 3",
   "language": "python",
   "name": "python3"
  },
  "language_info": {
   "codemirror_mode": {
    "name": "ipython",
    "version": 3
   },
   "file_extension": ".py",
   "mimetype": "text/x-python",
   "name": "python",
   "nbconvert_exporter": "python",
   "pygments_lexer": "ipython3",
   "version": "3.6.9"
  }
 },
 "nbformat": 4,
 "nbformat_minor": 2
}
