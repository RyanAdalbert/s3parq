{
 "cells": [
  {
   "cell_type": "code",
   "execution_count": 1,
   "metadata": {},
   "outputs": [],
   "source": [
    "transform_id = 16"
   ]
  },
  {
   "cell_type": "code",
   "execution_count": 2,
   "metadata": {},
   "outputs": [
    {
     "name": "stdout",
     "output_type": "stream",
     "text": [
      "2019-05-21 19:30:19,052 - core.helpers.session_helper.SessionHelper - INFO - Creating session for dev environment...\n",
      "2019-05-21 19:30:19,077 - core.helpers.configuration_mocker.ConfigurationMocker - DEBUG - Generating administrator mocks.\n",
      "2019-05-21 19:30:19,114 - core.helpers.configuration_mocker.ConfigurationMocker - DEBUG - Done generating administrator mocks.\n",
      "2019-05-21 19:30:19,115 - core.helpers.configuration_mocker.ConfigurationMocker - DEBUG - Generating pharmaceutical company mocks.\n",
      "2019-05-21 19:30:19,119 - core.helpers.configuration_mocker.ConfigurationMocker - DEBUG - Done generating pharmaceutical company mocks.\n",
      "2019-05-21 19:30:19,121 - core.helpers.configuration_mocker.ConfigurationMocker - DEBUG - Generating brand mocks.\n",
      "2019-05-21 19:30:19,126 - core.helpers.configuration_mocker.ConfigurationMocker - DEBUG - Done generating brand mocks.\n",
      "2019-05-21 19:30:19,127 - core.helpers.configuration_mocker.ConfigurationMocker - DEBUG - Generating segment mocks.\n",
      "2019-05-21 19:30:19,132 - core.helpers.configuration_mocker.ConfigurationMocker - DEBUG - Done generating segment mocks.\n",
      "2019-05-21 19:30:19,134 - core.helpers.configuration_mocker.ConfigurationMocker - DEBUG - Generating pipeline type mocks.\n",
      "2019-05-21 19:30:19,138 - core.helpers.configuration_mocker.ConfigurationMocker - DEBUG - Done generating pipeline type mocks.\n",
      "2019-05-21 19:30:19,141 - core.helpers.configuration_mocker.ConfigurationMocker - DEBUG - Generating pipeline mocks.\n",
      "2019-05-21 19:30:19,146 - core.helpers.configuration_mocker.ConfigurationMocker - DEBUG - Done generating pipeline mocks.\n",
      "2019-05-21 19:30:19,147 - core.helpers.configuration_mocker.ConfigurationMocker - DEBUG - Generating pipeline state type mocks.\n",
      "2019-05-21 19:30:19,154 - core.helpers.configuration_mocker.ConfigurationMocker - DEBUG - Done generating pipeline state type mocks.\n",
      "2019-05-21 19:30:19,155 - core.helpers.configuration_mocker.ConfigurationMocker - DEBUG - Generating pipeline state mocks.\n",
      "2019-05-21 19:30:19,162 - core.helpers.configuration_mocker.ConfigurationMocker - DEBUG - Done generating pipeline state mocks.\n",
      "2019-05-21 19:30:19,164 - core.helpers.configuration_mocker.ConfigurationMocker - DEBUG - Generating tag mocks.\n",
      "2019-05-21 19:30:19,167 - core.helpers.configuration_mocker.ConfigurationMocker - DEBUG - Done generating tag mocks.\n",
      "2019-05-21 19:30:19,168 - core.helpers.configuration_mocker.ConfigurationMocker - DEBUG - Generating transformation_template mocks.\n",
      "2019-05-21 19:30:19,175 - core.helpers.configuration_mocker.ConfigurationMocker - DEBUG - Done generating transformation_template mocks.\n",
      "2019-05-21 19:30:19,177 - core.helpers.configuration_mocker.ConfigurationMocker - DEBUG - Generating bridge table mocks for transformation_templates <=> tags.\n",
      "2019-05-21 19:30:19,182 - core.helpers.configuration_mocker.ConfigurationMocker - DEBUG - Done generating transformation_templates_tags mocks.\n",
      "2019-05-21 19:30:19,184 - core.helpers.configuration_mocker.ConfigurationMocker - DEBUG - Generating transformation mocks.\n",
      "2019-05-21 19:30:19,205 - core.helpers.configuration_mocker.ConfigurationMocker - DEBUG - Done generating transformation mocks.\n",
      "2019-05-21 19:30:19,206 - core.helpers.configuration_mocker.ConfigurationMocker - DEBUG - Generating transformation_variables mocks\n",
      "2019-05-21 19:30:19,226 - core.helpers.configuration_mocker.ConfigurationMocker - DEBUG - Done generating transformation_variables mocks.\n",
      "2019-05-21 19:30:19,227 - core.helpers.session_helper.SessionHelper - INFO - Done. Created dev session with mock data.\n"
     ]
    }
   ],
   "source": [
    "\"\"\"\n",
    "************ SETUP - DON'T TOUCH **************\n",
    "This section imports data from the configuration database\n",
    "and should not need to be altered, molested or otherwise messed with. \n",
    "~~These are not the droids you are looking for~~\n",
    "\"\"\"\n",
    "from core.constants import BRANCH_NAME, ENV_BUCKET\n",
    "from core.helpers.session_helper import SessionHelper\n",
    "from core.models.configuration import Transformation\n",
    "from dataclasses import dataclass\n",
    "from core.dataset_contract import DatasetContract\n",
    "import pandas as pd\n",
    "\n",
    "db_transform = SessionHelper().session.query(Transformation).filter(Transformation.id == transform_id).one()\n",
    "\n",
    "@dataclass\n",
    "class DbTransform:\n",
    "    id: int = db_transform.id ## the instance id of the transform in the config app\n",
    "    name: str = db_transform.transformation_template.name ## the transform name in the config app\n",
    "    state: str = db_transform.pipeline_state.pipeline_state_type.name ## the pipeline state, one of raw, ingest, master, enhance, enrich, metrics, dimensional\n",
    "    branch: str = BRANCH_NAME ## the git branch for this execution \n",
    "    brand: str = db_transform.pipeline_state.pipeline.brand.name ## the pharma brand name\n",
    "    pharmaceutical_company: str = db_transform.pipeline_state.pipeline.brand.pharmaceutical_company.name # the pharma company name\n",
    "    publish_contract: DatasetContract = DatasetContract(branch=BRANCH_NAME,\n",
    "                            state=db_transform.pipeline_state.pipeline_state_type.name,\n",
    "                            parent=db_transform.pipeline_state.pipeline.brand.pharmaceutical_company.name,\n",
    "                            child=db_transform.pipeline_state.pipeline.brand.name,\n",
    "                            dataset=db_transform.transformation_template.name)"
   ]
  },
  {
   "cell_type": "markdown",
   "metadata": {},
   "source": [
    "# CORE Cartridge Notebook::[transform name here]\n",
    "![CORE Logo](assets/coreLogo.png) \n",
    "\n",
    "---\n",
    "## Keep in Mind\n",
    "Good Transforms Are...\n",
    "- **singular in purpose:** good transforms do one and only one thing, and handle all known cases for that thing. \n",
    "- **repeatable:** transforms should be written in a way that they can be run against the same dataset an infinate number of times and get the same result every time. \n",
    "- **easy to read:** 99 times out of 100, readable, clear code that runs a little slower is more valuable than a mess that runs quickly. \n",
    "- **No 'magic numbers':** if a variable or function is not instantly obvious as to what it is or does, without context, maybe consider renaming it."
   ]
  },
  {
   "cell_type": "markdown",
   "metadata": {},
   "source": [
    "## Workflow - how to use this notebook to make science\n",
    "#### Data Science\n",
    "1. **Document your transform.** Fill out the _description_ cell below describing what it is this transform does; this will appear in the configuration application where Ops will create, configure and update pipelines. \n",
    "1. **Define your config object.** Fill out the _configuration_ cell below the commented-out guide to define the variables you want ops to set in the configuration application (these will populate here for every pipeline). \n",
    "2. **Build your transformation logic.** Use the transformation cell to do that magic that you do. \n",
    "![caution](assets/cautionTape.png)"
   ]
  },
  {
   "cell_type": "markdown",
   "metadata": {},
   "source": [
    "### Configuration"
   ]
  },
  {
   "cell_type": "code",
   "execution_count": 3,
   "metadata": {},
   "outputs": [],
   "source": [
    "\"\"\" \n",
    "********* CONFIGURATION - PLEASE TOUCH ********* \n",
    "This section defines what you expect to get from the configuration application \n",
    "in a single \"transform\" object. Define the vars you need here, and comment inline to the right of them \n",
    "for all-in-one documentation. \n",
    "Engineering will build a production \"transform\" object for every pipeline that matches what you define here.\n",
    "\n",
    "@@@ FORMAT OF THE DATA CLASS IS: @@@ \n",
    "\n",
    "<value_name>: <data_type> #<comment explaining what the value is to future us>\n",
    "\n",
    "~~These ARE the droids you are looking for~~\n",
    "\"\"\"\n",
    "\n",
    "class Transform(DbTransform):\n",
    "        input_transform: str = db_transform.variables.input_transform # The name of the transform to input source data from\n",
    "        ## YOUR properties go here!!"
   ]
  },
  {
   "cell_type": "code",
   "execution_count": 4,
   "metadata": {},
   "outputs": [],
   "source": [
    "## Please place your value assignments for development here!!\n",
    "## This cell will be turned off in production and Engineering will set to pull form the configuration application instead\n",
    "\n",
    "transform = Transform()\n",
    "transform.input_transform = \"symphony_health_association_map_product_ndcs\""
   ]
  },
  {
   "cell_type": "markdown",
   "metadata": {},
   "source": [
    "### Description\n",
    "What does this transformation do? be specific.\n",
    "\n",
    "![what does your transform do](assets/what.gif)"
   ]
  },
  {
   "cell_type": "markdown",
   "metadata": {},
   "source": [
    "This transformation filters the brands present in the input df to a set of predefined brands. It also drops duplicate transactions for the transactions found for the specified brands."
   ]
  },
  {
   "cell_type": "markdown",
   "metadata": {},
   "source": [
    "### Transformation"
   ]
  },
  {
   "cell_type": "code",
   "execution_count": 5,
   "metadata": {},
   "outputs": [
    {
     "name": "stdout",
     "output_type": "stream",
     "text": [
      "2019-05-21 19:31:35,879 - core.helpers.session_helper.SessionHelper - INFO - Creating session for dev environment...\n",
      "2019-05-21 19:31:35,901 - core.helpers.configuration_mocker.ConfigurationMocker - DEBUG - Generating administrator mocks.\n",
      "2019-05-21 19:31:35,907 - core.helpers.configuration_mocker.ConfigurationMocker - DEBUG - Done generating administrator mocks.\n",
      "2019-05-21 19:31:35,913 - core.helpers.configuration_mocker.ConfigurationMocker - DEBUG - Generating pharmaceutical company mocks.\n",
      "2019-05-21 19:31:35,920 - core.helpers.configuration_mocker.ConfigurationMocker - DEBUG - Done generating pharmaceutical company mocks.\n",
      "2019-05-21 19:31:35,921 - core.helpers.configuration_mocker.ConfigurationMocker - DEBUG - Generating brand mocks.\n",
      "2019-05-21 19:31:35,927 - core.helpers.configuration_mocker.ConfigurationMocker - DEBUG - Done generating brand mocks.\n",
      "2019-05-21 19:31:35,928 - core.helpers.configuration_mocker.ConfigurationMocker - DEBUG - Generating segment mocks.\n",
      "2019-05-21 19:31:35,934 - core.helpers.configuration_mocker.ConfigurationMocker - DEBUG - Done generating segment mocks.\n",
      "2019-05-21 19:31:35,943 - core.helpers.configuration_mocker.ConfigurationMocker - DEBUG - Generating pipeline type mocks.\n",
      "2019-05-21 19:31:35,947 - core.helpers.configuration_mocker.ConfigurationMocker - DEBUG - Done generating pipeline type mocks.\n",
      "2019-05-21 19:31:35,948 - core.helpers.configuration_mocker.ConfigurationMocker - DEBUG - Generating pipeline mocks.\n",
      "2019-05-21 19:31:35,957 - core.helpers.configuration_mocker.ConfigurationMocker - DEBUG - Done generating pipeline mocks.\n",
      "2019-05-21 19:31:35,963 - core.helpers.configuration_mocker.ConfigurationMocker - DEBUG - Generating pipeline state type mocks.\n",
      "2019-05-21 19:31:35,969 - core.helpers.configuration_mocker.ConfigurationMocker - DEBUG - Done generating pipeline state type mocks.\n",
      "2019-05-21 19:31:35,971 - core.helpers.configuration_mocker.ConfigurationMocker - DEBUG - Generating pipeline state mocks.\n",
      "2019-05-21 19:31:35,979 - core.helpers.configuration_mocker.ConfigurationMocker - DEBUG - Done generating pipeline state mocks.\n",
      "2019-05-21 19:31:35,981 - core.helpers.configuration_mocker.ConfigurationMocker - DEBUG - Generating tag mocks.\n",
      "2019-05-21 19:31:35,986 - core.helpers.configuration_mocker.ConfigurationMocker - DEBUG - Done generating tag mocks.\n",
      "2019-05-21 19:31:35,988 - core.helpers.configuration_mocker.ConfigurationMocker - DEBUG - Generating transformation_template mocks.\n",
      "2019-05-21 19:31:35,995 - core.helpers.configuration_mocker.ConfigurationMocker - DEBUG - Done generating transformation_template mocks.\n",
      "2019-05-21 19:31:35,997 - core.helpers.configuration_mocker.ConfigurationMocker - DEBUG - Generating bridge table mocks for transformation_templates <=> tags.\n",
      "2019-05-21 19:31:36,000 - core.helpers.configuration_mocker.ConfigurationMocker - DEBUG - Done generating transformation_templates_tags mocks.\n",
      "2019-05-21 19:31:36,001 - core.helpers.configuration_mocker.ConfigurationMocker - DEBUG - Generating transformation mocks.\n",
      "2019-05-21 19:31:36,019 - core.helpers.configuration_mocker.ConfigurationMocker - DEBUG - Done generating transformation mocks.\n",
      "2019-05-21 19:31:36,020 - core.helpers.configuration_mocker.ConfigurationMocker - DEBUG - Generating transformation_variables mocks\n",
      "2019-05-21 19:31:36,034 - core.helpers.configuration_mocker.ConfigurationMocker - DEBUG - Done generating transformation_variables mocks.\n",
      "2019-05-21 19:31:36,036 - core.helpers.session_helper.SessionHelper - INFO - Done. Created dev session with mock data.\n",
      "2019-05-21 19:31:36,052 - core.helpers.session_helper.SessionHelper - INFO - Creating session for dev environment...\n",
      "2019-05-21 19:31:36,072 - core.helpers.configuration_mocker.ConfigurationMocker - DEBUG - Generating administrator mocks.\n",
      "2019-05-21 19:31:36,077 - core.helpers.configuration_mocker.ConfigurationMocker - DEBUG - Done generating administrator mocks.\n",
      "2019-05-21 19:31:36,081 - core.helpers.configuration_mocker.ConfigurationMocker - DEBUG - Generating pharmaceutical company mocks.\n",
      "2019-05-21 19:31:36,089 - core.helpers.configuration_mocker.ConfigurationMocker - DEBUG - Done generating pharmaceutical company mocks.\n",
      "2019-05-21 19:31:36,091 - core.helpers.configuration_mocker.ConfigurationMocker - DEBUG - Generating brand mocks.\n",
      "2019-05-21 19:31:36,096 - core.helpers.configuration_mocker.ConfigurationMocker - DEBUG - Done generating brand mocks.\n",
      "2019-05-21 19:31:36,097 - core.helpers.configuration_mocker.ConfigurationMocker - DEBUG - Generating segment mocks.\n",
      "2019-05-21 19:31:36,102 - core.helpers.configuration_mocker.ConfigurationMocker - DEBUG - Done generating segment mocks.\n",
      "2019-05-21 19:31:36,103 - core.helpers.configuration_mocker.ConfigurationMocker - DEBUG - Generating pipeline type mocks.\n",
      "2019-05-21 19:31:36,108 - core.helpers.configuration_mocker.ConfigurationMocker - DEBUG - Done generating pipeline type mocks.\n",
      "2019-05-21 19:31:36,109 - core.helpers.configuration_mocker.ConfigurationMocker - DEBUG - Generating pipeline mocks.\n",
      "2019-05-21 19:31:36,119 - core.helpers.configuration_mocker.ConfigurationMocker - DEBUG - Done generating pipeline mocks.\n",
      "2019-05-21 19:31:36,121 - core.helpers.configuration_mocker.ConfigurationMocker - DEBUG - Generating pipeline state type mocks.\n",
      "2019-05-21 19:31:36,129 - core.helpers.configuration_mocker.ConfigurationMocker - DEBUG - Done generating pipeline state type mocks.\n",
      "2019-05-21 19:31:36,130 - core.helpers.configuration_mocker.ConfigurationMocker - DEBUG - Generating pipeline state mocks.\n",
      "2019-05-21 19:31:36,137 - core.helpers.configuration_mocker.ConfigurationMocker - DEBUG - Done generating pipeline state mocks.\n",
      "2019-05-21 19:31:36,138 - core.helpers.configuration_mocker.ConfigurationMocker - DEBUG - Generating tag mocks.\n",
      "2019-05-21 19:31:36,141 - core.helpers.configuration_mocker.ConfigurationMocker - DEBUG - Done generating tag mocks.\n",
      "2019-05-21 19:31:36,143 - core.helpers.configuration_mocker.ConfigurationMocker - DEBUG - Generating transformation_template mocks.\n",
      "2019-05-21 19:31:36,152 - core.helpers.configuration_mocker.ConfigurationMocker - DEBUG - Done generating transformation_template mocks.\n",
      "2019-05-21 19:31:36,154 - core.helpers.configuration_mocker.ConfigurationMocker - DEBUG - Generating bridge table mocks for transformation_templates <=> tags.\n",
      "2019-05-21 19:31:36,158 - core.helpers.configuration_mocker.ConfigurationMocker - DEBUG - Done generating transformation_templates_tags mocks.\n",
      "2019-05-21 19:31:36,159 - core.helpers.configuration_mocker.ConfigurationMocker - DEBUG - Generating transformation mocks.\n",
      "2019-05-21 19:31:36,180 - core.helpers.configuration_mocker.ConfigurationMocker - DEBUG - Done generating transformation mocks.\n",
      "2019-05-21 19:31:36,181 - core.helpers.configuration_mocker.ConfigurationMocker - DEBUG - Generating transformation_variables mocks\n",
      "2019-05-21 19:31:36,198 - core.helpers.configuration_mocker.ConfigurationMocker - DEBUG - Done generating transformation_variables mocks.\n",
      "2019-05-21 19:31:36,199 - core.helpers.session_helper.SessionHelper - INFO - Done. Created dev session with mock data.\n"
     ]
    }
   ],
   "source": [
    "### Retrieve current dataset from contract\n",
    "\n",
    "import core.helpers.contract_creator as cc\n",
    "import s3parq\n",
    "from core.dataset_diff import DatasetDiff\n",
    "\n",
    "#deleteme = cc.get_relative_contract(t_name=transform.input_transform, contract=transform.publish_contract)\n",
    "#final_dataframe = s3parq.fetch_parq.fetch(bucket=deleteme.bucket, key=deleteme.key)\n",
    "diff = DatasetDiff(db_transform.id)\n",
    "final_dataframe = diff.get_diff(transform_name=transform.input_transform)"
   ]
  },
  {
   "cell_type": "code",
   "execution_count": 6,
   "metadata": {},
   "outputs": [
    {
     "data": {
      "text/plain": [
       "(1525, 73)"
      ]
     },
     "execution_count": 6,
     "metadata": {},
     "output_type": "execute_result"
    }
   ],
   "source": [
    "final_dataframe.shape"
   ]
  },
  {
   "cell_type": "code",
   "execution_count": 7,
   "metadata": {},
   "outputs": [
    {
     "data": {
      "text/html": [
       "<div>\n",
       "<style scoped>\n",
       "    .dataframe tbody tr th:only-of-type {\n",
       "        vertical-align: middle;\n",
       "    }\n",
       "\n",
       "    .dataframe tbody tr th {\n",
       "        vertical-align: top;\n",
       "    }\n",
       "\n",
       "    .dataframe thead th {\n",
       "        text-align: right;\n",
       "    }\n",
       "</style>\n",
       "<table border=\"1\" class=\"dataframe\">\n",
       "  <thead>\n",
       "    <tr style=\"text-align: right;\">\n",
       "      <th></th>\n",
       "      <th>rec_date</th>\n",
       "      <th>pharm_code</th>\n",
       "      <th>pharm_npi</th>\n",
       "      <th>transtype</th>\n",
       "      <th>pharm_transaction_id</th>\n",
       "      <th>trans_seq</th>\n",
       "      <th>ref_source</th>\n",
       "      <th>ref_date</th>\n",
       "      <th>program_id</th>\n",
       "      <th>pharmacy_id</th>\n",
       "      <th>...</th>\n",
       "      <th>oth_payer_amt</th>\n",
       "      <th>xfer_pharmname</th>\n",
       "      <th>msa_patient_id</th>\n",
       "      <th>msa_patient_bmap</th>\n",
       "      <th>__metadata_app_version</th>\n",
       "      <th>__metadata_output_contract</th>\n",
       "      <th>brand</th>\n",
       "      <th>strength</th>\n",
       "      <th>prod_grp_id</th>\n",
       "      <th>__metadata_run_timestamp</th>\n",
       "    </tr>\n",
       "  </thead>\n",
       "  <tbody>\n",
       "    <tr>\n",
       "      <th>0</th>\n",
       "      <td>20181024115959</td>\n",
       "      <td>ACCREDO</td>\n",
       "      <td>1346208949</td>\n",
       "      <td>COM</td>\n",
       "      <td>279133432018102401</td>\n",
       "      <td>0</td>\n",
       "      <td>DIRECT</td>\n",
       "      <td>20181019120000</td>\n",
       "      <td>None</td>\n",
       "      <td>27913343</td>\n",
       "      <td>...</td>\n",
       "      <td>None</td>\n",
       "      <td>None</td>\n",
       "      <td>None</td>\n",
       "      <td>NNNNV</td>\n",
       "      <td>0.0.11</td>\n",
       "      <td>s3://ichain-dev/stephanie/stephanie/ilumya/mas...</td>\n",
       "      <td>None</td>\n",
       "      <td>None</td>\n",
       "      <td>NaN</td>\n",
       "      <td>2019-05-14 12:21:36</td>\n",
       "    </tr>\n",
       "    <tr>\n",
       "      <th>1</th>\n",
       "      <td>20181025115959</td>\n",
       "      <td>ACCREDO</td>\n",
       "      <td>1346208949</td>\n",
       "      <td>COM</td>\n",
       "      <td>278370982018102502</td>\n",
       "      <td>0</td>\n",
       "      <td>DIRECT</td>\n",
       "      <td>20181022120000</td>\n",
       "      <td>None</td>\n",
       "      <td>27837098</td>\n",
       "      <td>...</td>\n",
       "      <td>None</td>\n",
       "      <td>None</td>\n",
       "      <td>None</td>\n",
       "      <td>NNNVV</td>\n",
       "      <td>0.0.11</td>\n",
       "      <td>s3://ichain-dev/stephanie/stephanie/ilumya/mas...</td>\n",
       "      <td>None</td>\n",
       "      <td>None</td>\n",
       "      <td>NaN</td>\n",
       "      <td>2019-05-14 12:21:36</td>\n",
       "    </tr>\n",
       "    <tr>\n",
       "      <th>2</th>\n",
       "      <td>20181029115959</td>\n",
       "      <td>ACCREDO</td>\n",
       "      <td>1346208949</td>\n",
       "      <td>COM</td>\n",
       "      <td>279181482018102903</td>\n",
       "      <td>0</td>\n",
       "      <td>DIRECT</td>\n",
       "      <td>20181024120000</td>\n",
       "      <td>None</td>\n",
       "      <td>27918148</td>\n",
       "      <td>...</td>\n",
       "      <td>None</td>\n",
       "      <td>None</td>\n",
       "      <td>None</td>\n",
       "      <td>NNNVV</td>\n",
       "      <td>0.0.11</td>\n",
       "      <td>s3://ichain-dev/stephanie/stephanie/ilumya/mas...</td>\n",
       "      <td>None</td>\n",
       "      <td>None</td>\n",
       "      <td>NaN</td>\n",
       "      <td>2019-05-14 12:21:36</td>\n",
       "    </tr>\n",
       "    <tr>\n",
       "      <th>3</th>\n",
       "      <td>20181102115959</td>\n",
       "      <td>ACCREDO</td>\n",
       "      <td>1346208949</td>\n",
       "      <td>COM</td>\n",
       "      <td>267244982018110204</td>\n",
       "      <td>0</td>\n",
       "      <td>DIRECT</td>\n",
       "      <td>20181030120000</td>\n",
       "      <td>None</td>\n",
       "      <td>26724498</td>\n",
       "      <td>...</td>\n",
       "      <td>None</td>\n",
       "      <td>None</td>\n",
       "      <td>None</td>\n",
       "      <td>NNNVV</td>\n",
       "      <td>0.0.11</td>\n",
       "      <td>s3://ichain-dev/stephanie/stephanie/ilumya/mas...</td>\n",
       "      <td>None</td>\n",
       "      <td>None</td>\n",
       "      <td>NaN</td>\n",
       "      <td>2019-05-14 12:21:36</td>\n",
       "    </tr>\n",
       "    <tr>\n",
       "      <th>4</th>\n",
       "      <td>20181106115959</td>\n",
       "      <td>ACCREDO</td>\n",
       "      <td>1346208949</td>\n",
       "      <td>COM</td>\n",
       "      <td>160618142018110605</td>\n",
       "      <td>0</td>\n",
       "      <td>DIRECT</td>\n",
       "      <td>20181102120000</td>\n",
       "      <td>None</td>\n",
       "      <td>16061814</td>\n",
       "      <td>...</td>\n",
       "      <td>None</td>\n",
       "      <td>None</td>\n",
       "      <td>None</td>\n",
       "      <td>NNNVV</td>\n",
       "      <td>0.0.11</td>\n",
       "      <td>s3://ichain-dev/stephanie/stephanie/ilumya/mas...</td>\n",
       "      <td>None</td>\n",
       "      <td>None</td>\n",
       "      <td>NaN</td>\n",
       "      <td>2019-05-14 12:21:36</td>\n",
       "    </tr>\n",
       "  </tbody>\n",
       "</table>\n",
       "<p>5 rows × 73 columns</p>\n",
       "</div>"
      ],
      "text/plain": [
       "         rec_date pharm_code   pharm_npi transtype pharm_transaction_id  \\\n",
       "0  20181024115959    ACCREDO  1346208949       COM   279133432018102401   \n",
       "1  20181025115959    ACCREDO  1346208949       COM   278370982018102502   \n",
       "2  20181029115959    ACCREDO  1346208949       COM   279181482018102903   \n",
       "3  20181102115959    ACCREDO  1346208949       COM   267244982018110204   \n",
       "4  20181106115959    ACCREDO  1346208949       COM   160618142018110605   \n",
       "\n",
       "  trans_seq ref_source        ref_date program_id pharmacy_id  ...  \\\n",
       "0         0     DIRECT  20181019120000       None    27913343  ...   \n",
       "1         0     DIRECT  20181022120000       None    27837098  ...   \n",
       "2         0     DIRECT  20181024120000       None    27918148  ...   \n",
       "3         0     DIRECT  20181030120000       None    26724498  ...   \n",
       "4         0     DIRECT  20181102120000       None    16061814  ...   \n",
       "\n",
       "  oth_payer_amt xfer_pharmname msa_patient_id msa_patient_bmap  \\\n",
       "0          None           None           None            NNNNV   \n",
       "1          None           None           None            NNNVV   \n",
       "2          None           None           None            NNNVV   \n",
       "3          None           None           None            NNNVV   \n",
       "4          None           None           None            NNNVV   \n",
       "\n",
       "  __metadata_app_version                         __metadata_output_contract  \\\n",
       "0                 0.0.11  s3://ichain-dev/stephanie/stephanie/ilumya/mas...   \n",
       "1                 0.0.11  s3://ichain-dev/stephanie/stephanie/ilumya/mas...   \n",
       "2                 0.0.11  s3://ichain-dev/stephanie/stephanie/ilumya/mas...   \n",
       "3                 0.0.11  s3://ichain-dev/stephanie/stephanie/ilumya/mas...   \n",
       "4                 0.0.11  s3://ichain-dev/stephanie/stephanie/ilumya/mas...   \n",
       "\n",
       "  brand strength prod_grp_id __metadata_run_timestamp  \n",
       "0  None     None         NaN      2019-05-14 12:21:36  \n",
       "1  None     None         NaN      2019-05-14 12:21:36  \n",
       "2  None     None         NaN      2019-05-14 12:21:36  \n",
       "3  None     None         NaN      2019-05-14 12:21:36  \n",
       "4  None     None         NaN      2019-05-14 12:21:36  \n",
       "\n",
       "[5 rows x 73 columns]"
      ]
     },
     "execution_count": 7,
     "metadata": {},
     "output_type": "execute_result"
    }
   ],
   "source": [
    "final_dataframe.head()"
   ]
  },
  {
   "cell_type": "code",
   "execution_count": 8,
   "metadata": {},
   "outputs": [],
   "source": [
    "### Use the variables above to execute your transformation. the final output needs to be a variable named final_dataframe\n",
    "\n",
    "# Build SHA data dataframe\n",
    "final_dataframe = final_dataframe.loc[(final_dataframe.medication.str.startswith(transform.brand,na=False)),:]\n",
    "\n",
    "# Dedupe to make sure historical records aren't reported more than once\n",
    "final_dataframe.drop_duplicates(subset='pharm_transaction_id', keep='last', inplace=True)"
   ]
  },
  {
   "cell_type": "markdown",
   "metadata": {},
   "source": [
    "### Publish"
   ]
  },
  {
   "cell_type": "code",
   "execution_count": 9,
   "metadata": {},
   "outputs": [
    {
     "name": "stdout",
     "output_type": "stream",
     "text": [
      "2019-05-21 19:32:33,348 - core.dataset_contract.DatasetContract - INFO - Publishing dataframe to s3 location s3://ichain-dev/stephanie/stephanie/ilumya/master/symphony_health_association_filter_to_brand.\n",
      "2019-05-21 19:32:33,353 - s3parq.publish_parq - INFO - Checking params...\n",
      "2019-05-21 19:32:33,356 - s3parq.publish_parq - INFO - Params valid.\n",
      "2019-05-21 19:32:33,383 - s3parq.publish_parq - INFO - Writing to S3...\n"
     ]
    }
   ],
   "source": [
    "## that's it - just provide the final dataframe to the var final_dataframe and we take it from there\n",
    "transform.publish_contract.publish(final_dataframe)"
   ]
  },
  {
   "cell_type": "code",
   "execution_count": null,
   "metadata": {},
   "outputs": [],
   "source": []
  }
 ],
 "metadata": {
  "celltoolbar": "Tags",
  "kernelspec": {
   "display_name": "Python 3",
   "language": "python",
   "name": "python3"
  },
  "language_info": {
   "codemirror_mode": {
    "name": "ipython",
    "version": 3
   },
   "file_extension": ".py",
   "mimetype": "text/x-python",
   "name": "python",
   "nbconvert_exporter": "python",
   "pygments_lexer": "ipython3",
   "version": "3.6.8"
  }
 },
 "nbformat": 4,
 "nbformat_minor": 2
}
