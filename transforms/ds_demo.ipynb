{
 "cells": [
  {
   "cell_type": "code",
   "execution_count": 1,
   "metadata": {},
   "outputs": [
    {
     "name": "stdout",
     "output_type": "stream",
     "text": [
      "2019-07-12 14:50:13,458 - core.helpers.session_helper.SessionHelper - INFO - Creating session for dev environment...\n",
      "2019-07-12 14:50:13,481 - core.helpers.configuration_mocker.ConfigurationMocker - DEBUG - Generating administrator mocks.\n",
      "2019-07-12 14:50:13,513 - core.helpers.configuration_mocker.ConfigurationMocker - DEBUG - Done generating administrator mocks.\n",
      "2019-07-12 14:50:13,515 - core.helpers.configuration_mocker.ConfigurationMocker - DEBUG - Generating pharmaceutical company mocks.\n",
      "2019-07-12 14:50:13,518 - core.helpers.configuration_mocker.ConfigurationMocker - DEBUG - Done generating pharmaceutical company mocks.\n",
      "2019-07-12 14:50:13,519 - core.helpers.configuration_mocker.ConfigurationMocker - DEBUG - Generating brand mocks.\n",
      "2019-07-12 14:50:13,522 - core.helpers.configuration_mocker.ConfigurationMocker - DEBUG - Done generating brand mocks.\n",
      "2019-07-12 14:50:13,523 - core.helpers.configuration_mocker.ConfigurationMocker - DEBUG - Generating segment mocks.\n",
      "2019-07-12 14:50:13,528 - core.helpers.configuration_mocker.ConfigurationMocker - DEBUG - Done generating segment mocks.\n",
      "2019-07-12 14:50:13,529 - core.helpers.configuration_mocker.ConfigurationMocker - DEBUG - Generating pipeline type mocks.\n",
      "2019-07-12 14:50:13,535 - core.helpers.configuration_mocker.ConfigurationMocker - DEBUG - Done generating pipeline type mocks.\n",
      "2019-07-12 14:50:13,536 - core.helpers.configuration_mocker.ConfigurationMocker - DEBUG - Generating pipeline mocks.\n",
      "2019-07-12 14:50:13,543 - core.helpers.configuration_mocker.ConfigurationMocker - DEBUG - Done generating pipeline mocks.\n",
      "2019-07-12 14:50:13,545 - core.helpers.configuration_mocker.ConfigurationMocker - DEBUG - Generating pipeline state type mocks.\n",
      "2019-07-12 14:50:13,552 - core.helpers.configuration_mocker.ConfigurationMocker - DEBUG - Done generating pipeline state type mocks.\n",
      "2019-07-12 14:50:13,553 - core.helpers.configuration_mocker.ConfigurationMocker - DEBUG - Generating pipeline state mocks.\n",
      "2019-07-12 14:50:13,559 - core.helpers.configuration_mocker.ConfigurationMocker - DEBUG - Done generating pipeline state mocks.\n",
      "2019-07-12 14:50:13,560 - core.helpers.configuration_mocker.ConfigurationMocker - DEBUG - Generating tag mocks.\n",
      "2019-07-12 14:50:13,564 - core.helpers.configuration_mocker.ConfigurationMocker - DEBUG - Done generating tag mocks.\n",
      "2019-07-12 14:50:13,566 - core.helpers.configuration_mocker.ConfigurationMocker - DEBUG - Generating transformation_template mocks.\n",
      "2019-07-12 14:50:13,569 - core.helpers.configuration_mocker.ConfigurationMocker - DEBUG - Done generating transformation_template mocks.\n",
      "2019-07-12 14:50:13,571 - core.helpers.configuration_mocker.ConfigurationMocker - DEBUG - Generating bridge table mocks for transformation_templates <=> tags.\n",
      "2019-07-12 14:50:13,576 - core.helpers.configuration_mocker.ConfigurationMocker - DEBUG - Done generating transformation_templates_tags mocks.\n",
      "2019-07-12 14:50:13,577 - core.helpers.configuration_mocker.ConfigurationMocker - DEBUG - Generating transformation mocks.\n",
      "2019-07-12 14:50:13,585 - core.helpers.configuration_mocker.ConfigurationMocker - DEBUG - Done generating transformation mocks.\n",
      "2019-07-12 14:50:13,586 - core.helpers.configuration_mocker.ConfigurationMocker - DEBUG - Generating transformation_variables mocks\n",
      "2019-07-12 14:50:13,592 - core.helpers.configuration_mocker.ConfigurationMocker - DEBUG - Done generating transformation_variables mocks.\n",
      "2019-07-12 14:50:13,593 - core.helpers.configuration_mocker.ConfigurationMocker - DEBUG - Generating run_events mocks.\n",
      "2019-07-12 14:50:13,597 - core.helpers.configuration_mocker.ConfigurationMocker - DEBUG - Done generating run_events mocks.\n",
      "2019-07-12 14:50:13,598 - core.helpers.session_helper.SessionHelper - INFO - Done. Created dev session with mock data.\n"
     ]
    }
   ],
   "source": [
    "from core.helpers.session_helper import SessionHelper\n",
    "session = SessionHelper().session"
   ]
  },
  {
   "cell_type": "code",
   "execution_count": 2,
   "metadata": {},
   "outputs": [],
   "source": [
    "\"\"\"\n",
    "************ CONFIGURATION - PLEASE TOUCH **************\n",
    "Pipeline Builder configuration: creates configurations from variables specified here!!\n",
    "This cell will be off in production as configurations will come from the configuration postgres DB.\n",
    "\"\"\"\n",
    "# config vars: this dataset\n",
    "config_pharma = \"sun\" # the pharmaceutical company which owns {brand}\n",
    "config_brand = \"ilumya\" # the brand this pipeline operates on\n",
    "config_state = \"metrics\" # the state this transform runs in\n",
    "config_name = \"ds_demo\" # the name of this transform, which is the name of this notebook without .ipynb\n",
    "\n",
    "# input vars: dataset to fetch. Recall that a contract published to S3 has a key format branch/pharma/brand/state/name\n",
    "# Note: this key is case sensitive!!\n",
    "input_pharma = \"sun\"\n",
    "input_brand = \"ilumya\"\n",
    "input_state = \"master\"\n",
    "input_name = \"symphony_health_association_map_product_ndcs\"\n",
    "input_branch = \"runevent-demo\" # if None, input_branch is automagically set to your working branch"
   ]
  },
  {
   "cell_type": "code",
   "execution_count": 3,
   "metadata": {},
   "outputs": [
    {
     "name": "stdout",
     "output_type": "stream",
     "text": [
      "2019-07-12 14:50:17,081 - core.logging - DEBUG - Adding/getting mocks for specified configurations...\n",
      "2019-07-12 14:50:17,116 - core.logging - DEBUG - Done. Creating mock run event and committing results to configuration mocker.\n"
     ]
    }
   ],
   "source": [
    "\"\"\"\n",
    "************ SETUP - DON'T TOUCH **************\n",
    "Populating config mocker based on config parameters...\n",
    "\"\"\"\n",
    "import core.helpers.pipeline_builder as builder\n",
    "\n",
    "ids = builder.build(config_pharma, config_brand, config_state, config_name, session)\n",
    "transform_id = ids[0]\n",
    "run_id = ids[1]"
   ]
  },
  {
   "cell_type": "code",
   "execution_count": 4,
   "metadata": {},
   "outputs": [],
   "source": [
    "\"\"\"\n",
    "************ SETUP - DON'T TOUCH **************\n",
    "This section imports data from the configuration database\n",
    "and should not need to be altered or otherwise messed with. \n",
    "~~These are not the droids you are looking for~~\n",
    "\"\"\"\n",
    "from core.constants import BRANCH_NAME, ENV_BUCKET\n",
    "from core.helpers.session_helper import SessionHelper\n",
    "from core.models.configuration import Transformation\n",
    "from dataclasses import dataclass\n",
    "from core.dataset_contract import DatasetContract\n",
    "\n",
    "db_transform = session.query(Transformation).filter(Transformation.id == transform_id).one()\n",
    "\n",
    "@dataclass\n",
    "class DbTransform:\n",
    "    id: int = db_transform.id ## the instance id of the transform in the config app\n",
    "    name: str = db_transform.transformation_template.name ## the transform name in the config app\n",
    "    state: str = db_transform.pipeline_state.pipeline_state_type.name ## the pipeline state, one of raw, ingest, master, enhance, enrich, metrics, dimensional\n",
    "    branch:str = BRANCH_NAME ## the git branch for this execution \n",
    "    brand: str = db_transform.pipeline_state.pipeline.brand.name ## the pharma brand name\n",
    "    pharmaceutical_company: str = db_transform.pipeline_state.pipeline.brand.pharmaceutical_company.name # the pharma company name\n",
    "    publish_contract: DatasetContract = DatasetContract(branch=BRANCH_NAME,\n",
    "                            state=db_transform.pipeline_state.pipeline_state_type.name,\n",
    "                            parent=db_transform.pipeline_state.pipeline.brand.pharmaceutical_company.name,\n",
    "                            child=db_transform.pipeline_state.pipeline.brand.name,\n",
    "                            dataset=db_transform.transformation_template.name)\n"
   ]
  },
  {
   "cell_type": "markdown",
   "metadata": {},
   "source": [
    "# CORE Cartridge Notebook::[transform name here]\n",
    "![CORE Logo](assets/coreLogo.png) \n",
    "\n",
    "---\n",
    "## Keep in Mind\n",
    "Good Transforms Are...\n",
    "- **singular in purpose:** good transforms do one and only one thing, and handle all known cases for that thing. \n",
    "- **repeatable:** transforms should be written in a way that they can be run against the same dataset an infinate number of times and get the same result every time. \n",
    "- **easy to read:** 99 times out of 100, readable, clear code that runs a little slower is more valuable than a mess that runs quickly. \n",
    "- **No 'magic numbers':** if a variable or function is not instantly obvious as to what it is or does, without context, maybe consider renaming it."
   ]
  },
  {
   "cell_type": "markdown",
   "metadata": {},
   "source": [
    "## Workflow - how to use this notebook to make science\n",
    "#### Data Science\n",
    "1. **Document your transform.** Fill out the _description_ cell below describing what it is this transform does; this will appear in the configuration application where Ops will create, configure and update pipelines. \n",
    "1. **Define your config object.** Fill out the _configuration_ cell below the commented-out guide to define the variables you want ops to set in the configuration application (these will populate here for every pipeline). \n",
    "2. **Build your transformation logic.** Use the transformation cell to do that magic that you do. \n",
    "![caution](assets/cautionTape.png)"
   ]
  },
  {
   "cell_type": "markdown",
   "metadata": {},
   "source": [
    "### Configuration"
   ]
  },
  {
   "cell_type": "code",
   "execution_count": 5,
   "metadata": {},
   "outputs": [],
   "source": [
    "\"\"\" \n",
    "********* VARIABLES - PLEASE TOUCH ********* \n",
    "This section defines what you expect to get from the configuration application \n",
    "in a single \"transform\" object. Define the vars you need here, and comment inline to the right of them \n",
    "for all-in-one documentation. \n",
    "Engineering will build a production \"transform\" object for every pipeline that matches what you define here.\n",
    "\n",
    "@@@ FORMAT OF THE DATA CLASS IS: @@@ \n",
    "\n",
    "<variable_name>: <data_type> #<comment explaining what the value is to future us>\n",
    "\n",
    "e.g.\n",
    "\n",
    "class Transform(DbTransform):\n",
    "    some_ratio: float\n",
    "    site_name: str\n",
    "\n",
    "~~These ARE the droids you are looking for~~\n",
    "\"\"\"\n",
    "\n",
    "class Transform(DbTransform):\n",
    "    '''\n",
    "    YOUR properties go here!!\n",
    "    Variable properties should be assigned to the exact name of\n",
    "    the transformation as it appears in the Jupyter notebook filename.\n",
    "    '''\n",
    "\n",
    "transform = Transform()"
   ]
  },
  {
   "cell_type": "code",
   "execution_count": 6,
   "metadata": {},
   "outputs": [],
   "source": [
    "## Please place your value assignments for development here!!\n",
    "## This cell will be turned off in production and Engineering will set to pull from the configuration application instead\n",
    "## For the last example, this could look like...\n",
    "## transform.some_ratio = 0.6\n",
    "## transform.site_name = \"WALGREENS\""
   ]
  },
  {
   "cell_type": "markdown",
   "metadata": {},
   "source": [
    "### Description\n",
    "What does this transformation do? be specific.\n",
    "\n",
    "![what does your transform do](assets/what.gif)"
   ]
  },
  {
   "cell_type": "markdown",
   "metadata": {},
   "source": [
    "(clear out and replace with your description)"
   ]
  },
  {
   "cell_type": "markdown",
   "metadata": {},
   "source": [
    "### Transformation"
   ]
  },
  {
   "cell_type": "code",
   "execution_count": 7,
   "metadata": {},
   "outputs": [
    {
     "name": "stdout",
     "output_type": "stream",
     "text": [
      "2019-07-12 14:50:23,585 - core.dataset_contract.DatasetContract - INFO - Fetching dataframe from s3 location s3://ichain-dev/runevent-demo/sun/ilumya/master/symphony_health_association_map_product_ndcs.\n"
     ]
    }
   ],
   "source": [
    "\"\"\"\n",
    "************ FETCH DATA - TOUCH, BUT CAREFULLY **************\n",
    "This cell will be turned off in production, as the input_contract will be handled by the pipeline.\n",
    "\"\"\"\n",
    "\n",
    "if not input_branch:\n",
    "    input_branch = BRANCH_NAME\n",
    "input_contract = DatasetContract(branch=input_branch, state=input_state, parent=input_pharma, child=input_brand, dataset=input_name)\n",
    "run_filter = []\n",
    "# run_filter.append(dict(partition=\"run_id\", comparison=\"==\", values=[1]))\n",
    "# IF YOU HAVE PUBLISHED DATA MULTIPLE TIMES, uncomment the above line and change the int to the run_id to fetch.\n",
    "# Otherwise, you will have duplicate values in your fetched dataset!\n",
    "final_dataframe = input_contract.fetch(filters=run_filter)"
   ]
  },
  {
   "cell_type": "code",
   "execution_count": 8,
   "metadata": {},
   "outputs": [
    {
     "data": {
      "text/plain": [
       "(9652, 75)"
      ]
     },
     "execution_count": 8,
     "metadata": {},
     "output_type": "execute_result"
    }
   ],
   "source": [
    "final_dataframe.shape"
   ]
  },
  {
   "cell_type": "code",
   "execution_count": 9,
   "metadata": {},
   "outputs": [
    {
     "data": {
      "text/html": [
       "<div>\n",
       "<style scoped>\n",
       "    .dataframe tbody tr th:only-of-type {\n",
       "        vertical-align: middle;\n",
       "    }\n",
       "\n",
       "    .dataframe tbody tr th {\n",
       "        vertical-align: top;\n",
       "    }\n",
       "\n",
       "    .dataframe thead th {\n",
       "        text-align: right;\n",
       "    }\n",
       "</style>\n",
       "<table border=\"1\" class=\"dataframe\">\n",
       "  <thead>\n",
       "    <tr style=\"text-align: right;\">\n",
       "      <th></th>\n",
       "      <th>rec_date</th>\n",
       "      <th>pharm_code</th>\n",
       "      <th>pharm_npi</th>\n",
       "      <th>transtype</th>\n",
       "      <th>pharm_transaction_id</th>\n",
       "      <th>trans_seq</th>\n",
       "      <th>ref_source</th>\n",
       "      <th>ref_date</th>\n",
       "      <th>program_id</th>\n",
       "      <th>pharmacy_id</th>\n",
       "      <th>...</th>\n",
       "      <th>msa_patient_id</th>\n",
       "      <th>msa_patient_bmap</th>\n",
       "      <th>__metadata_run_timestamp</th>\n",
       "      <th>__metadata_app_version</th>\n",
       "      <th>__metadata_output_contract</th>\n",
       "      <th>__metadata_transform_timestamp</th>\n",
       "      <th>brand</th>\n",
       "      <th>strength</th>\n",
       "      <th>prod_grp_id</th>\n",
       "      <th>__metadata_run_id</th>\n",
       "    </tr>\n",
       "  </thead>\n",
       "  <tbody>\n",
       "    <tr>\n",
       "      <th>0</th>\n",
       "      <td>20190219 10:02:04</td>\n",
       "      <td>WAG</td>\n",
       "      <td>1457618555</td>\n",
       "      <td>COM</td>\n",
       "      <td>072156296252</td>\n",
       "      <td>0</td>\n",
       "      <td>DIRECT</td>\n",
       "      <td>20181029 12:57:05</td>\n",
       "      <td>None</td>\n",
       "      <td>259823627362</td>\n",
       "      <td>...</td>\n",
       "      <td>2120052</td>\n",
       "      <td>VVVVV</td>\n",
       "      <td>2019-06-25 14:58:40</td>\n",
       "      <td>0.0.11</td>\n",
       "      <td>s3://ichain-dev/runevent-demo/sun/ilumya/maste...</td>\n",
       "      <td>2019-06-25 15:05:31</td>\n",
       "      <td>ILUMYA</td>\n",
       "      <td>100mg/1mL</td>\n",
       "      <td>54826.0</td>\n",
       "      <td>1</td>\n",
       "    </tr>\n",
       "    <tr>\n",
       "      <th>1</th>\n",
       "      <td>20190219 10:02:04</td>\n",
       "      <td>WAG</td>\n",
       "      <td>1457618555</td>\n",
       "      <td>COM</td>\n",
       "      <td>616712029452</td>\n",
       "      <td>0</td>\n",
       "      <td>DIRECT</td>\n",
       "      <td>20181029 12:57:05</td>\n",
       "      <td>None</td>\n",
       "      <td>259823627362</td>\n",
       "      <td>...</td>\n",
       "      <td>2120052</td>\n",
       "      <td>VVVVV</td>\n",
       "      <td>2019-06-25 14:58:40</td>\n",
       "      <td>0.0.11</td>\n",
       "      <td>s3://ichain-dev/runevent-demo/sun/ilumya/maste...</td>\n",
       "      <td>2019-06-25 15:05:31</td>\n",
       "      <td>ILUMYA</td>\n",
       "      <td>100mg/1mL</td>\n",
       "      <td>54826.0</td>\n",
       "      <td>1</td>\n",
       "    </tr>\n",
       "    <tr>\n",
       "      <th>2</th>\n",
       "      <td>20190219 10:02:04</td>\n",
       "      <td>WAG</td>\n",
       "      <td>1457618555</td>\n",
       "      <td>COM</td>\n",
       "      <td>315589151126</td>\n",
       "      <td>0</td>\n",
       "      <td>HUB</td>\n",
       "      <td>20181023 19:41:21</td>\n",
       "      <td>None</td>\n",
       "      <td>648937941315</td>\n",
       "      <td>...</td>\n",
       "      <td>2140015</td>\n",
       "      <td>VVVVV</td>\n",
       "      <td>2019-06-25 14:58:40</td>\n",
       "      <td>0.0.11</td>\n",
       "      <td>s3://ichain-dev/runevent-demo/sun/ilumya/maste...</td>\n",
       "      <td>2019-06-25 15:05:31</td>\n",
       "      <td>ILUMYA</td>\n",
       "      <td>100mg/1mL</td>\n",
       "      <td>54826.0</td>\n",
       "      <td>1</td>\n",
       "    </tr>\n",
       "    <tr>\n",
       "      <th>3</th>\n",
       "      <td>20190219 10:02:04</td>\n",
       "      <td>WAG</td>\n",
       "      <td>1851463087</td>\n",
       "      <td>COM</td>\n",
       "      <td>770668394640</td>\n",
       "      <td>0</td>\n",
       "      <td>DIRECT</td>\n",
       "      <td>20190211 12:44:31</td>\n",
       "      <td>None</td>\n",
       "      <td>493992982816</td>\n",
       "      <td>...</td>\n",
       "      <td>2140019</td>\n",
       "      <td>VVVVV</td>\n",
       "      <td>2019-06-25 14:58:40</td>\n",
       "      <td>0.0.11</td>\n",
       "      <td>s3://ichain-dev/runevent-demo/sun/ilumya/maste...</td>\n",
       "      <td>2019-06-25 15:05:31</td>\n",
       "      <td>ILUMYA</td>\n",
       "      <td>100mg/1mL</td>\n",
       "      <td>54826.0</td>\n",
       "      <td>1</td>\n",
       "    </tr>\n",
       "    <tr>\n",
       "      <th>4</th>\n",
       "      <td>20190219 10:02:04</td>\n",
       "      <td>WAG</td>\n",
       "      <td>1972560688</td>\n",
       "      <td>COM</td>\n",
       "      <td>382697428016</td>\n",
       "      <td>0</td>\n",
       "      <td>HUB</td>\n",
       "      <td>20181015 13:56:51</td>\n",
       "      <td>None</td>\n",
       "      <td>983837898677</td>\n",
       "      <td>...</td>\n",
       "      <td>2140024</td>\n",
       "      <td>VVVVV</td>\n",
       "      <td>2019-06-25 14:58:40</td>\n",
       "      <td>0.0.11</td>\n",
       "      <td>s3://ichain-dev/runevent-demo/sun/ilumya/maste...</td>\n",
       "      <td>2019-06-25 15:05:31</td>\n",
       "      <td>ILUMYA</td>\n",
       "      <td>100mg/1mL</td>\n",
       "      <td>54826.0</td>\n",
       "      <td>1</td>\n",
       "    </tr>\n",
       "  </tbody>\n",
       "</table>\n",
       "<p>5 rows × 75 columns</p>\n",
       "</div>"
      ],
      "text/plain": [
       "            rec_date pharm_code   pharm_npi transtype pharm_transaction_id  \\\n",
       "0  20190219 10:02:04        WAG  1457618555       COM         072156296252   \n",
       "1  20190219 10:02:04        WAG  1457618555       COM         616712029452   \n",
       "2  20190219 10:02:04        WAG  1457618555       COM         315589151126   \n",
       "3  20190219 10:02:04        WAG  1851463087       COM         770668394640   \n",
       "4  20190219 10:02:04        WAG  1972560688       COM         382697428016   \n",
       "\n",
       "  trans_seq ref_source           ref_date program_id   pharmacy_id  ...  \\\n",
       "0         0     DIRECT  20181029 12:57:05       None  259823627362  ...   \n",
       "1         0     DIRECT  20181029 12:57:05       None  259823627362  ...   \n",
       "2         0        HUB  20181023 19:41:21       None  648937941315  ...   \n",
       "3         0     DIRECT  20190211 12:44:31       None  493992982816  ...   \n",
       "4         0        HUB  20181015 13:56:51       None  983837898677  ...   \n",
       "\n",
       "  msa_patient_id msa_patient_bmap __metadata_run_timestamp  \\\n",
       "0        2120052            VVVVV      2019-06-25 14:58:40   \n",
       "1        2120052            VVVVV      2019-06-25 14:58:40   \n",
       "2        2140015            VVVVV      2019-06-25 14:58:40   \n",
       "3        2140019            VVVVV      2019-06-25 14:58:40   \n",
       "4        2140024            VVVVV      2019-06-25 14:58:40   \n",
       "\n",
       "  __metadata_app_version                         __metadata_output_contract  \\\n",
       "0                 0.0.11  s3://ichain-dev/runevent-demo/sun/ilumya/maste...   \n",
       "1                 0.0.11  s3://ichain-dev/runevent-demo/sun/ilumya/maste...   \n",
       "2                 0.0.11  s3://ichain-dev/runevent-demo/sun/ilumya/maste...   \n",
       "3                 0.0.11  s3://ichain-dev/runevent-demo/sun/ilumya/maste...   \n",
       "4                 0.0.11  s3://ichain-dev/runevent-demo/sun/ilumya/maste...   \n",
       "\n",
       "  __metadata_transform_timestamp   brand   strength prod_grp_id  \\\n",
       "0            2019-06-25 15:05:31  ILUMYA  100mg/1mL     54826.0   \n",
       "1            2019-06-25 15:05:31  ILUMYA  100mg/1mL     54826.0   \n",
       "2            2019-06-25 15:05:31  ILUMYA  100mg/1mL     54826.0   \n",
       "3            2019-06-25 15:05:31  ILUMYA  100mg/1mL     54826.0   \n",
       "4            2019-06-25 15:05:31  ILUMYA  100mg/1mL     54826.0   \n",
       "\n",
       "  __metadata_run_id  \n",
       "0                 1  \n",
       "1                 1  \n",
       "2                 1  \n",
       "3                 1  \n",
       "4                 1  \n",
       "\n",
       "[5 rows x 75 columns]"
      ]
     },
     "execution_count": 9,
     "metadata": {},
     "output_type": "execute_result"
    }
   ],
   "source": [
    "final_dataframe.head()"
   ]
  },
  {
   "cell_type": "markdown",
   "metadata": {},
   "source": [
    "### Publish"
   ]
  },
  {
   "cell_type": "code",
   "execution_count": 12,
   "metadata": {},
   "outputs": [
    {
     "name": "stdout",
     "output_type": "stream",
     "text": [
      "2019-07-12 14:50:28,813 - core.dataset_contract.DatasetContract - INFO - Publishing dataframe to s3 location s3://ichain-dev/pipeline-builder/sun/ilumya/metrics/ds_demo with run ID 710351.\n",
      "2019-07-12 14:50:28,820 - s3parq.publish_parq - INFO - Checking params...\n",
      "2019-07-12 14:50:28,823 - s3parq.publish_parq - INFO - Params valid.\n",
      "2019-07-12 14:50:28,849 - s3parq.publish_parq - INFO - Writing to S3...\n"
     ]
    }
   ],
   "source": [
    "## that's it - just provide the final dataframe to the var final_dataframe and we take it from there\n",
    "transform.publish_contract.publish(final_dataframe, run_id, session)\n",
    "session.close()"
   ]
  }
 ],
 "metadata": {
  "celltoolbar": "Tags",
  "kernelspec": {
   "display_name": "Python 3",
   "language": "python",
   "name": "python3"
  },
  "language_info": {
   "codemirror_mode": {
    "name": "ipython",
    "version": 3
   },
   "file_extension": ".py",
   "mimetype": "text/x-python",
   "name": "python",
   "nbconvert_exporter": "python",
   "pygments_lexer": "ipython3",
   "version": "3.6.8"
  }
 },
 "nbformat": 4,
 "nbformat_minor": 2
}
