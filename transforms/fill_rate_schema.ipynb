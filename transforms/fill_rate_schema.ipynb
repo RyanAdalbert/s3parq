{
 "cells": [
  {
   "cell_type": "code",
   "execution_count": 1,
   "metadata": {},
   "outputs": [
    {
     "name": "stdout",
     "output_type": "stream",
     "text": [
      "2019-08-06 13:30:03,308 - core.helpers.session_helper.SessionHelper - INFO - Creating session for dev environment...\n",
      "2019-08-06 13:30:03,333 - core.helpers.configuration_mocker.ConfigurationMocker - DEBUG - Generating administrator mocks.\n",
      "2019-08-06 13:30:03,370 - core.helpers.configuration_mocker.ConfigurationMocker - DEBUG - Done generating administrator mocks.\n",
      "2019-08-06 13:30:03,371 - core.helpers.configuration_mocker.ConfigurationMocker - DEBUG - Generating pharmaceutical company mocks.\n",
      "2019-08-06 13:30:03,375 - core.helpers.configuration_mocker.ConfigurationMocker - DEBUG - Done generating pharmaceutical company mocks.\n",
      "2019-08-06 13:30:03,375 - core.helpers.configuration_mocker.ConfigurationMocker - DEBUG - Generating brand mocks.\n",
      "2019-08-06 13:30:03,378 - core.helpers.configuration_mocker.ConfigurationMocker - DEBUG - Done generating brand mocks.\n",
      "2019-08-06 13:30:03,379 - core.helpers.configuration_mocker.ConfigurationMocker - DEBUG - Generating segment mocks.\n",
      "2019-08-06 13:30:03,382 - core.helpers.configuration_mocker.ConfigurationMocker - DEBUG - Done generating segment mocks.\n",
      "2019-08-06 13:30:03,383 - core.helpers.configuration_mocker.ConfigurationMocker - DEBUG - Generating pipeline type mocks.\n",
      "2019-08-06 13:30:03,389 - core.helpers.configuration_mocker.ConfigurationMocker - DEBUG - Done generating pipeline type mocks.\n",
      "2019-08-06 13:30:03,390 - core.helpers.configuration_mocker.ConfigurationMocker - DEBUG - Generating pipeline mocks.\n",
      "2019-08-06 13:30:03,395 - core.helpers.configuration_mocker.ConfigurationMocker - DEBUG - Done generating pipeline mocks.\n",
      "2019-08-06 13:30:03,396 - core.helpers.configuration_mocker.ConfigurationMocker - DEBUG - Generating pipeline state type mocks.\n",
      "2019-08-06 13:30:03,401 - core.helpers.configuration_mocker.ConfigurationMocker - DEBUG - Done generating pipeline state type mocks.\n",
      "2019-08-06 13:30:03,402 - core.helpers.configuration_mocker.ConfigurationMocker - DEBUG - Generating pipeline state mocks.\n",
      "2019-08-06 13:30:03,405 - core.helpers.configuration_mocker.ConfigurationMocker - DEBUG - Done generating pipeline state mocks.\n",
      "2019-08-06 13:30:03,406 - core.helpers.configuration_mocker.ConfigurationMocker - DEBUG - Generating tag mocks.\n",
      "2019-08-06 13:30:03,408 - core.helpers.configuration_mocker.ConfigurationMocker - DEBUG - Done generating tag mocks.\n",
      "2019-08-06 13:30:03,409 - core.helpers.configuration_mocker.ConfigurationMocker - DEBUG - Generating transformation_template mocks.\n",
      "2019-08-06 13:30:03,412 - core.helpers.configuration_mocker.ConfigurationMocker - DEBUG - Done generating transformation_template mocks.\n",
      "2019-08-06 13:30:03,414 - core.helpers.configuration_mocker.ConfigurationMocker - DEBUG - Generating bridge table mocks for transformation_templates <=> tags.\n",
      "2019-08-06 13:30:03,417 - core.helpers.configuration_mocker.ConfigurationMocker - DEBUG - Done generating transformation_templates_tags mocks.\n",
      "2019-08-06 13:30:03,418 - core.helpers.configuration_mocker.ConfigurationMocker - DEBUG - Generating transformation mocks.\n",
      "2019-08-06 13:30:03,422 - core.helpers.configuration_mocker.ConfigurationMocker - DEBUG - Done generating transformation mocks.\n",
      "2019-08-06 13:30:03,423 - core.helpers.configuration_mocker.ConfigurationMocker - DEBUG - Generating transformation_variables mocks\n",
      "2019-08-06 13:30:03,426 - core.helpers.configuration_mocker.ConfigurationMocker - DEBUG - Done generating transformation_variables mocks.\n",
      "2019-08-06 13:30:03,426 - core.helpers.configuration_mocker.ConfigurationMocker - DEBUG - Generating run_events mocks.\n",
      "2019-08-06 13:30:03,430 - core.helpers.configuration_mocker.ConfigurationMocker - DEBUG - Done generating run_events mocks.\n",
      "2019-08-06 13:30:03,431 - core.helpers.session_helper.SessionHelper - INFO - Done. Created dev session with mock data.\n"
     ]
    }
   ],
   "source": [
    "from core.helpers.session_helper import SessionHelper\n",
    "session = SessionHelper().session"
   ]
  },
  {
   "cell_type": "code",
   "execution_count": 2,
   "metadata": {},
   "outputs": [],
   "source": [
    "\"\"\"\n",
    "************ CONFIGURATION - PLEASE TOUCH **************\n",
    "Pipeline Builder configuration: creates configurations from variables specified here!!\n",
    "This cell will be off in production as configurations will come from the configuration postgres DB.\n",
    "\"\"\"\n",
    "# config vars: this dataset\n",
    "config_pharma = \"sun\" # the pharmaceutical company which owns {brand}\n",
    "config_brand = \"ilumya\" # the brand this pipeline operates on\n",
    "config_state = \"enrich\" # the state this transform runs in\n",
    "config_name = \"fill_rate_schema\" # the name of this transform, which is the name of this notebook without .ipynb\n",
    "\n",
    "# input vars: dataset to fetch. Recall that a contract published to S3 has a key format branch/pharma/brand/state/name\n",
    "input_pharma = \"sun\"\n",
    "input_brand = \"ilumya\"\n",
    "input_state = \"ingest\"\n",
    "input_name = \"symphony_health_association_ingest_column_mapping\"\n",
    "input_branch = \"sun-extract-validation\" # if None, input_branch is automagically set to your working branch"
   ]
  },
  {
   "cell_type": "code",
   "execution_count": 3,
   "metadata": {},
   "outputs": [
    {
     "name": "stdout",
     "output_type": "stream",
     "text": [
      "2019-08-06 13:30:03,516 - core.logging - DEBUG - Adding/getting mocks for specified configurations...\n",
      "2019-08-06 13:30:03,541 - core.logging - DEBUG - Done. Creating mock run event and committing results to configuration mocker.\n"
     ]
    }
   ],
   "source": [
    "\"\"\"\n",
    "************ SETUP - DON'T TOUCH **************\n",
    "Populating config mocker based on config parameters...\n",
    "\"\"\"\n",
    "import core.helpers.pipeline_builder as builder\n",
    "\n",
    "ids = builder.build(config_pharma, config_brand, config_state, config_name, session)\n",
    "transform_id = ids[0]\n",
    "run_id = ids[1]"
   ]
  },
  {
   "cell_type": "code",
   "execution_count": 4,
   "metadata": {},
   "outputs": [],
   "source": [
    "\"\"\"\n",
    "************ SETUP - DON'T TOUCH **************\n",
    "This section imports data from the configuration database\n",
    "and should not need to be altered or otherwise messed with. \n",
    "~~These are not the droids you are looking for~~\n",
    "\"\"\"\n",
    "from core.constants import BRANCH_NAME, ENV_BUCKET\n",
    "from core.models.configuration import Transformation\n",
    "from dataclasses import dataclass\n",
    "from core.dataset_contract import DatasetContract\n",
    "\n",
    "db_transform = session.query(Transformation).filter(Transformation.id == transform_id).one()\n",
    "\n",
    "@dataclass\n",
    "class DbTransform:\n",
    "    id: int = db_transform.id ## the instance id of the transform in the config app\n",
    "    name: str = db_transform.transformation_template.name ## the transform name in the config app\n",
    "    state: str = db_transform.pipeline_state.pipeline_state_type.name ## the pipeline state, one of raw, ingest, master, enhance, enrich, metrics, dimensional\n",
    "    branch:str = BRANCH_NAME ## the git branch for this execution \n",
    "    brand: str = db_transform.pipeline_state.pipeline.brand.name ## the pharma brand name\n",
    "    pharmaceutical_company: str = db_transform.pipeline_state.pipeline.brand.pharmaceutical_company.name # the pharma company name\n",
    "    publish_contract: DatasetContract = DatasetContract(branch=BRANCH_NAME,\n",
    "                            state=db_transform.pipeline_state.pipeline_state_type.name,\n",
    "                            parent=db_transform.pipeline_state.pipeline.brand.pharmaceutical_company.name,\n",
    "                            child=db_transform.pipeline_state.pipeline.brand.name,\n",
    "                            dataset=db_transform.transformation_template.name)\n"
   ]
  },
  {
   "cell_type": "markdown",
   "metadata": {},
   "source": [
    "# CORE Cartridge Notebook::[transform name here]\n",
    "![CORE Logo](assets/coreLogo.png) \n",
    "\n",
    "---\n",
    "## Keep in Mind\n",
    "Good Transforms Are...\n",
    "- **singular in purpose:** good transforms do one and only one thing, and handle all known cases for that thing. \n",
    "- **repeatable:** transforms should be written in a way that they can be run against the same dataset an infinate number of times and get the same result every time. \n",
    "- **easy to read:** 99 times out of 100, readable, clear code that runs a little slower is more valuable than a mess that runs quickly. \n",
    "- **No 'magic numbers':** if a variable or function is not instantly obvious as to what it is or does, without context, maybe consider renaming it."
   ]
  },
  {
   "cell_type": "markdown",
   "metadata": {},
   "source": [
    "## Workflow - how to use this notebook to make science\n",
    "#### Data Science\n",
    "1. **Document your transform.** Fill out the _description_ cell below describing what it is this transform does; this will appear in the configuration application where Ops will create, configure and update pipelines. \n",
    "1. **Define your config object.** Fill out the _configuration_ cell below the commented-out guide to define the variables you want ops to set in the configuration application (these will populate here for every pipeline). \n",
    "2. **Build your transformation logic.** Use the transformation cell to do that magic that you do. \n",
    "![caution](assets/cautionTape.png)"
   ]
  },
  {
   "cell_type": "markdown",
   "metadata": {},
   "source": [
    "### Configuration"
   ]
  },
  {
   "cell_type": "code",
   "execution_count": 5,
   "metadata": {},
   "outputs": [],
   "source": [
    "\"\"\" \n",
    "********* VARIABLES - PLEASE TOUCH ********* \n",
    "This section defines what you expect to get from the configuration application \n",
    "in a single \"transform\" object. Define the vars you need here, and comment inline to the right of them \n",
    "for all-in-one documentation. \n",
    "Engineering will build a production \"transform\" object for every pipeline that matches what you define here.\n",
    "\n",
    "@@@ FORMAT OF THE DATA CLASS IS: @@@ \n",
    "\n",
    "<variable_name>: <data_type> #<comment explaining what the value is to future us>\n",
    "\n",
    "e.g.\n",
    "\n",
    "class Transform(DbTransform):\n",
    "    some_ratio: float\n",
    "    site_name: str\n",
    "\n",
    "~~These ARE the droids you are looking for~~\n",
    "\"\"\"\n",
    "\n",
    "class Transform(DbTransform):\n",
    "    '''\n",
    "    YOUR properties go here!!\n",
    "    Variable properties should be assigned to the exact name of\n",
    "    the transformation as it appears in the Jupyter notebook filename.\n",
    "    '''\n",
    "\n",
    "transform = Transform()"
   ]
  },
  {
   "cell_type": "code",
   "execution_count": null,
   "metadata": {},
   "outputs": [],
   "source": [
    "## Please place your value assignments for development here!!\n",
    "## This cell will be turned off in production and Engineering will set to pull from the configuration application instead\n",
    "## For the last example, this could look like...\n",
    "## transform.some_ratio = 0.6\n",
    "## transform.site_name = \"WALGREENS\""
   ]
  },
  {
   "cell_type": "markdown",
   "metadata": {},
   "source": [
    "### Description\n",
    "What does this transformation do? be specific.\n",
    "\n",
    "![what does your transform do](assets/what.gif)"
   ]
  },
  {
   "cell_type": "markdown",
   "metadata": {},
   "source": [
    "![Fill Rate Schema](assets/FillRateSchema.png)\n",
    "\n"
   ]
  },
  {
   "cell_type": "markdown",
   "metadata": {},
   "source": [
    "### Transformation"
   ]
  },
  {
   "cell_type": "code",
   "execution_count": 94,
   "metadata": {},
   "outputs": [
    {
     "name": "stdout",
     "output_type": "stream",
     "text": [
      "2019-08-06 14:34:59,158 - core.dataset_contract.DatasetContract - INFO - Fetching dataframe from s3 location s3://ichain-dev/sun-extract-validation/sun/ilumya/ingest/symphony_health_association_ingest_column_mapping.\n"
     ]
    }
   ],
   "source": [
    "\"\"\"\n",
    "************ FETCH DATA - TOUCH, BUT CAREFULLY **************\n",
    "This cell will be turned off in production, as the input_contract will be handled by the pipeline.\n",
    "\"\"\"\n",
    "\n",
    "if not input_branch:\n",
    "    input_branch = BRANCH_NAME\n",
    "input_contract = DatasetContract(branch=input_branch, state=input_state, parent=input_pharma, child=input_brand, dataset=input_name)\n",
    "run_filter = []\n",
    "# run_filter.append(dict(partition=\"run_id\", comparison=\"==\", values=[1]))\n",
    "# IF YOU HAVE PUBLISHED DATA MULTIPLE TIMES, uncomment the above line and change the int to the run_id to fetch.\n",
    "# Otherwise, you will have duplicate values in your fetched dataset!\n",
    "df = input_contract.fetch(filters=run_filter)"
   ]
  },
  {
   "cell_type": "code",
   "execution_count": 95,
   "metadata": {},
   "outputs": [],
   "source": [
    "import os\n",
    "\n",
    "import numpy as np\n",
    "import pandas as pd\n",
    "\n",
    "pd.options.display.max_columns=999\n",
    "\n",
    "df.status_date = df.status_date.str[:8].astype(str)\n",
    "df.ref_date = df.ref_date.str[:8].astype(str)\n",
    "\n",
    "df.status_date = pd.to_datetime(df.status_date, infer_datetime_format=True, errors='coerce')\n",
    "df.ref_date = pd.to_datetime(df.ref_date, infer_datetime_format=True, errors='coerce')"
   ]
  },
  {
   "cell_type": "code",
   "execution_count": 96,
   "metadata": {},
   "outputs": [],
   "source": [
    "os.chdir('{}'.format(os.path.expanduser('~')))\n",
    "status_config = pd.read_csv('status_mapping.csv')\n",
    "\n",
    "status_config.loc[:,'statusCode'] = status_config.statusCode.str.upper()\n",
    "status_config.loc[:,'subStatus'] = status_config.subStatus.str.upper()\n",
    "status_config.loc[:,'integrichain_sub_status'] = status_config.integrichain_sub_status.str.upper()\n",
    "status_config.loc[:,'integrichain_status'] = status_config.integrichain_status.str.upper()\n",
    "status_config.loc[:,'Patient_Journey_Hierarchy'] = status_config.Patient_Journey_Hierarchy.str.upper()\n",
    "\n",
    "status_config = status_config.rename(columns={'statusCode':'status_code','subStatus':'sub_status'})\n",
    "\n",
    "df.sub_status = df.sub_status.str.replace('PRESCRIBERHOLD','PRESCRIBER HOLD')\n",
    "\n",
    "df = pd.merge(df,status_config,on=['status_code','sub_status'])\n",
    "\n",
    "df = df[['rec_date', 'pharm_code', 'pharm_npi', 'transtype', 'pharm_transaction_id', 'trans_seq', 'ref_source', 'ref_date', 'program_id', 'pharmacy_id', 'pat_last_name', 'pat_first_name', 'pat_dob', 'pat_gender', \n",
    "         'pat_addr1', 'pat_addr2', 'pat_city', 'pat_state', 'pat_zip', 'dx1_code', 'dx2_code', 'status_date', 'status_code', 'sub_status', 'integrichain_status','integrichain_sub_status', 'Patient_Journey_Hierarchy', \n",
    "         'pres_last_name', 'pres_first_name', 'pres_addr1', 'pres_addr2', 'pres_city', 'pres_state', 'pres_zip', 'pres_phone', 'pres_npi', 'pres_dea', 'facility_name', 'rxdate', 'rxnumber', 'rxrefills', 'rxfill', \n",
    "         'refill_remaining', 'prev_disp', 'rx_ndc_number', 'medication', 'quantity', 'day_supply', 'ship_date', 'ship_carrier', 'shiptracking_num', 'ship_location', 'ship_address', 'ship_city', 'ship_state', 'ship_zip', \n",
    "         'has_medical', 'primary_coverage_type', 'primary_payer_name', 'primary_payer_type', 'secondary_coverage_type', 'secondary_payer_name', 'secondary_payer_type', 'plan_paid_amt', 'pat_copay', 'copay_assist_amount', \n",
    "         'oth_payer_amt', 'xfer_pharmname', 'msa_patient_id', 'msa_patient_bmap', '__metadata_run_timestamp', '__metadata_app_version', '__metadata_output_contract', '__metadata_transform_timestamp', '__metadata_run_id']]"
   ]
  },
  {
   "cell_type": "code",
   "execution_count": 100,
   "metadata": {},
   "outputs": [],
   "source": [
    "sort_columns = ['msa_patient_id', 'pharm_code', 'medication', 'status_date']\n",
    "col_ids = sort_columns[:-1]\n",
    "status_date = sort_columns[-1]\n",
    "transaction_id = 'pharm_transaction_id'\n",
    "payer_info = ['ref_source','pres_first_name','pres_last_name','pres_state','primary_payer_name','primary_payer_type']\n",
    "status_info = ['integrichain_status','integrichain_sub_status','Patient_Journey_Hierarchy']\n",
    "shipment = 'SHIPMENT'\n",
    "transfered = 'TRANSFERED'\n",
    "cancelled = 'CANCELLED'"
   ]
  },
  {
   "cell_type": "code",
   "execution_count": 98,
   "metadata": {},
   "outputs": [],
   "source": [
    "df = df.sort_values(sort_columns,ascending=[True, True, True, True])"
   ]
  },
  {
   "cell_type": "code",
   "execution_count": 101,
   "metadata": {},
   "outputs": [],
   "source": [
    "max_date_df = (\n",
    "    df\n",
    "    .groupby(col_ids)\n",
    "    [status_date]\n",
    "    .max()\n",
    "    .reset_index(drop=False)\n",
    "    .rename(columns={status_date:'max_status_date'})\n",
    ")"
   ]
  },
  {
   "cell_type": "code",
   "execution_count": 102,
   "metadata": {},
   "outputs": [],
   "source": [
    "df = pd.merge(df,max_date_df,on=col_ids)\n",
    "df = pd.merge(df,max_transaction_df,on=col_ids)"
   ]
  },
  {
   "cell_type": "code",
   "execution_count": 103,
   "metadata": {},
   "outputs": [],
   "source": [
    "df.pharm_transaction_id = df.pharm_transaction_id.str.extract(r'(\\d+$)')\n",
    "\n",
    "df.pharm_transaction_id = df.pharm_transaction_id.apply(lambda x: x[0:19])\n",
    "\n",
    "df.pharm_transaction_id = pd.to_numeric(df.pharm_transaction_id)"
   ]
  },
  {
   "cell_type": "code",
   "execution_count": 104,
   "metadata": {},
   "outputs": [],
   "source": [
    "df['max_date'] = np.where(df[status_date] == df['max_status_date'],1,0)\n",
    "df['max_transaction_id'] = np.where(df[transaction_id] == df['max_transaction_id'],1,0)"
   ]
  },
  {
   "cell_type": "code",
   "execution_count": 107,
   "metadata": {},
   "outputs": [],
   "source": [
    "df = df[df.max_date == 1][col_ids + [transaction_id] + [status_date] + payer_info + status_info].drop_duplicates()"
   ]
  },
  {
   "cell_type": "code",
   "execution_count": 108,
   "metadata": {},
   "outputs": [],
   "source": [
    "max_transaction_df = (\n",
    "    df\n",
    "    .groupby(col_ids)\n",
    "    [transaction_id]\n",
    "    .max()\n",
    "    .reset_index(drop=False)\n",
    "    .rename(columns={transaction_id:'max_transaction_id'})\n",
    ")"
   ]
  },
  {
   "cell_type": "code",
   "execution_count": 116,
   "metadata": {},
   "outputs": [],
   "source": [
    "df = pd.merge(df,max_transaction_df,on=col_ids)"
   ]
  },
  {
   "cell_type": "code",
   "execution_count": 117,
   "metadata": {},
   "outputs": [],
   "source": [
    "df['max_transaction_id'] = np.where(df[transaction_id] == df['max_transaction_id'],1,0)"
   ]
  },
  {
   "cell_type": "code",
   "execution_count": 118,
   "metadata": {},
   "outputs": [],
   "source": [
    "df = df[df.max_transaction_id == 1].drop(labels=['max_transaction_id',transaction_id],axis=1)"
   ]
  },
  {
   "cell_type": "code",
   "execution_count": 119,
   "metadata": {},
   "outputs": [
    {
     "data": {
      "text/html": [
       "<div>\n",
       "<style scoped>\n",
       "    .dataframe tbody tr th:only-of-type {\n",
       "        vertical-align: middle;\n",
       "    }\n",
       "\n",
       "    .dataframe tbody tr th {\n",
       "        vertical-align: top;\n",
       "    }\n",
       "\n",
       "    .dataframe thead th {\n",
       "        text-align: right;\n",
       "    }\n",
       "</style>\n",
       "<table border=\"1\" class=\"dataframe\">\n",
       "  <thead>\n",
       "    <tr style=\"text-align: right;\">\n",
       "      <th></th>\n",
       "      <th>msa_patient_id</th>\n",
       "      <th>pharm_code</th>\n",
       "      <th>medication</th>\n",
       "      <th>status_date</th>\n",
       "      <th>ref_source</th>\n",
       "      <th>pres_first_name</th>\n",
       "      <th>pres_last_name</th>\n",
       "      <th>pres_state</th>\n",
       "      <th>primary_payer_name</th>\n",
       "      <th>primary_payer_type</th>\n",
       "      <th>integrichain_status</th>\n",
       "      <th>integrichain_sub_status</th>\n",
       "      <th>Patient_Journey_Hierarchy</th>\n",
       "    </tr>\n",
       "  </thead>\n",
       "  <tbody>\n",
       "    <tr>\n",
       "      <th>1244</th>\n",
       "      <td>4500000</td>\n",
       "      <td>CVS</td>\n",
       "      <td>ILUMYA</td>\n",
       "      <td>2019-05-02</td>\n",
       "      <td>DIRECT</td>\n",
       "      <td>NICHOLE</td>\n",
       "      <td>REAGLE</td>\n",
       "      <td>MD</td>\n",
       "      <td>None</td>\n",
       "      <td>None</td>\n",
       "      <td>PENDING</td>\n",
       "      <td>APPEAL</td>\n",
       "      <td>BV/PA</td>\n",
       "    </tr>\n",
       "    <tr>\n",
       "      <th>1245</th>\n",
       "      <td>4500000</td>\n",
       "      <td>CVS</td>\n",
       "      <td>ILUMYA SD PFS</td>\n",
       "      <td>2019-05-06</td>\n",
       "      <td>DIRECT</td>\n",
       "      <td>NICHOLE</td>\n",
       "      <td>HART</td>\n",
       "      <td>MD</td>\n",
       "      <td>None</td>\n",
       "      <td>COMMERICAL</td>\n",
       "      <td>ACTIVE</td>\n",
       "      <td>SHIPMENT</td>\n",
       "      <td>FULFILLMENT</td>\n",
       "    </tr>\n",
       "  </tbody>\n",
       "</table>\n",
       "</div>"
      ],
      "text/plain": [
       "     msa_patient_id pharm_code     medication status_date ref_source  \\\n",
       "1244        4500000        CVS         ILUMYA  2019-05-02     DIRECT   \n",
       "1245        4500000        CVS  ILUMYA SD PFS  2019-05-06     DIRECT   \n",
       "\n",
       "     pres_first_name pres_last_name pres_state primary_payer_name  \\\n",
       "1244         NICHOLE         REAGLE         MD               None   \n",
       "1245         NICHOLE           HART         MD               None   \n",
       "\n",
       "     primary_payer_type integrichain_status integrichain_sub_status  \\\n",
       "1244               None             PENDING                  APPEAL   \n",
       "1245         COMMERICAL              ACTIVE                SHIPMENT   \n",
       "\n",
       "     Patient_Journey_Hierarchy  \n",
       "1244                     BV/PA  \n",
       "1245               FULFILLMENT  "
      ]
     },
     "execution_count": 119,
     "metadata": {},
     "output_type": "execute_result"
    }
   ],
   "source": [
    "df[df.msa_patient_id == '4500000']"
   ]
  },
  {
   "cell_type": "code",
   "execution_count": 120,
   "metadata": {},
   "outputs": [],
   "source": [
    "df['filled'] = np.where((df.integrichain_sub_status == shipment),1,0)\n",
    "df['transferred'] = np.where((df.Patient_Journey_Hierarchy == transfered),1,0)\n",
    "df['cancelled'] = np.where((df.integrichain_status == cancelled) & ~(df.Patient_Journey_Hierarchy == transfered),1,0)\n",
    "df['stillopen'] = np.where((df.filled == 0) & (df.transferred == 0) & (df.cancelled == 0),1,0)"
   ]
  },
  {
   "cell_type": "code",
   "execution_count": 121,
   "metadata": {},
   "outputs": [],
   "source": [
    "import unittest\n",
    "\n",
    "def no_multiple_types(df):\n",
    "    return df[df.filled + df.transferred + df.cancelled + df.stillopen != 1].shape[0] == 0\n",
    "\n",
    "def duplicates_exist(df):\n",
    "    return df[col_ids].drop_duplicates().shape[0] == df.shape[0]"
   ]
  },
  {
   "cell_type": "code",
   "execution_count": 123,
   "metadata": {},
   "outputs": [
    {
     "name": "stderr",
     "output_type": "stream",
     "text": [
      "test_duplicates_exist (__main__.TestNotebook) ... FAIL\n",
      "test_no_multiple_types (__main__.TestNotebook) ... ok\n",
      "\n",
      "======================================================================\n",
      "FAIL: test_duplicates_exist (__main__.TestNotebook)\n",
      "----------------------------------------------------------------------\n",
      "Traceback (most recent call last):\n",
      "  File \"<ipython-input-123-c88a956b131a>\", line 7, in test_duplicates_exist\n",
      "    self.assertEqual(duplicates_exist(df),True)\n",
      "AssertionError: False != True\n",
      "\n",
      "----------------------------------------------------------------------\n",
      "Ran 2 tests in 0.019s\n",
      "\n",
      "FAILED (failures=1)\n"
     ]
    },
    {
     "data": {
      "text/plain": [
       "<unittest.main.TestProgram at 0x7f2ad30cebe0>"
      ]
     },
     "execution_count": 123,
     "metadata": {},
     "output_type": "execute_result"
    }
   ],
   "source": [
    "class TestNotebook(unittest.TestCase):\n",
    "    \n",
    "    def test_no_multiple_types(self):\n",
    "        self.assertEqual(no_multiple_types(df),True)\n",
    "        \n",
    "    def test_duplicates_exist(self):\n",
    "        self.assertEqual(duplicates_exist(df),True)\n",
    "        \n",
    "unittest.main(argv=[''], verbosity=2, exit=False)"
   ]
  },
  {
   "cell_type": "code",
   "execution_count": 124,
   "metadata": {},
   "outputs": [
    {
     "name": "stdout",
     "output_type": "stream",
     "text": [
      "1573\n",
      "1574\n"
     ]
    }
   ],
   "source": [
    "print(df[col_ids].drop_duplicates().shape[0])\n",
    "print(df.shape[0])"
   ]
  },
  {
   "cell_type": "code",
   "execution_count": 130,
   "metadata": {},
   "outputs": [
    {
     "data": {
      "text/html": [
       "<div>\n",
       "<style scoped>\n",
       "    .dataframe tbody tr th:only-of-type {\n",
       "        vertical-align: middle;\n",
       "    }\n",
       "\n",
       "    .dataframe tbody tr th {\n",
       "        vertical-align: top;\n",
       "    }\n",
       "\n",
       "    .dataframe thead th {\n",
       "        text-align: right;\n",
       "    }\n",
       "</style>\n",
       "<table border=\"1\" class=\"dataframe\">\n",
       "  <thead>\n",
       "    <tr style=\"text-align: right;\">\n",
       "      <th></th>\n",
       "      <th>msa_patient_id</th>\n",
       "      <th>pharm_code</th>\n",
       "      <th>medication</th>\n",
       "      <th>status_date</th>\n",
       "      <th>ref_source</th>\n",
       "      <th>pres_first_name</th>\n",
       "      <th>pres_last_name</th>\n",
       "      <th>pres_state</th>\n",
       "      <th>primary_payer_name</th>\n",
       "      <th>primary_payer_type</th>\n",
       "      <th>integrichain_status</th>\n",
       "      <th>integrichain_sub_status</th>\n",
       "      <th>Patient_Journey_Hierarchy</th>\n",
       "      <th>filled</th>\n",
       "      <th>transferred</th>\n",
       "      <th>cancelled</th>\n",
       "      <th>stillopen</th>\n",
       "    </tr>\n",
       "  </thead>\n",
       "  <tbody>\n",
       "    <tr>\n",
       "      <th>154</th>\n",
       "      <td>2430014</td>\n",
       "      <td>CGN</td>\n",
       "      <td>ILUMYA INJ 100MG/ML</td>\n",
       "      <td>2019-01-23</td>\n",
       "      <td>PHARM</td>\n",
       "      <td>KARLA</td>\n",
       "      <td>HORTON</td>\n",
       "      <td>AZ</td>\n",
       "      <td>CIGNA</td>\n",
       "      <td>None</td>\n",
       "      <td>CANCELLED</td>\n",
       "      <td>TRANSFER SP</td>\n",
       "      <td>TRANSFERRED</td>\n",
       "      <td>0</td>\n",
       "      <td>0</td>\n",
       "      <td>1</td>\n",
       "      <td>0</td>\n",
       "    </tr>\n",
       "  </tbody>\n",
       "</table>\n",
       "</div>"
      ],
      "text/plain": [
       "    msa_patient_id pharm_code           medication status_date ref_source  \\\n",
       "154        2430014        CGN  ILUMYA INJ 100MG/ML  2019-01-23      PHARM   \n",
       "\n",
       "    pres_first_name pres_last_name pres_state primary_payer_name  \\\n",
       "154           KARLA         HORTON         AZ              CIGNA   \n",
       "\n",
       "    primary_payer_type integrichain_status integrichain_sub_status  \\\n",
       "154               None           CANCELLED             TRANSFER SP   \n",
       "\n",
       "    Patient_Journey_Hierarchy  filled  transferred  cancelled  stillopen  \n",
       "154               TRANSFERRED       0            0          1          0  "
      ]
     },
     "execution_count": 130,
     "metadata": {},
     "output_type": "execute_result"
    }
   ],
   "source": [
    "df[df[col_ids].duplicated()]"
   ]
  },
  {
   "cell_type": "code",
   "execution_count": 133,
   "metadata": {},
   "outputs": [
    {
     "data": {
      "text/html": [
       "<div>\n",
       "<style scoped>\n",
       "    .dataframe tbody tr th:only-of-type {\n",
       "        vertical-align: middle;\n",
       "    }\n",
       "\n",
       "    .dataframe tbody tr th {\n",
       "        vertical-align: top;\n",
       "    }\n",
       "\n",
       "    .dataframe thead th {\n",
       "        text-align: right;\n",
       "    }\n",
       "</style>\n",
       "<table border=\"1\" class=\"dataframe\">\n",
       "  <thead>\n",
       "    <tr style=\"text-align: right;\">\n",
       "      <th></th>\n",
       "      <th>msa_patient_id</th>\n",
       "      <th>pharm_code</th>\n",
       "      <th>medication</th>\n",
       "      <th>status_date</th>\n",
       "      <th>ref_source</th>\n",
       "      <th>pres_first_name</th>\n",
       "      <th>pres_last_name</th>\n",
       "      <th>pres_state</th>\n",
       "      <th>primary_payer_name</th>\n",
       "      <th>primary_payer_type</th>\n",
       "      <th>integrichain_status</th>\n",
       "      <th>integrichain_sub_status</th>\n",
       "      <th>Patient_Journey_Hierarchy</th>\n",
       "      <th>filled</th>\n",
       "      <th>transferred</th>\n",
       "      <th>cancelled</th>\n",
       "      <th>stillopen</th>\n",
       "    </tr>\n",
       "  </thead>\n",
       "  <tbody>\n",
       "    <tr>\n",
       "      <th>153</th>\n",
       "      <td>2430014</td>\n",
       "      <td>CGN</td>\n",
       "      <td>ILUMYA INJ 100MG/ML</td>\n",
       "      <td>2019-01-23</td>\n",
       "      <td>PHARM</td>\n",
       "      <td>KARLA</td>\n",
       "      <td>HORTON</td>\n",
       "      <td>AZ</td>\n",
       "      <td>CIGNA</td>\n",
       "      <td>COMMERCIAL</td>\n",
       "      <td>CANCELLED</td>\n",
       "      <td>TRANSFER SP</td>\n",
       "      <td>TRANSFERRED</td>\n",
       "      <td>0</td>\n",
       "      <td>0</td>\n",
       "      <td>1</td>\n",
       "      <td>0</td>\n",
       "    </tr>\n",
       "    <tr>\n",
       "      <th>154</th>\n",
       "      <td>2430014</td>\n",
       "      <td>CGN</td>\n",
       "      <td>ILUMYA INJ 100MG/ML</td>\n",
       "      <td>2019-01-23</td>\n",
       "      <td>PHARM</td>\n",
       "      <td>KARLA</td>\n",
       "      <td>HORTON</td>\n",
       "      <td>AZ</td>\n",
       "      <td>CIGNA</td>\n",
       "      <td>None</td>\n",
       "      <td>CANCELLED</td>\n",
       "      <td>TRANSFER SP</td>\n",
       "      <td>TRANSFERRED</td>\n",
       "      <td>0</td>\n",
       "      <td>0</td>\n",
       "      <td>1</td>\n",
       "      <td>0</td>\n",
       "    </tr>\n",
       "  </tbody>\n",
       "</table>\n",
       "</div>"
      ],
      "text/plain": [
       "    msa_patient_id pharm_code           medication status_date ref_source  \\\n",
       "153        2430014        CGN  ILUMYA INJ 100MG/ML  2019-01-23      PHARM   \n",
       "154        2430014        CGN  ILUMYA INJ 100MG/ML  2019-01-23      PHARM   \n",
       "\n",
       "    pres_first_name pres_last_name pres_state primary_payer_name  \\\n",
       "153           KARLA         HORTON         AZ              CIGNA   \n",
       "154           KARLA         HORTON         AZ              CIGNA   \n",
       "\n",
       "    primary_payer_type integrichain_status integrichain_sub_status  \\\n",
       "153         COMMERCIAL           CANCELLED             TRANSFER SP   \n",
       "154               None           CANCELLED             TRANSFER SP   \n",
       "\n",
       "    Patient_Journey_Hierarchy  filled  transferred  cancelled  stillopen  \n",
       "153               TRANSFERRED       0            0          1          0  \n",
       "154               TRANSFERRED       0            0          1          0  "
      ]
     },
     "execution_count": 133,
     "metadata": {},
     "output_type": "execute_result"
    }
   ],
   "source": [
    "df[df.msa_patient_id == '2430014']"
   ]
  },
  {
   "cell_type": "code",
   "execution_count": null,
   "metadata": {},
   "outputs": [],
   "source": [
    "### Use the variables above to execute your transformation. the final output needs to be a variable named final_dataframe"
   ]
  },
  {
   "cell_type": "markdown",
   "metadata": {},
   "source": [
    "### Publish"
   ]
  },
  {
   "cell_type": "code",
   "execution_count": null,
   "metadata": {},
   "outputs": [],
   "source": [
    "## that's it - just provide the final dataframe to the var final_dataframe and we take it from there\n",
    "transform.publish_contract.publish(final_dataframe, run_id, session)\n",
    "session.close()"
   ]
  }
 ],
 "metadata": {
  "celltoolbar": "Tags",
  "kernelspec": {
   "display_name": "Python 3",
   "language": "python",
   "name": "python3"
  },
  "language_info": {
   "codemirror_mode": {
    "name": "ipython",
    "version": 3
   },
   "file_extension": ".py",
   "mimetype": "text/x-python",
   "name": "python",
   "nbconvert_exporter": "python",
   "pygments_lexer": "ipython3",
   "version": "3.6.8"
  }
 },
 "nbformat": 4,
 "nbformat_minor": 2
}
