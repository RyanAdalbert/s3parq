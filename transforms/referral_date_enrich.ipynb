{
 "cells": [
  {
   "cell_type": "code",
   "execution_count": null,
   "metadata": {},
   "outputs": [],
   "source": [
    "from core.helpers.session_helper import SessionHelper\n",
    "session = SessionHelper().session"
   ]
  },
  {
   "cell_type": "raw",
   "metadata": {},
   "source": [
    "\"\"\"\n",
    "************ CONFIGURATION - PLEASE TOUCH **************\n",
    "Pipeline Builder configuration: creates configurations from variables specified here!!\n",
    "This cell will be off in production as configurations will come from the configuration postgres DB.\n",
    "\"\"\"\n",
    "# config vars: this dataset\n",
    "config_pharma = \"sun\" # the pharmaceutical company which owns {brand}\n",
    "config_brand = \"ilumya\" # the brand this pipeline operates on\n",
    "config_state = \"enrich\" # the state this transform runs in\n",
    "config_name = \"referral_date_enrich\" # the name of this transform, which is the name of this notebook without .ipynb\n",
    "\n",
    "# input vars: dataset to fetch. Recall that a contract published to S3 has a key format branch/pharma/brand/state/name\n",
    "input_pharma= \"sun\"\n",
    "input_brand = \"ilumya\"\n",
    "input_state = \"enrich\"\n",
    "input_name = \"upstream\"\n",
    "input_branch = None # if None, input_branch is automagically set to your working branch"
   ]
  },
  {
   "cell_type": "raw",
   "metadata": {},
   "source": [
    "\"\"\"\n",
    "************ SETUP - DON'T TOUCH **************\n",
    "Populating config mocker based on config parameters...\n",
    "\"\"\"\n",
    "import core.helpers.pipeline_builder as builder\n",
    "\n",
    "ids = builder.build(config_pharma, config_brand, config_state, config_name, session)\n",
    "transform_id = ids[0]\n",
    "run_id = ids[1]"
   ]
  },
  {
   "cell_type": "code",
   "execution_count": null,
   "metadata": {},
   "outputs": [],
   "source": [
    "\"\"\"\n",
    "************ SETUP - DON'T TOUCH **************\n",
    "This section imports data from the configuration database\n",
    "and should not need to be altered or otherwise messed with. \n",
    "~~These are not the droids you are looking for~~\n",
    "\"\"\"\n",
    "from core.constants import BRANCH_NAME, ENV_BUCKET\n",
    "from core.helpers.session_helper import SessionHelper\n",
    "from core.models.configuration import Transformation\n",
    "from dataclasses import dataclass\n",
    "from core.dataset_contract import DatasetContract\n",
    "\n",
    "db_transform = session.query(Transformation).filter(Transformation.id == transform_id).one()\n",
    "\n",
    "@dataclass\n",
    "class DbTransform:\n",
    "    id: int = db_transform.id ## the instance id of the transform in the config app\n",
    "    name: str = db_transform.transformation_template.name ## the transform name in the config app\n",
    "    state: str = db_transform.pipeline_state.pipeline_state_type.name ## the pipeline state, one of raw, ingest, master, enhance, enrich, metrics, dimensional\n",
    "    branch:str = BRANCH_NAME ## the git branch for this execution \n",
    "    brand: str = db_transform.pipeline_state.pipeline.brand.name ## the pharma brand name\n",
    "    pharmaceutical_company: str = db_transform.pipeline_state.pipeline.brand.pharmaceutical_company.name # the pharma company name\n",
    "    publish_contract: DatasetContract = DatasetContract(branch=BRANCH_NAME,\n",
    "                            state=db_transform.pipeline_state.pipeline_state_type.name,\n",
    "                            parent=db_transform.pipeline_state.pipeline.brand.pharmaceutical_company.name,\n",
    "                            child=db_transform.pipeline_state.pipeline.brand.name,\n",
    "                            dataset=db_transform.transformation_template.name)\n"
   ]
  },
  {
   "cell_type": "markdown",
   "metadata": {},
   "source": [
    "# CORE Cartridge Notebook::[Referral Date Enrichment]\n",
    "![CORE Logo](assets/coreLogo.png) \n",
    "\n",
    "---\n",
    "## Keep in Mind\n",
    "Good Transforms Are...\n",
    "- **singular in purpose:** good transforms do one and only one thing, and handle all known cases for that thing. \n",
    "- **repeatable:** transforms should be written in a way that they can be run against the same dataset an infinate number of times and get the same result every time. \n",
    "- **easy to read:** 99 times out of 100, readable, clear code that runs a little slower is more valuable than a mess that runs quickly. \n",
    "- **No 'magic numbers':** if a variable or function is not instantly obvious as to what it is or does, without context, maybe consider renaming it."
   ]
  },
  {
   "cell_type": "markdown",
   "metadata": {},
   "source": [
    "## Workflow - how to use this notebook to make science\n",
    "#### Data Science\n",
    "1. **Document your transform.** Fill out the _description_ cell below describing what it is this transform does; this will appear in the configuration application where Ops will create, configure and update pipelines. \n",
    "1. **Define your config object.** Fill out the _configuration_ cell below the commented-out guide to define the variables you want ops to set in the configuration application (these will populate here for every pipeline). \n",
    "2. **Build your transformation logic.** Use the transformation cell to do that magic that you do. \n",
    "![caution](assets/cautionTape.png)"
   ]
  },
  {
   "cell_type": "markdown",
   "metadata": {},
   "source": [
    "### Configuration"
   ]
  },
  {
   "cell_type": "code",
   "execution_count": null,
   "metadata": {},
   "outputs": [],
   "source": [
    "\"\"\" \n",
    "********* VARIABLES - PLEASE TOUCH ********* \n",
    "This section defines what you expect to get from the configuration application \n",
    "in a single \"transform\" object. Define the vars you need here, and comment inline to the right of them \n",
    "for all-in-one documentation. \n",
    "Engineering will build a production \"transform\" object for every pipeline that matches what you define here.\n",
    "\n",
    "@@@ FORMAT OF THE DATA CLASS IS: @@@ \n",
    "\n",
    "<variable_name>: <data_type> #<comment explaining what the value is to future us>\n",
    "\n",
    "e.g.\n",
    "\n",
    "class Transform(DbTransform):\n",
    "    some_ratio: float\n",
    "    site_name: str\n",
    "\n",
    "~~These ARE the droids you are looking for~~\n",
    "\"\"\"\n",
    "\n",
    "class Transform(DbTransform):\n",
    "    '''\n",
    "    YOUR properties go here!!\n",
    "    Variable properties should be assigned to the exact name of\n",
    "    the transformation as it appears in the Jupyter notebook filename.\n",
    "    '''\n",
    "    trans_id: str = db_transform.variables.trans_id\n",
    "    product: str = db_transform.variables.product\n",
    "    patient: str = db_transform.variables.patient\n",
    "    pharm: str = db_transform.variables.pharm\n",
    "    status_date: str = db_transform.variables.status_date\n",
    "    ref_date: str = db_transform.variables.ref_date\n",
    "    status: str = db_transform.variables.status\n",
    "    substatus: str = db_transform.variables.substatus\n",
    "    shipment_var: str = db_transform.variables.shipment_var\n",
    "    input_transform: str = db_transform.variables.input_transform # The name of the transform to input source data from\n",
    "    \n",
    "    def load_clean_file(self, df):\n",
    "        ''\n",
    "        # Convert dates to datetime format\n",
    "        df[self.status_date] = df[self.status_date].str[:8].astype(str)\n",
    "        df[self.ref_date] = df[self.ref_date].str[:8].astype(str)\n",
    "        \n",
    "        datetime = '%Y%m%d'\n",
    "        \n",
    "        df[self.status_date] = pd.to_datetime(df[self.status_date], format=datetime, errors='coerce')\n",
    "        df[self.ref_date] = pd.to_datetime(df[self.ref_date], format=datetime, errors='coerce')\n",
    "\n",
    "        ## Extract brand from medication\n",
    "        df[self.product] = df['medication'].apply(lambda x: x.split()[0].strip() if not pd.isnull(x) else x)\n",
    "\n",
    "        ## Convert status codes to uppercase\n",
    "        df[self.status] = df[self.status].str.upper()\n",
    "        df[self.substatus] = df[self.substatus].str.upper()\n",
    "        \n",
    "        return df\n",
    "        \n",
    "    def referral_date_enrichment(self, df, table_columns, ref_date_enrichment_threshold):\n",
    "        \"\"\"\n",
    "        \"\"\"\n",
    "        min_date_df = (\n",
    "            df\n",
    "            .groupby([self.patient, self.pharm, self.product])[self.status_date].min()\n",
    "            .reset_index()\n",
    "            .rename(columns={self.status_date: 'First_Status_Date'})\n",
    "        )\n",
    "        \n",
    "        df = pd.merge(df, min_date_df, how='left', \n",
    "                      on=[self.patient, self.pharm, self.product])\n",
    "        if status_code == shipment_var\n",
    "        \n",
    "        min_ref_date_df = (\n",
    "            df\n",
    "            .groupby([self.patient, self.pharm, self.product])[self.ref_date].min()\n",
    "            .reset_index()\n",
    "            .rename(columns={self.ref_date: 'First_Ref_Date'})\n",
    "        )\n",
    "        \n",
    "        df = pd.merge(df, min_ref_date_df, how='left', \n",
    "                      on=[self.patient, self.pharm, self.product])\n",
    "\n",
    "        df['min_ref_day_diff'] = (df['First_Status_Date'] - df['First_Ref_Date']) / np.timedelta64(1, 'D')\n",
    "        df['ref_day_diff'] = (df['First_Status_Date'] - df[self.ref_date]) / np.timedelta64(1, 'D')\n",
    "\n",
    "        to_enrich_df = df[(df['min_ref_day_diff'] > ref_date_enrichment_threshold) & (df['ref_day_diff'] > ref_date_enrichment_threshold)]\n",
    "        to_enrich_df[self.ref_date] = to_enrich_df['First_Status_Date']\n",
    "        to_enrich_df = to_enrich_df[table_columns]\n",
    "        enriched_ids = to_enrich_df[self.trans_id].values.tolist()\n",
    "        df = df[~(df[self.trans_id].isin(enriched_ids))]\n",
    "        df = df.append(to_enrich_df)\n",
    "        df = df[table_columns]\n",
    "        return (df)\n",
    "\n",
    "transform = Transform()"
   ]
  },
  {
   "cell_type": "raw",
   "metadata": {},
   "source": [
    "## Please place your value assignments for development here!!\n",
    "## This cell will be turned off in production and Engineering will set to pull from the configuration application instead\n",
    "## For the last example, this could look like...\n",
    "## transform.some_ratio = 0.6\n",
    "## transform.site_name = \"WALGREENS\"\n",
    "if input_pharma == \"sun\":\n",
    "    transform.trans_id = 'pharm_transaction_id'\n",
    "    transform.patient = 'msa_patient_id'\n",
    "    transform.pharm = 'pharm_code'\n",
    "    transform.status_date = 'status_date'\n",
    "    transform.ref_date = 'ref_date'\n",
    "    transform.status =  'status_code'\n",
    "    transform.substatus =  'sub_status'\n",
    "else:\n",
    "    transform.trans_id = 'pmcTransactionId'\n",
    "    transform.patient = 'pmcPatientId'\n",
    "    transform.pharm = 'pharmName'\n",
    "    transform.status_date = 'statusDate'\n",
    "    transform.ref_date = 'refDate'\n",
    "    transform.status =  'statusCode'\n",
    "    transform.substatus =  'subStatus'\n",
    "transform.product = 'product'"
   ]
  },
  {
   "cell_type": "markdown",
   "metadata": {},
   "source": [
    "### Description\n",
    "What does this transformation do? be specific.\n",
    "\n",
    "![what does your transform do](assets/what.gif)"
   ]
  },
  {
   "cell_type": "markdown",
   "metadata": {},
   "source": [
    "This Transform provides the preliminary enrichment format. Takes patient data in from S3 and adjusts all possibly inaccurate reference dates that are greater than 60 days away from the status date."
   ]
  },
  {
   "cell_type": "markdown",
   "metadata": {},
   "source": [
    "### Transformation"
   ]
  },
  {
   "cell_type": "raw",
   "metadata": {},
   "source": [
    "\"\"\"\n",
    "************ FETCH DATA - TOUCH, BUT CAREFULLY **************\n",
    "This cell will be turned off in production, as the input_contract will be handled by the pipeline.\n",
    "\"\"\"\n",
    "\n",
    "if not input_branch:\n",
    "    input_branch = BRANCH_NAME\n",
    "input_contract = DatasetContract(branch=input_branch, state=input_state, parent=input_pharma, child=input_brand, dataset=input_name)\n",
    "run_filter = []\n",
    "# run_filter.append(dict(partition=\"run_id\", comparison=\"==\", values=[1]))\n",
    "# IF YOU HAVE PUBLISHED DATA MULTIPLE TIMES, uncomment the above line and change the int to the run_id to fetch.\n",
    "# Otherwise, you will have duplicate values in your fetched dataset!\n",
    "final_dataframe = input_contract.fetch(filters=run_filter)"
   ]
  },
  {
   "cell_type": "code",
   "execution_count": null,
   "metadata": {},
   "outputs": [],
   "source": [
    "### Retrieve current dataset from contract\n",
    "from core.dataset_diff import DatasetDiff\n",
    "\n",
    "diff = DatasetDiff(db_transform.id)\n",
    "df = diff.get_diff(transform_name=transform.input_transform, values=[run_id])"
   ]
  },
  {
   "cell_type": "code",
   "execution_count": null,
   "metadata": {},
   "outputs": [],
   "source": [
    "### Use the variables above to execute your transformation. the final output needs to be a variable named final_dataframe\n",
    "columns = list(df.columns)\n",
    "df = transform.load_clean_file(df)\n",
    "final_dataframe= transform.referral_date_enrichment(df, columns, 60)"
   ]
  },
  {
   "cell_type": "markdown",
   "metadata": {},
   "source": [
    "## Data Validation"
   ]
  },
  {
   "cell_type": "code",
   "execution_count": null,
   "metadata": {},
   "outputs": [],
   "source": [
    "import unittest\n",
    "\n",
    "def shape_status(final_dataframe,df):\n",
    "    \"\"\"\n",
    "    Make sure df shape doesn't change,\n",
    "    This is a test:\n",
    "    >>> shape_status(final_dataframe,df)\n",
    "    True\n",
    "    \"\"\"\n",
    "    return final_dataframe.shape == df.shape\n",
    "    \n",
    "def check_threshold(final_dataframe, df):\n",
    "    \"\"\"\n",
    "    Make sure there are not any first status dates greater than 60 days from referral date\n",
    "    This is a test:\n",
    "    >>> check_new_rows(final_dataframe, df)\n",
    "    True\n",
    "    \"\"\"\n",
    "    tester = final_dataframe.copy()   \n",
    "    return (pend & (worked['ref_date']==(worked['status_date']))) \n",
    "\n",
    "class TestNotebook(unittest.TestCase):\n",
    "\n",
    "    def test_shape_status(self):\n",
    "        self.assertEqual(shape_status(final_dataframe,df),True)\n",
    "    \n",
    "    #def test_check_threshold(self):\n",
    "    #    self.assertEqual(check_threshold(final_dataframe, df),True)\n",
    "    \n",
    "unittest.main(argv=[''], verbosity=2, exit=False)"
   ]
  },
  {
   "cell_type": "markdown",
   "metadata": {},
   "source": [
    "### Publish"
   ]
  },
  {
   "cell_type": "code",
   "execution_count": null,
   "metadata": {},
   "outputs": [],
   "source": [
    "## that's it - just provide the final dataframe to the var final_dataframe and we take it from there\n",
    "transform.publish_contract.publish(final_dataframe, run_id, session)\n",
    "session.close()"
   ]
  }
 ],
 "metadata": {
  "celltoolbar": "Tags",
  "kernelspec": {
   "display_name": "Python 3",
   "language": "python",
   "name": "python3"
  },
  "language_info": {
   "codemirror_mode": {
    "name": "ipython",
    "version": 3
   },
   "file_extension": ".py",
   "mimetype": "text/x-python",
   "name": "python",
   "nbconvert_exporter": "python",
   "pygments_lexer": "ipython3",
   "version": "3.6.8"
  }
 },
 "nbformat": 4,
 "nbformat_minor": 2
}
