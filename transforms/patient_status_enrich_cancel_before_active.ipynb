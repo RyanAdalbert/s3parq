{
 "cells": [
  {
   "cell_type": "markdown",
   "metadata": {},
   "source": [
    "# CORE Cartridge Notebook:: Cancel Before Active Enrichment\n",
    "![CORE Logo](assets/coreLogo.png) \n",
    "\n",
    "---\n",
    "## Keep in Mind\n",
    "Good Transforms Are...\n",
    "- **singular in purpose:** good transforms do one and only one thing, and handle all known cases for that thing. \n",
    "- **repeatable:** transforms should be written in a way that they can be run against the same dataset an infinate number of times and get the same result every time. \n",
    "- **easy to read:** 99 times out of 100, readable, clear code that runs a little slower is more valuable than a mess that runs quickly. \n",
    "- **No 'magic numbers':** if a variable or function is not instantly obvious as to what it is or does, without context, maybe consider renaming it."
   ]
  },
  {
   "cell_type": "markdown",
   "metadata": {},
   "source": [
    "## Workflow - how to use this notebook to make science\n",
    "#### Data Science\n",
    "1. **Document your transform.** Fill out the _description_ cell below describing what it is this transform does; this will appear in the configuration application where Ops will create, configure and update pipelines. \n",
    "1. **Define your config object.** Fill out the _configuration_ cell below the commented-out guide to define the variables you want ops to set in the configuration application (these will populate here for every pipeline). \n",
    "2. **Build your transformation logic.** Use the transformation cell to do that magic that you do.\n",
    "\n",
    "![caution](assets/cautionTape.png)"
   ]
  },
  {
   "cell_type": "markdown",
   "metadata": {},
   "source": [
    "### Description\n",
    "What does this transformation do? be specific.\n",
    "\n",
    "![what does your transform do](assets/what.gif)"
   ]
  },
  {
   "cell_type": "markdown",
   "metadata": {},
   "source": [
    "Cancelled/Discontinued Before Active enrichment.\n",
    "Assigns hierarchy values in cases where cancelled or discontinued status is reported before first active shipment.  This is used as part of the TTFF enrichment.  See logic diagram below:\n",
    "\n",
    "<img src='assets/cancel_before_active.svg' width=700>"
   ]
  },
  {
   "cell_type": "code",
   "execution_count": null,
   "metadata": {},
   "outputs": [],
   "source": [
    "from core.helpers.session_helper import SessionHelper\n",
    "session = SessionHelper().session"
   ]
  },
  {
   "cell_type": "raw",
   "metadata": {},
   "source": [
    "\"\"\"\n",
    "************ CONFIGURATION - PLEASE TOUCH **************\n",
    "Pipeline Builder configuration: creates configurations from variables specified here!!\n",
    "This cell will be off in production as configurations will come from the configuration postgres DB.\n",
    "\"\"\"\n",
    "# config vars: this dataset\n",
    "config_pharma = \"sun\" # the pharmaceutical company which owns {brand}\n",
    "config_brand = \"ilumya\" # the brand this pipeline operates on\n",
    "config_state = \"enrich\" # the state this transform runs in\n",
    "config_name = \"patient_status_enrich_cancel_before_active\" # the name of this transform, which is the name of this notebook without .ipynb\n",
    "\n",
    "# input vars: dataset to fetch. Recall that a contract published to S3 has a key format branch/pharma/brand/state/name\n",
    "# Note: this key is case sensitive!!\n",
    "input_pharma = \"sun\"\n",
    "input_brand = \"ilumya\"\n",
    "input_state = \"ingest\"\n",
    "input_name = \"symphony_health_association_ingest_column_mapping\"\n",
    "input_branch = \"sun-extract-validation\" # if None, input_branch is automagically set to your working branch"
   ]
  },
  {
   "cell_type": "raw",
   "metadata": {},
   "source": [
    "\"\"\"\n",
    "************ SETUP - DON'T TOUCH **************\n",
    "Populating config mocker based on config parameters...\n",
    "\"\"\"\n",
    "import core.helpers.pipeline_builder as builder\n",
    "\n",
    "ids = builder.build(config_pharma, config_brand, config_state, config_name, session)\n",
    "transform_id = ids[0]\n",
    "run_id = ids[1]"
   ]
  },
  {
   "cell_type": "code",
   "execution_count": null,
   "metadata": {},
   "outputs": [],
   "source": [
    "\"\"\"\n",
    "************ SETUP - DON'T TOUCH **************\n",
    "This section imports data from the configuration database\n",
    "and should not need to be altered or otherwise messed with. \n",
    "~~These are not the droids you are looking for~~\n",
    "\"\"\"\n",
    "from core.constants import BRANCH_NAME, ENV_BUCKET\n",
    "from core.helpers.session_helper import SessionHelper\n",
    "from core.models.configuration import Transformation\n",
    "from dataclasses import dataclass\n",
    "from core.dataset_contract import DatasetContract\n",
    "\n",
    "db_transform = session.query(Transformation).filter(Transformation.id == transform_id).one()\n",
    "\n",
    "@dataclass\n",
    "class DbTransform:\n",
    "    id: int = db_transform.id ## the instance id of the transform in the config app\n",
    "    name: str = db_transform.transformation_template.name ## the transform name in the config app\n",
    "    state: str = db_transform.pipeline_state.pipeline_state_type.name ## the pipeline state, one of raw, ingest, master, enhance, enrich, metrics, dimensional\n",
    "    branch:str = BRANCH_NAME ## the git branch for this execution \n",
    "    brand: str = db_transform.pipeline_state.pipeline.brand.name ## the pharma brand name\n",
    "    pharmaceutical_company: str = db_transform.pipeline_state.pipeline.brand.pharmaceutical_company.name # the pharma company name\n",
    "    publish_contract: DatasetContract = DatasetContract(branch=BRANCH_NAME,\n",
    "                            state=db_transform.pipeline_state.pipeline_state_type.name,\n",
    "                            parent=db_transform.pipeline_state.pipeline.brand.pharmaceutical_company.name,\n",
    "                            child=db_transform.pipeline_state.pipeline.brand.name,\n",
    "                            dataset=db_transform.transformation_template.name)\n"
   ]
  },
  {
   "cell_type": "markdown",
   "metadata": {},
   "source": [
    "### Configuration"
   ]
  },
  {
   "cell_type": "code",
   "execution_count": null,
   "metadata": {},
   "outputs": [],
   "source": [
    "\"\"\" \n",
    "********* VARIABLES - PLEASE TOUCH ********* \n",
    "This section defines what you expect to get from the configuration application \n",
    "in a single \"transform\" object. Define the vars you need here, and comment inline to the right of them \n",
    "for all-in-one documentation. \n",
    "Engineering will build a production \"transform\" object for every pipeline that matches what you define here.\n",
    "\n",
    "@@@ FORMAT OF THE DATA CLASS IS: @@@ \n",
    "\n",
    "<variable_name>: <data_type> #<comment explaining what the value is to future us>\n",
    "\n",
    "e.g.\n",
    "\n",
    "class Transform(DbTransform):\n",
    "    some_ratio: float\n",
    "    site_name: str\n",
    "\n",
    "~~These ARE the droids you are looking for~~\n",
    "\"\"\"\n",
    "\n",
    "class Transform(DbTransform):\n",
    "    '''\n",
    "    YOUR properties go here!!\n",
    "    Variable properties should be assigned to the exact name of\n",
    "    the transformation as it appears in the Jupyter notebook filename.\n",
    "    '''\n",
    "    input_transform: str = db_transform.variables.input_transform # Transform to source data from\n",
    "    hierarchy: str = db_transform.variables.hierarchy # Column header for Patient Journey Hierarchy\n",
    "    active_substatus_code: str = db_transform.variables.active_substatus_code # Active Shipment Substatus code, e.g. 'SHIPMENT' (customer-specific)\n",
    "    cancel_discontinue_status_code: str = db_transform.variables.cancel_discontinue_status_code # Comma-separated list (stored as string) of Cancelled and Discontinued status codes, e.g. 'CANCELLED,DISCONTINUED' (customer-specific)\n",
    "    cancel_discontinue_status_code = cancel_discontinue_status_code.split(',') # We reassign the string variable to be a list of strings by comma split\n",
    "    bvpa_cancel_discontinue_substatus: str = db_transform.variables.bvpa_cancel_discontinue_substatus # Comma-separated list (stored as string) of accepted substatus codes used for BVPA hierarchy, e.g. 'INSURANCE DENIED,COVERAGE DENIED' (customer-specific)\n",
    "    bvpa_cancel_discontinue_substatus = bvpa_cancel_discontinue_substatus.split(',') # We reassign the string variable to be a list of strings by comma split\n",
    "    active_diff_threshold: int = db_transform.variables.active_diff_threshold # Threshold value for Active/Cancel date difference logic (customer-specific)\n",
    "    prior_diff_threshold: int = db_transform.variables.prior_diff_threshold # Threshold value for Cancel/Prior date difference logic (customer-specific)\n",
    "    active_hierarchy: str = db_transform.variables.active_hierarchy # Hierarchy to assign to statuses after the first fill, e.g. 'ACTIVE - SHIPMENT' (customer-specific)\n",
    "    remove_from_ttff: str = db_transform.variables.remove_from_ttff # Hierarchy to assign to statuses that are ignored from TTFF (customer-specific)\n",
    "    no_status_clarity: str = db_transform.variables.no_status_clarity # Hierarchy to assign to cancelled/discontinued statuses with no status clarity (customer-specific)\n",
    "    bvpa_hierarchy: str = db_transform.variables.bvpa_hierarchy # Hierarchy to assign to cancelled/discontinued statuses that have BVPA substatus (customer-specific)"
   ]
  },
  {
   "cell_type": "code",
   "execution_count": null,
   "metadata": {},
   "outputs": [],
   "source": [
    "transform = Transform()"
   ]
  },
  {
   "cell_type": "raw",
   "metadata": {},
   "source": [
    "## Please place your value assignments for development here!!\n",
    "## This cell will be turned off in production and Engineering will set to pull form the configuration application instead\n",
    "\n",
    "transform.hierarchy = 'patient_journey_hierarchy'\n",
    "transform.active_substatus_code = 'SHIPMENT'\n",
    "transform.cancel_discontinue_status_code = 'CANCELLED,DISCONTINUED'\n",
    "transform.bvpa_cancel_discontinue_substatus = 'INSURANCE DENIED'\n",
    "transform.active_diff_threshold = 60\n",
    "transform.prior_diff_threshold = 60\n",
    "transform.active_hierarchy = 'ACTIVE - SHIPMENT'\n",
    "transform.remove_from_ttff = 'REMOVE FROM TTFF'\n",
    "transform.no_status_clarity = 'NO STATUS CLARITY'\n",
    "transform.bvpa_hierarchy = 'BVPA'"
   ]
  },
  {
   "cell_type": "markdown",
   "metadata": {},
   "source": [
    "### Transformation"
   ]
  },
  {
   "cell_type": "raw",
   "metadata": {},
   "source": [
    "\"\"\"\n",
    "************ FETCH DATA - TOUCH, BUT CAREFULLY **************\n",
    "This cell will be turned off in production, as the input_contract will be handled by the pipeline.\n",
    "\"\"\"\n",
    "\n",
    "if not input_branch:\n",
    "    input_branch = BRANCH_NAME\n",
    "input_contract = DatasetContract(branch=input_branch, state=input_state, parent=input_pharma, child=input_brand, dataset=input_name)\n",
    "run_filter = []\n",
    "run_filter.append(dict(partition=\"__metadata_run_id\", comparison=\"==\", values=[4]))\n",
    "# IF YOU HAVE PUBLISHED DATA MULTIPLE TIMES, uncomment the above line and change the int to the run_id to fetch.\n",
    "# Otherwise, you will have duplicate values in your fetched dataset!\n",
    "df = input_contract.fetch(filters=run_filter)"
   ]
  },
  {
   "cell_type": "code",
   "execution_count": null,
   "metadata": {},
   "outputs": [],
   "source": [
    "### Retrieve current dataset from contract\n",
    "from core.dataset_diff import DatasetDiff\n",
    "\n",
    "diff = DatasetDiff(db_transform.id)\n",
    "df = diff.get_diff(transform_name=transform.input_transform, values=[run_id])"
   ]
  },
  {
   "cell_type": "code",
   "execution_count": null,
   "metadata": {},
   "outputs": [],
   "source": [
    "df.shape"
   ]
  },
  {
   "cell_type": "code",
   "execution_count": null,
   "metadata": {},
   "outputs": [],
   "source": [
    "### Use the variables above to execute your transformation. the final output needs to be a variable named final_dataframe"
   ]
  },
  {
   "cell_type": "code",
   "execution_count": null,
   "metadata": {},
   "outputs": [],
   "source": [
    "import numpy as np\n",
    "import pandas as pd"
   ]
  },
  {
   "cell_type": "code",
   "execution_count": null,
   "metadata": {},
   "outputs": [],
   "source": [
    "pd.set_option('display.max_columns', 100)\n",
    "pd.set_option('display.max_rows', 500)"
   ]
  },
  {
   "cell_type": "code",
   "execution_count": null,
   "metadata": {},
   "outputs": [],
   "source": [
    "# Column names defined here from the pre-defined patient status schema\n",
    "\n",
    "brand_col = 'brand'\n",
    "patient_id = 'longitudinal_patient_id'\n",
    "pharmacy = 'pharmacy_name'\n",
    "status_date = 'status_date'\n",
    "referral_date = 'referral_date'\n",
    "status =  'status'\n",
    "substatus =  'substatus'\n",
    "hierarchy = transform.hierarchy\n",
    "\n",
    "if DbTransform.pharmaceutical_company.upper() == 'SUN':\n",
    "    trans_id = 'pharmacy_transaction_id'\n",
    "\n",
    "else:\n",
    "    trans_id = 'aggregator_transaction_id'\n",
    "    "
   ]
  },
  {
   "cell_type": "markdown",
   "metadata": {},
   "source": [
    "### DATA CLEANING: ADDRESS THIS SECTION BEFORE PIPELINE INTEGRATION"
   ]
  },
  {
   "cell_type": "raw",
   "metadata": {},
   "source": []
  },
  {
   "cell_type": "raw",
   "metadata": {},
   "source": [
    "datetime = '%Y%m%d'\n",
    "\n",
    "# CLEAN DATA - This step should not be necessary once transform is integrated into pipeline.\n",
    "#    Extract and map relevant columns\n",
    "#    Convert dates to datetime format\n",
    "#    Extract brand from medication\n",
    "#    Convert substatuses to uppercase\n",
    "#    Populate null referral dates with the min(status_date) for that patient/pharmacy/brand.\n",
    "    \n",
    "def clean_data(cust_input_df, datetime, transform):\n",
    "\n",
    "    clean_df = (\n",
    "        cust_input_df\n",
    "        .loc[:,\n",
    "             [transform.trans_id,\n",
    "              transform.patient_id,\n",
    "              transform.pharmacy,\n",
    "              transform.brand_col,\n",
    "              transform.status_date,\n",
    "              transform.referral_date,\n",
    "              transform.status,\n",
    "              transform.substatus]\n",
    "            ]\n",
    "        .assign(**{\n",
    "            transform.status_date : lambda x: (\n",
    "                pd.to_datetime(\n",
    "                    x[transform.status_date].str[:8].astype(str),\n",
    "                    format=datetime,\n",
    "                    errors='coerce'\n",
    "                )),\n",
    "            'min_status_date' : lambda x: (\n",
    "                x.groupby([transform.patient_id,transform.pharmacy,transform.brand_col])\n",
    "                [transform.status_date]\n",
    "                .transform(min)\n",
    "            )\n",
    "        })       \n",
    "        .fillna(value={transform.referral_date:'min_status_date'})\n",
    "        .assign(**{\n",
    "            transform.referral_date : lambda x: (\n",
    "                pd.to_datetime(\n",
    "                    x[transform.referral_date].str[:8].astype(str),\n",
    "                    format=datetime,\n",
    "                    errors='coerce'\n",
    "                ))\n",
    "        })\n",
    "        .dropna()\n",
    "        .assign(**{\n",
    "            transform.brand_col : lambda x: (x[transform.brand_col].apply(lambda x: x.split()[0].strip())),\n",
    "            transform.status : lambda x: (x[transform.status].str.upper()),\n",
    "            transform.substatus : lambda x: (x[transform.substatus].str.upper())\n",
    "        })\n",
    "        .drop(['min_status_date'],axis=1)\n",
    "        .drop_duplicates()\n",
    "        .sort_values(\n",
    "            by=[transform.patient_id, transform.pharmacy, transform.brand_col, transform.status_date, transform.status, transform.trans_id],\n",
    "            ascending=[True, True, True, True, False, True])\n",
    "        .reset_index(drop=True)\n",
    "        .assign(**{transform.hierarchy : 'Dummy'})\n",
    "    )\n",
    "\n",
    "    return clean_df"
   ]
  },
  {
   "cell_type": "raw",
   "metadata": {},
   "source": [
    "df = clean_data(\n",
    "    df,\n",
    "    datetime,\n",
    "    transform\n",
    ")\n",
    "\n",
    "df.head()"
   ]
  },
  {
   "cell_type": "raw",
   "metadata": {},
   "source": [
    "df.shape"
   ]
  },
  {
   "cell_type": "markdown",
   "metadata": {},
   "source": [
    "### APPLY TRANSFORM LOGIC"
   ]
  },
  {
   "cell_type": "code",
   "execution_count": null,
   "metadata": {},
   "outputs": [],
   "source": [
    "# Assign Patient Journey (pj_id) and Patient Journey Step (pj_step) identifiers\n",
    "# (These IDs are used for calculation purposes only.  They will not be published)\n",
    "\n",
    "def pj(df):\n",
    "    pj_df = (\n",
    "        df\n",
    "        .assign(**{\n",
    "            'pj_id' : lambda x: (\n",
    "                x.groupby([patient_id, pharmacy, brand_col]).grouper.group_info[0]\n",
    "            ),\n",
    "            'pj_step' : lambda x: x.index\n",
    "        })\n",
    "        .sort_values(\n",
    "            by=[patient_id, pharmacy, brand_col, status_date, status, trans_id],\n",
    "            ascending=[True, True, True, True, False, True])\n",
    "        .reset_index(drop=True)\n",
    "    )\n",
    "    return pj_df"
   ]
  },
  {
   "cell_type": "code",
   "execution_count": null,
   "metadata": {},
   "outputs": [],
   "source": [
    "# Filter to only include patient journeys where:\n",
    "#    a) Active Shipment status is reported\n",
    "#    b) Cancelled or Discontinued status occurs prior to first active shipment\n",
    "\n",
    "def cancel_before_active(pj_df):\n",
    "    cancel_before_active_df = (\n",
    "        pj_df\n",
    "        .assign(active_step = lambda x: (\n",
    "            np.where(\n",
    "                x[substatus] == transform.active_substatus_code,\n",
    "                x['pj_step'],\n",
    "                np.nan\n",
    "        )))\n",
    "        .assign(active_status_date = lambda x: (\n",
    "            pd.to_datetime(np.where(\n",
    "                x[substatus] == transform.active_substatus_code,\n",
    "                x[status_date],\n",
    "                pd.NaT\n",
    "        ))))\n",
    "        .assign(first_active_step = lambda x: (\n",
    "            x.groupby(['pj_id'])['active_step']\n",
    "            .transform(min)\n",
    "        ))\n",
    "        .assign(first_active_status_date = lambda x: (\n",
    "            x.groupby(['pj_id'])['active_status_date']\n",
    "            .transform(min)\n",
    "        ))\n",
    "        .drop(['active_step', 'active_status_date'], axis=1)\n",
    "        .assign(active_cancel_diff = lambda x:(\n",
    "            np.where(x[status].isin(transform.cancel_discontinue_status_code),\n",
    "                     (x['first_active_status_date'] - x[status_date]) / np.timedelta64(1, 'D'),\n",
    "                     np.nan\n",
    "                    )\n",
    "        ))\n",
    "        .assign(active_cancel_diff = lambda x: (\n",
    "            x.groupby(['pj_id'], sort=False)['active_cancel_diff']\n",
    "            .transform(lambda x: x.bfill())\n",
    "            ))\n",
    "        .loc[lambda x: (\n",
    "            x['pj_id'].isin(x\n",
    "                            .loc[x['active_cancel_diff'] >= 0]\n",
    "                            .pj_id\n",
    "                            .drop_duplicates()\n",
    "                            .tolist()\n",
    "                           )\n",
    "        )]\n",
    "    )\n",
    "    return cancel_before_active_df"
   ]
  },
  {
   "cell_type": "code",
   "execution_count": null,
   "metadata": {},
   "outputs": [],
   "source": [
    "# For each patient journey step, get the previous status. If it's the first step in the patient journey, show \"no_prior_status\"\n",
    "# For cancelled or discontinued statuses, get the time spent in previous status (if >= 60 days) - and then backfill values for that patient journey.\n",
    "\n",
    "def prior_status(cancel_before_active_df):\n",
    "    prior_status_df = (\n",
    "        cancel_before_active_df\n",
    "        .assign(prior_status = lambda x:(\n",
    "            x.groupby(['pj_id'])[status]\n",
    "            .transform(lambda x: x.shift(1))\n",
    "        ))\n",
    "        .fillna(value={'prior_status':'no_prior_status'})\n",
    "        .assign(prior_status_diff = lambda x: (\n",
    "            np.where(\n",
    "                (x[status].isin(transform.cancel_discontinue_status_code)) & ((x[status_date] - x[status_date].shift(1))/np.timedelta64(1,'D') >= 60),\n",
    "                (x\n",
    "                 .groupby(['pj_id'])[status_date]\n",
    "                 .transform(lambda x: (x - x.shift(1))/np.timedelta64(1,'D'))),\n",
    "                np.nan       \n",
    "            )\n",
    "        ))\n",
    "        .assign(prior_status_diff = lambda x: (\n",
    "            x.groupby(['pj_id'], sort=False)['prior_status_diff']\n",
    "            .transform(lambda x: x.bfill())\n",
    "        ))\n",
    "    )\n",
    "    return prior_status_df"
   ]
  },
  {
   "cell_type": "code",
   "execution_count": null,
   "metadata": {},
   "outputs": [],
   "source": [
    "# Apply logic to determine patient journey hierarchy. See logic diagram in transform description.\n",
    "\n",
    "def hierarchy(prior_status_df):\n",
    "    hierarchy_df = (\n",
    "        prior_status_df\n",
    "        .assign(**{\n",
    "            hierarchy : lambda x:(\n",
    "                np.where(\n",
    "                    x['pj_step'] >= x['first_active_step'],\n",
    "                    transform.active_hierarchy,\n",
    "                    np.where(\n",
    "                        x['active_cancel_diff'] > transform.active_diff_threshold,\n",
    "                        transform.remove_from_ttff,\n",
    "                        np.where(\n",
    "                            (~x[status].isin(transform.cancel_discontinue_status_code)),\n",
    "                            np.where(\n",
    "                                x['prior_status_diff'] > transform.prior_diff_threshold,\n",
    "                                transform.remove_from_ttff,\n",
    "                                x[hierarchy]\n",
    "                            ),\n",
    "                            np.where(\n",
    "                                (x['prior_status_diff'] > transform.prior_diff_threshold) | (x['prior_status'] == 'no_prior_status'),\n",
    "                                transform.no_status_clarity,\n",
    "                                np.where(\n",
    "                                    x[substatus].isin(transform.bvpa_cancel_discontinue_substatus),\n",
    "                                    transform.bvpa_hierarchy,\n",
    "                                    None\n",
    "                                )\n",
    "                            )\n",
    "                        )\n",
    "                    )\n",
    "                )\n",
    "            )\n",
    "        })\n",
    "                \n",
    "        .reset_index(drop=True)\n",
    "        .assign(**{\n",
    "            hierarchy : lambda x: (\n",
    "                x.groupby(['pj_id'], sort=False)[hierarchy]\n",
    "                .transform(lambda x: x.ffill())\n",
    "                )\n",
    "        })\n",
    "    )\n",
    "    return hierarchy_df"
   ]
  },
  {
   "cell_type": "code",
   "execution_count": null,
   "metadata": {},
   "outputs": [],
   "source": [
    "pj_df = pj(df)\n",
    "\n",
    "pj_df.head()"
   ]
  },
  {
   "cell_type": "code",
   "execution_count": null,
   "metadata": {},
   "outputs": [],
   "source": [
    "hierarchy_df = (\n",
    "    pj_df\n",
    "    .pipe(cancel_before_active)\n",
    "    .pipe(prior_status)\n",
    "    .pipe(hierarchy)\n",
    ")\n",
    "\n",
    "hierarchy_df.head()"
   ]
  },
  {
   "cell_type": "code",
   "execution_count": null,
   "metadata": {},
   "outputs": [],
   "source": [
    "# Merge hierarchy results for this enrichment back into the initial dataframe\n",
    "\n",
    "final_dataframe = (\n",
    "    pd.merge(\n",
    "        pj_df.rename(columns = {hierarchy:'old_hierarchy'}),\n",
    "        hierarchy_df.loc[:,['pj_id', 'pj_step', hierarchy]],\n",
    "        how='left',\n",
    "        on=['pj_id', 'pj_step']\n",
    "    )\n",
    "    .assign(**{\n",
    "        hierarchy : lambda x:(\n",
    "            np.where(\n",
    "                x[hierarchy].isnull(),\n",
    "                x['old_hierarchy'],\n",
    "                x[hierarchy]\n",
    "            )\n",
    "        )}\n",
    "    )\n",
    "    .drop(['pj_id', 'pj_step', 'old_hierarchy'], axis=1)\n",
    ")\n",
    "\n",
    "final_dataframe.head()"
   ]
  },
  {
   "cell_type": "code",
   "execution_count": null,
   "metadata": {},
   "outputs": [],
   "source": [
    "final_dataframe.shape"
   ]
  },
  {
   "cell_type": "markdown",
   "metadata": {},
   "source": [
    "### TEST TRANSFORM OUTPUT"
   ]
  },
  {
   "cell_type": "code",
   "execution_count": null,
   "metadata": {},
   "outputs": [],
   "source": [
    "# TEST 1: Check that final dataframe has the same number of rows as the input dataframe\n",
    "\n",
    "test1 = (pj_df.shape[0] == final_dataframe.shape[0])\n",
    "\n",
    "test1"
   ]
  },
  {
   "cell_type": "code",
   "execution_count": null,
   "metadata": {},
   "outputs": [],
   "source": [
    "# TEST 2: Check that hierarchy is not changed for statuses after first active shipment, or for journeys that never reported active shipment\n",
    "\n",
    "first_active_status = (\n",
    "    final_dataframe\n",
    "    .assign(pj_id = lambda x: x.groupby([patient_id, pharmacy, brand_col]).grouper.group_info[0])\n",
    "    .assign(pj_step = lambda x: x.index)\n",
    "    .assign(active_status_date = lambda x: (\n",
    "        pd.to_datetime(np.where(\n",
    "            x[substatus] == transform.active_substatus_code,\n",
    "            x[status_date],\n",
    "            pd.NaT\n",
    "    ))))\n",
    "    .assign(first_active_status_date = lambda x: (\n",
    "        x.groupby(['pj_id'])['active_status_date']\n",
    "        .transform(min)\n",
    "    ))\n",
    "    .drop(['active_status_date'], axis=1)\n",
    "    .merge(\n",
    "        pj_df.loc[:,['pj_step', hierarchy]].rename(columns={hierarchy:'old_hierarchy'}),\n",
    "        how = 'inner',\n",
    "        on = ['pj_step']\n",
    "    )\n",
    ")\n",
    "\n",
    "test2 = (first_active_status   \n",
    "    .loc[lambda x: (\n",
    "        ((x[status_date] > x['first_active_status_date'])\n",
    "         |\n",
    "         (x['first_active_status_date'].isnull())\n",
    "        )\n",
    "        &\n",
    "        (x[hierarchy] != x['old_hierarchy'])\n",
    "        &\n",
    "        ~((x[hierarchy].isnull()) & (x['old_hierarchy'].isnull()))\n",
    "        &\n",
    "        (x[hierarchy] != transform.active_hierarchy)\n",
    "    )]\n",
    ")\n",
    "\n",
    "test2 = (test2.shape[0] == 0)\n",
    "\n",
    "test2"
   ]
  },
  {
   "cell_type": "code",
   "execution_count": null,
   "metadata": {},
   "outputs": [],
   "source": [
    "# TEST 3: Check that all cancelled and discontinued statuses prior to first active shipment have a new hierarchy assigned to them\n",
    "\n",
    "test3 = (\n",
    "    first_active_status   \n",
    "    .loc[lambda x: (\n",
    "        (x[status_date] < x['first_active_status_date'])\n",
    "        &\n",
    "        (x[status].isin(transform.cancel_discontinue_status_code))\n",
    "        &\n",
    "        (\n",
    "            ((x['first_active_status_date'] - x[status_date]) / np.timedelta64(1,'D') > transform.active_diff_threshold)\n",
    "            |\n",
    "            ((x[status_date] - x[status_date].shift(1)) / np.timedelta64(1,'D') > transform.prior_diff_threshold)\n",
    "            |\n",
    "            (x[substatus].isin(transform.bvpa_cancel_discontinue_substatus))\n",
    "        )\n",
    "        &\n",
    "        (x[hierarchy] == x['old_hierarchy'])\n",
    "    )]\n",
    ")\n",
    "\n",
    "test3 = (test3.shape[0] == 0)\n",
    "\n",
    "test3"
   ]
  },
  {
   "cell_type": "code",
   "execution_count": null,
   "metadata": {},
   "outputs": [],
   "source": [
    "# TEST 4: Check that all non-cancel/discontinue statuses prior to first active shipment have their previous hierarchy assignment (unless they are REMOVE FROM TTFF)\n",
    "\n",
    "test4 = (\n",
    "    first_active_status\n",
    "    .loc[lambda x: (\n",
    "        (x[status_date] < x['first_active_status_date'])\n",
    "        &\n",
    "        (x['pj_id'].isin(\n",
    "            x\n",
    "            .loc[(x[status].isin(transform.cancel_discontinue_status_code)) & (x[status_date] < x['first_active_status_date'])]\n",
    "            .pj_id\n",
    "            .drop_duplicates()\n",
    "            .tolist()\n",
    "        ))\n",
    "        &\n",
    "        (~x[status].isin(transform.cancel_discontinue_status_code))\n",
    "        &\n",
    "        (\n",
    "            (x[hierarchy] != x['old_hierarchy'])\n",
    "            &\n",
    "            ~((x[hierarchy].isnull()) & (x['old_hierarchy'].isnull()))\n",
    "            &\n",
    "            (x[hierarchy] != transform.remove_from_ttff)\n",
    "        )\n",
    "    )]\n",
    ")\n",
    "\n",
    "test4 = (test4.shape[0] == 0)\n",
    "\n",
    "test4"
   ]
  },
  {
   "cell_type": "code",
   "execution_count": null,
   "metadata": {},
   "outputs": [],
   "source": [
    "# TEST 5: Create a \"test\" dataframe with expected results\n",
    "\n",
    "test_data = ([\n",
    "    [1, 0, 'PENDING', 'OTHER', 'PENDING - OTHER'],\n",
    "    [1, 70, 'PENDING', 'OTHER', 'PENDING - OTHER'],\n",
    "    [1, 72, transform.cancel_discontinue_status_code[0], transform.bvpa_cancel_discontinue_substatus[0], transform.bvpa_hierarchy],\n",
    "    [1, 72, transform.cancel_discontinue_status_code[1], 'OTHER', transform.bvpa_hierarchy],\n",
    "    [1, 72, 'ACTIVE', transform.active_substatus_code, transform.active_hierarchy],\n",
    "    [2, 0, 'PENDING', 'OTHER', transform.remove_from_ttff],\n",
    "    [2, 70, transform.cancel_discontinue_status_code[1], 'OTHER', transform.no_status_clarity],\n",
    "    [2, 72, 'PENDING', 'OTHER', 'PENDING - OTHER'],\n",
    "    [2, 72, transform.cancel_discontinue_status_code[0], 'OTHER', 'PENDING - OTHER'],\n",
    "    [2, 72, 'ACTIVE', transform.active_substatus_code, transform.active_hierarchy],\n",
    "    [3, 0, transform.cancel_discontinue_status_code[1], transform.bvpa_cancel_discontinue_substatus[0], transform.remove_from_ttff],\n",
    "    [3, 1, 'PENDING', 'OTHER', transform.remove_from_ttff],\n",
    "    [3, 2, transform.cancel_discontinue_status_code[1], 'OTHER', transform.remove_from_ttff],\n",
    "    [3, 70, transform.cancel_discontinue_status_code[1], 'OTHER', transform.no_status_clarity],\n",
    "    [3, 71, 'ACTIVE', transform.active_substatus_code, transform.active_hierarchy],\n",
    "    [3, 72, transform.cancel_discontinue_status_code[0], 'OTHER', transform.active_hierarchy],\n",
    "    [3, 73, transform.cancel_discontinue_status_code[0], transform.bvpa_cancel_discontinue_substatus[0], transform.active_hierarchy]\n",
    "])\n",
    "\n",
    "test_df = (\n",
    "    pd.DataFrame(test_data, columns = [patient_id, status_date, status, substatus, 'expected_hierarchy'])\n",
    "    .assign(**{\n",
    "        pharmacy : 'ABC',\n",
    "        brand_col : 'A',\n",
    "        status_date : lambda x: (\n",
    "            pd.to_datetime('2019-01-01', format='%Y-%m-%d') + pd.to_timedelta(x[status_date], unit='d')\n",
    "        ),\n",
    "        hierarchy : lambda x: (\n",
    "            x[status] + ' - ' + x[substatus]\n",
    "        )\n",
    "    })\n",
    "    \n",
    ")\n",
    "\n",
    "test_df"
   ]
  },
  {
   "cell_type": "code",
   "execution_count": null,
   "metadata": {},
   "outputs": [],
   "source": [
    "# Apply transform to test dataframe\n",
    "\n",
    "pj_test = pj(test_df)\n",
    "\n",
    "test_output = (\n",
    "    pj_test\n",
    "    .pipe(cancel_before_active)\n",
    "    .pipe(prior_status)\n",
    "    .pipe(hierarchy)\n",
    ")\n",
    "\n",
    "final_dataframe_test = (\n",
    "    pd.merge(\n",
    "        pj_test.rename(columns = {hierarchy:'old_hierarchy'}),\n",
    "        test_output.loc[:,['pj_id','pj_step', hierarchy]],\n",
    "        how='left',\n",
    "        on=['pj_id', 'pj_step']\n",
    "    )\n",
    "    .assign(**{\n",
    "        hierarchy : lambda x:(\n",
    "            np.where(\n",
    "                x[hierarchy].isnull(),\n",
    "                x['old_hierarchy'],\n",
    "                x[hierarchy]\n",
    "            )\n",
    "        )}\n",
    "    )\n",
    "    .drop(['pj_id', 'pj_step', 'old_hierarchy'], axis=1)\n",
    ")\n",
    "\n",
    "final_dataframe_test"
   ]
  },
  {
   "cell_type": "code",
   "execution_count": null,
   "metadata": {},
   "outputs": [],
   "source": [
    "# Check that results match expectations\n",
    "\n",
    "test5 = (\n",
    "    final_dataframe_test\n",
    "    .assign(passfail = lambda x: np.where(\n",
    "        (x[hierarchy] == x['expected_hierarchy']) | (x[hierarchy].isnull() & x['expected_hierarchy'].isnull()),\n",
    "        True,\n",
    "        False\n",
    "    ))\n",
    "    .passfail\n",
    "    .all()\n",
    ")\n",
    "\n",
    "test5"
   ]
  },
  {
   "cell_type": "code",
   "execution_count": null,
   "metadata": {},
   "outputs": [],
   "source": [
    "# FINAL TEST: Did all 5 tests pass?\n",
    "\n",
    "test1 & test2 & test3 & test4 & test5"
   ]
  },
  {
   "cell_type": "markdown",
   "metadata": {},
   "source": [
    "### Publish"
   ]
  },
  {
   "cell_type": "code",
   "execution_count": null,
   "metadata": {},
   "outputs": [],
   "source": [
    "## that's it - just provide the final dataframe to the var final_dataframe and we take it from there\n",
    "transform.publish_contract.publish(final_dataframe, run_id, session, publish_to_redshift=False) # Remove publish_to_redshift=False before pipeline integration!\n",
    "session.close()"
   ]
  }
 ],
 "metadata": {
  "celltoolbar": "Tags",
  "kernelspec": {
   "display_name": "Python 3",
   "language": "python",
   "name": "python3"
  },
  "language_info": {
   "codemirror_mode": {
    "name": "ipython",
    "version": 3
   },
   "file_extension": ".py",
   "mimetype": "text/x-python",
   "name": "python",
   "nbconvert_exporter": "python",
   "pygments_lexer": "ipython3",
   "version": "3.6.8"
  }
 },
 "nbformat": 4,
 "nbformat_minor": 2
}
