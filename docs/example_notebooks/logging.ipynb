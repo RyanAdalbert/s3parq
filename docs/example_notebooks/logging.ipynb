{
 "cells": [
  {
   "cell_type": "markdown",
   "metadata": {
    "slideshow": {
     "slide_type": "slide"
    }
   },
   "source": [
    "### What are logs?\n",
    "\n",
    "Logging is a way of tracking events that happen when some software runs.\n",
    "\n",
    "We add logging calls to our code to indicate that certain events have occured.  The log messages can include the values of important variables at the time.\n",
    "\n",
    "Each log message has a *level* or *severity* which tells us something about the importance of the event."
   ]
  },
  {
   "cell_type": "markdown",
   "metadata": {
    "slideshow": {
     "slide_type": "slide"
    }
   },
   "source": [
    "### Structured vs Human readable logs\n",
    "\n",
    "The focus here is on human readable logs, but some logs (e.g. webserver access logs,  error logs, avro/parquet event logs) have a structured format and are designed to be processed  by another program."
   ]
  },
  {
   "cell_type": "markdown",
   "metadata": {
    "slideshow": {
     "slide_type": "slide"
    }
   },
   "source": [
    "### Where do logs go?\n",
    "\n",
    "Logging best practices have changed.\n",
    "\n",
    "It used to be that in production, applications were responsible for managing their logs -- and logs would go to specific log files (sometimes more than one), either directly or through a system service called syslogd.\n",
    "\n",
    "Now, the new model (https://12factor.net/logs) is that applications aren't responsible for routing their logs, and their logs are simply printed out -- they go to a single stream (stdout / the console).  And then a system down the road is responsible for organizing them and making them accessible.\n",
    "\n",
    "But sometimes writing logs to disk is still useful for development (or services running on permanent servers). "
   ]
  },
  {
   "cell_type": "markdown",
   "metadata": {
    "slideshow": {
     "slide_type": "slide"
    }
   },
   "source": [
    "### Logging in python\n",
    "\n",
    "Logging is done through a `logger` object with methods that publish logs at specific \"log levels\":\n",
    "```python\n",
    "logger.debug(f\"Polishing rocket id={id} in preparation for launch.\")\n",
    "logger.info(f\"Launching rocket id={id} targetted at location_id={location_id}\")\n",
    "logger.warning(f\"Rocket id={id} is making alarming noises.\")\n",
    "try:\n",
    "    rocket.launch()\n",
    "catch LaunchException, e:\n",
    "    logger.exception(f\"Rocket id={id} has failed to launch.\")\n",
    "logger.critical(f\"Rocker id={id} has exploded on the launchpad.\")\n",
    "```"
   ]
  },
  {
   "cell_type": "markdown",
   "metadata": {
    "slideshow": {
     "slide_type": "slide"
    }
   },
   "source": [
    "## Log levels\n",
    "\n",
    "| What you're doing:                                                                                                                   | Log Level         |\n",
    "|:-------------------------------------------------------------------------------------------------------------------------------------|:------------------|\n",
    "| Reporting normal events that happen during the application                                                                           | debug or info     |\n",
    "| Issuing a warning that something is unexpected that might indicate a problem                                                         | warning           |\n",
    "| Report that there's been an exception but program is still running | exception (error) |\n",
    "| Report that the system has crashed or it might be unable to continue                                                                 | critical          |"
   ]
  },
  {
   "cell_type": "markdown",
   "metadata": {
    "slideshow": {
     "slide_type": "slide"
    }
   },
   "source": [
    "| Severity Level | When it's used                                                                                                                                                                                               |\n",
    "|:--|:--|\n",
    "| debug          | Detailed information, typically of interest only when diagnosing problems.                                                                                                                                   |\n",
    "| info           | Confirmation that things are working as expected.                                                                                                                                                            |\n",
    "| warning        | An indication that something unexpected happened, or indicative of some problem in the near future  (e.g. ‘disk space low’). The software is still working as expected.  It's worth a day time notification. |\n",
    "| error      | Due to a more serious problem, the software has not been able to perform some function.   It's worth a daytime or on-call notification, depending on the system.                                             |\n",
    "| critical       | The system has failed.  It's worth the highest priority alert the system has.                                                                                                                                |"
   ]
  },
  {
   "cell_type": "markdown",
   "metadata": {
    "slideshow": {
     "slide_type": "slide"
    }
   },
   "source": [
    "### What makes a good log?\n",
    "\n",
    "A good log is useful for its intended purpose, which is a broad definition.  But generally, more \n",
    "*context* makes a log message more useful.\n",
    "\n",
    "Instead of just saying something failed, explain what it was doing when it failed, what it was trying to do, and why.\n",
    "\n",
    "(example cribbed from atlassian)\n",
    "```python\n",
    "// bad\n",
    "logger.exception(\"Unable to save page.\")\n",
    "// better\n",
    "logger.exception(f\"Unable to save page {page_id}.\")\n",
    "// best\n",
    "logger.exception(f\"Unable to save {page} in updateMode={is_automatic_save} upon moving it \" \\\n",
    "                 f\"from space {oldSpace} to space {newSpace}.\")\n",
    "```"
   ]
  },
  {
   "cell_type": "markdown",
   "metadata": {
    "slideshow": {
     "slide_type": "slide"
    }
   },
   "source": [
    "### Getting a python logger\n",
    "\n",
    "The first step is getting a python logger instance.\n",
    "\n",
    "Every python logger has a name, which is usually also the name of a python module or class.  That name can be included in every log message, which helps provide context for the log message."
   ]
  },
  {
   "cell_type": "code",
   "execution_count": 1,
   "metadata": {
    "slideshow": {
     "slide_type": "subslide"
    }
   },
   "outputs": [],
   "source": [
    "# getting a logger through the core project helper function\n",
    "from core.logging import get_logger"
   ]
  },
  {
   "cell_type": "code",
   "execution_count": 2,
   "metadata": {
    "slideshow": {
     "slide_type": "subslide"
    }
   },
   "outputs": [
    {
     "name": "stdout",
     "output_type": "stream",
     "text": [
      "2019-02-05 18:31:29,954 - core.notebooks - WARNING - Logging a debug message\n"
     ]
    }
   ],
   "source": [
    "# manually providing the logger name\n",
    "logger = get_logger(\"core.notebooks\")\n",
    "logger.warning(\"Logging a debug message\")"
   ]
  },
  {
   "cell_type": "code",
   "execution_count": 3,
   "metadata": {
    "slideshow": {
     "slide_type": "subslide"
    }
   },
   "outputs": [],
   "source": [
    "# get_logger is our version of `logging.getLogger` in the core project that ensures\n",
    "# our logging is set up.  This is what it looks like to use python logging directly:\n",
    "import logging\n",
    "logger2 = logging.getLogger(\"core.notebooks.logging\")"
   ]
  },
  {
   "cell_type": "code",
   "execution_count": 4,
   "metadata": {
    "slideshow": {
     "slide_type": "subslide"
    }
   },
   "outputs": [
    {
     "name": "stdout",
     "output_type": "stream",
     "text": [
      "2019-02-05 16:23:11,929 - core.notebooks.logging - DEBUG - hi\n"
     ]
    }
   ],
   "source": [
    "logger.debug(\"hi\")"
   ]
  },
  {
   "cell_type": "markdown",
   "metadata": {
    "slideshow": {
     "slide_type": "slide"
    }
   },
   "source": [
    "Inside of a python module, the python idiom is to use `__name__`:\n",
    "\n",
    "```python\n",
    "from core.logging import get_logger\n",
    "logger = get_logger(__name__)\n",
    "```\n",
    "\n",
    "and if it's a class, use `get_logger(__name__)` in the init:\n",
    "\n",
    "```python\n",
    "class Foo:\n",
    "    def __init__(self, id):\n",
    "        self.logger = get_logger(__name__)\n",
    "        self.id = id\n",
    "        \n",
    "    def launch_missiles(self):\n",
    "        self.logger.info(f\"Missile with id={self.id} is now being launched.\")\n",
    "```\n",
    "\n",
    "but I've added a LoggerMixin class, so you can just write:\n",
    "\n",
    "```python\n",
    "class Foo(LoggerMixin):\n",
    "    def launch_missiles(self):\n",
    "        self.logger.info(f\"Missile with id={self.id} is now being launched.\")\n",
    "```\n",
    "\n",
    "and the logger name for the mixin includes the class name."
   ]
  },
  {
   "cell_type": "markdown",
   "metadata": {
    "slideshow": {
     "slide_type": "slide"
    }
   },
   "source": [
    "When we generate messages of severity `error`, we usually want to use the `exception` method that includes the exception and Traceback information."
   ]
  },
  {
   "cell_type": "code",
   "execution_count": 5,
   "metadata": {
    "slideshow": {
     "slide_type": "subslide"
    }
   },
   "outputs": [
    {
     "name": "stdout",
     "output_type": "stream",
     "text": [
      "2019-02-05 16:23:12,373 - core.notebooks.logging - ERROR - Something has clearly gone wrong\n",
      "Traceback (most recent call last):\n",
      "  File \"<ipython-input-5-d5f53107b3b3>\", line 3, in throw_exception\n",
      "    \"hello\" + 3\n",
      "TypeError: must be str, not int\n"
     ]
    }
   ],
   "source": [
    "def throw_exception(logger):\n",
    "    try:\n",
    "        \"hello\" + 3\n",
    "    except TypeError as err:\n",
    "        logger.exception(\"Something has clearly gone wrong\")\n",
    "        pass  # we can continue on, having logged the exception\n",
    "\n",
    "throw_exception(logger)\n"
   ]
  },
  {
   "cell_type": "markdown",
   "metadata": {
    "slideshow": {
     "slide_type": "slide"
    }
   },
   "source": [
    "### Configuring python logging\n",
    "\n",
    "The most compelling reason to learn how to configure the logger is that accessing the logs of the libraries we're using can be very helpful when trying to debug behavior."
   ]
  },
  {
   "cell_type": "code",
   "execution_count": 6,
   "metadata": {
    "slideshow": {
     "slide_type": "subslide"
    }
   },
   "outputs": [
    {
     "data": {
      "text/plain": [
       "<Response [200]>"
      ]
     },
     "execution_count": 6,
     "metadata": {},
     "output_type": "execute_result"
    }
   ],
   "source": [
    "import requests\n",
    "requests.get(\"http://google.com\")"
   ]
  },
  {
   "cell_type": "code",
   "execution_count": 7,
   "metadata": {
    "slideshow": {
     "slide_type": "subslide"
    }
   },
   "outputs": [
    {
     "name": "stdout",
     "output_type": "stream",
     "text": [
      "2019-02-05 16:23:13,079 - urllib3.connectionpool - DEBUG - Starting new HTTP connection (1): google.com:80\n",
      "2019-02-05 16:23:13,160 - urllib3.connectionpool - DEBUG - http://google.com:80 \"GET / HTTP/1.1\" 301 219\n",
      "2019-02-05 16:23:13,164 - urllib3.connectionpool - DEBUG - Starting new HTTP connection (1): www.google.com:80\n",
      "2019-02-05 16:23:13,345 - urllib3.connectionpool - DEBUG - http://www.google.com:80 \"GET / HTTP/1.1\" 200 5520\n"
     ]
    }
   ],
   "source": [
    "logging.getLogger(\"urllib3\").setLevel(logging.DEBUG)\n",
    "requests.get(\"http://google.com\")\n",
    "logging.getLogger(\"urllib3\").setLevel(logging.INFO)"
   ]
  },
  {
   "cell_type": "code",
   "execution_count": 8,
   "metadata": {
    "slideshow": {
     "slide_type": "subslide"
    }
   },
   "outputs": [],
   "source": [
    "import pytest\n",
    "from core.constants import DEV_BUCKET\n",
    "from core.helpers.configuration_mocker import ConfigurationMocker as CMock\n",
    "import core.models.configuration as C\n",
    "import core.contract as contract\n",
    "from core.transforms.shared.raw.extract import ExtractTransform\n",
    "import boto3\n",
    "import moto\n",
    "import time\n",
    "import tempfile\n",
    "import os"
   ]
  },
  {
   "cell_type": "code",
   "execution_count": 9,
   "metadata": {
    "slideshow": {
     "slide_type": "subslide"
    }
   },
   "outputs": [],
   "source": [
    "@moto.mock_s3\n",
    "def s3_setup():\n",
    "    client = boto3.client('s3')\n",
    "    n_time = time.time()\n",
    "    time_delta = 10000000\n",
    "    output_contract = contract.Contract(branch='master', parent='bluth', child='cornballer',state='raw',env='dev')\n",
    "    client.create_bucket(Bucket= DEV_BUCKET)\n",
    "\n",
    "    t_file_old = tempfile.NamedTemporaryFile()\n",
    "    t_file_old.write(b'Gobias some old coffee!')\n",
    "    file_name_old = os.path.split(t_file_old.name)[1]\n",
    "    output_contract.set_file_name(file_name_old)\n",
    "    client.upload_file(Bucket=DEV_BUCKET, Filename= t_file_old.name, Key= output_contract.get_key(), ExtraArgs={\"Metadata\":{\"source_modified_time\": str(n_time - time_delta)}})\n",
    "    \n",
    "    t_file_new = tempfile.NamedTemporaryFile()\n",
    "    t_file_new.write(b'Gobias some new coffee!')\n",
    "    file_name_new = os.path.split(t_file_new.name)[1]\n",
    "    output_contract.set_file_name(file_name_new)\n",
    "    client.upload_file(Bucket=DEV_BUCKET, Filename= t_file_new.name, Key= output_contract.get_key(), ExtraArgs={\"Metadata\":{\"source_modified_time\": str(n_time + time_delta)}})\n",
    "    \n",
    "    return (t_file_old, t_file_new, output_contract, time_delta)\n"
   ]
  },
  {
   "cell_type": "code",
   "execution_count": 10,
   "metadata": {
    "slideshow": {
     "slide_type": "subslide"
    }
   },
   "outputs": [],
   "source": [
    "@moto.mock_s3\n",
    "def test_push_to_s3_updated_file():\n",
    "    params = s3_setup()\n",
    "    extract = ExtractTransform()\n",
    "    client = boto3.client('s3')\n",
    "    extract.push_to_s3(tmp_dir=os.path.dirname(params[0].name),\n",
    "                       output_contract=params[2])\n",
    "    params[2].set_file_name(os.path.split(params[0].name)[1])\n",
    "    s3_time = float(client.head_object(Bucket=DEV_BUCKET, Key=params[2].get_key())['Metadata']['source_modified_time'])\n",
    "    \n",
    "    assert os.stat(params[0].name).st_mtime == s3_time             \n"
   ]
  },
  {
   "cell_type": "code",
   "execution_count": 11,
   "metadata": {
    "slideshow": {
     "slide_type": "subslide"
    }
   },
   "outputs": [
    {
     "name": "stdout",
     "output_type": "stream",
     "text": [
      "2019-02-05 16:23:15,733 - botocore.credentials - INFO - Found credentials in environment variables.\n",
      "2019-02-05 16:23:15,838 - core.contract.Contract - INFO - Publishing a local file at /tmp/tmpzc07pig0 to s3 location s3://ichain-dev/master/bluth/cornballer/raw/tmpzc07pig0.\n"
     ]
    }
   ],
   "source": [
    "test_push_to_s3_updated_file()"
   ]
  },
  {
   "cell_type": "markdown",
   "metadata": {},
   "source": [
    "That's usually good enough.  Let's see everything that's being logged, by all modules.\n",
    "\n",
    "Below, we'll programmatically grab the *root* logger and configure it to show us all messages at the DEBUG level or higher, which will show all logged messages."
   ]
  },
  {
   "cell_type": "code",
   "execution_count": 12,
   "metadata": {
    "slideshow": {
     "slide_type": "subslide"
    }
   },
   "outputs": [],
   "source": [
    "import logging\n",
    "root_logger = logging.getLogger('')\n",
    "root_logger.setLevel(logging.DEBUG)"
   ]
  },
  {
   "cell_type": "code",
   "execution_count": 13,
   "metadata": {
    "slideshow": {
     "slide_type": "subslide"
    }
   },
   "outputs": [
    {
     "name": "stdout",
     "output_type": "stream",
     "text": [
      "2019-02-05 16:23:15,903 - botocore.hooks - DEBUG - Event choose-service-name: calling handler <function handle_service_name_alias at 0x7fd90895c488>\n",
      "2019-02-05 16:23:15,910 - botocore.hooks - DEBUG - Event creating-client-class.s3: calling handler <function add_generate_presigned_post at 0x7fd90899b048>\n",
      "2019-02-05 16:23:15,912 - botocore.hooks - DEBUG - Event creating-client-class.s3: calling handler <function lazy_call.<locals>._handler at 0x7fd8f3cd7f28>\n",
      "2019-02-05 16:23:15,914 - botocore.hooks - DEBUG - Event creating-client-class.s3: calling handler <function add_generate_presigned_url at 0x7fd908994d90>\n",
      "2019-02-05 16:23:15,916 - botocore.args - DEBUG - The s3 config key is not a dictionary type, ignoring its value of: None\n",
      "2019-02-05 16:23:15,920 - botocore.endpoint - DEBUG - Setting s3 timeout as (60, 60)\n",
      "2019-02-05 16:23:15,923 - botocore.client - DEBUG - Registering retry handlers for service: s3\n",
      "2019-02-05 16:23:15,927 - botocore.client - DEBUG - Defaulting to S3 virtual host style addressing with path style addressing fallback.\n",
      "2019-02-05 16:23:15,930 - botocore.hooks - DEBUG - Event before-parameter-build.s3.CreateBucket: calling handler <function validate_bucket_name at 0x7fd9088f8048>\n",
      "2019-02-05 16:23:15,932 - botocore.hooks - DEBUG - Event before-parameter-build.s3.CreateBucket: calling handler <bound method S3RegionRedirector.redirect_from_cache of <botocore.utils.S3RegionRedirector object at 0x7fd8f28ea048>>\n",
      "2019-02-05 16:23:15,933 - botocore.hooks - DEBUG - Event before-parameter-build.s3.CreateBucket: calling handler <function generate_idempotent_uuid at 0x7fd9088f6bf8>\n",
      "2019-02-05 16:23:15,935 - botocore.hooks - DEBUG - Event before-call.s3.CreateBucket: calling handler <function add_expect_header at 0x7fd9088f8510>\n",
      "2019-02-05 16:23:15,936 - botocore.hooks - DEBUG - Event before-call.s3.CreateBucket: calling handler <bound method S3RegionRedirector.set_request_url of <botocore.utils.S3RegionRedirector object at 0x7fd8f28ea048>>\n",
      "2019-02-05 16:23:15,937 - botocore.hooks - DEBUG - Event before-call.s3.CreateBucket: calling handler <function inject_api_version_header_if_needed at 0x7fd9088f9ae8>\n",
      "2019-02-05 16:23:15,939 - botocore.endpoint - DEBUG - Making request for OperationModel(name=CreateBucket) with params: {'url_path': '/ichain-dev', 'query_string': {}, 'method': 'PUT', 'headers': {'User-Agent': 'Boto3/1.9.83 Python/3.6.6 Linux/4.9.87-linuxkit-aufs Botocore/1.12.86'}, 'body': b'', 'url': 'https://s3.amazonaws.com/ichain-dev', 'context': {'client_region': 'us-east-1', 'client_config': <botocore.config.Config object at 0x7fd8f28f6c50>, 'has_streaming_input': False, 'auth_type': None, 'signing': {'bucket': 'ichain-dev'}}}\n",
      "2019-02-05 16:23:15,941 - botocore.hooks - DEBUG - Event request-created.s3.CreateBucket: calling handler <bound method RequestSigner.handler of <botocore.signers.RequestSigner object at 0x7fd8f28f6b00>>\n",
      "2019-02-05 16:23:15,942 - botocore.hooks - DEBUG - Event choose-signer.s3.CreateBucket: calling handler <bound method ClientCreator._default_s3_presign_to_sigv2 of <botocore.client.ClientCreator object at 0x7fd8f3d1f748>>\n",
      "2019-02-05 16:23:15,943 - botocore.hooks - DEBUG - Event choose-signer.s3.CreateBucket: calling handler <function set_operation_specific_signer at 0x7fd9088f6ae8>\n",
      "2019-02-05 16:23:15,945 - botocore.hooks - DEBUG - Event before-sign.s3.CreateBucket: calling handler <function fix_s3_host at 0x7fd908a8fbf8>\n",
      "2019-02-05 16:23:15,946 - botocore.utils - DEBUG - Checking for DNS compatible bucket for: https://s3.amazonaws.com/ichain-dev\n",
      "2019-02-05 16:23:15,948 - botocore.utils - DEBUG - URI updated to: https://ichain-dev.s3.amazonaws.com/\n",
      "2019-02-05 16:23:15,950 - botocore.auth - DEBUG - Calculating signature using v4 auth.\n",
      "2019-02-05 16:23:15,951 - botocore.auth - DEBUG - CanonicalRequest:\n",
      "PUT\n",
      "/\n",
      "\n",
      "host:ichain-dev.s3.amazonaws.com\n",
      "x-amz-content-sha256:e3b0c44298fc1c149afbf4c8996fb92427ae41e4649b934ca495991b7852b855\n",
      "x-amz-date:20190205T162315Z\n",
      "\n",
      "host;x-amz-content-sha256;x-amz-date\n",
      "e3b0c44298fc1c149afbf4c8996fb92427ae41e4649b934ca495991b7852b855\n",
      "2019-02-05 16:23:15,952 - botocore.auth - DEBUG - StringToSign:\n",
      "AWS4-HMAC-SHA256\n",
      "20190205T162315Z\n",
      "20190205/us-east-1/s3/aws4_request\n",
      "1d3848f1854ce324a65823f6c7afd5511a9bc442262fc260201c01b4fc2910a0\n",
      "2019-02-05 16:23:15,954 - botocore.auth - DEBUG - Signature:\n",
      "fe836c247e0a3b8b9d8eac25ac632dfb663a3951d152bfbbfb227795e7dc1f84\n",
      "2019-02-05 16:23:15,955 - botocore.endpoint - DEBUG - Sending http request: <AWSPreparedRequest stream_output=False, method=PUT, url=https://ichain-dev.s3.amazonaws.com/, headers={'User-Agent': b'Boto3/1.9.83 Python/3.6.6 Linux/4.9.87-linuxkit-aufs Botocore/1.12.86', 'X-Amz-Date': b'20190205T162315Z', 'X-Amz-Content-SHA256': b'e3b0c44298fc1c149afbf4c8996fb92427ae41e4649b934ca495991b7852b855', 'Authorization': b'AWS4-HMAC-SHA256 Credential=/20190205/us-east-1/s3/aws4_request, SignedHeaders=host;x-amz-content-sha256;x-amz-date, Signature=fe836c247e0a3b8b9d8eac25ac632dfb663a3951d152bfbbfb227795e7dc1f84', 'Content-Length': '0'}>\n",
      "2019-02-05 16:23:15,962 - botocore.hooks - DEBUG - Event before-send.s3.CreateBucket: calling handler <moto.core.models.BotocoreStubber object at 0x7fd903f32cf8>\n",
      "2019-02-05 16:23:15,966 - botocore.parsers - DEBUG - Response headers: {}\n",
      "2019-02-05 16:23:15,969 - botocore.parsers - DEBUG - Response body:\n",
      "b'<CreateBucketResponse xmlns=\"http://s3.amazonaws.com/doc/2006-03-01\">\\n  <CreateBucketResponse>\\n    <Bucket>ichain-dev</Bucket>\\n  </CreateBucketResponse>\\n</CreateBucketResponse>'\n",
      "2019-02-05 16:23:15,974 - botocore.hooks - DEBUG - Event needs-retry.s3.CreateBucket: calling handler <botocore.retryhandler.RetryHandler object at 0x7fd8f28ea160>\n",
      "2019-02-05 16:23:15,976 - botocore.retryhandler - DEBUG - No retry needed.\n",
      "2019-02-05 16:23:15,977 - botocore.hooks - DEBUG - Event needs-retry.s3.CreateBucket: calling handler <bound method S3RegionRedirector.redirect_from_error of <botocore.utils.S3RegionRedirector object at 0x7fd8f28ea048>>\n",
      "2019-02-05 16:23:15,982 - s3transfer.utils - DEBUG - Acquiring 0\n",
      "2019-02-05 16:23:15,995 - s3transfer.tasks - DEBUG - UploadSubmissionTask(transfer_id=0, {'transfer_future': <s3transfer.futures.TransferFuture object at 0x7fd8f293fdd8>}) about to wait for the following futures []\n",
      "2019-02-05 16:23:15,997 - s3transfer.tasks - DEBUG - UploadSubmissionTask(transfer_id=0, {'transfer_future': <s3transfer.futures.TransferFuture object at 0x7fd8f293fdd8>}) done waiting for dependent futures\n",
      "2019-02-05 16:23:15,999 - s3transfer.tasks - DEBUG - Executing task UploadSubmissionTask(transfer_id=0, {'transfer_future': <s3transfer.futures.TransferFuture object at 0x7fd8f293fdd8>}) with kwargs {'client': <botocore.client.S3 object at 0x7fd8f3a0e7f0>, 'config': <boto3.s3.transfer.TransferConfig object at 0x7fd8f29055f8>, 'osutil': <s3transfer.utils.OSUtils object at 0x7fd8f2905208>, 'request_executor': <s3transfer.futures.BoundedExecutor object at 0x7fd8f2905f60>, 'transfer_future': <s3transfer.futures.TransferFuture object at 0x7fd8f293fdd8>}\n",
      "2019-02-05 16:23:16,001 - s3transfer.futures - DEBUG - Submitting task PutObjectTask(transfer_id=0, {'bucket': 'ichain-dev', 'key': 'master/bluth/cornballer/raw/tmpg6ao9vfj', 'extra_args': {'Metadata': {'source_modified_time': '1539383795.9294071'}}}) to executor <s3transfer.futures.BoundedExecutor object at 0x7fd8f2905f60> for transfer request: 0.\n",
      "2019-02-05 16:23:16,002 - s3transfer.utils - DEBUG - Acquiring 0\n",
      "2019-02-05 16:23:16,012 - s3transfer.tasks - DEBUG - PutObjectTask(transfer_id=0, {'bucket': 'ichain-dev', 'key': 'master/bluth/cornballer/raw/tmpg6ao9vfj', 'extra_args': {'Metadata': {'source_modified_time': '1539383795.9294071'}}}) about to wait for the following futures []\n",
      "2019-02-05 16:23:16,013 - s3transfer.utils - DEBUG - Releasing acquire 0/None\n",
      "2019-02-05 16:23:16,014 - s3transfer.tasks - DEBUG - PutObjectTask(transfer_id=0, {'bucket': 'ichain-dev', 'key': 'master/bluth/cornballer/raw/tmpg6ao9vfj', 'extra_args': {'Metadata': {'source_modified_time': '1539383795.9294071'}}}) done waiting for dependent futures\n",
      "2019-02-05 16:23:16,018 - s3transfer.tasks - DEBUG - Executing task PutObjectTask(transfer_id=0, {'bucket': 'ichain-dev', 'key': 'master/bluth/cornballer/raw/tmpg6ao9vfj', 'extra_args': {'Metadata': {'source_modified_time': '1539383795.9294071'}}}) with kwargs {'client': <botocore.client.S3 object at 0x7fd8f3a0e7f0>, 'fileobj': <s3transfer.utils.ReadFileChunk object at 0x7fd8f293f978>, 'bucket': 'ichain-dev', 'key': 'master/bluth/cornballer/raw/tmpg6ao9vfj', 'extra_args': {'Metadata': {'source_modified_time': '1539383795.9294071'}}}\n",
      "2019-02-05 16:23:16,020 - botocore.hooks - DEBUG - Event before-parameter-build.s3.PutObject: calling handler <function validate_ascii_metadata at 0x7fd9088f8d90>\n",
      "2019-02-05 16:23:16,021 - botocore.hooks - DEBUG - Event before-parameter-build.s3.PutObject: calling handler <function sse_md5 at 0x7fd9088f80d0>\n",
      "2019-02-05 16:23:16,022 - botocore.hooks - DEBUG - Event before-parameter-build.s3.PutObject: calling handler <function convert_body_to_file_like_object at 0x7fd9088f9620>\n",
      "2019-02-05 16:23:16,023 - botocore.hooks - DEBUG - Event before-parameter-build.s3.PutObject: calling handler <function validate_bucket_name at 0x7fd9088f8048>\n",
      "2019-02-05 16:23:16,024 - botocore.hooks - DEBUG - Event before-parameter-build.s3.PutObject: calling handler <bound method S3RegionRedirector.redirect_from_cache of <botocore.utils.S3RegionRedirector object at 0x7fd8f28ea048>>\n",
      "2019-02-05 16:23:16,025 - botocore.hooks - DEBUG - Event before-parameter-build.s3.PutObject: calling handler <function generate_idempotent_uuid at 0x7fd9088f6bf8>\n",
      "2019-02-05 16:23:16,027 - botocore.hooks - DEBUG - Event before-call.s3.PutObject: calling handler <function conditionally_calculate_md5 at 0x7fd9088f6f28>\n",
      "2019-02-05 16:23:16,028 - botocore.hooks - DEBUG - Event before-call.s3.PutObject: calling handler <function add_expect_header at 0x7fd9088f8510>\n",
      "2019-02-05 16:23:16,029 - botocore.handlers - DEBUG - Adding expect 100 continue header to request.\n",
      "2019-02-05 16:23:16,031 - botocore.hooks - DEBUG - Event before-call.s3.PutObject: calling handler <bound method S3RegionRedirector.set_request_url of <botocore.utils.S3RegionRedirector object at 0x7fd8f28ea048>>\n",
      "2019-02-05 16:23:16,032 - botocore.hooks - DEBUG - Event before-call.s3.PutObject: calling handler <function inject_api_version_header_if_needed at 0x7fd9088f9ae8>\n",
      "2019-02-05 16:23:16,033 - botocore.endpoint - DEBUG - Making request for OperationModel(name=PutObject) with params: {'url_path': '/ichain-dev/master/bluth/cornballer/raw/tmpg6ao9vfj', 'query_string': {}, 'method': 'PUT', 'headers': {'x-amz-meta-source_modified_time': '1539383795.9294071', 'User-Agent': 'Boto3/1.9.83 Python/3.6.6 Linux/4.9.87-linuxkit-aufs Botocore/1.12.86', 'Expect': '100-continue'}, 'body': <s3transfer.utils.ReadFileChunk object at 0x7fd8f293f978>, 'url': 'https://s3.amazonaws.com/ichain-dev/master/bluth/cornballer/raw/tmpg6ao9vfj', 'context': {'client_region': 'us-east-1', 'client_config': <botocore.config.Config object at 0x7fd8f28f6c50>, 'has_streaming_input': True, 'auth_type': None, 'signing': {'bucket': 'ichain-dev'}}}\n",
      "2019-02-05 16:23:16,034 - botocore.hooks - DEBUG - Event request-created.s3.PutObject: calling handler <function signal_not_transferring at 0x7fd8f3a348c8>\n",
      "2019-02-05 16:23:16,037 - botocore.hooks - DEBUG - Event request-created.s3.PutObject: calling handler <bound method RequestSigner.handler of <botocore.signers.RequestSigner object at 0x7fd8f28f6b00>>\n",
      "2019-02-05 16:23:16,038 - botocore.hooks - DEBUG - Event choose-signer.s3.PutObject: calling handler <bound method ClientCreator._default_s3_presign_to_sigv2 of <botocore.client.ClientCreator object at 0x7fd8f3d1f748>>\n",
      "2019-02-05 16:23:16,039 - botocore.hooks - DEBUG - Event choose-signer.s3.PutObject: calling handler <function set_operation_specific_signer at 0x7fd9088f6ae8>\n",
      "2019-02-05 16:23:16,041 - botocore.hooks - DEBUG - Event before-sign.s3.PutObject: calling handler <function fix_s3_host at 0x7fd908a8fbf8>\n",
      "2019-02-05 16:23:16,043 - botocore.utils - DEBUG - Checking for DNS compatible bucket for: https://s3.amazonaws.com/ichain-dev/master/bluth/cornballer/raw/tmpg6ao9vfj\n",
      "2019-02-05 16:23:16,044 - botocore.utils - DEBUG - URI updated to: https://ichain-dev.s3.amazonaws.com/master/bluth/cornballer/raw/tmpg6ao9vfj\n",
      "2019-02-05 16:23:16,046 - botocore.auth - DEBUG - Calculating signature using v4 auth.\n",
      "2019-02-05 16:23:16,046 - botocore.auth - DEBUG - CanonicalRequest:\n",
      "PUT\n",
      "/master/bluth/cornballer/raw/tmpg6ao9vfj\n",
      "\n",
      "host:ichain-dev.s3.amazonaws.com\n",
      "x-amz-content-sha256:e3b0c44298fc1c149afbf4c8996fb92427ae41e4649b934ca495991b7852b855\n",
      "x-amz-date:20190205T162316Z\n",
      "x-amz-meta-source_modified_time:1539383795.9294071\n",
      "\n",
      "host;x-amz-content-sha256;x-amz-date;x-amz-meta-source_modified_time\n",
      "e3b0c44298fc1c149afbf4c8996fb92427ae41e4649b934ca495991b7852b855\n",
      "2019-02-05 16:23:16,047 - botocore.auth - DEBUG - StringToSign:\n",
      "AWS4-HMAC-SHA256\n",
      "20190205T162316Z\n",
      "20190205/us-east-1/s3/aws4_request\n",
      "d697cea06a0d0d35463e195635640dd8d1c8f4277fdeb26dc8fcec99b6fb4533\n",
      "2019-02-05 16:23:16,049 - botocore.auth - DEBUG - Signature:\n",
      "36abd2c70e7eaa39687e89bb220fbb620c56fa2f15f5e6c8880e642159e2b307\n",
      "2019-02-05 16:23:16,051 - botocore.hooks - DEBUG - Event request-created.s3.PutObject: calling handler <function signal_transferring at 0x7fd8f3a34950>\n",
      "2019-02-05 16:23:16,053 - botocore.endpoint - DEBUG - Sending http request: <AWSPreparedRequest stream_output=False, method=PUT, url=https://ichain-dev.s3.amazonaws.com/master/bluth/cornballer/raw/tmpg6ao9vfj, headers={'x-amz-meta-source_modified_time': b'1539383795.9294071', 'User-Agent': b'Boto3/1.9.83 Python/3.6.6 Linux/4.9.87-linuxkit-aufs Botocore/1.12.86', 'Expect': b'100-continue', 'X-Amz-Date': b'20190205T162316Z', 'X-Amz-Content-SHA256': b'e3b0c44298fc1c149afbf4c8996fb92427ae41e4649b934ca495991b7852b855', 'Authorization': b'AWS4-HMAC-SHA256 Credential=/20190205/us-east-1/s3/aws4_request, SignedHeaders=host;x-amz-content-sha256;x-amz-date;x-amz-meta-source_modified_time, Signature=36abd2c70e7eaa39687e89bb220fbb620c56fa2f15f5e6c8880e642159e2b307', 'Content-Length': '0'}>\n",
      "2019-02-05 16:23:16,055 - botocore.hooks - DEBUG - Event before-send.s3.PutObject: calling handler <moto.core.models.BotocoreStubber object at 0x7fd903f32cf8>\n",
      "2019-02-05 16:23:16,058 - botocore.parsers - DEBUG - Response headers: {'ETag': '\"d41d8cd98f00b204e9800998ecf8427e\"', 'last-modified': 'Tue, 05 Feb 2019 16:23:16 GMT', 'content-length': '0'}\n",
      "2019-02-05 16:23:16,069 - botocore.parsers - DEBUG - Response body:\n",
      "b'<PutObjectResponse xmlns=\"http://s3.amazonaws.com/doc/2006-03-01\">\\n      <PutObjectResponse>\\n        <ETag>&#34;d41d8cd98f00b204e9800998ecf8427e&#34;</ETag>\\n        <LastModified>2019-02-05T16:23:16.057Z</LastModified>\\n      </PutObjectResponse>\\n    </PutObjectResponse>'\n",
      "2019-02-05 16:23:16,074 - botocore.hooks - DEBUG - Event needs-retry.s3.PutObject: calling handler <botocore.retryhandler.RetryHandler object at 0x7fd8f28ea160>\n",
      "2019-02-05 16:23:16,075 - botocore.retryhandler - DEBUG - No retry needed.\n",
      "2019-02-05 16:23:16,076 - botocore.hooks - DEBUG - Event needs-retry.s3.PutObject: calling handler <bound method S3RegionRedirector.redirect_from_error of <botocore.utils.S3RegionRedirector object at 0x7fd8f28ea048>>\n",
      "2019-02-05 16:23:16,078 - s3transfer.utils - DEBUG - Releasing acquire 0/None\n",
      "2019-02-05 16:23:16,084 - s3transfer.utils - DEBUG - Acquiring 0\n",
      "2019-02-05 16:23:16,102 - s3transfer.tasks - DEBUG - UploadSubmissionTask(transfer_id=0, {'transfer_future': <s3transfer.futures.TransferFuture object at 0x7fd8f293f438>}) about to wait for the following futures []\n",
      "2019-02-05 16:23:16,104 - s3transfer.tasks - DEBUG - UploadSubmissionTask(transfer_id=0, {'transfer_future': <s3transfer.futures.TransferFuture object at 0x7fd8f293f438>}) done waiting for dependent futures\n",
      "2019-02-05 16:23:16,105 - s3transfer.tasks - DEBUG - Executing task UploadSubmissionTask(transfer_id=0, {'transfer_future': <s3transfer.futures.TransferFuture object at 0x7fd8f293f438>}) with kwargs {'client': <botocore.client.S3 object at 0x7fd8f3a0e7f0>, 'config': <boto3.s3.transfer.TransferConfig object at 0x7fd8f2905240>, 'osutil': <s3transfer.utils.OSUtils object at 0x7fd8f2905898>, 'request_executor': <s3transfer.futures.BoundedExecutor object at 0x7fd8f2905ac8>, 'transfer_future': <s3transfer.futures.TransferFuture object at 0x7fd8f293f438>}\n",
      "2019-02-05 16:23:16,107 - s3transfer.futures - DEBUG - Submitting task PutObjectTask(transfer_id=0, {'bucket': 'ichain-dev', 'key': 'master/bluth/cornballer/raw/tmpvmfppegr', 'extra_args': {'Metadata': {'source_modified_time': '1559383795.9294071'}}}) to executor <s3transfer.futures.BoundedExecutor object at 0x7fd8f2905ac8> for transfer request: 0.\n",
      "2019-02-05 16:23:16,109 - s3transfer.utils - DEBUG - Acquiring 0\n",
      "2019-02-05 16:23:16,113 - s3transfer.tasks - DEBUG - PutObjectTask(transfer_id=0, {'bucket': 'ichain-dev', 'key': 'master/bluth/cornballer/raw/tmpvmfppegr', 'extra_args': {'Metadata': {'source_modified_time': '1559383795.9294071'}}}) about to wait for the following futures []\n",
      "2019-02-05 16:23:16,114 - s3transfer.utils - DEBUG - Releasing acquire 0/None\n",
      "2019-02-05 16:23:16,116 - s3transfer.tasks - DEBUG - PutObjectTask(transfer_id=0, {'bucket': 'ichain-dev', 'key': 'master/bluth/cornballer/raw/tmpvmfppegr', 'extra_args': {'Metadata': {'source_modified_time': '1559383795.9294071'}}}) done waiting for dependent futures\n",
      "2019-02-05 16:23:16,120 - s3transfer.tasks - DEBUG - Executing task PutObjectTask(transfer_id=0, {'bucket': 'ichain-dev', 'key': 'master/bluth/cornballer/raw/tmpvmfppegr', 'extra_args': {'Metadata': {'source_modified_time': '1559383795.9294071'}}}) with kwargs {'client': <botocore.client.S3 object at 0x7fd8f3a0e7f0>, 'fileobj': <s3transfer.utils.ReadFileChunk object at 0x7fd8f28e1ac8>, 'bucket': 'ichain-dev', 'key': 'master/bluth/cornballer/raw/tmpvmfppegr', 'extra_args': {'Metadata': {'source_modified_time': '1559383795.9294071'}}}\n",
      "2019-02-05 16:23:16,123 - botocore.hooks - DEBUG - Event before-parameter-build.s3.PutObject: calling handler <function validate_ascii_metadata at 0x7fd9088f8d90>\n",
      "2019-02-05 16:23:16,124 - botocore.hooks - DEBUG - Event before-parameter-build.s3.PutObject: calling handler <function sse_md5 at 0x7fd9088f80d0>\n",
      "2019-02-05 16:23:16,126 - botocore.hooks - DEBUG - Event before-parameter-build.s3.PutObject: calling handler <function convert_body_to_file_like_object at 0x7fd9088f9620>\n",
      "2019-02-05 16:23:16,128 - botocore.hooks - DEBUG - Event before-parameter-build.s3.PutObject: calling handler <function validate_bucket_name at 0x7fd9088f8048>\n",
      "2019-02-05 16:23:16,130 - botocore.hooks - DEBUG - Event before-parameter-build.s3.PutObject: calling handler <bound method S3RegionRedirector.redirect_from_cache of <botocore.utils.S3RegionRedirector object at 0x7fd8f28ea048>>\n",
      "2019-02-05 16:23:16,131 - botocore.hooks - DEBUG - Event before-parameter-build.s3.PutObject: calling handler <function generate_idempotent_uuid at 0x7fd9088f6bf8>\n",
      "2019-02-05 16:23:16,135 - botocore.hooks - DEBUG - Event before-call.s3.PutObject: calling handler <function conditionally_calculate_md5 at 0x7fd9088f6f28>\n",
      "2019-02-05 16:23:16,137 - botocore.hooks - DEBUG - Event before-call.s3.PutObject: calling handler <function add_expect_header at 0x7fd9088f8510>\n",
      "2019-02-05 16:23:16,138 - botocore.handlers - DEBUG - Adding expect 100 continue header to request.\n",
      "2019-02-05 16:23:16,140 - botocore.hooks - DEBUG - Event before-call.s3.PutObject: calling handler <bound method S3RegionRedirector.set_request_url of <botocore.utils.S3RegionRedirector object at 0x7fd8f28ea048>>\n",
      "2019-02-05 16:23:16,143 - botocore.hooks - DEBUG - Event before-call.s3.PutObject: calling handler <function inject_api_version_header_if_needed at 0x7fd9088f9ae8>\n",
      "2019-02-05 16:23:16,144 - botocore.endpoint - DEBUG - Making request for OperationModel(name=PutObject) with params: {'url_path': '/ichain-dev/master/bluth/cornballer/raw/tmpvmfppegr', 'query_string': {}, 'method': 'PUT', 'headers': {'x-amz-meta-source_modified_time': '1559383795.9294071', 'User-Agent': 'Boto3/1.9.83 Python/3.6.6 Linux/4.9.87-linuxkit-aufs Botocore/1.12.86', 'Expect': '100-continue'}, 'body': <s3transfer.utils.ReadFileChunk object at 0x7fd8f28e1ac8>, 'url': 'https://s3.amazonaws.com/ichain-dev/master/bluth/cornballer/raw/tmpvmfppegr', 'context': {'client_region': 'us-east-1', 'client_config': <botocore.config.Config object at 0x7fd8f28f6c50>, 'has_streaming_input': True, 'auth_type': None, 'signing': {'bucket': 'ichain-dev'}}}\n",
      "2019-02-05 16:23:16,148 - botocore.hooks - DEBUG - Event request-created.s3.PutObject: calling handler <function signal_not_transferring at 0x7fd8f3a348c8>\n",
      "2019-02-05 16:23:16,149 - botocore.hooks - DEBUG - Event request-created.s3.PutObject: calling handler <bound method RequestSigner.handler of <botocore.signers.RequestSigner object at 0x7fd8f28f6b00>>\n",
      "2019-02-05 16:23:16,151 - botocore.hooks - DEBUG - Event choose-signer.s3.PutObject: calling handler <bound method ClientCreator._default_s3_presign_to_sigv2 of <botocore.client.ClientCreator object at 0x7fd8f3d1f748>>\n",
      "2019-02-05 16:23:16,152 - botocore.hooks - DEBUG - Event choose-signer.s3.PutObject: calling handler <function set_operation_specific_signer at 0x7fd9088f6ae8>\n",
      "2019-02-05 16:23:16,154 - botocore.hooks - DEBUG - Event before-sign.s3.PutObject: calling handler <function fix_s3_host at 0x7fd908a8fbf8>\n",
      "2019-02-05 16:23:16,155 - botocore.utils - DEBUG - Checking for DNS compatible bucket for: https://s3.amazonaws.com/ichain-dev/master/bluth/cornballer/raw/tmpvmfppegr\n",
      "2019-02-05 16:23:16,157 - botocore.utils - DEBUG - URI updated to: https://ichain-dev.s3.amazonaws.com/master/bluth/cornballer/raw/tmpvmfppegr\n",
      "2019-02-05 16:23:16,160 - botocore.auth - DEBUG - Calculating signature using v4 auth.\n",
      "2019-02-05 16:23:16,161 - botocore.auth - DEBUG - CanonicalRequest:\n",
      "PUT\n",
      "/master/bluth/cornballer/raw/tmpvmfppegr\n",
      "\n",
      "host:ichain-dev.s3.amazonaws.com\n",
      "x-amz-content-sha256:e3b0c44298fc1c149afbf4c8996fb92427ae41e4649b934ca495991b7852b855\n",
      "x-amz-date:20190205T162316Z\n",
      "x-amz-meta-source_modified_time:1559383795.9294071\n",
      "\n",
      "host;x-amz-content-sha256;x-amz-date;x-amz-meta-source_modified_time\n",
      "e3b0c44298fc1c149afbf4c8996fb92427ae41e4649b934ca495991b7852b855\n",
      "2019-02-05 16:23:16,162 - botocore.auth - DEBUG - StringToSign:\n",
      "AWS4-HMAC-SHA256\n",
      "20190205T162316Z\n",
      "20190205/us-east-1/s3/aws4_request\n",
      "c62dcd5acb1055b76ba3891376f177496d150139304930784f17b1ef8bf33a0f\n",
      "2019-02-05 16:23:16,165 - botocore.auth - DEBUG - Signature:\n",
      "517fd26ee39c5630cfdb85bec7ccfd893beccd6c299dfa8611522b200789d5f5\n",
      "2019-02-05 16:23:16,167 - botocore.hooks - DEBUG - Event request-created.s3.PutObject: calling handler <function signal_transferring at 0x7fd8f3a34950>\n",
      "2019-02-05 16:23:16,168 - botocore.endpoint - DEBUG - Sending http request: <AWSPreparedRequest stream_output=False, method=PUT, url=https://ichain-dev.s3.amazonaws.com/master/bluth/cornballer/raw/tmpvmfppegr, headers={'x-amz-meta-source_modified_time': b'1559383795.9294071', 'User-Agent': b'Boto3/1.9.83 Python/3.6.6 Linux/4.9.87-linuxkit-aufs Botocore/1.12.86', 'Expect': b'100-continue', 'X-Amz-Date': b'20190205T162316Z', 'X-Amz-Content-SHA256': b'e3b0c44298fc1c149afbf4c8996fb92427ae41e4649b934ca495991b7852b855', 'Authorization': b'AWS4-HMAC-SHA256 Credential=/20190205/us-east-1/s3/aws4_request, SignedHeaders=host;x-amz-content-sha256;x-amz-date;x-amz-meta-source_modified_time, Signature=517fd26ee39c5630cfdb85bec7ccfd893beccd6c299dfa8611522b200789d5f5', 'Content-Length': '0'}>\n",
      "2019-02-05 16:23:16,170 - botocore.hooks - DEBUG - Event before-send.s3.PutObject: calling handler <moto.core.models.BotocoreStubber object at 0x7fd903f32cf8>\n",
      "2019-02-05 16:23:16,173 - botocore.parsers - DEBUG - Response headers: {'ETag': '\"d41d8cd98f00b204e9800998ecf8427e\"', 'last-modified': 'Tue, 05 Feb 2019 16:23:16 GMT', 'content-length': '0'}\n",
      "2019-02-05 16:23:16,176 - botocore.parsers - DEBUG - Response body:\n",
      "b'<PutObjectResponse xmlns=\"http://s3.amazonaws.com/doc/2006-03-01\">\\n      <PutObjectResponse>\\n        <ETag>&#34;d41d8cd98f00b204e9800998ecf8427e&#34;</ETag>\\n        <LastModified>2019-02-05T16:23:16.173Z</LastModified>\\n      </PutObjectResponse>\\n    </PutObjectResponse>'\n",
      "2019-02-05 16:23:16,178 - botocore.hooks - DEBUG - Event needs-retry.s3.PutObject: calling handler <botocore.retryhandler.RetryHandler object at 0x7fd8f28ea160>\n",
      "2019-02-05 16:23:16,179 - botocore.retryhandler - DEBUG - No retry needed.\n",
      "2019-02-05 16:23:16,180 - botocore.hooks - DEBUG - Event needs-retry.s3.PutObject: calling handler <bound method S3RegionRedirector.redirect_from_error of <botocore.utils.S3RegionRedirector object at 0x7fd8f28ea048>>\n",
      "2019-02-05 16:23:16,182 - s3transfer.utils - DEBUG - Releasing acquire 0/None\n",
      "2019-02-05 16:23:16,185 - botocore.hooks - DEBUG - Event choose-service-name: calling handler <function handle_service_name_alias at 0x7fd90895c488>\n",
      "2019-02-05 16:23:16,188 - botocore.hooks - DEBUG - Event creating-client-class.s3: calling handler <function add_generate_presigned_post at 0x7fd90899b048>\n",
      "2019-02-05 16:23:16,189 - botocore.hooks - DEBUG - Event creating-client-class.s3: calling handler <function lazy_call.<locals>._handler at 0x7fd8f3cd7f28>\n",
      "2019-02-05 16:23:16,191 - botocore.hooks - DEBUG - Event creating-client-class.s3: calling handler <function add_generate_presigned_url at 0x7fd908994d90>\n",
      "2019-02-05 16:23:16,192 - botocore.args - DEBUG - The s3 config key is not a dictionary type, ignoring its value of: None\n",
      "2019-02-05 16:23:16,197 - botocore.endpoint - DEBUG - Setting s3 timeout as (60, 60)\n",
      "2019-02-05 16:23:16,201 - botocore.client - DEBUG - Registering retry handlers for service: s3\n",
      "2019-02-05 16:23:16,207 - botocore.client - DEBUG - Defaulting to S3 virtual host style addressing with path style addressing fallback.\n",
      "2019-02-05 16:23:16,211 - botocore.hooks - DEBUG - Event choose-service-name: calling handler <function handle_service_name_alias at 0x7fd90895c488>\n",
      "2019-02-05 16:23:16,216 - botocore.hooks - DEBUG - Event creating-client-class.s3: calling handler <function add_generate_presigned_post at 0x7fd90899b048>\n",
      "2019-02-05 16:23:16,218 - botocore.hooks - DEBUG - Event creating-client-class.s3: calling handler <function lazy_call.<locals>._handler at 0x7fd8f3cd7f28>\n",
      "2019-02-05 16:23:16,219 - botocore.hooks - DEBUG - Event creating-client-class.s3: calling handler <function add_generate_presigned_url at 0x7fd908994d90>\n",
      "2019-02-05 16:23:16,220 - botocore.args - DEBUG - The s3 config key is not a dictionary type, ignoring its value of: None\n",
      "2019-02-05 16:23:16,223 - botocore.endpoint - DEBUG - Setting s3 timeout as (60, 60)\n",
      "2019-02-05 16:23:16,225 - botocore.client - DEBUG - Registering retry handlers for service: s3\n",
      "2019-02-05 16:23:16,233 - botocore.client - DEBUG - Defaulting to S3 virtual host style addressing with path style addressing fallback.\n",
      "2019-02-05 16:23:16,235 - botocore.hooks - DEBUG - Event before-parameter-build.s3.HeadObject: calling handler <function sse_md5 at 0x7fd9088f80d0>\n",
      "2019-02-05 16:23:16,236 - botocore.hooks - DEBUG - Event before-parameter-build.s3.HeadObject: calling handler <function validate_bucket_name at 0x7fd9088f8048>\n",
      "2019-02-05 16:23:16,237 - botocore.hooks - DEBUG - Event before-parameter-build.s3.HeadObject: calling handler <bound method S3RegionRedirector.redirect_from_cache of <botocore.utils.S3RegionRedirector object at 0x7fd8f39969b0>>\n",
      "2019-02-05 16:23:16,238 - botocore.hooks - DEBUG - Event before-parameter-build.s3.HeadObject: calling handler <function generate_idempotent_uuid at 0x7fd9088f6bf8>\n",
      "2019-02-05 16:23:16,240 - botocore.hooks - DEBUG - Event before-call.s3.HeadObject: calling handler <function add_expect_header at 0x7fd9088f8510>\n",
      "2019-02-05 16:23:16,242 - botocore.hooks - DEBUG - Event before-call.s3.HeadObject: calling handler <bound method S3RegionRedirector.set_request_url of <botocore.utils.S3RegionRedirector object at 0x7fd8f39969b0>>\n",
      "2019-02-05 16:23:16,243 - botocore.hooks - DEBUG - Event before-call.s3.HeadObject: calling handler <function inject_api_version_header_if_needed at 0x7fd9088f9ae8>\n",
      "2019-02-05 16:23:16,244 - botocore.endpoint - DEBUG - Making request for OperationModel(name=HeadObject) with params: {'url_path': '/ichain-dev/master/bluth/cornballer/raw/tmpg6ao9vfj', 'query_string': {}, 'method': 'HEAD', 'headers': {'User-Agent': 'Boto3/1.9.83 Python/3.6.6 Linux/4.9.87-linuxkit-aufs Botocore/1.12.86'}, 'body': b'', 'url': 'https://s3.amazonaws.com/ichain-dev/master/bluth/cornballer/raw/tmpg6ao9vfj', 'context': {'client_region': 'us-east-1', 'client_config': <botocore.config.Config object at 0x7fd8f3996c88>, 'has_streaming_input': False, 'auth_type': None, 'signing': {'bucket': 'ichain-dev'}}}\n",
      "2019-02-05 16:23:16,245 - botocore.hooks - DEBUG - Event request-created.s3.HeadObject: calling handler <bound method RequestSigner.handler of <botocore.signers.RequestSigner object at 0x7fd8f3996cf8>>\n",
      "2019-02-05 16:23:16,248 - botocore.hooks - DEBUG - Event choose-signer.s3.HeadObject: calling handler <bound method ClientCreator._default_s3_presign_to_sigv2 of <botocore.client.ClientCreator object at 0x7fd8f28d1978>>\n",
      "2019-02-05 16:23:16,249 - botocore.hooks - DEBUG - Event choose-signer.s3.HeadObject: calling handler <function set_operation_specific_signer at 0x7fd9088f6ae8>\n",
      "2019-02-05 16:23:16,250 - botocore.hooks - DEBUG - Event before-sign.s3.HeadObject: calling handler <function fix_s3_host at 0x7fd908a8fbf8>\n",
      "2019-02-05 16:23:16,251 - botocore.utils - DEBUG - Checking for DNS compatible bucket for: https://s3.amazonaws.com/ichain-dev/master/bluth/cornballer/raw/tmpg6ao9vfj\n",
      "2019-02-05 16:23:16,252 - botocore.utils - DEBUG - URI updated to: https://ichain-dev.s3.amazonaws.com/master/bluth/cornballer/raw/tmpg6ao9vfj\n",
      "2019-02-05 16:23:16,254 - botocore.auth - DEBUG - Calculating signature using v4 auth.\n",
      "2019-02-05 16:23:16,255 - botocore.auth - DEBUG - CanonicalRequest:\n",
      "HEAD\n",
      "/master/bluth/cornballer/raw/tmpg6ao9vfj\n",
      "\n",
      "host:ichain-dev.s3.amazonaws.com\n",
      "x-amz-content-sha256:e3b0c44298fc1c149afbf4c8996fb92427ae41e4649b934ca495991b7852b855\n",
      "x-amz-date:20190205T162316Z\n",
      "\n",
      "host;x-amz-content-sha256;x-amz-date\n",
      "e3b0c44298fc1c149afbf4c8996fb92427ae41e4649b934ca495991b7852b855\n",
      "2019-02-05 16:23:16,256 - botocore.auth - DEBUG - StringToSign:\n",
      "AWS4-HMAC-SHA256\n",
      "20190205T162316Z\n",
      "20190205/us-east-1/s3/aws4_request\n",
      "1d0c5ed1f80b94d78b115c4c00fb1fad2eed14f8e347c944e2d23646ca5f097c\n",
      "2019-02-05 16:23:16,259 - botocore.auth - DEBUG - Signature:\n",
      "7f00523509d5d5461e6a4ba4ca7e1973645b84c80225c5c8fa3bdc59bfddc453\n",
      "2019-02-05 16:23:16,262 - botocore.endpoint - DEBUG - Sending http request: <AWSPreparedRequest stream_output=False, method=HEAD, url=https://ichain-dev.s3.amazonaws.com/master/bluth/cornballer/raw/tmpg6ao9vfj, headers={'User-Agent': b'Boto3/1.9.83 Python/3.6.6 Linux/4.9.87-linuxkit-aufs Botocore/1.12.86', 'X-Amz-Date': b'20190205T162316Z', 'X-Amz-Content-SHA256': b'e3b0c44298fc1c149afbf4c8996fb92427ae41e4649b934ca495991b7852b855', 'Authorization': b'AWS4-HMAC-SHA256 Credential=/20190205/us-east-1/s3/aws4_request, SignedHeaders=host;x-amz-content-sha256;x-amz-date, Signature=7f00523509d5d5461e6a4ba4ca7e1973645b84c80225c5c8fa3bdc59bfddc453'}>\n",
      "2019-02-05 16:23:16,264 - botocore.hooks - DEBUG - Event before-send.s3.HeadObject: calling handler <moto.core.models.BotocoreStubber object at 0x7fd903f32cf8>\n",
      "2019-02-05 16:23:16,268 - botocore.parsers - DEBUG - Response headers: {'x-amz-meta-source_modified_time': '1539383795.9294071', 'ETag': '\"d41d8cd98f00b204e9800998ecf8427e\"', 'last-modified': 'Tue, 05 Feb 2019 16:23:16 GMT', 'content-length': '0'}\n",
      "2019-02-05 16:23:16,269 - botocore.parsers - DEBUG - Response body:\n",
      "b''\n",
      "2019-02-05 16:23:16,274 - botocore.hooks - DEBUG - Event needs-retry.s3.HeadObject: calling handler <botocore.retryhandler.RetryHandler object at 0x7fd8f39967f0>\n",
      "2019-02-05 16:23:16,276 - botocore.retryhandler - DEBUG - No retry needed.\n",
      "2019-02-05 16:23:16,278 - botocore.hooks - DEBUG - Event needs-retry.s3.HeadObject: calling handler <bound method S3RegionRedirector.redirect_from_error of <botocore.utils.S3RegionRedirector object at 0x7fd8f39969b0>>\n",
      "2019-02-05 16:23:16,282 - botocore.hooks - DEBUG - Event choose-service-name: calling handler <function handle_service_name_alias at 0x7fd90895c488>\n",
      "2019-02-05 16:23:16,286 - botocore.hooks - DEBUG - Event creating-client-class.s3: calling handler <function add_generate_presigned_post at 0x7fd90899b048>\n",
      "2019-02-05 16:23:16,290 - botocore.hooks - DEBUG - Event creating-client-class.s3: calling handler <function lazy_call.<locals>._handler at 0x7fd8f3cd7f28>\n",
      "2019-02-05 16:23:16,292 - botocore.hooks - DEBUG - Event creating-client-class.s3: calling handler <function add_generate_presigned_url at 0x7fd908994d90>\n",
      "2019-02-05 16:23:16,295 - botocore.args - DEBUG - The s3 config key is not a dictionary type, ignoring its value of: None\n",
      "2019-02-05 16:23:16,299 - botocore.endpoint - DEBUG - Setting s3 timeout as (60, 60)\n",
      "2019-02-05 16:23:16,304 - botocore.client - DEBUG - Registering retry handlers for service: s3\n",
      "2019-02-05 16:23:16,307 - botocore.client - DEBUG - Defaulting to S3 virtual host style addressing with path style addressing fallback.\n",
      "2019-02-05 16:23:16,311 - core.contract.Contract - INFO - Publishing a local file at /tmp/tmpg6ao9vfj to s3 location s3://ichain-dev/master/bluth/cornballer/raw/tmpg6ao9vfj.\n",
      "2019-02-05 16:23:16,318 - s3transfer.utils - DEBUG - Acquiring 0\n",
      "2019-02-05 16:23:16,320 - s3transfer.tasks - DEBUG - UploadSubmissionTask(transfer_id=0, {'transfer_future': <s3transfer.futures.TransferFuture object at 0x7fd8f28c6c50>}) about to wait for the following futures []\n",
      "2019-02-05 16:23:16,322 - s3transfer.tasks - DEBUG - UploadSubmissionTask(transfer_id=0, {'transfer_future': <s3transfer.futures.TransferFuture object at 0x7fd8f28c6c50>}) done waiting for dependent futures\n",
      "2019-02-05 16:23:16,323 - s3transfer.tasks - DEBUG - Executing task UploadSubmissionTask(transfer_id=0, {'transfer_future': <s3transfer.futures.TransferFuture object at 0x7fd8f28c6c50>}) with kwargs {'client': <botocore.client.S3 object at 0x7fd8f3a89c50>, 'config': <boto3.s3.transfer.TransferConfig object at 0x7fd8f3996c88>, 'osutil': <s3transfer.utils.OSUtils object at 0x7fd8f28c62b0>, 'request_executor': <s3transfer.futures.BoundedExecutor object at 0x7fd8f28c6518>, 'transfer_future': <s3transfer.futures.TransferFuture object at 0x7fd8f28c6c50>}\n",
      "2019-02-05 16:23:16,324 - s3transfer.futures - DEBUG - Submitting task PutObjectTask(transfer_id=0, {'bucket': 'ichain-dev', 'key': 'master/bluth/cornballer/raw/tmpg6ao9vfj', 'extra_args': {'Metadata': {'source_modified_time': '1549383795.96'}}}) to executor <s3transfer.futures.BoundedExecutor object at 0x7fd8f28c6518> for transfer request: 0.\n",
      "2019-02-05 16:23:16,325 - s3transfer.utils - DEBUG - Acquiring 0\n",
      "2019-02-05 16:23:16,326 - s3transfer.tasks - DEBUG - PutObjectTask(transfer_id=0, {'bucket': 'ichain-dev', 'key': 'master/bluth/cornballer/raw/tmpg6ao9vfj', 'extra_args': {'Metadata': {'source_modified_time': '1549383795.96'}}}) about to wait for the following futures []\n",
      "2019-02-05 16:23:16,327 - s3transfer.tasks - DEBUG - PutObjectTask(transfer_id=0, {'bucket': 'ichain-dev', 'key': 'master/bluth/cornballer/raw/tmpg6ao9vfj', 'extra_args': {'Metadata': {'source_modified_time': '1549383795.96'}}}) done waiting for dependent futures\n",
      "2019-02-05 16:23:16,329 - s3transfer.utils - DEBUG - Releasing acquire 0/None\n",
      "2019-02-05 16:23:16,329 - s3transfer.tasks - DEBUG - Executing task PutObjectTask(transfer_id=0, {'bucket': 'ichain-dev', 'key': 'master/bluth/cornballer/raw/tmpg6ao9vfj', 'extra_args': {'Metadata': {'source_modified_time': '1549383795.96'}}}) with kwargs {'client': <botocore.client.S3 object at 0x7fd8f3a89c50>, 'fileobj': <s3transfer.utils.ReadFileChunk object at 0x7fd8f28c6fd0>, 'bucket': 'ichain-dev', 'key': 'master/bluth/cornballer/raw/tmpg6ao9vfj', 'extra_args': {'Metadata': {'source_modified_time': '1549383795.96'}}}\n",
      "2019-02-05 16:23:16,334 - botocore.hooks - DEBUG - Event before-parameter-build.s3.PutObject: calling handler <function validate_ascii_metadata at 0x7fd9088f8d90>\n",
      "2019-02-05 16:23:16,335 - botocore.hooks - DEBUG - Event before-parameter-build.s3.PutObject: calling handler <function sse_md5 at 0x7fd9088f80d0>\n",
      "2019-02-05 16:23:16,337 - botocore.hooks - DEBUG - Event before-parameter-build.s3.PutObject: calling handler <function convert_body_to_file_like_object at 0x7fd9088f9620>\n",
      "2019-02-05 16:23:16,338 - botocore.hooks - DEBUG - Event before-parameter-build.s3.PutObject: calling handler <function validate_bucket_name at 0x7fd9088f8048>\n",
      "2019-02-05 16:23:16,340 - botocore.hooks - DEBUG - Event before-parameter-build.s3.PutObject: calling handler <bound method S3RegionRedirector.redirect_from_cache of <botocore.utils.S3RegionRedirector object at 0x7fd8f2910e10>>\n",
      "2019-02-05 16:23:16,341 - botocore.hooks - DEBUG - Event before-parameter-build.s3.PutObject: calling handler <function generate_idempotent_uuid at 0x7fd9088f6bf8>\n",
      "2019-02-05 16:23:16,344 - botocore.hooks - DEBUG - Event before-call.s3.PutObject: calling handler <function conditionally_calculate_md5 at 0x7fd9088f6f28>\n",
      "2019-02-05 16:23:16,345 - botocore.hooks - DEBUG - Event before-call.s3.PutObject: calling handler <function add_expect_header at 0x7fd9088f8510>\n",
      "2019-02-05 16:23:16,349 - botocore.handlers - DEBUG - Adding expect 100 continue header to request.\n",
      "2019-02-05 16:23:16,350 - botocore.hooks - DEBUG - Event before-call.s3.PutObject: calling handler <bound method S3RegionRedirector.set_request_url of <botocore.utils.S3RegionRedirector object at 0x7fd8f2910e10>>\n",
      "2019-02-05 16:23:16,352 - botocore.hooks - DEBUG - Event before-call.s3.PutObject: calling handler <function inject_api_version_header_if_needed at 0x7fd9088f9ae8>\n",
      "2019-02-05 16:23:16,353 - botocore.endpoint - DEBUG - Making request for OperationModel(name=PutObject) with params: {'url_path': '/ichain-dev/master/bluth/cornballer/raw/tmpg6ao9vfj', 'query_string': {}, 'method': 'PUT', 'headers': {'x-amz-meta-source_modified_time': '1549383795.96', 'User-Agent': 'Boto3/1.9.83 Python/3.6.6 Linux/4.9.87-linuxkit-aufs Botocore/1.12.86', 'Expect': '100-continue'}, 'body': <s3transfer.utils.ReadFileChunk object at 0x7fd8f28c6fd0>, 'url': 'https://s3.amazonaws.com/ichain-dev/master/bluth/cornballer/raw/tmpg6ao9vfj', 'context': {'client_region': 'us-east-1', 'client_config': <botocore.config.Config object at 0x7fd8f2910b38>, 'has_streaming_input': True, 'auth_type': None, 'signing': {'bucket': 'ichain-dev'}}}\n",
      "2019-02-05 16:23:16,354 - botocore.hooks - DEBUG - Event request-created.s3.PutObject: calling handler <function signal_not_transferring at 0x7fd8f3a348c8>\n",
      "2019-02-05 16:23:16,357 - botocore.hooks - DEBUG - Event request-created.s3.PutObject: calling handler <bound method RequestSigner.handler of <botocore.signers.RequestSigner object at 0x7fd8f2910ba8>>\n",
      "2019-02-05 16:23:16,359 - botocore.hooks - DEBUG - Event choose-signer.s3.PutObject: calling handler <bound method ClientCreator._default_s3_presign_to_sigv2 of <botocore.client.ClientCreator object at 0x7fd8f28f6b00>>\n",
      "2019-02-05 16:23:16,361 - botocore.hooks - DEBUG - Event choose-signer.s3.PutObject: calling handler <function set_operation_specific_signer at 0x7fd9088f6ae8>\n",
      "2019-02-05 16:23:16,363 - botocore.hooks - DEBUG - Event before-sign.s3.PutObject: calling handler <function fix_s3_host at 0x7fd908a8fbf8>\n",
      "2019-02-05 16:23:16,364 - botocore.utils - DEBUG - Checking for DNS compatible bucket for: https://s3.amazonaws.com/ichain-dev/master/bluth/cornballer/raw/tmpg6ao9vfj\n",
      "2019-02-05 16:23:16,365 - botocore.utils - DEBUG - URI updated to: https://ichain-dev.s3.amazonaws.com/master/bluth/cornballer/raw/tmpg6ao9vfj\n",
      "2019-02-05 16:23:16,367 - botocore.auth - DEBUG - Calculating signature using v4 auth.\n",
      "2019-02-05 16:23:16,368 - botocore.auth - DEBUG - CanonicalRequest:\n",
      "PUT\n",
      "/master/bluth/cornballer/raw/tmpg6ao9vfj\n",
      "\n",
      "host:ichain-dev.s3.amazonaws.com\n",
      "x-amz-content-sha256:e3b0c44298fc1c149afbf4c8996fb92427ae41e4649b934ca495991b7852b855\n",
      "x-amz-date:20190205T162316Z\n",
      "x-amz-meta-source_modified_time:1549383795.96\n",
      "\n",
      "host;x-amz-content-sha256;x-amz-date;x-amz-meta-source_modified_time\n",
      "e3b0c44298fc1c149afbf4c8996fb92427ae41e4649b934ca495991b7852b855\n",
      "2019-02-05 16:23:16,370 - botocore.auth - DEBUG - StringToSign:\n",
      "AWS4-HMAC-SHA256\n",
      "20190205T162316Z\n",
      "20190205/us-east-1/s3/aws4_request\n",
      "1438ddb5927b0df5e03e1835c65acc6f264129b297171cc154191c89343c4651\n",
      "2019-02-05 16:23:16,372 - botocore.auth - DEBUG - Signature:\n",
      "efb2b8c2574f651946276be0c6273ca732d71022c3e269fbf08d55b54a501491\n",
      "2019-02-05 16:23:16,373 - botocore.hooks - DEBUG - Event request-created.s3.PutObject: calling handler <function signal_transferring at 0x7fd8f3a34950>\n",
      "2019-02-05 16:23:16,376 - botocore.endpoint - DEBUG - Sending http request: <AWSPreparedRequest stream_output=False, method=PUT, url=https://ichain-dev.s3.amazonaws.com/master/bluth/cornballer/raw/tmpg6ao9vfj, headers={'x-amz-meta-source_modified_time': b'1549383795.96', 'User-Agent': b'Boto3/1.9.83 Python/3.6.6 Linux/4.9.87-linuxkit-aufs Botocore/1.12.86', 'Expect': b'100-continue', 'X-Amz-Date': b'20190205T162316Z', 'X-Amz-Content-SHA256': b'e3b0c44298fc1c149afbf4c8996fb92427ae41e4649b934ca495991b7852b855', 'Authorization': b'AWS4-HMAC-SHA256 Credential=/20190205/us-east-1/s3/aws4_request, SignedHeaders=host;x-amz-content-sha256;x-amz-date;x-amz-meta-source_modified_time, Signature=efb2b8c2574f651946276be0c6273ca732d71022c3e269fbf08d55b54a501491', 'Content-Length': '0'}>\n",
      "2019-02-05 16:23:16,377 - botocore.hooks - DEBUG - Event before-send.s3.PutObject: calling handler <moto.core.models.BotocoreStubber object at 0x7fd903f32cf8>\n",
      "2019-02-05 16:23:16,381 - botocore.parsers - DEBUG - Response headers: {'ETag': '\"d41d8cd98f00b204e9800998ecf8427e\"', 'last-modified': 'Tue, 05 Feb 2019 16:23:16 GMT', 'content-length': '0'}\n",
      "2019-02-05 16:23:16,384 - botocore.parsers - DEBUG - Response body:\n",
      "b'<PutObjectResponse xmlns=\"http://s3.amazonaws.com/doc/2006-03-01\">\\n      <PutObjectResponse>\\n        <ETag>&#34;d41d8cd98f00b204e9800998ecf8427e&#34;</ETag>\\n        <LastModified>2019-02-05T16:23:16.380Z</LastModified>\\n      </PutObjectResponse>\\n    </PutObjectResponse>'\n",
      "2019-02-05 16:23:16,387 - botocore.hooks - DEBUG - Event needs-retry.s3.PutObject: calling handler <botocore.retryhandler.RetryHandler object at 0x7fd8f2910f28>\n",
      "2019-02-05 16:23:16,397 - botocore.retryhandler - DEBUG - No retry needed.\n",
      "2019-02-05 16:23:16,398 - botocore.hooks - DEBUG - Event needs-retry.s3.PutObject: calling handler <bound method S3RegionRedirector.redirect_from_error of <botocore.utils.S3RegionRedirector object at 0x7fd8f2910e10>>\n",
      "2019-02-05 16:23:16,400 - s3transfer.utils - DEBUG - Releasing acquire 0/None\n",
      "2019-02-05 16:23:16,406 - botocore.hooks - DEBUG - Event choose-service-name: calling handler <function handle_service_name_alias at 0x7fd90895c488>\n",
      "2019-02-05 16:23:16,413 - botocore.hooks - DEBUG - Event creating-client-class.s3: calling handler <function add_generate_presigned_post at 0x7fd90899b048>\n",
      "2019-02-05 16:23:16,414 - botocore.hooks - DEBUG - Event creating-client-class.s3: calling handler <function lazy_call.<locals>._handler at 0x7fd8f3cd7f28>\n",
      "2019-02-05 16:23:16,415 - botocore.hooks - DEBUG - Event creating-client-class.s3: calling handler <function add_generate_presigned_url at 0x7fd908994d90>\n",
      "2019-02-05 16:23:16,416 - botocore.args - DEBUG - The s3 config key is not a dictionary type, ignoring its value of: None\n",
      "2019-02-05 16:23:16,419 - botocore.endpoint - DEBUG - Setting s3 timeout as (60, 60)\n",
      "2019-02-05 16:23:16,421 - botocore.client - DEBUG - Registering retry handlers for service: s3\n",
      "2019-02-05 16:23:16,422 - botocore.client - DEBUG - Defaulting to S3 virtual host style addressing with path style addressing fallback.\n",
      "2019-02-05 16:23:16,426 - botocore.hooks - DEBUG - Event before-parameter-build.s3.HeadObject: calling handler <function sse_md5 at 0x7fd9088f80d0>\n",
      "2019-02-05 16:23:16,430 - botocore.hooks - DEBUG - Event before-parameter-build.s3.HeadObject: calling handler <function validate_bucket_name at 0x7fd9088f8048>\n",
      "2019-02-05 16:23:16,432 - botocore.hooks - DEBUG - Event before-parameter-build.s3.HeadObject: calling handler <bound method S3RegionRedirector.redirect_from_cache of <botocore.utils.S3RegionRedirector object at 0x7fd8f28b15c0>>\n",
      "2019-02-05 16:23:16,433 - botocore.hooks - DEBUG - Event before-parameter-build.s3.HeadObject: calling handler <function generate_idempotent_uuid at 0x7fd9088f6bf8>\n",
      "2019-02-05 16:23:16,435 - botocore.hooks - DEBUG - Event before-call.s3.HeadObject: calling handler <function add_expect_header at 0x7fd9088f8510>\n",
      "2019-02-05 16:23:16,436 - botocore.hooks - DEBUG - Event before-call.s3.HeadObject: calling handler <bound method S3RegionRedirector.set_request_url of <botocore.utils.S3RegionRedirector object at 0x7fd8f28b15c0>>\n",
      "2019-02-05 16:23:16,438 - botocore.hooks - DEBUG - Event before-call.s3.HeadObject: calling handler <function inject_api_version_header_if_needed at 0x7fd9088f9ae8>\n",
      "2019-02-05 16:23:16,445 - botocore.endpoint - DEBUG - Making request for OperationModel(name=HeadObject) with params: {'url_path': '/ichain-dev/master/bluth/cornballer/raw/tmpvmfppegr', 'query_string': {}, 'method': 'HEAD', 'headers': {'User-Agent': 'Boto3/1.9.83 Python/3.6.6 Linux/4.9.87-linuxkit-aufs Botocore/1.12.86'}, 'body': b'', 'url': 'https://s3.amazonaws.com/ichain-dev/master/bluth/cornballer/raw/tmpvmfppegr', 'context': {'client_region': 'us-east-1', 'client_config': <botocore.config.Config object at 0x7fd8f28b1358>, 'has_streaming_input': False, 'auth_type': None, 'signing': {'bucket': 'ichain-dev'}}}\n",
      "2019-02-05 16:23:16,447 - botocore.hooks - DEBUG - Event request-created.s3.HeadObject: calling handler <bound method RequestSigner.handler of <botocore.signers.RequestSigner object at 0x7fd8f28b1320>>\n",
      "2019-02-05 16:23:16,450 - botocore.hooks - DEBUG - Event choose-signer.s3.HeadObject: calling handler <bound method ClientCreator._default_s3_presign_to_sigv2 of <botocore.client.ClientCreator object at 0x7fd8f28f6b00>>\n",
      "2019-02-05 16:23:16,452 - botocore.hooks - DEBUG - Event choose-signer.s3.HeadObject: calling handler <function set_operation_specific_signer at 0x7fd9088f6ae8>\n",
      "2019-02-05 16:23:16,455 - botocore.hooks - DEBUG - Event before-sign.s3.HeadObject: calling handler <function fix_s3_host at 0x7fd908a8fbf8>\n",
      "2019-02-05 16:23:16,457 - botocore.utils - DEBUG - Checking for DNS compatible bucket for: https://s3.amazonaws.com/ichain-dev/master/bluth/cornballer/raw/tmpvmfppegr\n",
      "2019-02-05 16:23:16,460 - botocore.utils - DEBUG - URI updated to: https://ichain-dev.s3.amazonaws.com/master/bluth/cornballer/raw/tmpvmfppegr\n",
      "2019-02-05 16:23:16,462 - botocore.auth - DEBUG - Calculating signature using v4 auth.\n",
      "2019-02-05 16:23:16,463 - botocore.auth - DEBUG - CanonicalRequest:\n",
      "HEAD\n",
      "/master/bluth/cornballer/raw/tmpvmfppegr\n",
      "\n",
      "host:ichain-dev.s3.amazonaws.com\n",
      "x-amz-content-sha256:e3b0c44298fc1c149afbf4c8996fb92427ae41e4649b934ca495991b7852b855\n",
      "x-amz-date:20190205T162316Z\n",
      "\n",
      "host;x-amz-content-sha256;x-amz-date\n",
      "e3b0c44298fc1c149afbf4c8996fb92427ae41e4649b934ca495991b7852b855\n",
      "2019-02-05 16:23:16,466 - botocore.auth - DEBUG - StringToSign:\n",
      "AWS4-HMAC-SHA256\n",
      "20190205T162316Z\n",
      "20190205/us-east-1/s3/aws4_request\n",
      "7930a419ad5894be0ca6c190d686e169e1bae9c7a5f8c285037016d031c3df75\n",
      "2019-02-05 16:23:16,468 - botocore.auth - DEBUG - Signature:\n",
      "81d7518c8da6533d4bb2ac642311f61d65293f0c9c20ff77cbd9e3eb806c140d\n",
      "2019-02-05 16:23:16,473 - botocore.endpoint - DEBUG - Sending http request: <AWSPreparedRequest stream_output=False, method=HEAD, url=https://ichain-dev.s3.amazonaws.com/master/bluth/cornballer/raw/tmpvmfppegr, headers={'User-Agent': b'Boto3/1.9.83 Python/3.6.6 Linux/4.9.87-linuxkit-aufs Botocore/1.12.86', 'X-Amz-Date': b'20190205T162316Z', 'X-Amz-Content-SHA256': b'e3b0c44298fc1c149afbf4c8996fb92427ae41e4649b934ca495991b7852b855', 'Authorization': b'AWS4-HMAC-SHA256 Credential=/20190205/us-east-1/s3/aws4_request, SignedHeaders=host;x-amz-content-sha256;x-amz-date, Signature=81d7518c8da6533d4bb2ac642311f61d65293f0c9c20ff77cbd9e3eb806c140d'}>\n",
      "2019-02-05 16:23:16,477 - botocore.hooks - DEBUG - Event before-send.s3.HeadObject: calling handler <moto.core.models.BotocoreStubber object at 0x7fd903f32cf8>\n",
      "2019-02-05 16:23:16,481 - botocore.parsers - DEBUG - Response headers: {'x-amz-meta-source_modified_time': '1559383795.9294071', 'ETag': '\"d41d8cd98f00b204e9800998ecf8427e\"', 'last-modified': 'Tue, 05 Feb 2019 16:23:16 GMT', 'content-length': '0'}\n",
      "2019-02-05 16:23:16,485 - botocore.parsers - DEBUG - Response body:\n",
      "b''\n",
      "2019-02-05 16:23:16,487 - botocore.hooks - DEBUG - Event needs-retry.s3.HeadObject: calling handler <botocore.retryhandler.RetryHandler object at 0x7fd8f28b1710>\n",
      "2019-02-05 16:23:16,489 - botocore.retryhandler - DEBUG - No retry needed.\n",
      "2019-02-05 16:23:16,490 - botocore.hooks - DEBUG - Event needs-retry.s3.HeadObject: calling handler <bound method S3RegionRedirector.redirect_from_error of <botocore.utils.S3RegionRedirector object at 0x7fd8f28b15c0>>\n",
      "2019-02-05 16:23:16,492 - botocore.hooks - DEBUG - Event before-parameter-build.s3.HeadObject: calling handler <function sse_md5 at 0x7fd9088f80d0>\n",
      "2019-02-05 16:23:16,493 - botocore.hooks - DEBUG - Event before-parameter-build.s3.HeadObject: calling handler <function validate_bucket_name at 0x7fd9088f8048>\n",
      "2019-02-05 16:23:16,495 - botocore.hooks - DEBUG - Event before-parameter-build.s3.HeadObject: calling handler <bound method S3RegionRedirector.redirect_from_cache of <botocore.utils.S3RegionRedirector object at 0x7fd8f28d1f98>>\n",
      "2019-02-05 16:23:16,497 - botocore.hooks - DEBUG - Event before-parameter-build.s3.HeadObject: calling handler <function generate_idempotent_uuid at 0x7fd9088f6bf8>\n",
      "2019-02-05 16:23:16,499 - botocore.hooks - DEBUG - Event before-call.s3.HeadObject: calling handler <function add_expect_header at 0x7fd9088f8510>\n",
      "2019-02-05 16:23:16,500 - botocore.hooks - DEBUG - Event before-call.s3.HeadObject: calling handler <bound method S3RegionRedirector.set_request_url of <botocore.utils.S3RegionRedirector object at 0x7fd8f28d1f98>>\n",
      "2019-02-05 16:23:16,508 - botocore.hooks - DEBUG - Event before-call.s3.HeadObject: calling handler <function inject_api_version_header_if_needed at 0x7fd9088f9ae8>\n",
      "2019-02-05 16:23:16,510 - botocore.endpoint - DEBUG - Making request for OperationModel(name=HeadObject) with params: {'url_path': '/ichain-dev/master/bluth/cornballer/raw/tmpg6ao9vfj', 'query_string': {}, 'method': 'HEAD', 'headers': {'User-Agent': 'Boto3/1.9.83 Python/3.6.6 Linux/4.9.87-linuxkit-aufs Botocore/1.12.86'}, 'body': b'', 'url': 'https://s3.amazonaws.com/ichain-dev/master/bluth/cornballer/raw/tmpg6ao9vfj', 'context': {'client_region': 'us-east-1', 'client_config': <botocore.config.Config object at 0x7fd8f293fa58>, 'has_streaming_input': False, 'auth_type': None, 'signing': {'bucket': 'ichain-dev'}}}\n",
      "2019-02-05 16:23:16,512 - botocore.hooks - DEBUG - Event request-created.s3.HeadObject: calling handler <bound method RequestSigner.handler of <botocore.signers.RequestSigner object at 0x7fd8f293fac8>>\n",
      "2019-02-05 16:23:16,515 - botocore.hooks - DEBUG - Event choose-signer.s3.HeadObject: calling handler <bound method ClientCreator._default_s3_presign_to_sigv2 of <botocore.client.ClientCreator object at 0x7fd8f3d1f748>>\n",
      "2019-02-05 16:23:16,517 - botocore.hooks - DEBUG - Event choose-signer.s3.HeadObject: calling handler <function set_operation_specific_signer at 0x7fd9088f6ae8>\n",
      "2019-02-05 16:23:16,520 - botocore.hooks - DEBUG - Event before-sign.s3.HeadObject: calling handler <function fix_s3_host at 0x7fd908a8fbf8>\n",
      "2019-02-05 16:23:16,521 - botocore.utils - DEBUG - Checking for DNS compatible bucket for: https://s3.amazonaws.com/ichain-dev/master/bluth/cornballer/raw/tmpg6ao9vfj\n",
      "2019-02-05 16:23:16,523 - botocore.utils - DEBUG - URI updated to: https://ichain-dev.s3.amazonaws.com/master/bluth/cornballer/raw/tmpg6ao9vfj\n",
      "2019-02-05 16:23:16,524 - botocore.auth - DEBUG - Calculating signature using v4 auth.\n",
      "2019-02-05 16:23:16,527 - botocore.auth - DEBUG - CanonicalRequest:\n",
      "HEAD\n",
      "/master/bluth/cornballer/raw/tmpg6ao9vfj\n",
      "\n",
      "host:ichain-dev.s3.amazonaws.com\n",
      "x-amz-content-sha256:e3b0c44298fc1c149afbf4c8996fb92427ae41e4649b934ca495991b7852b855\n",
      "x-amz-date:20190205T162316Z\n",
      "\n",
      "host;x-amz-content-sha256;x-amz-date\n",
      "e3b0c44298fc1c149afbf4c8996fb92427ae41e4649b934ca495991b7852b855\n",
      "2019-02-05 16:23:16,528 - botocore.auth - DEBUG - StringToSign:\n",
      "AWS4-HMAC-SHA256\n",
      "20190205T162316Z\n",
      "20190205/us-east-1/s3/aws4_request\n",
      "1d0c5ed1f80b94d78b115c4c00fb1fad2eed14f8e347c944e2d23646ca5f097c\n",
      "2019-02-05 16:23:16,530 - botocore.auth - DEBUG - Signature:\n",
      "7f00523509d5d5461e6a4ba4ca7e1973645b84c80225c5c8fa3bdc59bfddc453\n",
      "2019-02-05 16:23:16,532 - botocore.endpoint - DEBUG - Sending http request: <AWSPreparedRequest stream_output=False, method=HEAD, url=https://ichain-dev.s3.amazonaws.com/master/bluth/cornballer/raw/tmpg6ao9vfj, headers={'User-Agent': b'Boto3/1.9.83 Python/3.6.6 Linux/4.9.87-linuxkit-aufs Botocore/1.12.86', 'X-Amz-Date': b'20190205T162316Z', 'X-Amz-Content-SHA256': b'e3b0c44298fc1c149afbf4c8996fb92427ae41e4649b934ca495991b7852b855', 'Authorization': b'AWS4-HMAC-SHA256 Credential=/20190205/us-east-1/s3/aws4_request, SignedHeaders=host;x-amz-content-sha256;x-amz-date, Signature=7f00523509d5d5461e6a4ba4ca7e1973645b84c80225c5c8fa3bdc59bfddc453'}>\n",
      "2019-02-05 16:23:16,534 - botocore.hooks - DEBUG - Event before-send.s3.HeadObject: calling handler <moto.core.models.BotocoreStubber object at 0x7fd903f32cf8>\n",
      "2019-02-05 16:23:16,535 - botocore.parsers - DEBUG - Response headers: {'x-amz-meta-source_modified_time': '1549383795.96', 'ETag': '\"d41d8cd98f00b204e9800998ecf8427e\"', 'last-modified': 'Tue, 05 Feb 2019 16:23:16 GMT', 'content-length': '0'}\n",
      "2019-02-05 16:23:16,536 - botocore.parsers - DEBUG - Response body:\n",
      "b''\n",
      "2019-02-05 16:23:16,539 - botocore.hooks - DEBUG - Event needs-retry.s3.HeadObject: calling handler <botocore.retryhandler.RetryHandler object at 0x7fd8f28d1e80>\n",
      "2019-02-05 16:23:16,541 - botocore.retryhandler - DEBUG - No retry needed.\n",
      "2019-02-05 16:23:16,543 - botocore.hooks - DEBUG - Event needs-retry.s3.HeadObject: calling handler <bound method S3RegionRedirector.redirect_from_error of <botocore.utils.S3RegionRedirector object at 0x7fd8f28d1f98>>\n"
     ]
    }
   ],
   "source": [
    "test_push_to_s3_updated_file()"
   ]
  },
  {
   "cell_type": "markdown",
   "metadata": {
    "slideshow": {
     "slide_type": "slide"
    }
   },
   "source": [
    "### logger configuration\n",
    "\n",
    "The internals of python logging are surprisingly involved, but it makes sense once you're used to it.  It's powerful, but it's built for a time when applications were expected to manage logs -- modern practice ( https://12factor.net/logs ) removes the responsibility of handling logs from applications, as they are simply supposed to print their logs to stdout.\n",
    "\n",
    "First, let's take a glance at a configuration file and then we'll go through the core concepts that will help make sense of it.\n",
    "\n",
    "https://github.com/IntegriChain1/core/blob/f8afa1b703ecec717acbfde83b695f97344c05b2/logging.yaml"
   ]
  },
  {
   "cell_type": "markdown",
   "metadata": {
    "slideshow": {
     "slide_type": "slide"
    }
   },
   "source": [
    "Here are some key concepts.\n",
    "\n",
    "There are loggers, handlers, and formatters.\n",
    "\n",
    "The loggers are the main interface we use for creating messages, and each one has a name.  Each logger has a \"log level\" which indicates what level a log message has to be in order to not be ignored.  For example, if we set \"core.contract\" to INFO level, then a \"core.contract\" debug message will get ignored."
   ]
  },
  {
   "cell_type": "markdown",
   "metadata": {
    "slideshow": {
     "slide_type": "slide"
    }
   },
   "source": [
    "Every logger is part of a hierarchy, with the \"root logger\" as the parent of them all.  If the name of a logger is formed like a python package, e.g. `core.contract`, then the subpackage is a child of the parent package.  So the hierarchy of `core.contract` would be:\n",
    "\n",
    "**Root logger** ← **\"core\" logger** ← **\"core.contract\" logger**"
   ]
  },
  {
   "cell_type": "markdown",
   "metadata": {
    "slideshow": {
     "slide_type": "slide"
    }
   },
   "source": [
    "Each logger can have handlers, which actually do something -- like write the log to the console/stdout or write to a file.  There are lots of python logging handlers that can write to all kinds of systems.\n",
    "\n",
    "Formatters determine the content and structure of the log messages.\n",
    "\n",
    "![alt](https://cdn-images-1.medium.com/max/1600/1*SqUfUKXaoJlbDHL6WErPmw.png)"
   ]
  },
  {
   "cell_type": "markdown",
   "metadata": {
    "slideshow": {
     "slide_type": "slide"
    }
   },
   "source": [
    "By default, a logger will pass its messages (that aren't ignored) to its parents, but it can be configured to not \"propogate\" the message upwards.  Let's think about some scenarios."
   ]
  },
  {
   "cell_type": "markdown",
   "metadata": {
    "slideshow": {
     "slide_type": "subslide"
    }
   },
   "source": [
    "1) We attach a handler to the root logger (configured at level INFO) that writes logs to a file.  A 'core.contract' message gets generated at WARN.  It gets passed up to the root logger, and then the root logger passes it to its handler, and the log gets written to the file.   "
   ]
  },
  {
   "cell_type": "markdown",
   "metadata": {
    "slideshow": {
     "slide_type": "subslide"
    }
   },
   "source": [
    "2) Now we set the log level of the \"core.contract\" logger to WARN, and generate a \"core.contract\" message at INFO level.  The message is ignored, and it's never passed up to the root logger."
   ]
  },
  {
   "cell_type": "markdown",
   "metadata": {
    "slideshow": {
     "slide_type": "subslide"
    }
   },
   "source": [
    "3) We want to see all of the messages generated in our core project.  We add a handler directly to the \"core\" logger to print out the logs to the console.  We set the \"core\" logger to DEBUG.  We set the core logger to not propogate messages to the root logger.  Now, we generate a DEBUG message at \"core.contract\".  It propogates up to \"core\" and gets logged.  (If we didn't set it to not propogate up from core, messages would also get passed to the root logger and could get printed twice.)"
   ]
  },
  {
   "cell_type": "markdown",
   "metadata": {
    "slideshow": {
     "slide_type": "slide"
    }
   },
   "source": [
    "Here's an exercise -- how do we suppress that botocore.credentials INFO message from getting printed all of the time?"
   ]
  },
  {
   "cell_type": "code",
   "execution_count": 14,
   "metadata": {
    "slideshow": {
     "slide_type": "slide"
    }
   },
   "outputs": [
    {
     "name": "stdout",
     "output_type": "stream",
     "text": [
      "2019-02-05 16:23:16,699 - botocore.credentials - INFO - Found credentials in environment variables.\n"
     ]
    }
   ],
   "source": [
    "root_logger.setLevel(logging.INFO)\n",
    "\n",
    "session = boto3.session.Session()\n",
    "\n",
    "sqs = session.client('sqs')\n",
    "s3 = session.resource('s3')\n"
   ]
  }
 ],
 "metadata": {
  "kernelspec": {
   "display_name": "Python 3",
   "language": "python",
   "name": "python3"
  },
  "language_info": {
   "codemirror_mode": {
    "name": "ipython",
    "version": 3
   },
   "file_extension": ".py",
   "mimetype": "text/x-python",
   "name": "python",
   "nbconvert_exporter": "python",
   "pygments_lexer": "ipython3",
   "version": "3.6.8"
  }
 },
 "nbformat": 4,
 "nbformat_minor": 2
}
